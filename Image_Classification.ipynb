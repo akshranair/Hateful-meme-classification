{
  "nbformat": 4,
  "nbformat_minor": 0,
  "metadata": {
    "colab": {
      "provenance": [],
      "collapsed_sections": [
        "oB4KsMU6Oms9",
        "hveoqd7WOwNR",
        "GL0FazukO0gs",
        "F7Bijx4qruOD",
        "iqbxeyF21Xgk",
        "J0YldKNHO-5h",
        "nub1ALmDPs9I",
        "81Fj-AiRPxtB",
        "odtR7mBvPEyp"
      ]
    },
    "kernelspec": {
      "name": "python3",
      "display_name": "Python 3"
    },
    "language_info": {
      "name": "python"
    },
    "gpuClass": "standard",
    "accelerator": "GPU"
  },
  "cells": [
    {
      "cell_type": "markdown",
      "source": [
        "###1. Mount the Google Drive and Import Libraries."
      ],
      "metadata": {
        "id": "oB4KsMU6Oms9"
      }
    },
    {
      "cell_type": "code",
      "source": [
        "from google.colab import drive\n",
        "drive.mount('/content/drive')"
      ],
      "metadata": {
        "colab": {
          "base_uri": "https://localhost:8080/"
        },
        "id": "EuzsEQXlOk5t",
        "outputId": "b24e20a5-7837-403a-9f84-f25b720a7986"
      },
      "execution_count": 1,
      "outputs": [
        {
          "output_type": "stream",
          "name": "stdout",
          "text": [
            "Mounted at /content/drive\n"
          ]
        }
      ]
    },
    {
      "cell_type": "code",
      "source": [
        "import pandas as pd\n",
        "import numpy as np\n",
        "import seaborn as sns\n",
        "# To make directory\n",
        "import os\n",
        "# To read the JSONL File and get the Train-Test Split\n",
        "import json\n",
        "# To create images with the specified Train-Test Split\n",
        "import shutil\n",
        "import tensorflow as tf\n",
        "import torch\n",
        "import torchvision.models as models\n",
        "import matplotlib.pyplot as plt"
      ],
      "metadata": {
        "id": "2JtSrTCEOmOm"
      },
      "execution_count": 2,
      "outputs": []
    },
    {
      "cell_type": "code",
      "source": [
        "from tensorflow.keras.preprocessing.image import ImageDataGenerator\n",
        "from tensorflow.keras.metrics import BinaryAccuracy, Precision, Recall\n",
        "from tensorflow.keras.losses import BinaryCrossentropy\n",
        "from tensorflow.keras.callbacks import EarlyStopping\n",
        "from keras import backend as K\n",
        "from keras.layers import Conv2D, MaxPooling2D\n",
        "from keras.layers import Flatten, Dropout,Activation\n",
        "from tensorflow.keras.layers import Dense\n",
        "from keras.layers import BatchNormalization\n",
        "from keras.models import Model, Sequential\n",
        "from keras.callbacks import ReduceLROnPlateau, ModelCheckpoint, EarlyStopping\n",
        "from keras.optimizers import Adam\n",
        "from tensorflow.keras.applications import ResNet50"
      ],
      "metadata": {
        "id": "T1057By4Ezdd"
      },
      "execution_count": 3,
      "outputs": []
    },
    {
      "cell_type": "code",
      "source": [
        "import tensorflow as tf\n",
        "print(tf.__version__)"
      ],
      "metadata": {
        "colab": {
          "base_uri": "https://localhost:8080/"
        },
        "id": "J6bYcuXY-0XB",
        "outputId": "df6882b0-ef70-478b-e24d-78a735b8a07d"
      },
      "execution_count": 4,
      "outputs": [
        {
          "output_type": "stream",
          "name": "stdout",
          "text": [
            "2.12.0\n"
          ]
        }
      ]
    },
    {
      "cell_type": "code",
      "source": [
        "#from google.colab import drive\n",
        "#drive.mount('/content/drive')\n",
        "import tensorflow as tf\n",
        "if tf.test.gpu_device_name():\n",
        "    print('Default GPU Device: {}'.format(tf.test.gpu_device_name()))\n",
        "else:\n",
        "    print(\"Please install GPU version of TF\")"
      ],
      "metadata": {
        "colab": {
          "base_uri": "https://localhost:8080/"
        },
        "id": "oeZQgzILBsyr",
        "outputId": "8c39a967-2302-470d-f0d4-653fd37d174a"
      },
      "execution_count": 5,
      "outputs": [
        {
          "output_type": "stream",
          "name": "stdout",
          "text": [
            "Please install GPU version of TF\n"
          ]
        }
      ]
    },
    {
      "cell_type": "code",
      "source": [
        "# Add the Source path as the path of the ZIP File\n",
        "zip_src_path = '/content/drive/MyDrive/DL/Assignments/A4/hateful_memes.zip'\n",
        "# Add the Destination path as the path of the ZIP File\n",
        "zip_dest_path = '/content/drive/MyDrive/DeepLearning/meme_master'"
      ],
      "metadata": {
        "id": "5yO_yA5wp4vQ"
      },
      "execution_count": 6,
      "outputs": []
    },
    {
      "cell_type": "markdown",
      "source": [
        "###2. Get the Dataset and Data Generators. Create the Train / Validation and Test Set splits from the given JSON Data."
      ],
      "metadata": {
        "id": "hveoqd7WOwNR"
      }
    },
    {
      "cell_type": "code",
      "source": [
        "check_var = 1\n",
        "# Check if the target directory already exists at the specified path or not\n",
        "if not os.path.exists(zip_dest_path):\n",
        "  os.makedirs(zip_dest_path)\n",
        "  print(\"The Directory is created.\")\n",
        "else:\n",
        "  check_var = 0\n",
        "  print(\"The Directory already exists.\")"
      ],
      "metadata": {
        "id": "JCRFt8JQOzxY",
        "colab": {
          "base_uri": "https://localhost:8080/"
        },
        "outputId": "e87196eb-6593-4513-f32d-91335b8ca335"
      },
      "execution_count": 7,
      "outputs": [
        {
          "output_type": "stream",
          "name": "stdout",
          "text": [
            "The Directory already exists.\n"
          ]
        }
      ]
    },
    {
      "cell_type": "code",
      "source": [
        "# Unzip the ZIP FOLDER\n",
        "if check_var==1 :\n",
        "  !unzip $zip_src_path  -d $zip_dest_path\n",
        "else:\n",
        "  print('Alredy Unzipped.')"
      ],
      "metadata": {
        "colab": {
          "base_uri": "https://localhost:8080/"
        },
        "id": "FbepSkV-kZoP",
        "outputId": "48bcb94a-7e79-4984-b7b3-373569aa548a"
      },
      "execution_count": 8,
      "outputs": [
        {
          "output_type": "stream",
          "name": "stdout",
          "text": [
            "Alredy Unzipped.\n"
          ]
        }
      ]
    },
    {
      "cell_type": "code",
      "source": [
        "# Get  the List of Contents in the unzipped folder.\n",
        "target_dir = zip_dest_path+'/hateful_memes'\n",
        "# Get the list of files and directories in the specified directory\n",
        "files = os.listdir(target_dir)\n",
        "# Print the list of files and directories\n",
        "for file in files:\n",
        "    print(file)"
      ],
      "metadata": {
        "colab": {
          "base_uri": "https://localhost:8080/"
        },
        "id": "97yt_yEok-yw",
        "outputId": "6cce2097-ccc4-4684-e9b4-442b23fb8a99"
      },
      "execution_count": 9,
      "outputs": [
        {
          "output_type": "stream",
          "name": "stdout",
          "text": [
            "dev_seen.jsonl\n",
            "test_seen.jsonl\n",
            "test_unseen.jsonl\n",
            "dev_unseen.jsonl\n",
            "train.jsonl\n",
            "README.md\n",
            "LICENSE.txt\n",
            ".DS_Store\n",
            "img\n"
          ]
        }
      ]
    },
    {
      "cell_type": "code",
      "source": [
        "# Set the file path for each relevant directory\n",
        "train_json = target_dir + '/train.jsonl'\n",
        "val_json = target_dir + '/dev_seen.jsonl'\n",
        "test_json = target_dir + '/test_seen.jsonl'"
      ],
      "metadata": {
        "id": "21yaxvJCq67y"
      },
      "execution_count": 10,
      "outputs": []
    },
    {
      "cell_type": "code",
      "source": [
        "# Open the JSONL file to read the Data to a Pandas Dataframe\n",
        "def get_df_from_json(path):\n",
        "    with open(path, 'r') as f:\n",
        "        file_data = f.readlines()\n",
        "\n",
        "    # Parse each JSON object and store them in a list\n",
        "    data = []\n",
        "    for d in file_data:\n",
        "        data.append(json.loads(d))\n",
        "\n",
        "    # Convert the list of JSON objects to a DataFrame\n",
        "    df = pd.DataFrame(data)\n",
        "    \n",
        "    return df"
      ],
      "metadata": {
        "id": "4pyUMXrNpJ7X"
      },
      "execution_count": 11,
      "outputs": []
    },
    {
      "cell_type": "code",
      "source": [
        "train_json_df = get_df_from_json(train_json)\n",
        "val_json_df = get_df_from_json(val_json)\n",
        "test_json_df = get_df_from_json(test_json)"
      ],
      "metadata": {
        "id": "KmPDSXrcrfdM"
      },
      "execution_count": 12,
      "outputs": []
    },
    {
      "cell_type": "code",
      "source": [
        "train_json_df"
      ],
      "metadata": {
        "colab": {
          "base_uri": "https://localhost:8080/",
          "height": 0
        },
        "id": "RdqYQPXJsABq",
        "outputId": "32ab3dc1-9600-47ed-9138-de615e309183"
      },
      "execution_count": 13,
      "outputs": [
        {
          "output_type": "execute_result",
          "data": {
            "text/plain": [
              "         id            img  label  \\\n",
              "0     42953  img/42953.png      0   \n",
              "1     23058  img/23058.png      0   \n",
              "2     13894  img/13894.png      0   \n",
              "3     37408  img/37408.png      0   \n",
              "4     82403  img/82403.png      0   \n",
              "...     ...            ...    ...   \n",
              "8495  10423  img/10423.png      1   \n",
              "8496  98203  img/98203.png      1   \n",
              "8497  36947  img/36947.png      1   \n",
              "8498  16492  img/16492.png      1   \n",
              "8499  15937  img/15937.png      1   \n",
              "\n",
              "                                                   text  \n",
              "0      its their character not their color that matters  \n",
              "1     don't be afraid to love again everyone is not ...  \n",
              "2                              putting bows on your pet  \n",
              "3     i love everything and everybody! except for sq...  \n",
              "4     everybody loves chocolate chip cookies, even h...  \n",
              "...                                                 ...  \n",
              "8495                  nobody wants to hang auschwitz me  \n",
              "8496  when god grants you a child after 20 years of ...  \n",
              "8497  gays on social media: equality! body positivit...  \n",
              "8498  having a bad day? you could be a siamese twin ...  \n",
              "8499  i hate muslims too they take their religion to...  \n",
              "\n",
              "[8500 rows x 4 columns]"
            ],
            "text/html": [
              "\n",
              "  <div id=\"df-bcfbf0b4-3e77-4c45-a61c-010419d530ae\">\n",
              "    <div class=\"colab-df-container\">\n",
              "      <div>\n",
              "<style scoped>\n",
              "    .dataframe tbody tr th:only-of-type {\n",
              "        vertical-align: middle;\n",
              "    }\n",
              "\n",
              "    .dataframe tbody tr th {\n",
              "        vertical-align: top;\n",
              "    }\n",
              "\n",
              "    .dataframe thead th {\n",
              "        text-align: right;\n",
              "    }\n",
              "</style>\n",
              "<table border=\"1\" class=\"dataframe\">\n",
              "  <thead>\n",
              "    <tr style=\"text-align: right;\">\n",
              "      <th></th>\n",
              "      <th>id</th>\n",
              "      <th>img</th>\n",
              "      <th>label</th>\n",
              "      <th>text</th>\n",
              "    </tr>\n",
              "  </thead>\n",
              "  <tbody>\n",
              "    <tr>\n",
              "      <th>0</th>\n",
              "      <td>42953</td>\n",
              "      <td>img/42953.png</td>\n",
              "      <td>0</td>\n",
              "      <td>its their character not their color that matters</td>\n",
              "    </tr>\n",
              "    <tr>\n",
              "      <th>1</th>\n",
              "      <td>23058</td>\n",
              "      <td>img/23058.png</td>\n",
              "      <td>0</td>\n",
              "      <td>don't be afraid to love again everyone is not ...</td>\n",
              "    </tr>\n",
              "    <tr>\n",
              "      <th>2</th>\n",
              "      <td>13894</td>\n",
              "      <td>img/13894.png</td>\n",
              "      <td>0</td>\n",
              "      <td>putting bows on your pet</td>\n",
              "    </tr>\n",
              "    <tr>\n",
              "      <th>3</th>\n",
              "      <td>37408</td>\n",
              "      <td>img/37408.png</td>\n",
              "      <td>0</td>\n",
              "      <td>i love everything and everybody! except for sq...</td>\n",
              "    </tr>\n",
              "    <tr>\n",
              "      <th>4</th>\n",
              "      <td>82403</td>\n",
              "      <td>img/82403.png</td>\n",
              "      <td>0</td>\n",
              "      <td>everybody loves chocolate chip cookies, even h...</td>\n",
              "    </tr>\n",
              "    <tr>\n",
              "      <th>...</th>\n",
              "      <td>...</td>\n",
              "      <td>...</td>\n",
              "      <td>...</td>\n",
              "      <td>...</td>\n",
              "    </tr>\n",
              "    <tr>\n",
              "      <th>8495</th>\n",
              "      <td>10423</td>\n",
              "      <td>img/10423.png</td>\n",
              "      <td>1</td>\n",
              "      <td>nobody wants to hang auschwitz me</td>\n",
              "    </tr>\n",
              "    <tr>\n",
              "      <th>8496</th>\n",
              "      <td>98203</td>\n",
              "      <td>img/98203.png</td>\n",
              "      <td>1</td>\n",
              "      <td>when god grants you a child after 20 years of ...</td>\n",
              "    </tr>\n",
              "    <tr>\n",
              "      <th>8497</th>\n",
              "      <td>36947</td>\n",
              "      <td>img/36947.png</td>\n",
              "      <td>1</td>\n",
              "      <td>gays on social media: equality! body positivit...</td>\n",
              "    </tr>\n",
              "    <tr>\n",
              "      <th>8498</th>\n",
              "      <td>16492</td>\n",
              "      <td>img/16492.png</td>\n",
              "      <td>1</td>\n",
              "      <td>having a bad day? you could be a siamese twin ...</td>\n",
              "    </tr>\n",
              "    <tr>\n",
              "      <th>8499</th>\n",
              "      <td>15937</td>\n",
              "      <td>img/15937.png</td>\n",
              "      <td>1</td>\n",
              "      <td>i hate muslims too they take their religion to...</td>\n",
              "    </tr>\n",
              "  </tbody>\n",
              "</table>\n",
              "<p>8500 rows × 4 columns</p>\n",
              "</div>\n",
              "      <button class=\"colab-df-convert\" onclick=\"convertToInteractive('df-bcfbf0b4-3e77-4c45-a61c-010419d530ae')\"\n",
              "              title=\"Convert this dataframe to an interactive table.\"\n",
              "              style=\"display:none;\">\n",
              "        \n",
              "  <svg xmlns=\"http://www.w3.org/2000/svg\" height=\"24px\"viewBox=\"0 0 24 24\"\n",
              "       width=\"24px\">\n",
              "    <path d=\"M0 0h24v24H0V0z\" fill=\"none\"/>\n",
              "    <path d=\"M18.56 5.44l.94 2.06.94-2.06 2.06-.94-2.06-.94-.94-2.06-.94 2.06-2.06.94zm-11 1L8.5 8.5l.94-2.06 2.06-.94-2.06-.94L8.5 2.5l-.94 2.06-2.06.94zm10 10l.94 2.06.94-2.06 2.06-.94-2.06-.94-.94-2.06-.94 2.06-2.06.94z\"/><path d=\"M17.41 7.96l-1.37-1.37c-.4-.4-.92-.59-1.43-.59-.52 0-1.04.2-1.43.59L10.3 9.45l-7.72 7.72c-.78.78-.78 2.05 0 2.83L4 21.41c.39.39.9.59 1.41.59.51 0 1.02-.2 1.41-.59l7.78-7.78 2.81-2.81c.8-.78.8-2.07 0-2.86zM5.41 20L4 18.59l7.72-7.72 1.47 1.35L5.41 20z\"/>\n",
              "  </svg>\n",
              "      </button>\n",
              "      \n",
              "  <style>\n",
              "    .colab-df-container {\n",
              "      display:flex;\n",
              "      flex-wrap:wrap;\n",
              "      gap: 12px;\n",
              "    }\n",
              "\n",
              "    .colab-df-convert {\n",
              "      background-color: #E8F0FE;\n",
              "      border: none;\n",
              "      border-radius: 50%;\n",
              "      cursor: pointer;\n",
              "      display: none;\n",
              "      fill: #1967D2;\n",
              "      height: 32px;\n",
              "      padding: 0 0 0 0;\n",
              "      width: 32px;\n",
              "    }\n",
              "\n",
              "    .colab-df-convert:hover {\n",
              "      background-color: #E2EBFA;\n",
              "      box-shadow: 0px 1px 2px rgba(60, 64, 67, 0.3), 0px 1px 3px 1px rgba(60, 64, 67, 0.15);\n",
              "      fill: #174EA6;\n",
              "    }\n",
              "\n",
              "    [theme=dark] .colab-df-convert {\n",
              "      background-color: #3B4455;\n",
              "      fill: #D2E3FC;\n",
              "    }\n",
              "\n",
              "    [theme=dark] .colab-df-convert:hover {\n",
              "      background-color: #434B5C;\n",
              "      box-shadow: 0px 1px 3px 1px rgba(0, 0, 0, 0.15);\n",
              "      filter: drop-shadow(0px 1px 2px rgba(0, 0, 0, 0.3));\n",
              "      fill: #FFFFFF;\n",
              "    }\n",
              "  </style>\n",
              "\n",
              "      <script>\n",
              "        const buttonEl =\n",
              "          document.querySelector('#df-bcfbf0b4-3e77-4c45-a61c-010419d530ae button.colab-df-convert');\n",
              "        buttonEl.style.display =\n",
              "          google.colab.kernel.accessAllowed ? 'block' : 'none';\n",
              "\n",
              "        async function convertToInteractive(key) {\n",
              "          const element = document.querySelector('#df-bcfbf0b4-3e77-4c45-a61c-010419d530ae');\n",
              "          const dataTable =\n",
              "            await google.colab.kernel.invokeFunction('convertToInteractive',\n",
              "                                                     [key], {});\n",
              "          if (!dataTable) return;\n",
              "\n",
              "          const docLinkHtml = 'Like what you see? Visit the ' +\n",
              "            '<a target=\"_blank\" href=https://colab.research.google.com/notebooks/data_table.ipynb>data table notebook</a>'\n",
              "            + ' to learn more about interactive tables.';\n",
              "          element.innerHTML = '';\n",
              "          dataTable['output_type'] = 'display_data';\n",
              "          await google.colab.output.renderOutput(dataTable, element);\n",
              "          const docLink = document.createElement('div');\n",
              "          docLink.innerHTML = docLinkHtml;\n",
              "          element.appendChild(docLink);\n",
              "        }\n",
              "      </script>\n",
              "    </div>\n",
              "  </div>\n",
              "  "
            ]
          },
          "metadata": {},
          "execution_count": 13
        }
      ]
    },
    {
      "cell_type": "code",
      "source": [
        "val_json_df"
      ],
      "metadata": {
        "colab": {
          "base_uri": "https://localhost:8080/",
          "height": 0
        },
        "id": "TTNCt9mTsCUS",
        "outputId": "2a972d4d-e287-4ca1-9194-4cc0081719ca"
      },
      "execution_count": 14,
      "outputs": [
        {
          "output_type": "execute_result",
          "data": {
            "text/plain": [
              "        id            img  label  \\\n",
              "0    08291  img/08291.png      1   \n",
              "1    46971  img/46971.png      1   \n",
              "2    03745  img/03745.png      1   \n",
              "3    83745  img/83745.png      1   \n",
              "4    80243  img/80243.png      1   \n",
              "..     ...            ...    ...   \n",
              "495  83675  img/83675.png      0   \n",
              "496  37198  img/37198.png      0   \n",
              "497  48670  img/48670.png      0   \n",
              "498  09863  img/09863.png      0   \n",
              "499  97320  img/97320.png      0   \n",
              "\n",
              "                                                  text  \n",
              "0                white people is this a shooting range  \n",
              "1                                bravery at its finest  \n",
              "2    your order comes to $37.50 and your white priv...  \n",
              "3    it is time.. to send these parasites back to t...  \n",
              "4                               mississippi wind chime  \n",
              "..                                                 ...  \n",
              "495                   i'm gonna be like phelps one day  \n",
              "496  when you're so relaxed you can feel yourself g...  \n",
              "497  look at this sandwich maker club i found on wi...  \n",
              "498                             diverse group of women  \n",
              "499  \"when your dishwasher is broken so you take it...  \n",
              "\n",
              "[500 rows x 4 columns]"
            ],
            "text/html": [
              "\n",
              "  <div id=\"df-f97ede73-0863-47f1-9233-70125a3e6930\">\n",
              "    <div class=\"colab-df-container\">\n",
              "      <div>\n",
              "<style scoped>\n",
              "    .dataframe tbody tr th:only-of-type {\n",
              "        vertical-align: middle;\n",
              "    }\n",
              "\n",
              "    .dataframe tbody tr th {\n",
              "        vertical-align: top;\n",
              "    }\n",
              "\n",
              "    .dataframe thead th {\n",
              "        text-align: right;\n",
              "    }\n",
              "</style>\n",
              "<table border=\"1\" class=\"dataframe\">\n",
              "  <thead>\n",
              "    <tr style=\"text-align: right;\">\n",
              "      <th></th>\n",
              "      <th>id</th>\n",
              "      <th>img</th>\n",
              "      <th>label</th>\n",
              "      <th>text</th>\n",
              "    </tr>\n",
              "  </thead>\n",
              "  <tbody>\n",
              "    <tr>\n",
              "      <th>0</th>\n",
              "      <td>08291</td>\n",
              "      <td>img/08291.png</td>\n",
              "      <td>1</td>\n",
              "      <td>white people is this a shooting range</td>\n",
              "    </tr>\n",
              "    <tr>\n",
              "      <th>1</th>\n",
              "      <td>46971</td>\n",
              "      <td>img/46971.png</td>\n",
              "      <td>1</td>\n",
              "      <td>bravery at its finest</td>\n",
              "    </tr>\n",
              "    <tr>\n",
              "      <th>2</th>\n",
              "      <td>03745</td>\n",
              "      <td>img/03745.png</td>\n",
              "      <td>1</td>\n",
              "      <td>your order comes to $37.50 and your white priv...</td>\n",
              "    </tr>\n",
              "    <tr>\n",
              "      <th>3</th>\n",
              "      <td>83745</td>\n",
              "      <td>img/83745.png</td>\n",
              "      <td>1</td>\n",
              "      <td>it is time.. to send these parasites back to t...</td>\n",
              "    </tr>\n",
              "    <tr>\n",
              "      <th>4</th>\n",
              "      <td>80243</td>\n",
              "      <td>img/80243.png</td>\n",
              "      <td>1</td>\n",
              "      <td>mississippi wind chime</td>\n",
              "    </tr>\n",
              "    <tr>\n",
              "      <th>...</th>\n",
              "      <td>...</td>\n",
              "      <td>...</td>\n",
              "      <td>...</td>\n",
              "      <td>...</td>\n",
              "    </tr>\n",
              "    <tr>\n",
              "      <th>495</th>\n",
              "      <td>83675</td>\n",
              "      <td>img/83675.png</td>\n",
              "      <td>0</td>\n",
              "      <td>i'm gonna be like phelps one day</td>\n",
              "    </tr>\n",
              "    <tr>\n",
              "      <th>496</th>\n",
              "      <td>37198</td>\n",
              "      <td>img/37198.png</td>\n",
              "      <td>0</td>\n",
              "      <td>when you're so relaxed you can feel yourself g...</td>\n",
              "    </tr>\n",
              "    <tr>\n",
              "      <th>497</th>\n",
              "      <td>48670</td>\n",
              "      <td>img/48670.png</td>\n",
              "      <td>0</td>\n",
              "      <td>look at this sandwich maker club i found on wi...</td>\n",
              "    </tr>\n",
              "    <tr>\n",
              "      <th>498</th>\n",
              "      <td>09863</td>\n",
              "      <td>img/09863.png</td>\n",
              "      <td>0</td>\n",
              "      <td>diverse group of women</td>\n",
              "    </tr>\n",
              "    <tr>\n",
              "      <th>499</th>\n",
              "      <td>97320</td>\n",
              "      <td>img/97320.png</td>\n",
              "      <td>0</td>\n",
              "      <td>\"when your dishwasher is broken so you take it...</td>\n",
              "    </tr>\n",
              "  </tbody>\n",
              "</table>\n",
              "<p>500 rows × 4 columns</p>\n",
              "</div>\n",
              "      <button class=\"colab-df-convert\" onclick=\"convertToInteractive('df-f97ede73-0863-47f1-9233-70125a3e6930')\"\n",
              "              title=\"Convert this dataframe to an interactive table.\"\n",
              "              style=\"display:none;\">\n",
              "        \n",
              "  <svg xmlns=\"http://www.w3.org/2000/svg\" height=\"24px\"viewBox=\"0 0 24 24\"\n",
              "       width=\"24px\">\n",
              "    <path d=\"M0 0h24v24H0V0z\" fill=\"none\"/>\n",
              "    <path d=\"M18.56 5.44l.94 2.06.94-2.06 2.06-.94-2.06-.94-.94-2.06-.94 2.06-2.06.94zm-11 1L8.5 8.5l.94-2.06 2.06-.94-2.06-.94L8.5 2.5l-.94 2.06-2.06.94zm10 10l.94 2.06.94-2.06 2.06-.94-2.06-.94-.94-2.06-.94 2.06-2.06.94z\"/><path d=\"M17.41 7.96l-1.37-1.37c-.4-.4-.92-.59-1.43-.59-.52 0-1.04.2-1.43.59L10.3 9.45l-7.72 7.72c-.78.78-.78 2.05 0 2.83L4 21.41c.39.39.9.59 1.41.59.51 0 1.02-.2 1.41-.59l7.78-7.78 2.81-2.81c.8-.78.8-2.07 0-2.86zM5.41 20L4 18.59l7.72-7.72 1.47 1.35L5.41 20z\"/>\n",
              "  </svg>\n",
              "      </button>\n",
              "      \n",
              "  <style>\n",
              "    .colab-df-container {\n",
              "      display:flex;\n",
              "      flex-wrap:wrap;\n",
              "      gap: 12px;\n",
              "    }\n",
              "\n",
              "    .colab-df-convert {\n",
              "      background-color: #E8F0FE;\n",
              "      border: none;\n",
              "      border-radius: 50%;\n",
              "      cursor: pointer;\n",
              "      display: none;\n",
              "      fill: #1967D2;\n",
              "      height: 32px;\n",
              "      padding: 0 0 0 0;\n",
              "      width: 32px;\n",
              "    }\n",
              "\n",
              "    .colab-df-convert:hover {\n",
              "      background-color: #E2EBFA;\n",
              "      box-shadow: 0px 1px 2px rgba(60, 64, 67, 0.3), 0px 1px 3px 1px rgba(60, 64, 67, 0.15);\n",
              "      fill: #174EA6;\n",
              "    }\n",
              "\n",
              "    [theme=dark] .colab-df-convert {\n",
              "      background-color: #3B4455;\n",
              "      fill: #D2E3FC;\n",
              "    }\n",
              "\n",
              "    [theme=dark] .colab-df-convert:hover {\n",
              "      background-color: #434B5C;\n",
              "      box-shadow: 0px 1px 3px 1px rgba(0, 0, 0, 0.15);\n",
              "      filter: drop-shadow(0px 1px 2px rgba(0, 0, 0, 0.3));\n",
              "      fill: #FFFFFF;\n",
              "    }\n",
              "  </style>\n",
              "\n",
              "      <script>\n",
              "        const buttonEl =\n",
              "          document.querySelector('#df-f97ede73-0863-47f1-9233-70125a3e6930 button.colab-df-convert');\n",
              "        buttonEl.style.display =\n",
              "          google.colab.kernel.accessAllowed ? 'block' : 'none';\n",
              "\n",
              "        async function convertToInteractive(key) {\n",
              "          const element = document.querySelector('#df-f97ede73-0863-47f1-9233-70125a3e6930');\n",
              "          const dataTable =\n",
              "            await google.colab.kernel.invokeFunction('convertToInteractive',\n",
              "                                                     [key], {});\n",
              "          if (!dataTable) return;\n",
              "\n",
              "          const docLinkHtml = 'Like what you see? Visit the ' +\n",
              "            '<a target=\"_blank\" href=https://colab.research.google.com/notebooks/data_table.ipynb>data table notebook</a>'\n",
              "            + ' to learn more about interactive tables.';\n",
              "          element.innerHTML = '';\n",
              "          dataTable['output_type'] = 'display_data';\n",
              "          await google.colab.output.renderOutput(dataTable, element);\n",
              "          const docLink = document.createElement('div');\n",
              "          docLink.innerHTML = docLinkHtml;\n",
              "          element.appendChild(docLink);\n",
              "        }\n",
              "      </script>\n",
              "    </div>\n",
              "  </div>\n",
              "  "
            ]
          },
          "metadata": {},
          "execution_count": 14
        }
      ]
    },
    {
      "cell_type": "code",
      "source": [
        "test_json_df"
      ],
      "metadata": {
        "colab": {
          "base_uri": "https://localhost:8080/",
          "height": 0
        },
        "id": "u4Hlt_hrsDyS",
        "outputId": "e8837df5-df0a-4eeb-c0ab-654f052d1bcc"
      },
      "execution_count": 15,
      "outputs": [
        {
          "output_type": "execute_result",
          "data": {
            "text/plain": [
              "        id            img  label  \\\n",
              "0    16395  img/16395.png      1   \n",
              "1    37405  img/37405.png      1   \n",
              "2    94180  img/94180.png      1   \n",
              "3    54321  img/54321.png      1   \n",
              "4    97015  img/97015.png      1   \n",
              "..     ...            ...    ...   \n",
              "995  03869  img/03869.png      0   \n",
              "996  23817  img/23817.png      0   \n",
              "997  56280  img/56280.png      0   \n",
              "998  29384  img/29384.png      0   \n",
              "999  34127  img/34127.png      0   \n",
              "\n",
              "                                                  text  \n",
              "0                             handjobs sold seperately  \n",
              "1                 introducing fidget spinner for women  \n",
              "2          happy pride month let's go beat up lesbians  \n",
              "3               laughs in [majority of u.s crime rate]  \n",
              "4               finds out those 72 virgins.. are goats  \n",
              "..                                                 ...  \n",
              "995    a mother's love for the child is a divine thing  \n",
              "996                                        sea monkeys  \n",
              "997               little miss muffet sat on her tuffet  \n",
              "998                                   they're in a row  \n",
              "999  that feeling when you win a fifa game after be...  \n",
              "\n",
              "[1000 rows x 4 columns]"
            ],
            "text/html": [
              "\n",
              "  <div id=\"df-064f3161-c7b2-4ab2-ab29-7684498dc46e\">\n",
              "    <div class=\"colab-df-container\">\n",
              "      <div>\n",
              "<style scoped>\n",
              "    .dataframe tbody tr th:only-of-type {\n",
              "        vertical-align: middle;\n",
              "    }\n",
              "\n",
              "    .dataframe tbody tr th {\n",
              "        vertical-align: top;\n",
              "    }\n",
              "\n",
              "    .dataframe thead th {\n",
              "        text-align: right;\n",
              "    }\n",
              "</style>\n",
              "<table border=\"1\" class=\"dataframe\">\n",
              "  <thead>\n",
              "    <tr style=\"text-align: right;\">\n",
              "      <th></th>\n",
              "      <th>id</th>\n",
              "      <th>img</th>\n",
              "      <th>label</th>\n",
              "      <th>text</th>\n",
              "    </tr>\n",
              "  </thead>\n",
              "  <tbody>\n",
              "    <tr>\n",
              "      <th>0</th>\n",
              "      <td>16395</td>\n",
              "      <td>img/16395.png</td>\n",
              "      <td>1</td>\n",
              "      <td>handjobs sold seperately</td>\n",
              "    </tr>\n",
              "    <tr>\n",
              "      <th>1</th>\n",
              "      <td>37405</td>\n",
              "      <td>img/37405.png</td>\n",
              "      <td>1</td>\n",
              "      <td>introducing fidget spinner for women</td>\n",
              "    </tr>\n",
              "    <tr>\n",
              "      <th>2</th>\n",
              "      <td>94180</td>\n",
              "      <td>img/94180.png</td>\n",
              "      <td>1</td>\n",
              "      <td>happy pride month let's go beat up lesbians</td>\n",
              "    </tr>\n",
              "    <tr>\n",
              "      <th>3</th>\n",
              "      <td>54321</td>\n",
              "      <td>img/54321.png</td>\n",
              "      <td>1</td>\n",
              "      <td>laughs in [majority of u.s crime rate]</td>\n",
              "    </tr>\n",
              "    <tr>\n",
              "      <th>4</th>\n",
              "      <td>97015</td>\n",
              "      <td>img/97015.png</td>\n",
              "      <td>1</td>\n",
              "      <td>finds out those 72 virgins.. are goats</td>\n",
              "    </tr>\n",
              "    <tr>\n",
              "      <th>...</th>\n",
              "      <td>...</td>\n",
              "      <td>...</td>\n",
              "      <td>...</td>\n",
              "      <td>...</td>\n",
              "    </tr>\n",
              "    <tr>\n",
              "      <th>995</th>\n",
              "      <td>03869</td>\n",
              "      <td>img/03869.png</td>\n",
              "      <td>0</td>\n",
              "      <td>a mother's love for the child is a divine thing</td>\n",
              "    </tr>\n",
              "    <tr>\n",
              "      <th>996</th>\n",
              "      <td>23817</td>\n",
              "      <td>img/23817.png</td>\n",
              "      <td>0</td>\n",
              "      <td>sea monkeys</td>\n",
              "    </tr>\n",
              "    <tr>\n",
              "      <th>997</th>\n",
              "      <td>56280</td>\n",
              "      <td>img/56280.png</td>\n",
              "      <td>0</td>\n",
              "      <td>little miss muffet sat on her tuffet</td>\n",
              "    </tr>\n",
              "    <tr>\n",
              "      <th>998</th>\n",
              "      <td>29384</td>\n",
              "      <td>img/29384.png</td>\n",
              "      <td>0</td>\n",
              "      <td>they're in a row</td>\n",
              "    </tr>\n",
              "    <tr>\n",
              "      <th>999</th>\n",
              "      <td>34127</td>\n",
              "      <td>img/34127.png</td>\n",
              "      <td>0</td>\n",
              "      <td>that feeling when you win a fifa game after be...</td>\n",
              "    </tr>\n",
              "  </tbody>\n",
              "</table>\n",
              "<p>1000 rows × 4 columns</p>\n",
              "</div>\n",
              "      <button class=\"colab-df-convert\" onclick=\"convertToInteractive('df-064f3161-c7b2-4ab2-ab29-7684498dc46e')\"\n",
              "              title=\"Convert this dataframe to an interactive table.\"\n",
              "              style=\"display:none;\">\n",
              "        \n",
              "  <svg xmlns=\"http://www.w3.org/2000/svg\" height=\"24px\"viewBox=\"0 0 24 24\"\n",
              "       width=\"24px\">\n",
              "    <path d=\"M0 0h24v24H0V0z\" fill=\"none\"/>\n",
              "    <path d=\"M18.56 5.44l.94 2.06.94-2.06 2.06-.94-2.06-.94-.94-2.06-.94 2.06-2.06.94zm-11 1L8.5 8.5l.94-2.06 2.06-.94-2.06-.94L8.5 2.5l-.94 2.06-2.06.94zm10 10l.94 2.06.94-2.06 2.06-.94-2.06-.94-.94-2.06-.94 2.06-2.06.94z\"/><path d=\"M17.41 7.96l-1.37-1.37c-.4-.4-.92-.59-1.43-.59-.52 0-1.04.2-1.43.59L10.3 9.45l-7.72 7.72c-.78.78-.78 2.05 0 2.83L4 21.41c.39.39.9.59 1.41.59.51 0 1.02-.2 1.41-.59l7.78-7.78 2.81-2.81c.8-.78.8-2.07 0-2.86zM5.41 20L4 18.59l7.72-7.72 1.47 1.35L5.41 20z\"/>\n",
              "  </svg>\n",
              "      </button>\n",
              "      \n",
              "  <style>\n",
              "    .colab-df-container {\n",
              "      display:flex;\n",
              "      flex-wrap:wrap;\n",
              "      gap: 12px;\n",
              "    }\n",
              "\n",
              "    .colab-df-convert {\n",
              "      background-color: #E8F0FE;\n",
              "      border: none;\n",
              "      border-radius: 50%;\n",
              "      cursor: pointer;\n",
              "      display: none;\n",
              "      fill: #1967D2;\n",
              "      height: 32px;\n",
              "      padding: 0 0 0 0;\n",
              "      width: 32px;\n",
              "    }\n",
              "\n",
              "    .colab-df-convert:hover {\n",
              "      background-color: #E2EBFA;\n",
              "      box-shadow: 0px 1px 2px rgba(60, 64, 67, 0.3), 0px 1px 3px 1px rgba(60, 64, 67, 0.15);\n",
              "      fill: #174EA6;\n",
              "    }\n",
              "\n",
              "    [theme=dark] .colab-df-convert {\n",
              "      background-color: #3B4455;\n",
              "      fill: #D2E3FC;\n",
              "    }\n",
              "\n",
              "    [theme=dark] .colab-df-convert:hover {\n",
              "      background-color: #434B5C;\n",
              "      box-shadow: 0px 1px 3px 1px rgba(0, 0, 0, 0.15);\n",
              "      filter: drop-shadow(0px 1px 2px rgba(0, 0, 0, 0.3));\n",
              "      fill: #FFFFFF;\n",
              "    }\n",
              "  </style>\n",
              "\n",
              "      <script>\n",
              "        const buttonEl =\n",
              "          document.querySelector('#df-064f3161-c7b2-4ab2-ab29-7684498dc46e button.colab-df-convert');\n",
              "        buttonEl.style.display =\n",
              "          google.colab.kernel.accessAllowed ? 'block' : 'none';\n",
              "\n",
              "        async function convertToInteractive(key) {\n",
              "          const element = document.querySelector('#df-064f3161-c7b2-4ab2-ab29-7684498dc46e');\n",
              "          const dataTable =\n",
              "            await google.colab.kernel.invokeFunction('convertToInteractive',\n",
              "                                                     [key], {});\n",
              "          if (!dataTable) return;\n",
              "\n",
              "          const docLinkHtml = 'Like what you see? Visit the ' +\n",
              "            '<a target=\"_blank\" href=https://colab.research.google.com/notebooks/data_table.ipynb>data table notebook</a>'\n",
              "            + ' to learn more about interactive tables.';\n",
              "          element.innerHTML = '';\n",
              "          dataTable['output_type'] = 'display_data';\n",
              "          await google.colab.output.renderOutput(dataTable, element);\n",
              "          const docLink = document.createElement('div');\n",
              "          docLink.innerHTML = docLinkHtml;\n",
              "          element.appendChild(docLink);\n",
              "        }\n",
              "      </script>\n",
              "    </div>\n",
              "  </div>\n",
              "  "
            ]
          },
          "metadata": {},
          "execution_count": 15
        }
      ]
    },
    {
      "cell_type": "code",
      "source": [
        "train_ids = train_json_df['id'].tolist()\n",
        "for i in range(len(train_ids)):\n",
        "  train_ids[i]= str(train_ids[i])+'.png'"
      ],
      "metadata": {
        "id": "TQ8IQstqbZsF"
      },
      "execution_count": 16,
      "outputs": []
    },
    {
      "cell_type": "code",
      "source": [
        "print(train_ids)"
      ],
      "metadata": {
        "colab": {
          "base_uri": "https://localhost:8080/"
        },
        "id": "kdMxDT1SfjtW",
        "outputId": "2fe6dede-c9ac-4354-be7a-24a849b93302"
      },
      "execution_count": 17,
      "outputs": [
        {
          "output_type": "stream",
          "name": "stdout",
          "text": [
            "['42953.png', '23058.png', '13894.png', '37408.png', '82403.png', '16952.png', '76932.png', '70914.png', '02973.png', '58306.png', '79351.png', '34096.png', '25489.png', '19324.png', '79346.png', '13426.png', '97628.png', '14238.png', '28936.png', '59784.png', '02146.png', '70146.png', '28061.png', '97180.png', '49752.png', '25610.png', '15872.png', '72640.png', '64318.png', '17956.png', '93547.png', '10743.png', '37091.png', '25719.png', '76825.png', '72598.png', '43078.png', '51846.png', '01569.png', '95812.png', '06418.png', '53976.png', '70193.png', '60427.png', '78395.png', '04876.png', '92075.png', '86354.png', '74386.png', '59613.png', '10263.png', '48279.png', '52610.png', '58371.png', '27401.png', '89574.png', '25473.png', '47913.png', '08295.png', '02497.png', '90471.png', '69357.png', '54602.png', '15320.png', '63182.png', '20619.png', '82457.png', '81059.png', '42137.png', '74530.png', '40832.png', '46127.png', '87594.png', '12548.png', '12894.png', '02476.png', '06937.png', '05762.png', '40259.png', '85072.png', '46537.png', '56432.png', '39805.png', '29163.png', '36072.png', '60147.png', '90583.png', '38612.png', '52097.png', '34961.png', '15803.png', '89762.png', '38465.png', '53289.png', '75321.png', '18350.png', '91547.png', '30247.png', '93741.png', '51243.png', '05384.png', '01845.png', '34791.png', '41385.png', '34508.png', '80521.png', '34165.png', '93072.png', '25468.png', '09617.png', '96258.png', '96578.png', '35618.png', '05249.png', '57349.png', '78409.png', '29814.png', '20568.png', '84269.png', '68079.png', '41537.png', '12890.png', '54102.png', '63217.png', '03271.png', '35264.png', '63710.png', '12348.png', '14052.png', '81064.png', '74391.png', '36152.png', '80256.png', '21948.png', '70532.png', '25806.png', '26759.png', '27398.png', '18730.png', '75216.png', '91754.png', '42153.png', '83456.png', '18673.png', '97523.png', '24631.png', '23748.png', '69412.png', '59073.png', '28405.png', '63492.png', '92670.png', '78351.png', '79856.png', '71436.png', '03258.png', '20736.png', '50487.png', '06431.png', '51473.png', '34901.png', '28793.png', '05172.png', '98501.png', '96231.png', '81673.png', '48635.png', '43612.png', '15480.png', '41830.png', '81069.png', '72584.png', '51763.png', '06873.png', '08523.png', '06359.png', '93260.png', '40839.png', '08516.png', '53012.png', '76250.png', '26198.png', '61952.png', '80269.png', '05712.png', '72941.png', '21853.png', '35219.png', '90146.png', '51278.png', '63095.png', '96058.png', '56871.png', '25180.png', '37259.png', '48106.png', '19352.png', '65213.png', '24368.png', '58426.png', '96785.png', '40567.png', '38625.png', '04823.png', '25368.png', '93826.png', '56392.png', '30986.png', '75823.png', '84072.png', '93147.png', '92874.png', '27946.png', '93614.png', '93521.png', '02691.png', '91708.png', '25783.png', '16098.png', '30452.png', '86491.png', '14530.png', '81734.png', '04683.png', '08593.png', '92608.png', '61453.png', '39601.png', '12035.png', '56482.png', '56287.png', '19036.png', '34852.png', '62804.png', '81579.png', '80247.png', '52890.png', '02485.png', '50793.png', '13857.png', '43617.png', '70942.png', '49601.png', '35102.png', '10659.png', '36081.png', '68325.png', '39256.png', '98362.png', '38475.png', '49083.png', '45938.png', '67823.png', '70928.png', '24309.png', '70925.png', '05269.png', '61278.png', '81675.png', '38629.png', '06458.png', '71364.png', '26794.png', '85704.png', '75102.png', '91268.png', '42179.png', '35097.png', '83570.png', '56490.png', '07968.png', '81259.png', '19753.png', '61480.png', '54790.png', '43517.png', '25068.png', '35861.png', '92741.png', '51736.png', '26417.png', '18407.png', '47326.png', '50768.png', '86594.png', '63581.png', '95426.png', '10264.png', '79312.png', '17832.png', '15432.png', '34506.png', '30492.png', '31794.png', '04175.png', '61578.png', '31479.png', '17659.png', '29785.png', '17205.png', '74132.png', '15649.png', '51460.png', '60329.png', '58276.png', '40752.png', '79315.png', '03241.png', '38041.png', '40897.png', '56180.png', '37865.png', '36974.png', '61780.png', '81546.png', '75432.png', '48703.png', '81706.png', '42319.png', '02139.png', '93568.png', '06832.png', '20971.png', '70936.png', '04278.png', '56024.png', '53941.png', '49270.png', '67485.png', '92417.png', '26305.png', '61234.png', '59064.png', '17634.png', '03246.png', '97635.png', '09634.png', '49630.png', '60173.png', '38490.png', '68423.png', '76258.png', '39652.png', '70435.png', '08654.png', '37402.png', '26795.png', '60317.png', '34805.png', '01389.png', '80361.png', '74536.png', '15283.png', '75340.png', '96153.png', '63917.png', '38529.png', '92016.png', '79054.png', '06471.png', '07698.png', '01896.png', '76354.png', '80237.png', '71045.png', '67084.png', '68507.png', '58096.png', '04263.png', '26043.png', '26031.png', '64701.png', '26495.png', '81963.png', '56972.png', '83127.png', '10827.png', '56378.png', '50273.png', '25397.png', '46058.png', '06218.png', '02849.png', '69042.png', '41853.png', '70652.png', '27943.png', '68159.png', '91704.png', '94823.png', '63285.png', '42693.png', '64027.png', '20751.png', '94351.png', '27489.png', '81394.png', '59467.png', '71906.png', '81265.png', '67384.png', '21086.png', '40153.png', '31025.png', '68042.png', '70549.png', '48612.png', '05183.png', '27430.png', '13859.png', '68379.png', '25037.png', '16380.png', '25861.png', '59478.png', '71249.png', '12673.png', '74235.png', '63275.png', '17830.png', '48625.png', '93216.png', '19256.png', '43201.png', '38127.png', '53962.png', '76213.png', '28317.png', '03251.png', '09132.png', '54973.png', '04651.png', '78560.png', '95317.png', '16490.png', '13876.png', '80239.png', '19540.png', '61927.png', '52903.png', '56389.png', '64805.png', '74038.png', '86530.png', '92450.png', '79103.png', '94721.png', '89042.png', '27034.png', '67198.png', '09347.png', '54276.png', '36472.png', '15938.png', '87049.png', '54761.png', '30628.png', '91375.png', '87530.png', '05129.png', '34658.png', '42387.png', '67415.png', '86054.png', '29517.png', '28704.png', '72531.png', '27953.png', '07249.png', '75403.png', '30948.png', '38245.png', '89160.png', '93658.png', '32046.png', '04568.png', '54817.png', '42786.png', '58197.png', '92185.png', '38704.png', '75481.png', '42309.png', '04253.png', '28971.png', '26741.png', '03685.png', '40286.png', '14695.png', '59837.png', '54397.png', '07192.png', '01392.png', '67219.png', '14697.png', '68194.png', '32468.png', '01524.png', '60937.png', '75428.png', '67512.png', '83492.png', '94617.png', '65320.png', '32765.png', '04326.png', '65413.png', '76034.png', '52986.png', '36981.png', '63140.png', '68307.png', '75182.png', '89610.png', '69137.png', '17829.png', '90165.png', '37641.png', '32485.png', '78906.png', '41258.png', '04296.png', '56841.png', '01658.png', '85062.png', '89740.png', '53278.png', '67159.png', '95683.png', '85271.png', '16409.png', '17504.png', '62739.png', '85421.png', '29731.png', '74152.png', '61802.png', '96143.png', '53714.png', '79358.png', '34920.png', '63415.png', '51734.png', '80534.png', '61485.png', '89603.png', '16784.png', '80169.png', '54936.png', '83290.png', '97816.png', '73562.png', '42368.png', '15743.png', '96073.png', '85362.png', '25968.png', '40965.png', '41568.png', '71289.png', '08172.png', '60128.png', '84703.png', '04325.png', '07258.png', '98764.png', '04162.png', '06357.png', '68947.png', '25639.png', '52738.png', '47598.png', '09716.png', '08632.png', '78520.png', '82763.png', '38427.png', '38156.png', '62358.png', '48317.png', '20759.png', '76328.png', '20879.png', '62435.png', '62849.png', '19586.png', '84120.png', '81630.png', '41032.png', '35910.png', '07591.png', '62081.png', '85923.png', '45912.png', '87031.png', '06483.png', '64130.png', '31074.png', '82637.png', '12349.png', '43128.png', '29761.png', '17495.png', '15409.png', '59317.png', '78469.png', '12867.png', '26497.png', '65980.png', '27139.png', '23690.png', '64853.png', '01492.png', '97542.png', '98561.png', '18597.png', '92467.png', '73204.png', '58604.png', '93086.png', '16278.png', '40932.png', '96824.png', '92453.png', '89162.png', '82379.png', '31765.png', '72504.png', '10492.png', '67894.png', '78124.png', '48756.png', '41803.png', '78465.png', '42015.png', '67214.png', '37548.png', '73241.png', '27816.png', '79613.png', '86051.png', '03957.png', '18693.png', '23061.png', '67809.png', '72893.png', '59231.png', '59346.png', '32768.png', '76138.png', '15902.png', '23849.png', '60729.png', '54976.png', '36480.png', '46251.png', '45698.png', '79286.png', '01526.png', '75832.png', '91283.png', '16539.png', '95108.png', '95174.png', '45706.png', '40291.png', '39821.png', '41923.png', '32714.png', '85960.png', '46910.png', '46178.png', '80924.png', '81094.png', '37809.png', '62314.png', '81436.png', '29376.png', '96508.png', '76892.png', '13096.png', '94710.png', '52496.png', '56708.png', '27605.png', '80792.png', '42317.png', '23715.png', '14360.png', '74631.png', '82134.png', '76814.png', '75928.png', '13459.png', '92867.png', '02519.png', '21354.png', '73810.png', '47862.png', '94378.png', '86912.png', '52974.png', '87203.png', '32051.png', '40896.png', '05984.png', '65328.png', '15630.png', '80629.png', '73596.png', '21346.png', '20835.png', '13690.png', '07983.png', '15648.png', '34675.png', '59684.png', '25706.png', '03298.png', '53204.png', '62514.png', '59376.png', '89061.png', '73045.png', '43675.png', '18203.png', '26034.png', '67984.png', '62408.png', '30958.png', '35218.png', '96840.png', '83510.png', '67109.png', '29813.png', '68715.png', '92478.png', '91423.png', '13068.png', '69542.png', '19247.png', '03187.png', '03574.png', '92514.png', '89102.png', '10538.png', '05841.png', '28074.png', '34862.png', '24581.png', '70843.png', '31568.png', '60592.png', '15824.png', '64017.png', '63871.png', '41562.png', '20876.png', '21908.png', '76851.png', '67431.png', '65124.png', '46902.png', '85426.png', '04798.png', '31897.png', '93275.png', '47618.png', '81975.png', '85729.png', '54917.png', '69158.png', '86451.png', '10328.png', '71485.png', '71583.png', '21403.png', '95482.png', '79610.png', '76140.png', '35917.png', '01475.png', '49185.png', '16480.png', '20617.png', '16058.png', '70849.png', '78306.png', '97623.png', '92314.png', '52406.png', '71230.png', '90786.png', '62458.png', '40137.png', '38069.png', '20819.png', '20163.png', '50248.png', '83619.png', '26459.png', '30412.png', '97035.png', '74602.png', '93650.png', '95742.png', '93410.png', '75203.png', '54286.png', '02841.png', '93076.png', '89407.png', '65728.png', '75841.png', '38624.png', '36187.png', '47095.png', '51746.png', '32876.png', '21408.png', '64513.png', '10527.png', '45891.png', '21096.png', '57043.png', '85413.png', '06392.png', '97316.png', '47290.png', '03971.png', '65237.png', '53017.png', '13769.png', '73258.png', '90278.png', '34186.png', '70594.png', '74019.png', '34581.png', '13486.png', '18607.png', '36048.png', '16283.png', '72058.png', '70315.png', '49076.png', '98351.png', '57164.png', '35460.png', '69342.png', '63295.png', '87504.png', '85614.png', '18650.png', '83014.png', '41986.png', '50867.png', '51092.png', '20945.png', '91562.png', '81720.png', '78031.png', '84351.png', '69078.png', '58463.png', '05123.png', '53924.png', '90481.png', '30847.png', '71392.png', '25640.png', '52931.png', '50461.png', '83941.png', '70654.png', '71398.png', '37182.png', '48920.png', '06439.png', '05798.png', '59261.png', '09831.png', '75138.png', '35412.png', '89170.png', '30276.png', '81263.png', '32089.png', '92081.png', '71052.png', '45960.png', '19630.png', '18275.png', '45836.png', '87610.png', '82154.png', '49128.png', '73652.png', '07124.png', '45780.png', '58301.png', '86907.png', '45291.png', '50473.png', '89475.png', '02769.png', '13964.png', '15690.png', '06239.png', '94678.png', '39164.png', '71839.png', '74861.png', '80532.png', '57861.png', '20134.png', '96531.png', '06798.png', '62017.png', '92157.png', '63702.png', '58326.png', '82356.png', '37250.png', '24197.png', '69018.png', '90582.png', '92146.png', '83074.png', '75210.png', '08259.png', '26930.png', '75410.png', '72456.png', '80347.png', '67319.png', '53678.png', '57029.png', '71826.png', '89573.png', '67402.png', '65139.png', '36597.png', '67852.png', '40217.png', '86143.png', '24130.png', '93671.png', '07615.png', '36581.png', '98032.png', '91738.png', '53241.png', '13249.png', '94361.png', '51768.png', '58029.png', '20379.png', '75698.png', '29063.png', '80341.png', '45036.png', '09265.png', '19458.png', '71403.png', '94062.png', '06197.png', '56274.png', '63952.png', '92546.png', '92436.png', '98573.png', '15078.png', '70384.png', '83219.png', '51489.png', '07215.png', '30687.png', '73251.png', '52340.png', '28604.png', '07312.png', '80217.png', '06893.png', '93068.png', '53184.png', '02947.png', '06153.png', '94850.png', '32750.png', '81953.png', '58091.png', '98256.png', '54319.png', '94360.png', '54692.png', '01642.png', '46150.png', '19438.png', '45730.png', '30792.png', '83901.png', '23705.png', '49806.png', '40813.png', '01468.png', '10589.png', '70132.png', '65319.png', '36281.png', '83965.png', '30156.png', '61450.png', '21078.png', '65914.png', '28637.png', '92067.png', '13652.png', '80197.png', '47601.png', '86713.png', '70329.png', '48015.png', '23510.png', '07826.png', '09867.png', '01275.png', '37862.png', '37825.png', '83064.png', '71903.png', '62913.png', '13958.png', '08164.png', '63517.png', '93861.png', '51407.png', '28574.png', '94731.png', '85073.png', '04762.png', '08125.png', '63749.png', '59731.png', '98523.png', '36079.png', '21753.png', '17345.png', '97041.png', '89640.png', '73981.png', '56208.png', '07234.png', '37021.png', '97108.png', '32507.png', '03927.png', '53607.png', '15806.png', '48250.png', '70153.png', '90183.png', '47205.png', '23648.png', '28670.png', '30742.png', '68531.png', '01793.png', '70452.png', '61483.png', '04892.png', '41739.png', '62135.png', '60573.png', '19526.png', '28163.png', '04695.png', '87513.png', '56071.png', '09821.png', '42853.png', '02795.png', '25164.png', '24356.png', '53420.png', '92180.png', '59046.png', '76521.png', '75468.png', '23164.png', '35642.png', '48573.png', '38927.png', '42813.png', '12704.png', '74650.png', '30174.png', '38402.png', '39675.png', '19705.png', '05483.png', '64059.png', '29703.png', '98145.png', '76534.png', '47582.png', '35602.png', '71845.png', '13460.png', '96402.png', '57124.png', '84317.png', '14507.png', '53194.png', '85967.png', '92743.png', '63012.png', '64523.png', '36814.png', '05917.png', '25914.png', '49705.png', '01749.png', '43798.png', '18254.png', '16548.png', '28045.png', '49687.png', '93487.png', '21035.png', '63210.png', '96172.png', '48679.png', '15638.png', '87315.png', '56231.png', '91753.png', '67091.png', '78052.png', '79623.png', '82940.png', '23908.png', '39640.png', '81207.png', '73198.png', '58321.png', '30548.png', '62745.png', '14690.png', '40916.png', '03162.png', '38162.png', '98241.png', '87326.png', '98034.png', '40627.png', '84276.png', '16053.png', '67983.png', '92148.png', '84295.png', '72658.png', '86753.png', '13209.png', '81390.png', '91034.png', '60235.png', '86075.png', '30816.png', '49063.png', '51480.png', '80165.png', '89521.png', '91764.png', '08349.png', '35784.png', '95846.png', '21560.png', '28451.png', '58372.png', '94836.png', '50312.png', '54713.png', '63805.png', '35402.png', '93084.png', '85743.png', '54639.png', '94628.png', '74513.png', '69348.png', '74062.png', '39815.png', '62931.png', '95672.png', '61382.png', '67183.png', '45037.png', '28930.png', '57042.png', '04591.png', '36985.png', '48136.png', '26973.png', '71245.png', '30128.png', '05372.png', '36478.png', '46870.png', '31896.png', '82346.png', '57348.png', '75380.png', '32674.png', '20739.png', '30549.png', '94675.png', '34178.png', '71046.png', '74190.png', '64087.png', '31450.png', '27608.png', '98245.png', '91863.png', '75096.png', '78064.png', '51972.png', '31729.png', '96152.png', '09352.png', '43650.png', '62531.png', '81293.png', '38495.png', '95281.png', '43657.png', '76810.png', '06412.png', '27365.png', '47251.png', '45389.png', '08569.png', '81260.png', '37260.png', '04827.png', '09215.png', '38752.png', '85290.png', '47053.png', '06547.png', '50386.png', '42715.png', '48271.png', '19504.png', '73956.png', '95067.png', '86135.png', '41263.png', '15847.png', '82539.png', '04912.png', '34910.png', '67092.png', '86457.png', '74658.png', '67031.png', '67810.png', '30726.png', '56834.png', '46817.png', '67938.png', '65108.png', '01274.png', '17450.png', '45301.png', '74098.png', '58370.png', '36420.png', '52910.png', '92056.png', '56792.png', '69013.png', '82916.png', '17652.png', '50784.png', '81976.png', '39541.png', '65341.png', '87215.png', '45206.png', '50683.png', '76348.png', '91803.png', '71294.png', '30745.png', '09572.png', '92573.png', '75430.png', '67504.png', '70294.png', '21405.png', '36751.png', '72698.png', '04619.png', '46270.png', '81946.png', '64531.png', '98506.png', '14092.png', '43759.png', '42156.png', '35786.png', '54728.png', '02971.png', '76489.png', '97804.png', '21804.png', '28974.png', '87639.png', '12839.png', '04976.png', '28319.png', '92835.png', '74915.png', '63410.png', '25901.png', '80259.png', '02987.png', '14675.png', '37504.png', '92581.png', '62904.png', '46017.png', '68327.png', '74589.png', '94278.png', '80943.png', '19408.png', '84653.png', '48932.png', '43608.png', '93126.png', '59824.png', '92481.png', '09315.png', '76491.png', '19763.png', '80593.png', '04986.png', '80742.png', '91402.png', '45723.png', '35608.png', '13478.png', '27634.png', '29083.png', '13049.png', '96423.png', '49150.png', '82651.png', '68719.png', '51964.png', '50738.png', '58421.png', '16435.png', '95783.png', '30871.png', '71390.png', '67259.png', '64789.png', '23068.png', '65207.png', '82549.png', '54629.png', '16072.png', '01974.png', '36945.png', '82593.png', '17532.png', '09217.png', '07248.png', '29714.png', '79205.png', '76581.png', '01842.png', '86934.png', '71823.png', '43758.png', '47521.png', '81904.png', '31809.png', '46380.png', '91026.png', '54170.png', '07926.png', '83076.png', '20851.png', '30829.png', '12649.png', '12936.png', '20318.png', '09248.png', '48309.png', '52780.png', '18679.png', '02457.png', '14283.png', '61289.png', '48391.png', '90345.png', '86159.png', '38706.png', '21583.png', '75921.png', '10948.png', '51367.png', '57284.png', '59034.png', '25093.png', '90378.png', '10725.png', '27416.png', '79451.png', '92734.png', '46182.png', '28507.png', '52936.png', '56497.png', '59380.png', '80925.png', '72634.png', '83061.png', '23074.png', '19742.png', '71849.png', '51349.png', '20183.png', '16298.png', '80152.png', '84593.png', '07592.png', '12958.png', '15236.png', '91563.png', '32798.png', '25904.png', '56942.png', '27854.png', '63548.png', '38697.png', '12450.png', '37859.png', '02917.png', '03759.png', '19543.png', '59048.png', '34728.png', '78619.png', '18029.png', '02945.png', '64720.png', '37184.png', '34021.png', '72936.png', '84265.png', '28695.png', '43658.png', '80769.png', '43096.png', '47629.png', '41538.png', '04786.png', '98270.png', '75021.png', '86254.png', '80241.png', '04356.png', '78639.png', '50964.png', '82941.png', '39475.png', '84061.png', '38609.png', '46938.png', '86914.png', '97481.png', '92187.png', '79032.png', '85097.png', '49861.png', '34620.png', '80327.png', '60357.png', '68901.png', '86045.png', '39704.png', '24860.png', '05741.png', '64532.png', '12094.png', '98601.png', '68270.png', '59237.png', '07582.png', '94205.png', '17430.png', '09465.png', '52034.png', '98734.png', '94725.png', '91356.png', '40826.png', '31472.png', '17589.png', '87260.png', '39765.png', '95376.png', '45197.png', '83095.png', '27461.png', '35740.png', '80425.png', '74901.png', '93152.png', '34671.png', '98571.png', '20195.png', '05813.png', '43185.png', '03615.png', '05148.png', '41679.png', '93852.png', '68941.png', '65931.png', '17948.png', '51708.png', '31029.png', '91052.png', '10463.png', '57490.png', '76924.png', '81294.png', '47569.png', '75209.png', '82603.png', '61527.png', '41087.png', '91845.png', '56128.png', '24395.png', '18236.png', '42056.png', '74890.png', '40759.png', '51476.png', '86071.png', '41037.png', '17965.png', '64870.png', '76285.png', '05672.png', '57926.png', '95064.png', '87409.png', '09382.png', '84629.png', '13986.png', '72964.png', '73205.png', '28610.png', '67312.png', '17536.png', '43190.png', '47518.png', '92768.png', '45208.png', '56917.png', '07916.png', '41869.png', '75290.png', '18052.png', '03296.png', '03268.png', '46238.png', '40716.png', '74061.png', '51387.png', '30527.png', '78345.png', '85132.png', '35048.png', '65741.png', '52761.png', '47531.png', '58476.png', '97805.png', '89245.png', '04918.png', '71086.png', '84620.png', '35671.png', '49178.png', '70562.png', '60134.png', '35640.png', '58674.png', '08641.png', '54038.png', '37284.png', '87263.png', '84209.png', '31406.png', '74198.png', '70851.png', '49618.png', '79823.png', '61347.png', '50286.png', '21936.png', '79280.png', '28639.png', '34698.png', '71380.png', '32549.png', '83025.png', '29463.png', '49725.png', '58176.png', '80765.png', '40257.png', '42315.png', '06375.png', '15298.png', '35017.png', '48216.png', '03845.png', '89634.png', '60451.png', '23158.png', '53206.png', '68713.png', '98574.png', '93208.png', '72490.png', '18257.png', '07285.png', '98425.png', '79385.png', '79845.png', '51304.png', '05912.png', '16874.png', '79425.png', '12784.png', '89314.png', '23940.png', '63715.png', '96417.png', '23746.png', '32695.png', '95478.png', '49153.png', '05719.png', '49810.png', '92375.png', '31495.png', '18294.png', '61257.png', '31640.png', '08476.png', '83907.png', '50372.png', '03418.png', '87023.png', '83125.png', '01568.png', '23416.png', '47615.png', '96127.png', '17493.png', '63578.png', '17458.png', '67348.png', '23478.png', '78302.png', '06725.png', '76032.png', '54708.png', '18546.png', '52867.png', '31295.png', '29675.png', '69503.png', '84563.png', '96845.png', '73814.png', '95684.png', '89267.png', '42503.png', '50413.png', '42865.png', '54962.png', '67843.png', '40372.png', '04719.png', '05421.png', '64175.png', '36910.png', '26085.png', '39158.png', '10692.png', '42816.png', '71396.png', '49762.png', '02548.png', '87125.png', '42608.png', '29851.png', '64153.png', '06945.png', '84537.png', '74609.png', '35168.png', '43085.png', '97184.png', '58329.png', '57630.png', '76035.png', '94571.png', '83794.png', '79680.png', '21089.png', '87261.png', '91872.png', '81625.png', '50471.png', '27169.png', '37084.png', '48917.png', '75230.png', '91786.png', '06847.png', '01293.png', '81349.png', '69708.png', '96517.png', '56812.png', '83607.png', '18274.png', '85209.png', '40216.png', '18296.png', '32576.png', '08147.png', '60254.png', '85034.png', '85741.png', '30896.png', '59743.png', '69728.png', '72638.png', '03124.png', '69520.png', '06985.png', '12086.png', '63712.png', '64385.png', '37294.png', '30675.png', '26419.png', '10839.png', '61407.png', '98154.png', '75382.png', '63501.png', '25096.png', '19752.png', '38109.png', '36240.png', '80576.png', '42871.png', '57260.png', '34960.png', '71302.png', '50263.png', '59163.png', '70865.png', '98756.png', '81645.png', '72095.png', '87126.png', '32490.png', '34587.png', '61207.png', '46183.png', '95724.png', '29507.png', '86705.png', '10493.png', '70196.png', '63105.png', '19507.png', '60841.png', '20738.png', '07436.png', '27860.png', '21957.png', '57298.png', '89320.png', '23806.png', '27395.png', '19326.png', '30518.png', '67413.png', '98714.png', '45316.png', '83296.png', '87649.png', '12495.png', '45016.png', '69842.png', '48739.png', '26409.png', '24061.png', '40629.png', '94860.png', '61492.png', '37829.png', '26489.png', '75092.png', '80615.png', '38574.png', '86504.png', '89743.png', '07463.png', '46387.png', '23048.png', '64723.png', '27351.png', '20146.png', '09615.png', '58019.png', '14728.png', '29574.png', '15846.png', '62301.png', '12604.png', '83257.png', '79614.png', '78125.png', '31205.png', '89123.png', '61250.png', '16849.png', '56938.png', '63201.png', '47136.png', '37296.png', '14263.png', '79581.png', '27405.png', '68429.png', '27468.png', '09827.png', '67195.png', '62178.png', '94356.png', '29475.png', '13276.png', '34180.png', '12754.png', '73926.png', '65829.png', '87149.png', '53827.png', '46980.png', '20673.png', '56791.png', '91367.png', '76098.png', '26894.png', '16537.png', '34670.png', '51682.png', '49021.png', '90574.png', '98072.png', '80154.png', '23071.png', '58027.png', '48103.png', '64321.png', '62158.png', '37459.png', '82705.png', '74913.png', '59203.png', '94013.png', '42687.png', '97045.png', '26903.png', '47596.png', '93728.png', '67142.png', '62108.png', '52837.png', '37214.png', '57103.png', '43259.png', '78902.png', '83152.png', '61948.png', '09843.png', '14259.png', '72356.png', '71943.png', '70825.png', '85439.png', '70324.png', '78091.png', '27436.png', '68520.png', '67125.png', '46928.png', '21809.png', '82563.png', '16920.png', '85461.png', '40385.png', '20435.png', '30142.png', '71309.png', '25401.png', '39560.png', '45609.png', '85964.png', '20498.png', '86437.png', '45297.png', '63587.png', '31678.png', '54301.png', '51687.png', '49168.png', '29764.png', '79512.png', '54601.png', '63051.png', '71389.png', '79516.png', '17234.png', '75018.png', '65273.png', '02935.png', '05214.png', '10843.png', '72358.png', '36429.png', '47985.png', '01576.png', '82673.png', '40865.png', '71528.png', '10345.png', '13602.png', '48936.png', '46027.png', '02467.png', '13045.png', '16059.png', '92370.png', '92501.png', '52068.png', '78054.png', '58971.png', '09785.png', '41637.png', '51248.png', '89325.png', '71265.png', '05781.png', '32617.png', '23754.png', '50236.png', '58637.png', '81624.png', '71836.png', '36092.png', '62485.png', '18963.png', '98670.png', '41769.png', '27048.png', '74310.png', '65087.png', '69415.png', '52978.png', '05468.png', '94620.png', '41086.png', '28613.png', '19248.png', '07618.png', '43527.png', '37185.png', '46172.png', '18074.png', '31960.png', '71095.png', '61859.png', '83150.png', '47918.png', '50149.png', '37204.png', '25170.png', '30591.png', '26538.png', '98157.png', '34217.png', '32416.png', '49758.png', '15064.png', '94786.png', '32650.png', '34078.png', '29148.png', '18926.png', '38251.png', '74920.png', '65240.png', '91270.png', '37819.png', '45691.png', '35091.png', '91537.png', '62710.png', '76214.png', '03681.png', '79053.png', '15493.png', '49017.png', '45209.png', '52130.png', '46510.png', '16520.png', '12675.png', '08395.png', '75192.png', '34806.png', '28605.png', '07465.png', '53914.png', '17392.png', '42675.png', '49785.png', '80957.png', '91536.png', '69807.png', '72945.png', '50894.png', '93610.png', '09251.png', '90753.png', '39645.png', '24980.png', '31709.png', '93286.png', '64781.png', '23514.png', '64320.png', '10867.png', '95803.png', '62791.png', '83215.png', '97604.png', '05716.png', '81705.png', '04187.png', '52619.png', '38720.png', '15029.png', '08624.png', '41925.png', '80932.png', '45930.png', '19647.png', '36842.png', '31629.png', '19426.png', '40953.png', '07469.png', '38209.png', '87235.png', '42160.png', '49670.png', '45126.png', '86329.png', '48930.png', '12039.png', '14632.png', '64350.png', '62084.png', '28049.png', '56290.png', '28935.png', '35417.png', '93082.png', '56249.png', '23140.png', '68371.png', '78039.png', '36014.png', '86273.png', '23504.png', '72608.png', '10238.png', '35247.png', '46978.png', '40857.png', '93128.png', '63784.png', '81296.png', '37058.png', '34028.png', '98064.png', '76483.png', '92354.png', '71830.png', '06541.png', '21569.png', '04863.png', '87429.png', '94350.png', '24189.png', '26073.png', '61908.png', '46310.png', '89302.png', '85901.png', '26179.png', '59072.png', '41387.png', '08415.png', '38547.png', '82674.png', '12608.png', '02413.png', '51627.png', '26318.png', '79584.png', '09547.png', '69470.png', '08546.png', '52803.png', '63251.png', '14823.png', '14520.png', '57602.png', '46813.png', '70368.png', '40791.png', '65908.png', '15738.png', '63417.png', '51237.png', '30286.png', '07254.png', '12837.png', '95814.png', '52716.png', '65940.png', '39175.png', '68903.png', '04287.png', '26319.png', '24653.png', '13248.png', '41958.png', '17054.png', '52960.png', '81245.png', '90127.png', '03871.png', '71625.png', '84907.png', '09376.png', '92408.png', '41325.png', '57826.png', '52318.png', '63025.png', '35902.png', '90573.png', '73154.png', '19234.png', '83764.png', '30697.png', '48162.png', '18942.png', '23450.png', '01327.png', '70194.png', '65380.png', '34652.png', '15439.png', '83921.png', '46857.png', '69140.png', '35016.png', '87351.png', '39452.png', '75320.png', '46983.png', '01875.png', '79854.png', '35271.png', '79321.png', '31426.png', '26379.png', '81902.png', '81602.png', '78631.png', '90365.png', '63187.png', '15893.png', '60741.png', '78401.png', '84152.png', '46952.png', '69237.png', '59260.png', '51978.png', '19027.png', '71645.png', '06194.png', '50723.png', '07839.png', '52316.png', '97842.png', '28976.png', '46198.png', '14837.png', '71206.png', '30824.png', '07931.png', '02983.png', '15674.png', '64193.png', '65378.png', '28765.png', '30462.png', '46301.png', '32806.png', '59362.png', '34915.png', '97102.png', '71486.png', '56281.png', '69024.png', '86910.png', '97413.png', '97564.png', '79806.png', '12309.png', '17598.png', '61032.png', '62384.png', '52743.png', '52904.png', '06325.png', '17483.png', '21943.png', '28195.png', '46315.png', '10256.png', '19650.png', '07523.png', '24905.png', '69017.png', '09413.png', '37140.png', '58164.png', '01578.png', '12460.png', '73514.png', '28197.png', '28043.png', '32401.png', '34095.png', '52089.png', '25103.png', '41389.png', '93124.png', '32985.png', '68549.png', '05189.png', '96078.png', '18490.png', '03795.png', '86512.png', '32160.png', '47031.png', '50142.png', '58310.png', '42510.png', '37542.png', '41795.png', '18937.png', '14037.png', '90568.png', '08534.png', '42751.png', '69518.png', '97162.png', '31560.png', '14893.png', '45371.png', '54367.png', '35708.png', '97543.png', '36870.png', '12570.png', '41265.png', '76951.png', '16837.png', '30157.png', '76498.png', '04783.png', '59024.png', '64051.png', '90148.png', '85092.png', '41697.png', '17860.png', '24958.png', '97160.png', '97860.png', '63524.png', '70189.png', '32587.png', '12967.png', '67915.png', '03854.png', '76938.png', '65037.png', '39285.png', '67041.png', '51680.png', '62981.png', '42598.png', '05471.png', '97105.png', '53160.png', '70821.png', '62831.png', '78904.png', '78164.png', '68417.png', '68521.png', '43961.png', '76423.png', '71963.png', '07824.png', '62850.png', '23109.png', '96804.png', '38712.png', '92541.png', '89206.png', '42167.png', '14679.png', '39416.png', '62891.png', '09185.png', '58479.png', '26315.png', '13520.png', '69524.png', '45931.png', '27041.png', '27801.png', '95024.png', '93718.png', '89072.png', '87615.png', '96235.png', '35692.png', '60389.png', '78624.png', '83509.png', '87645.png', '41362.png', '75139.png', '67835.png', '04281.png', '14920.png', '16082.png', '72816.png', '36450.png', '84106.png', '38724.png', '97153.png', '35620.png', '67439.png', '75104.png', '56981.png', '56130.png', '36725.png', '27963.png', '92643.png', '94026.png', '15926.png', '90752.png', '71305.png', '83964.png', '84392.png', '30598.png', '62815.png', '13968.png', '25436.png', '17385.png', '47581.png', '52768.png', '60827.png', '65298.png', '91462.png', '48269.png', '18940.png', '63709.png', '26184.png', '09851.png', '73924.png', '56870.png', '58209.png', '69521.png', '72396.png', '43089.png', '07651.png', '28315.png', '85136.png', '94153.png', '12576.png', '03178.png', '78035.png', '32491.png', '42931.png', '91065.png', '28957.png', '53927.png', '28134.png', '85916.png', '17230.png', '50186.png', '21305.png', '76320.png', '14086.png', '73026.png', '86129.png', '64285.png', '46785.png', '20691.png', '97823.png', '70614.png', '72340.png', '63092.png', '97810.png', '94723.png', '09156.png', '81403.png', '72914.png', '47208.png', '50148.png', '16935.png', '36508.png', '39401.png', '48062.png', '91358.png', '83256.png', '56143.png', '16280.png', '37018.png', '74126.png', '38190.png', '49387.png', '72506.png', '79258.png', '80736.png', '02965.png', '27685.png', '59043.png', '46137.png', '87196.png', '95687.png', '38527.png', '71562.png', '30629.png', '38417.png', '45289.png', '14793.png', '65103.png', '49728.png', '72486.png', '53820.png', '49726.png', '09682.png', '25917.png', '16089.png', '68019.png', '70495.png', '67491.png', '80945.png', '23091.png', '21593.png', '72195.png', '30695.png', '69043.png', '59812.png', '28067.png', '13469.png', '39784.png', '62198.png', '50871.png', '74096.png', '58769.png', '67138.png', '75086.png', '78563.png', '68971.png', '21693.png', '05297.png', '86401.png', '43197.png', '08597.png', '67054.png', '84721.png', '91654.png', '58190.png', '54019.png', '68512.png', '59672.png', '83402.png', '45708.png', '46312.png', '98305.png', '39421.png', '93071.png', '69528.png', '90861.png', '40539.png', '06374.png', '12376.png', '27134.png', '46852.png', '65349.png', '91208.png', '82079.png', '74380.png', '53740.png', '09841.png', '58349.png', '74356.png', '48396.png', '95403.png', '06934.png', '04859.png', '29178.png', '69351.png', '13798.png', '91320.png', '06579.png', '47012.png', '54632.png', '95861.png', '32971.png', '91064.png', '94506.png', '82461.png', '94305.png', '64301.png', '48697.png', '28435.png', '62381.png', '34756.png', '79815.png', '32591.png', '62184.png', '59328.png', '32647.png', '01598.png', '89750.png', '93215.png', '41063.png', '56183.png', '42380.png', '21468.png', '06539.png', '80162.png', '94071.png', '50927.png', '52490.png', '87695.png', '30721.png', '23851.png', '78104.png', '97386.png', '16820.png', '20684.png', '80316.png', '93725.png', '45630.png', '13270.png', '96150.png', '87140.png', '46352.png', '64918.png', '71348.png', '96734.png', '06543.png', '49087.png', '08452.png', '82076.png', '43192.png', '58327.png', '02459.png', '03984.png', '29503.png', '34518.png', '94162.png', '51403.png', '31758.png', '17834.png', '49786.png', '40563.png', '65807.png', '40792.png', '09267.png', '13650.png', '68721.png', '32957.png', '31547.png', '71524.png', '06213.png', '56081.png', '02194.png', '72891.png', '56712.png', '35614.png', '30957.png', '46507.png', '19074.png', '38549.png', '60598.png', '80126.png', '76815.png', '98103.png', '43956.png', '54672.png', '07391.png', '29158.png', '56709.png', '21648.png', '76208.png', '95103.png', '09486.png', '98702.png', '19643.png', '94802.png', '23905.png', '67892.png', '24038.png', '96431.png', '82045.png', '87340.png', '31268.png', '82359.png', '21043.png', '07853.png', '35276.png', '96720.png', '53980.png', '02956.png', '54317.png', '05973.png', '75319.png', '90632.png', '72968.png', '38647.png', '42810.png', '76910.png', '07956.png', '49165.png', '24537.png', '41589.png', '89615.png', '12907.png', '45396.png', '85417.png', '14580.png', '63714.png', '73561.png', '67193.png', '18094.png', '37419.png', '51943.png', '06291.png', '02571.png', '62947.png', '24857.png', '34927.png', '70415.png', '29138.png', '87063.png', '35709.png', '57248.png', '37509.png', '02761.png', '87401.png', '27480.png', '73568.png', '57802.png', '30851.png', '37984.png', '91802.png', '43721.png', '36598.png', '32140.png', '21504.png', '09834.png', '78243.png', '04639.png', '74802.png', '89561.png', '31429.png', '41067.png', '48710.png', '78069.png', '28147.png', '20491.png', '28970.png', '02385.png', '19783.png', '07865.png', '14569.png', '05931.png', '48096.png', '43615.png', '91340.png', '01295.png', '86013.png', '59641.png', '63812.png', '89264.png', '75298.png', '76293.png', '07594.png', '64758.png', '13945.png', '67130.png', '94108.png', '18267.png', '80591.png', '31609.png', '12647.png', '05872.png', '93027.png', '18739.png', '25198.png', '76183.png', '60348.png', '02475.png', '04157.png', '46827.png', '94872.png', '17034.png', '47386.png', '20149.png', '67254.png', '16359.png', '28764.png', '46013.png', '69175.png', '14658.png', '25097.png', '13960.png', '10483.png', '01379.png', '27418.png', '70281.png', '16540.png', '92341.png', '71659.png', '27304.png', '90321.png', '75908.png', '98421.png', '31204.png', '53482.png', '17630.png', '60532.png', '71902.png', '07496.png', '38954.png', '48052.png', '51683.png', '02793.png', '45732.png', '59408.png', '37180.png', '71930.png', '47905.png', '30546.png', '26149.png', '86741.png', '37208.png', '76139.png', '02594.png', '43679.png', '40136.png', '09523.png', '49278.png', '65371.png', '15723.png', '13450.png', '25943.png', '64910.png', '69480.png', '65301.png', '76254.png', '96420.png', '04125.png', '43015.png', '96034.png', '20745.png', '90178.png', '61459.png', '19430.png', '91428.png', '63905.png', '56387.png', '96873.png', '37915.png', '76980.png', '90138.png', '38416.png', '24376.png', '79682.png', '36724.png', '07628.png', '01637.png', '15238.png', '48630.png', '28751.png', '02317.png', '48617.png', '21835.png', '51029.png', '27341.png', '91236.png', '05941.png', '71692.png', '81497.png', '20194.png', '04926.png', '23501.png', '58014.png', '18273.png', '98307.png', '72814.png', '01589.png', '28674.png', '69530.png', '69758.png', '50789.png', '90541.png', '09326.png', '89350.png', '54082.png', '72641.png', '14590.png', '62789.png', '90126.png', '30526.png', '82973.png', '12374.png', '49170.png', '04183.png', '92613.png', '05987.png', '02718.png', '38154.png', '71360.png', '12507.png', '83527.png', '36107.png', '72594.png', '34190.png', '36098.png', '46097.png', '36812.png', '98625.png', '61935.png', '69087.png', '51493.png', '48357.png', '64721.png', '82316.png', '58016.png', '80153.png', '52714.png', '75068.png', '63894.png', '04185.png', '13962.png', '72406.png', '83972.png', '14362.png', '08564.png', '82014.png', '94512.png', '56429.png', '82657.png', '29760.png', '49635.png', '53068.png', '56470.png', '57812.png', '31497.png', '01682.png', '87691.png', '58901.png', '94518.png', '47620.png', '05482.png', '25461.png', '09531.png', '96452.png', '29816.png', '08937.png', '84729.png', '36197.png', '43579.png', '40693.png', '75603.png', '83692.png', '68579.png', '72958.png', '85710.png', '65019.png', '68179.png', '10893.png', '18307.png', '57134.png', '30182.png', '29708.png', '14830.png', '98134.png', '74652.png', '06531.png', '43691.png', '12453.png', '53147.png', '90125.png', '56489.png', '89417.png', '86123.png', '86032.png', '17623.png', '65094.png', '58491.png', '13269.png', '81692.png', '06794.png', '08719.png', '58764.png', '71846.png', '07895.png', '71463.png', '13458.png', '82037.png', '43906.png', '06728.png', '40852.png', '40875.png', '03145.png', '74385.png', '32891.png', '24918.png', '29513.png', '64957.png', '93648.png', '91540.png', '12597.png', '43271.png', '76431.png', '14386.png', '21869.png', '78236.png', '09247.png', '21450.png', '93618.png', '05283.png', '49106.png', '40837.png', '39106.png', '02763.png', '58793.png', '42961.png', '70612.png', '90842.png', '13465.png', '67953.png', '43907.png', '58264.png', '32189.png', '05869.png', '82631.png', '50184.png', '83461.png', '37806.png', '45307.png', '86127.png', '21486.png', '45198.png', '71825.png', '53821.png', '45072.png', '16543.png', '67521.png', '71689.png', '61953.png', '35907.png', '17405.png', '67043.png', '05138.png', '07693.png', '54912.png', '59307.png', '67531.png', '83201.png', '03528.png', '93287.png', '12483.png', '51472.png', '47051.png', '56912.png', '45231.png', '68254.png', '70296.png', '75098.png', '70142.png', '30561.png', '53140.png', '49750.png', '57482.png', '02431.png', '01829.png', '34972.png', '30618.png', '42087.png', '87345.png', '98176.png', '12957.png', '31294.png', '98627.png', '73168.png', '74083.png', '92851.png', '39612.png', '91842.png', '07632.png', '02315.png', '06175.png', '54310.png', '24501.png', '20375.png', '21746.png', '23954.png', '68752.png', '12603.png', '93164.png', '90673.png', '51679.png', '52304.png', '03429.png', '97503.png', '05643.png', '30481.png', '26370.png', '19875.png', '36954.png', '02653.png', '12093.png', '06415.png', '95078.png', '05264.png', '47385.png', '15907.png', '41832.png', '52617.png', '16259.png', '02918.png', '80942.png', '31764.png', '32841.png', '21986.png', '19367.png', '41372.png', '52431.png', '30652.png', '79368.png', '86249.png', '65809.png', '09478.png', '81365.png', '90386.png', '49351.png', '78591.png', '70541.png', '67580.png', '10983.png', '28601.png', '45672.png', '58127.png', '19845.png', '58690.png', '18593.png', '12935.png', '85492.png', '25017.png', '78592.png', '84910.png', '83740.png', '71596.png', '68231.png', '51360.png', '07293.png', '29164.png', '63192.png', '81423.png', '23498.png', '34056.png', '82541.png', '49213.png', '79014.png', '05198.png', '92870.png', '50649.png', '19502.png', '42860.png', '09154.png', '90761.png', '70624.png', '27056.png', '12607.png', '27918.png', '69405.png', '80972.png', '90587.png', '76045.png', '58924.png', '08645.png', '20386.png', '90145.png', '78132.png', '19047.png', '78509.png', '30489.png', '46921.png', '43052.png', '62417.png', '78964.png', '69251.png', '59130.png', '70984.png', '93542.png', '84523.png', '39748.png', '01469.png', '18034.png', '74598.png', '84927.png', '05436.png', '45739.png', '35182.png', '37051.png', '57268.png', '32849.png', '50961.png', '72469.png', '70136.png', '86452.png', '43725.png', '50748.png', '50679.png', '56374.png', '05134.png', '79428.png', '65178.png', '32896.png', '41706.png', '13852.png', '43180.png', '18497.png', '36498.png', '59124.png', '48257.png', '61940.png', '10479.png', '35716.png', '41068.png', '06315.png', '05789.png', '76243.png', '13402.png', '58462.png', '90175.png', '54781.png', '37621.png', '40653.png', '46895.png', '51348.png', '46735.png', '30256.png', '20943.png', '82043.png', '76890.png', '68120.png', '36204.png', '14965.png', '94031.png', '71354.png', '70981.png', '20968.png', '74390.png', '23795.png', '38196.png', '67201.png', '12504.png', '15049.png', '09126.png', '36054.png', '46130.png', '48079.png', '56713.png', '35628.png', '16857.png', '80279.png', '79562.png', '16783.png', '41903.png', '17289.png', '09624.png', '68742.png', '48517.png', '41203.png', '93102.png', '18325.png', '95831.png', '51049.png', '80954.png', '52183.png', '52164.png', '01276.png', '19726.png', '41603.png', '18529.png', '50486.png', '83957.png', '14953.png', '25067.png', '35789.png', '34875.png', '60513.png', '95048.png', '51397.png', '07924.png', '87461.png', '97213.png', '09184.png', '17624.png', '38410.png', '69128.png', '29835.png', '71624.png', '07539.png', '48925.png', '51309.png', '94021.png', '96342.png', '57821.png', '93572.png', '73604.png', '89543.png', '42759.png', '52783.png', '52670.png', '64902.png', '20654.png', '70826.png', '12983.png', '75123.png', '45108.png', '40561.png', '24095.png', '78693.png', '24769.png', '92168.png', '74839.png', '04132.png', '48173.png', '82947.png', '35482.png', '72354.png', '35216.png', '78139.png', '71954.png', '56928.png', '40987.png', '97026.png', '68472.png', '75036.png', '84179.png', '14783.png', '35860.png', '02876.png', '80764.png', '72146.png', '21059.png', '49583.png', '21706.png', '50278.png', '25467.png', '96435.png', '09756.png', '41502.png', '10385.png', '10329.png', '21650.png', '30251.png', '62305.png', '31280.png', '37096.png', '47308.png', '48291.png', '06319.png', '56910.png', '98517.png', '50246.png', '25780.png', '42078.png', '89621.png', '27156.png', '63910.png', '40529.png', '50732.png', '39540.png', '24607.png', '46193.png', '80926.png', '59142.png', '28436.png', '87219.png', '18594.png', '94625.png', '87946.png', '91083.png', '58136.png', '83429.png', '02943.png', '51726.png', '14087.png', '87309.png', '76429.png', '82719.png', '48175.png', '70285.png', '84370.png', '25340.png', '04938.png', '27836.png', '79652.png', '36175.png', '82943.png', '74630.png', '42897.png', '81764.png', '45370.png', '67014.png', '51086.png', '73984.png', '35087.png', '27895.png', '16039.png', '49863.png', '50167.png', '16048.png', '41962.png', '85093.png', '31209.png', '37902.png', '20795.png', '47029.png', '08163.png', '28479.png', '39576.png', '38654.png', '05127.png', '59602.png', '42861.png', '93168.png', '89726.png', '51269.png', '70492.png', '53096.png', '49328.png', '67241.png', '49685.png', '85902.png', '08439.png', '78095.png', '32540.png', '09648.png', '95267.png', '93506.png', '21589.png', '13976.png', '58023.png', '01235.png', '51293.png', '52863.png', '20371.png', '96514.png', '37945.png', '06795.png', '87403.png', '02631.png', '64593.png', '36821.png', '31487.png', '97250.png', '87392.png', '21780.png', '03861.png', '50163.png', '14067.png', '10579.png', '12807.png', '63850.png', '60374.png', '79605.png', '16049.png', '28561.png', '08276.png', '71509.png', '27153.png', '87914.png', '78260.png', '86250.png', '65283.png', '49271.png', '69250.png', '51864.png', '41852.png', '56187.png', '90286.png', '70841.png', '57923.png', '39624.png', '87634.png', '56721.png', '07481.png', '51249.png', '21048.png', '83571.png', '09268.png', '74158.png', '05784.png', '59708.png', '50834.png', '07269.png', '97845.png', '45219.png', '67058.png', '47096.png', '09642.png', '45603.png', '53901.png', '94501.png', '62934.png', '37129.png', '63087.png', '52487.png', '47203.png', '78406.png', '57619.png', '76152.png', '52386.png', '42806.png', '90413.png', '56921.png', '32168.png', '74563.png', '31024.png', '19026.png', '09374.png', '32947.png', '56987.png', '82765.png', '08375.png', '49682.png', '23415.png', '46753.png', '38029.png', '12956.png', '78923.png', '96524.png', '47591.png', '45023.png', '62851.png', '43217.png', '69035.png', '18432.png', '21348.png', '04791.png', '67980.png', '71358.png', '14650.png', '34207.png', '76142.png', '15936.png', '97403.png', '58947.png', '53274.png', '94078.png', '18507.png', '50492.png', '52706.png', '10759.png', '70429.png', '38956.png', '64029.png', '01256.png', '56907.png', '47530.png', '54018.png', '49671.png', '89465.png', '30465.png', '21598.png', '13548.png', '30682.png', '37642.png', '70169.png', '61825.png', '16720.png', '87619.png', '35781.png', '25438.png', '35674.png', '14260.png', '54016.png', '86597.png', '84709.png', '14296.png', '01487.png', '92407.png', '58490.png', '49075.png', '07389.png', '20718.png', '75839.png', '03718.png', '36571.png', '15420.png', '28546.png', '25197.png', '06482.png', '82413.png', '62854.png', '79352.png', '05847.png', '03257.png', '34751.png', '96307.png', '52108.png', '57608.png', '74953.png', '78315.png', '31085.png', '97258.png', '59321.png', '12063.png', '59248.png', '84592.png', '61834.png', '30456.png', '89507.png', '02674.png', '36179.png', '14072.png', '43920.png', '27913.png', '07268.png', '18790.png', '98412.png', '72145.png', '86947.png', '08372.png', '79850.png', '16389.png', '75941.png', '26543.png', '28391.png', '17459.png', '05749.png', '74956.png', '81457.png', '39408.png', '04923.png', '28657.png', '35814.png', '26087.png', '28756.png', '59832.png', '07912.png', '17905.png', '96857.png', '04768.png', '45687.png', '86730.png', '83602.png', '30692.png', '83271.png', '49802.png', '10478.png', '39056.png', '51462.png', '60398.png', '86391.png', '40239.png', '57198.png', '41908.png', '90534.png', '35764.png', '79125.png', '38641.png', '24069.png', '27591.png', '17425.png', '38046.png', '49126.png', '04217.png', '57249.png', '34075.png', '01694.png', '67180.png', '73159.png', '82179.png', '81079.png', '12953.png', '70529.png', '87621.png', '30872.png', '26598.png', '36928.png', '78921.png', '62510.png', '91430.png', '17052.png', '48306.png', '29841.png', '16824.png', '58642.png', '85023.png', '89741.png', '31092.png', '26340.png', '07194.png', '56123.png', '49285.png', '63028.png', '98314.png', '30185.png', '10689.png', '08563.png', '36570.png', '71530.png', '46925.png', '58679.png', '70123.png', '43520.png', '14657.png', '60541.png', '54690.png', '75241.png', '78623.png', '67190.png', '79658.png', '68951.png', '72194.png', '64215.png', '19420.png', '04915.png', '87604.png', '71450.png', '59601.png', '49280.png', '60913.png', '23519.png', '79234.png', '42178.png', '84692.png', '73690.png', '83206.png', '72361.png', '76539.png', '10639.png', '93428.png', '09387.png', '08196.png', '16734.png', '70592.png', '05329.png', '58471.png', '64958.png', '81532.png', '38761.png', '79068.png', '75624.png', '51602.png', '34107.png', '01497.png', '45216.png', '94067.png', '06237.png', '67492.png', '65189.png', '54376.png', '82139.png', '07452.png', '41678.png', '29506.png', '07413.png', '61589.png', '32405.png', '78492.png', '67548.png', '41023.png', '16075.png', '83914.png', '78650.png', '92846.png', '61743.png', '75648.png', '60215.png', '40756.png', '64753.png', '02854.png', '52036.png', '87412.png', '42987.png', '38714.png', '54083.png', '61932.png', '20187.png', '73498.png', '71593.png', '10625.png', '15290.png', '15083.png', '14397.png', '57984.png', '08695.png', '39051.png', '58602.png', '71503.png', '43265.png', '59470.png', '73219.png', '46357.png', '09527.png', '68259.png', '17354.png', '19637.png', '35287.png', '80971.png', '50746.png', '08693.png', '56843.png', '01653.png', '97402.png', '96270.png', '21704.png', '81203.png', '96104.png', '30168.png', '73105.png', '86175.png', '26940.png', '24806.png', '23615.png', '18469.png', '01264.png', '97601.png', '43792.png', '10947.png', '34710.png', '84305.png', '79036.png', '62018.png', '86142.png', '21394.png', '94106.png', '39170.png', '78541.png', '59462.png', '68245.png', '85670.png', '23467.png', '16845.png', '18524.png', '48153.png', '10528.png', '75960.png', '02439.png', '32081.png', '76458.png', '90625.png', '72956.png', '08531.png', '21769.png', '75613.png', '54201.png', '78293.png', '07125.png', '72946.png', '19824.png', '31287.png', '86031.png', '23657.png', '82367.png', '16903.png', '27613.png', '05689.png', '91724.png', '86543.png', '24876.png', '98657.png', '60789.png', '93081.png', '08462.png', '47605.png', '19634.png', '37298.png', '14892.png', '38469.png', '52918.png', '71682.png', '95278.png', '37186.png', '57962.png', '09814.png', '90654.png', '71539.png', '34785.png', '96701.png', '76239.png', '58914.png', '36982.png', '75193.png', '09518.png', '74206.png', '38157.png', '20438.png', '69012.png', '62391.png', '24108.png', '45207.png', '36497.png', '98316.png', '47608.png', '86104.png', '03254.png', '73091.png', '61840.png', '46175.png', '08941.png', '87165.png', '53261.png', '42638.png', '12490.png', '65248.png', '83549.png', '14852.png', '41298.png', '61204.png', '47506.png', '93246.png', '63042.png', '35419.png', '91374.png', '83517.png', '10357.png', '79018.png', '27503.png', '36850.png', '48516.png', '09875.png', '76819.png', '76583.png', '73104.png', '08162.png', '13902.png', '79104.png', '89356.png', '02581.png', '06897.png', '90846.png', '81254.png', '47250.png', '37024.png', '98726.png', '67298.png', '52687.png', '96238.png', '96513.png', '15043.png', '35794.png', '87059.png', '94732.png', '63814.png', '64287.png', '76435.png', '02185.png', '07834.png', '78325.png', '70842.png', '03472.png', '32867.png', '34871.png', '78034.png', '29438.png', '74192.png', '65043.png', '63957.png', '07218.png', '61082.png', '30567.png', '17290.png', '67132.png', '56401.png', '57084.png', '79846.png', '94638.png', '67051.png', '20867.png', '29470.png', '47359.png', '73819.png', '57180.png', '90827.png', '38961.png', '46538.png', '19547.png', '84502.png', '71492.png', '42105.png', '38419.png', '26057.png', '91674.png', '41092.png', '16892.png', '50124.png', '37649.png', '34567.png', '69450.png', '82960.png', '76038.png', '94068.png', '86750.png', '84297.png', '87054.png', '31278.png', '10693.png', '36748.png', '13596.png', '63741.png', '39852.png', '29735.png', '91476.png', '69305.png', '65073.png', '15603.png', '90318.png', '72536.png', '31924.png', '89602.png', '19537.png', '41057.png', '67029.png', '52361.png', '21453.png', '96204.png', '14976.png', '54981.png', '57132.png', '52609.png', '15734.png', '64825.png', '20931.png', '85947.png', '97325.png', '31927.png', '38210.png', '39250.png', '48361.png', '19542.png', '64905.png', '84103.png', '34897.png', '09423.png', '06749.png', '62597.png', '73125.png', '13046.png', '07134.png', '18632.png', '60829.png', '24580.png', '10436.png', '15270.png', '26835.png', '89632.png', '57913.png', '71368.png', '61258.png', '31657.png', '49120.png', '40125.png', '57034.png', '49208.png', '18290.png', '67541.png', '13579.png', '48051.png', '92578.png', '31684.png', '48579.png', '05916.png', '65217.png', '98537.png', '08495.png', '37580.png', '27986.png', '60739.png', '81409.png', '85146.png', '64137.png', '67581.png', '07345.png', '85941.png', '92038.png', '48069.png', '75693.png', '37502.png', '80214.png', '43716.png', '79681.png', '12836.png', '91385.png', '70395.png', '15906.png', '20715.png', '21073.png', '35170.png', '61580.png', '59370.png', '87902.png', '08962.png', '47309.png', '73982.png', '14829.png', '15804.png', '16297.png', '69752.png', '43569.png', '73218.png', '20681.png', '12034.png', '52607.png', '27043.png', '68370.png', '81679.png', '78294.png', '30918.png', '06158.png', '10389.png', '35178.png', '68342.png', '68597.png', '06519.png', '61345.png', '51839.png', '64283.png', '69327.png', '81063.png', '82195.png', '47926.png', '40375.png', '91453.png', '50617.png', '24380.png', '71920.png', '04735.png', '50624.png', '84153.png', '45180.png', '31786.png', '96301.png', '78564.png', '67438.png', '64127.png', '71340.png', '56107.png', '19532.png', '60234.png', '20837.png', '17582.png', '76920.png', '86251.png', '29351.png', '76850.png', '89542.png', '83205.png', '70126.png', '34072.png', '14268.png', '12549.png', '29075.png', '97586.png', '08173.png', '84125.png', '59863.png', '68450.png', '72431.png', '94065.png', '95031.png', '32746.png', '92143.png', '61892.png', '14372.png', '46215.png', '40297.png', '25386.png', '95821.png', '59623.png', '53182.png', '71048.png', '61873.png', '64190.png', '67143.png', '89756.png', '95427.png', '86253.png', '93186.png', '23045.png', '50942.png', '04152.png', '40871.png', '12389.png', '87190.png', '17296.png', '46529.png', '39156.png', '91482.png', '89423.png', '76143.png', '26438.png', '54972.png', '65712.png', '84971.png', '34068.png', '47920.png', '46582.png', '84521.png', '89367.png', '98463.png', '14870.png', '28973.png', '53694.png', '14276.png', '96471.png', '52864.png', '07164.png', '51046.png', '54710.png', '46293.png', '39504.png', '75160.png', '31256.png', '16093.png', '45819.png', '78192.png', '68094.png', '52301.png', '76582.png', '75163.png', '20948.png', '61495.png', '31096.png', '07634.png', '15076.png', '01546.png', '74021.png', '96317.png', '39470.png', '96213.png', '56189.png', '49856.png', '92183.png', '82460.png', '58129.png', '27068.png', '78610.png', '29608.png', '19487.png', '08251.png', '27905.png', '15948.png', '19268.png', '56741.png', '59621.png', '70829.png', '36248.png', '52479.png', '72508.png', '54927.png', '81273.png', '87053.png', '13095.png', '31586.png', '68025.png', '65179.png', '23745.png', '57094.png', '68913.png', '83609.png', '38942.png', '96325.png', '59316.png', '04917.png', '94325.png', '92513.png', '90756.png', '13428.png', '26095.png', '01672.png', '40815.png', '60421.png', '05489.png', '34768.png', '24783.png', '78903.png', '04726.png', '25370.png', '28459.png', '65392.png', '28617.png', '27563.png', '79864.png', '85369.png', '82743.png', '46528.png', '23759.png', '26905.png', '61285.png', '58160.png', '08471.png', '38790.png', '34628.png', '81093.png', '94017.png', '65308.png', '14378.png', '08761.png', '25416.png', '46832.png', '46829.png', '51809.png', '40632.png', '35948.png', '60917.png', '50438.png', '16254.png', '46123.png', '87451.png', '53108.png', '81540.png', '34619.png', '65024.png', '90748.png', '65147.png', '89034.png', '73164.png', '80672.png', '41623.png', '10572.png', '02764.png', '95763.png', '06345.png', '63150.png', '27901.png', '09781.png', '90247.png', '68503.png', '10765.png', '20956.png', '80649.png', '13895.png', '46783.png', '19503.png', '65187.png', '04597.png', '84236.png', '81956.png', '76549.png', '17280.png', '03981.png', '81043.png', '71236.png', '14082.png', '54720.png', '83476.png', '45179.png', '19345.png', '61380.png', '19573.png', '09321.png', '78913.png', '42601.png', '46792.png', '85324.png', '47981.png', '36895.png', '84596.png', '36872.png', '24586.png', '74520.png', '48706.png', '25107.png', '72084.png', '29387.png', '72654.png', '01483.png', '96042.png', '89764.png', '01823.png', '50823.png', '08657.png', '94650.png', '87246.png', '40819.png', '43051.png', '25109.png', '16340.png', '38756.png', '31687.png', '93426.png', '10584.png', '02894.png', '83024.png', '25079.png', '16032.png', '19205.png', '27948.png', '52748.png', '08617.png', '14523.png', '53492.png', '09286.png', '72018.png', '24178.png', '39860.png', '69307.png', '64078.png', '30165.png', '64207.png', '69402.png', '70531.png', '53187.png', '37546.png', '08793.png', '80365.png', '15642.png', '91234.png', '49607.png', '75438.png', '29173.png', '27950.png', '86725.png', '97345.png', '47159.png', '19736.png', '36542.png', '29137.png', '92710.png', '42065.png', '56749.png', '60197.png', '54370.png', '87620.png', '17306.png', '03547.png', '28431.png', '28360.png', '10453.png', '27568.png', '19308.png', '73192.png', '06714.png', '47801.png', '16973.png', '69804.png', '91056.png', '35802.png', '62578.png', '24971.png', '62751.png', '63159.png', '34097.png', '57638.png', '63941.png', '25713.png', '91457.png', '40321.png', '73480.png', '58974.png', '75269.png', '15328.png', '29740.png', '41208.png', '45802.png', '90847.png', '76824.png', '74298.png', '41503.png', '19362.png', '72680.png', '34978.png', '05976.png', '97501.png', '62197.png', '16934.png', '37924.png', '76134.png', '92437.png', '15427.png', '17082.png', '97023.png', '61438.png', '10325.png', '96730.png', '85409.png', '43178.png', '75461.png', '21836.png', '03917.png', '12657.png', '89146.png', '62308.png', '69380.png', '61089.png', '52341.png', '42876.png', '24650.png', '46701.png', '38271.png', '97103.png', '29476.png', '08469.png', '43816.png', '73465.png', '35041.png', '62149.png', '84327.png', '13476.png', '17962.png', '35064.png', '54608.png', '21309.png', '45810.png', '86257.png', '57849.png', '03291.png', '73421.png', '86325.png', '29485.png', '96230.png', '83295.png', '60439.png', '98751.png', '35780.png', '05362.png', '08297.png', '92571.png', '89504.png', '85930.png', '45267.png', '39817.png', '36025.png', '21963.png', '45167.png', '83504.png', '16723.png', '16894.png', '36957.png', '28076.png', '38742.png', '58706.png', '21637.png', '82476.png', '38215.png', '70183.png', '86751.png', '32106.png', '50237.png', '46279.png', '79406.png', '09384.png', '13592.png', '46953.png', '17238.png', '60213.png', '75629.png', '32649.png', '23159.png', '80537.png', '71630.png', '39862.png', '43218.png', '29587.png', '71986.png', '31095.png', '27501.png', '78429.png', '50462.png', '80379.png', '70932.png', '67802.png', '83145.png', '29013.png', '96120.png', '13085.png', '18045.png', '17025.png', '30192.png', '19342.png', '48705.png', '46520.png', '75618.png', '72369.png', '25683.png', '57631.png', '67148.png', '51209.png', '45182.png', '40758.png', '29140.png', '02158.png', '52018.png', '07241.png', '96810.png', '92140.png', '80195.png', '08934.png', '59342.png', '74625.png', '65708.png', '19203.png', '03479.png', '43095.png', '48715.png', '61379.png', '12407.png', '92385.png', '03629.png', '53210.png', '46173.png', '13542.png', '57346.png', '54670.png', '45281.png', '57261.png', '17643.png', '52691.png', '09162.png', '58196.png', '46973.png', '43519.png', '34985.png', '31748.png', '45671.png', '50764.png', '97384.png', '63720.png', '28175.png', '93247.png', '40679.png', '38590.png', '67205.png', '90186.png', '69125.png', '72951.png', '64280.png', '21605.png', '91574.png', '95680.png', '26375.png', '08621.png', '61408.png', '90285.png', '14968.png', '20791.png', '17439.png', '24389.png', '15394.png', '35967.png', '58640.png', '85172.png', '12648.png', '46217.png', '63452.png', '45837.png', '13624.png', '75816.png', '79182.png', '91683.png', '82104.png', '14589.png', '81036.png', '17356.png', '42597.png', '84076.png', '51270.png', '91372.png', '93615.png', '59471.png', '58609.png', '26831.png', '20374.png', '67398.png', '30249.png', '37285.png', '48651.png', '61208.png', '72965.png', '38129.png', '06759.png', '85714.png', '97361.png', '37615.png', '45103.png', '40265.png', '54062.png', '21056.png', '13607.png', '58061.png', '83916.png', '84926.png', '14598.png', '35189.png', '25341.png', '75402.png', '43852.png', '10398.png', '42591.png', '46302.png', '73620.png', '34596.png', '94578.png', '81257.png', '35890.png', '40378.png', '83701.png', '21604.png', '80714.png', '63057.png', '59714.png', '08357.png', '68329.png', '35086.png', '02461.png', '25483.png', '06378.png', '34106.png', '86974.png', '83059.png', '62705.png', '35964.png', '42073.png', '85173.png', '39785.png', '32514.png', '07685.png', '89025.png', '84790.png', '85476.png', '65804.png', '76510.png', '82756.png', '93764.png', '49615.png', '60578.png', '73581.png', '58217.png', '07318.png', '48320.png', '17469.png', '83765.png', '13856.png', '80513.png', '24083.png', '10675.png', '98047.png', '06537.png', '17086.png', '70628.png', '71263.png', '95467.png', '85243.png', '30764.png', '90864.png', '34015.png', '36710.png', '61950.png', '54290.png', '83140.png', '26153.png', '76083.png', '48512.png', '71568.png', '61702.png', '18943.png', '21950.png', '10576.png', '43857.png', '28063.png', '48639.png', '50341.png', '92085.png', '74362.png', '59178.png', '94176.png', '27915.png', '24853.png', '04273.png', '67283.png', '03728.png', '17894.png', '85496.png', '12876.png', '98367.png', '25063.png', '20978.png', '37295.png', '30296.png', '65930.png', '02456.png', '39542.png', '18450.png', '90274.png', '86431.png', '05863.png', '61723.png', '50741.png', '93127.png', '91024.png', '83207.png', '03289.png', '82647.png', '02168.png', '27810.png', '07236.png', '60759.png', '32640.png', '59701.png', '26174.png', '20891.png', '51469.png', '25731.png', '48276.png', '01975.png', '17089.png', '34152.png', '70432.png', '39058.png', '69534.png', '47368.png', '15746.png', '76351.png', '28659.png', '92645.png', '48923.png', '17208.png', '05376.png', '97531.png', '67352.png', '50689.png', '60143.png', '25498.png', '47125.png', '09263.png', '49850.png', '92831.png', '32459.png', '29357.png', '59801.png', '80613.png', '43152.png', '72915.png', '64025.png', '23059.png', '14028.png', '78190.png', '79185.png', '95874.png', '73160.png', '35084.png', '42801.png', '27059.png', '23790.png', '46053.png', '75940.png', '26579.png', '56193.png', '07458.png', '75602.png', '30982.png', '67385.png', '06791.png', '52349.png', '58916.png', '04321.png', '10358.png', '71480.png', '28491.png', '41823.png', '31742.png', '09284.png', '01924.png', '63078.png', '81249.png', '17564.png', '24109.png', '02384.png', '19758.png', '32570.png', '62057.png', '57430.png', '23076.png', '65429.png', '78314.png', '71584.png', '59840.png', '58134.png', '82761.png', '89063.png', '49658.png', '59340.png', '93512.png', '20165.png', '70465.png', '67913.png', '19670.png', '14908.png', '24576.png', '67948.png', '25760.png', '85269.png', '20643.png', '62351.png', '29354.png', '95264.png', '74268.png', '68745.png', '91530.png', '72130.png', '67394.png', '92637.png', '04637.png', '54210.png', '16702.png', '51284.png', '36892.png', '96253.png', '24865.png', '14079.png', '82740.png', '19065.png', '94158.png', '28641.png', '21674.png', '86795.png', '64329.png', '32854.png', '54831.png', '93405.png', '36049.png', '09148.png', '70231.png', '60798.png', '94230.png', '49316.png', '90728.png', '35970.png', '49675.png', '89723.png', '05874.png', '50428.png', '29630.png', '04623.png', '25497.png', '69041.png', '65289.png', '31068.png', '95718.png', '37860.png', '80196.png', '76592.png', '34521.png', '73056.png', '90468.png', '39706.png', '92854.png', '27856.png', '25179.png', '39427.png', '51089.png', '39214.png', '98215.png', '15839.png', '43087.png', '36021.png', '95417.png', '80967.png', '05369.png', '75132.png', '91284.png', '94523.png', '78231.png', '15720.png', '17523.png', '32706.png', '04379.png', '94358.png', '51037.png', '10786.png', '61754.png', '10562.png', '64708.png', '27106.png', '20317.png', '36294.png', '70346.png', '61890.png', '07354.png', '06874.png', '20154.png', '87541.png', '28735.png', '21607.png', '35062.png', '45213.png', '10793.png', '75934.png', '96573.png', '27803.png', '87523.png', '54709.png', '54092.png', '63029.png', '92430.png', '01452.png', '09368.png', '58124.png', '79162.png', '90417.png', '28731.png', '38409.png', '78405.png', '24397.png', '39185.png', '98754.png', '48270.png', '93827.png', '56108.png', '98124.png', '84736.png', '70284.png', '32615.png', '80356.png', '78532.png', '48790.png', '08537.png', '19320.png', '50491.png', '74351.png', '18946.png', '70396.png', '59487.png', '40796.png', '12068.png', '16357.png', '23968.png', '25983.png', '48731.png', '32974.png', '06987.png', '87925.png', '31782.png', '72541.png', '57982.png', '97314.png', '20513.png', '61793.png', '95263.png', '30841.png', '27069.png', '80174.png', '96183.png', '14652.png', '08649.png', '53904.png', '97824.png', '46509.png', '69582.png', '92654.png', '64839.png', '06425.png', '07825.png', '31690.png', '50371.png', '96510.png', '51496.png', '08219.png', '59627.png', '73082.png', '27934.png', '30854.png', '62457.png', '92750.png', '49608.png', '07851.png', '31849.png', '06739.png', '02165.png', '64821.png', '62374.png', '82730.png', '60314.png', '05327.png', '56248.png', '53219.png', '42183.png', '26950.png', '24986.png', '89326.png', '52964.png', '17352.png', '82693.png', '59143.png', '73680.png', '38145.png', '82156.png', '98542.png', '86017.png', '29041.png', '34057.png', '96407.png', '15983.png', '50734.png', '83246.png', '29150.png', '56821.png', '46205.png', '34250.png', '34162.png', '98125.png', '94586.png', '25178.png', '85690.png', '09713.png', '21547.png', '25376.png', '58210.png', '48567.png', '20857.png', '13675.png', '54896.png', '96872.png', '92705.png', '81027.png', '17236.png', '81792.png', '51369.png', '95186.png', '27534.png', '98406.png', '86372.png', '63798.png', '70528.png', '97520.png', '50938.png', '04126.png', '89306.png', '67194.png', '12748.png', '81724.png', '43279.png', '82150.png', '29756.png', '81026.png', '29671.png', '69052.png', '79832.png', '98531.png', '65794.png', '02974.png', '70356.png', '39012.png', '83704.png', '16407.png', '31058.png', '91027.png', '45318.png', '28397.png', '90483.png', '49327.png', '46318.png', '34582.png', '53280.png', '76341.png', '28437.png', '32481.png', '37508.png', '76415.png', '82714.png', '40158.png', '84021.png', '65703.png', '75198.png', '01472.png', '97321.png', '25984.png', '10236.png', '10962.png', '40269.png', '27360.png', '90263.png', '48203.png', '24051.png', '98724.png', '50398.png', '84176.png', '25168.png', '35894.png', '47612.png', '29430.png', '61270.png', '36254.png', '26571.png', '68739.png', '74053.png', '01854.png', '20693.png', '26407.png', '14327.png', '63185.png', '90257.png', '87903.png', '32150.png', '37609.png', '87043.png', '78960.png', '08176.png', '23065.png', '84091.png', '23106.png', '04975.png', '38509.png', '82165.png', '36075.png', '72609.png', '46853.png', '34258.png', '24810.png', '28039.png', '62147.png', '50289.png', '76342.png', '01423.png', '13620.png', '69427.png', '06534.png', '31694.png', '73248.png', '48921.png', '51283.png', '17305.png', '52698.png', '43817.png', '95726.png', '89056.png', '25847.png', '53849.png', '90128.png', '15209.png', '76914.png', '65041.png', '08137.png', '87230.png', '60257.png', '84609.png', '02814.png', '28019.png', '72984.png', '89142.png', '59128.png', '94517.png', '79140.png', '14573.png', '92534.png', '96023.png', '19653.png', '72386.png', '98530.png', '38461.png', '51694.png', '85096.png', '78014.png', '78634.png', '34598.png', '05273.png', '08571.png', '17928.png', '47320.png', '87934.png', '89076.png', '40516.png', '04629.png', '57912.png', '06127.png', '64901.png', '02657.png', '75984.png', '90612.png', '17268.png', '02471.png', '61749.png', '68950.png', '18234.png', '75920.png', '45978.png', '05476.png', '01736.png', '20159.png', '24781.png', '40167.png', '56723.png', '75846.png', '09641.png', '64198.png', '59238.png', '91286.png', '38741.png', '01467.png', '25716.png', '17358.png', '36185.png', '42376.png', '71834.png', '15920.png', '16035.png', '80193.png', '70385.png', '42187.png', '74502.png', '54691.png', '87146.png', '91584.png', '86039.png', '74608.png', '47098.png', '08317.png', '29380.png', '75498.png', '34091.png', '73619.png', '35408.png', '70649.png', '81972.png', '96083.png', '29684.png', '04732.png', '19582.png', '31284.png', '24851.png', '05947.png', '51693.png', '37491.png', '60982.png', '43570.png', '63418.png', '96081.png', '35801.png', '31604.png', '56104.png', '98346.png', '70519.png', '74150.png', '52476.png', '63920.png', '06952.png', '64925.png', '72561.png', '96037.png', '70623.png', '02561.png', '41280.png', '25381.png', '19825.png', '91082.png', '43859.png', '63859.png', '26984.png', '03942.png', '90836.png', '94256.png', '26189.png', '20685.png', '26418.png', '95780.png', '42618.png', '71925.png', '27016.png', '91072.png', '21047.png', '15072.png', '97510.png', '13748.png', '74352.png', '97815.png', '26374.png', '13970.png', '89567.png', '13875.png', '01348.png', '52681.png', '63718.png', '70564.png', '63289.png', '41368.png', '78096.png', '24738.png', '79305.png', '62357.png', '71482.png', '02536.png', '82190.png', '41875.png', '71905.png', '06293.png', '87425.png', '25768.png', '80927.png', '43971.png', '24357.png', '42970.png', '97142.png', '05793.png', '51608.png', '21385.png', '68937.png', '56973.png', '79865.png', '81374.png', '92413.png', '73250.png', '28096.png', '53642.png', '47528.png', '62019.png', '75291.png', '41782.png', '10752.png', '73162.png', '01698.png', '95326.png', '84719.png', '50934.png', '43560.png', '43162.png', '37426.png', '36470.png', '17235.png', '05824.png', '85976.png', '62483.png', '45612.png', '31605.png', '68407.png', '70634.png', '42736.png', '81759.png', '76519.png', '53908.png', '39127.png', '82163.png', '65129.png', '98514.png', '08742.png', '13528.png', '59186.png', '69780.png', '01498.png', '56472.png', '75204.png', '69054.png', '58703.png', '48513.png', '17453.png', '68751.png', '53471.png', '06715.png', '30582.png', '72689.png', '86059.png', '81942.png', '15490.png', '05726.png', '57063.png', '23154.png', '19567.png', '54978.png', '84965.png', '01746.png', '31465.png', '27514.png', '48971.png', '10539.png', '90614.png', '16372.png', '98642.png', '31527.png', '04153.png', '67859.png', '35912.png', '26378.png', '17420.png', '85394.png', '30487.png', '46095.png', '65102.png', '20615.png', '52801.png', '57203.png', '03495.png', '10972.png', '07238.png', '07261.png', '97831.png', '58247.png', '98426.png', '81576.png', '17438.png', '76402.png', '74230.png', '35924.png', '61205.png', '26137.png', '39524.png', '63129.png', '90638.png', '10583.png', '96713.png', '59123.png', '52816.png', '17548.png', '80627.png', '13570.png', '81097.png', '75260.png', '54726.png', '41983.png', '97210.png', '09273.png', '37815.png', '25314.png', '56739.png', '96745.png', '63594.png', '63451.png', '93085.png', '08957.png', '85261.png', '52168.png', '93042.png', '58740.png', '96784.png', '19406.png', '64820.png', '72064.png', '34609.png', '01743.png', '85379.png', '98016.png', '09514.png', '70948.png', '73806.png', '39067.png', '86217.png', '06147.png', '37921.png', '95810.png', '70864.png', '70912.png', '28439.png', '27835.png', '47836.png', '74963.png', '50346.png', '25849.png', '23901.png', '65201.png', '94873.png', '68154.png', '83624.png', '18379.png', '91075.png', '38912.png', '65407.png', '86207.png', '83615.png', '28403.png', '53948.png', '49173.png', '64913.png', '08134.png', '10976.png', '73508.png', '42658.png', '10254.png', '37049.png', '46021.png', '89342.png', '92086.png', '42856.png', '39861.png', '68917.png', '91240.png', '24859.png', '08423.png', '20593.png', '61590.png', '68249.png', '47289.png', '63890.png', '76219.png', '02316.png', '25807.png', '95843.png', '95163.png', '76421.png', '92064.png', '69523.png', '60839.png', '52019.png', '60985.png', '98567.png', '32480.png', '84516.png', '21083.png', '08652.png', '54731.png', '36980.png', '52439.png', '17645.png', '73910.png', '02958.png', '29308.png', '10372.png', '86023.png', '52983.png', '59871.png', '62590.png', '30761.png', '91768.png', '08591.png', '86024.png', '51894.png', '26890.png', '15809.png', '83170.png', '46527.png', '54270.png', '94870.png', '74315.png', '24570.png', '36845.png', '30684.png', '91436.png', '24698.png', '47901.png', '31847.png', '37948.png', '05479.png', '56807.png', '19072.png', '54697.png', '78459.png', '83651.png', '02975.png', '59047.png', '29786.png', '59761.png', '26507.png', '35472.png', '02857.png', '05398.png', '89156.png', '35217.png', '14097.png', '30248.png', '52407.png', '12580.png', '03659.png', '95712.png', '04729.png', '56210.png', '79285.png', '65203.png', '06514.png', '45832.png', '17253.png', '84532.png', '86172.png', '56719.png', '20598.png', '91840.png', '26784.png', '86041.png', '79463.png', '29130.png', '07159.png', '26534.png', '65183.png', '28369.png', '01943.png', '94130.png', '08924.png', '52613.png', '70613.png', '35869.png', '41607.png', '35480.png', '72514.png', '06125.png', '80265.png', '89035.png', '63472.png', '29304.png', '75931.png', '92614.png', '19085.png', '64590.png', '90681.png', '37042.png', '67849.png', '02816.png', '97013.png', '04689.png', '62573.png', '03189.png', '75496.png', '62340.png', '27014.png', '57319.png', '14059.png', '10936.png', '04295.png', '21063.png', '32147.png', '97508.png', '90817.png', '89014.png', '38259.png', '58130.png', '85192.png', '35068.png', '17530.png', '60371.png', '64935.png', '69720.png', '49831.png', '12096.png', '68309.png', '48376.png', '06842.png', '36452.png', '32781.png', '32980.png', '42175.png', '35096.png', '26371.png', '97315.png', '45382.png', '54318.png', '27981.png', '60483.png', '72345.png', '78452.png', '14297.png', '72094.png', '41873.png', '86453.png', '90564.png', '45128.png', '05986.png', '98350.png', '78219.png', '30241.png', '95130.png', '75023.png', '05614.png', '46580.png', '32956.png', '16240.png', '10384.png', '24579.png', '84673.png', '61094.png', '68324.png', '36095.png', '57469.png', '01269.png', '92817.png', '03849.png', '39120.png', '57618.png', '97436.png', '25071.png', '31902.png', '03789.png', '68294.png', '72380.png', '28470.png', '02381.png', '36210.png', '82503.png', '05463.png', '09124.png', '89613.png', '86509.png', '53064.png', '21534.png', '38962.png', '78493.png', '97230.png', '19240.png', '87016.png', '09852.png', '72903.png', '59264.png', '09468.png', '60538.png', '27518.png', '98654.png', '69057.png', '50129.png', '41209.png', '87296.png', '02538.png', '04372.png', '79302.png', '37451.png', '13470.png', '71428.png', '87324.png', '92845.png', '57302.png', '79461.png', '05617.png', '54190.png', '83560.png', '01956.png', '61458.png', '03756.png', '09765.png', '64359.png', '73549.png', '87426.png', '20395.png', '21347.png', '28516.png', '23570.png', '30819.png', '01465.png', '81054.png', '60478.png', '28157.png', '30258.png', '92170.png', '64978.png', '23859.png', '84916.png', '14726.png', '62541.png', '97685.png', '46872.png', '23576.png', '53249.png', '40312.png', '10465.png', '13067.png', '46830.png', '47625.png', '57968.png', '95720.png', '35896.png', '71502.png', '18394.png', '39870.png', '17359.png', '79062.png', '16509.png', '28614.png', '62571.png', '25174.png', '08732.png', '23178.png', '86201.png', '89153.png', '70254.png', '93702.png', '78215.png', '75601.png', '52640.png', '62859.png', '42613.png', '06823.png', '17835.png', '75462.png', '73609.png', '76894.png', '73520.png', '34618.png', '31925.png', '47982.png', '31720.png', '42690.png', '40761.png', '64705.png', '50427.png', '24967.png', '30291.png', '61537.png', '38702.png', '21748.png', '01395.png', '13924.png', '81096.png', '38170.png', '82736.png', '21387.png', '57013.png', '03896.png', '50293.png', '98723.png', '93146.png', '47830.png', '65814.png', '57162.png', '92610.png', '34592.png', '83056.png', '10278.png', '07456.png', '71042.png', '47938.png', '49061.png', '90531.png', '25791.png', '98752.png', '85346.png', '59682.png', '37629.png', '34825.png', '57481.png', '19358.png', '61732.png', '68540.png', '24791.png', '97610.png', '43780.png', '47859.png', '36875.png', '24567.png', '06914.png', '61820.png', '72605.png', '74825.png', '14306.png', '24861.png', '43609.png', '69751.png', '95071.png', '94532.png', '07412.png', '53679.png', '94281.png', '07935.png', '41358.png', '31645.png', '60487.png', '28461.png', '48307.png', '25837.png', '05276.png', '28517.png', '68193.png', '41270.png', '74862.png', '12763.png', '72810.png', '02374.png', '14906.png', '51376.png', '51730.png', '89275.png', '92308.png', '16948.png', '71089.png', '82635.png', '05164.png', '75239.png', '54891.png', '79348.png', '54683.png', '92368.png', '39102.png', '23485.png', '56310.png', '42983.png', '15208.png', '56091.png', '56213.png', '12036.png', '10395.png', '86954.png', '53270.png', '71325.png', '31270.png', '96821.png', '63124.png', '19452.png', '79146.png', '94352.png', '74509.png', '65871.png', '42836.png', '86413.png', '02543.png', '35167.png', '19678.png', '34695.png', '71452.png', '07419.png', '49701.png', '21904.png', '23698.png', '13695.png', '05832.png', '15609.png', '41578.png', '14379.png', '53812.png', '82406.png', '16439.png', '07438.png', '87436.png', '14789.png', '10489.png', '92364.png', '30785.png', '03841.png', '02613.png', '09385.png', '80941.png', '68934.png', '51094.png', '81320.png', '82963.png', '83547.png', '09432.png', '91856.png', '40621.png', '84192.png', '15728.png', '34952.png', '95184.png', '03675.png', '07561.png', '02435.png', '09238.png', '53917.png', '28763.png', '82531.png', '43701.png', '03715.png', '71938.png', '91827.png', '26803.png', '14620.png', '97058.png', '42086.png', '96405.png', '72046.png', '06479.png', '36459.png', '13657.png', '24765.png', '18532.png', '72418.png', '51789.png', '53486.png', '13098.png', '25986.png', '21859.png', '37059.png', '28154.png', '24891.png', '59026.png', '35678.png', '54068.png', '91308.png', '26980.png', '69710.png', '56819.png', '01243.png', '76104.png', '89154.png', '23761.png', '09718.png', '92078.png', '29850.png', '45601.png', '71082.png', '75649.png', '97524.png', '75943.png', '26490.png', '26715.png', '61395.png', '80276.png', '02891.png', '95214.png', '64752.png', '72940.png', '47196.png', '72461.png', '92617.png', '14856.png', '52469.png', '50467.png', '87693.png', '96507.png', '65782.png', '67024.png', '73965.png', '54138.png', '43206.png', '03794.png', '98075.png', '39526.png', '82596.png', '85094.png', '92457.png', '92167.png', '57426.png', '71635.png', '25384.png', '47286.png', '52819.png', '04765.png', '49038.png', '91042.png', '69472.png', '37465.png', '49870.png', '57386.png', '34298.png', '89617.png', '07319.png', '92160.png', '31508.png', '51802.png', '41720.png', '26735.png', '31975.png', '65824.png', '27058.png', '57189.png', '46721.png', '46138.png', '93471.png', '75682.png', '46715.png', '61093.png', '19380.png', '65819.png', '24751.png', '45831.png', '06845.png', '41379.png', '51629.png', '46358.png', '72910.png', '39287.png', '04928.png', '76953.png', '71462.png', '53407.png', '60142.png', '94132.png', '36207.png', '48926.png', '58304.png', '53628.png', '97643.png', '23094.png', '43905.png', '27965.png', '58071.png', '51870.png', '93854.png', '46970.png', '94783.png', '26140.png', '04971.png', '47698.png', '02654.png', '24519.png', '49105.png', '34780.png', '31549.png', '34059.png', '97562.png', '76283.png', '39107.png', '85026.png', '90463.png', '76148.png', '40315.png', '89612.png', '23875.png', '23408.png', '05498.png', '34982.png', '50674.png', '81047.png', '59864.png', '05387.png', '79834.png', '23907.png', '62315.png', '08243.png', '60238.png', '97625.png', '10269.png', '19702.png', '87094.png', '25913.png', '42168.png', '75146.png', '62471.png', '43025.png', '63845.png', '40721.png', '25718.png', '59327.png', '50861.png', '89043.png', '59617.png', '18364.png', '89152.png', '95401.png', '94580.png', '19258.png', '47123.png', '25784.png', '25816.png', '32164.png', '46501.png', '58497.png', '78642.png', '42163.png', '98624.png', '14879.png', '59468.png', '05926.png', '87521.png', '89436.png', '42093.png', '43652.png', '08267.png', '98105.png', '65732.png', '07219.png', '07659.png', '58194.png', '97463.png', '56019.png', '76405.png', '17853.png', '38051.png', '15820.png', '39145.png', '42685.png', '41206.png', '61730.png', '31708.png', '85167.png', '56738.png', '76358.png', '07893.png', '05948.png', '43065.png', '04813.png', '06852.png', '85716.png', '98731.png', '94083.png', '97521.png', '96752.png', '46179.png', '07623.png', '19768.png', '31824.png', '37254.png', '24713.png', '65274.png', '56974.png', '91647.png', '90742.png', '39148.png', '36415.png', '16054.png', '25907.png', '08743.png', '78365.png', '95387.png', '98716.png', '10673.png', '91750.png', '98364.png', '95208.png', '01835.png', '24730.png', '41308.png', '13745.png', '35680.png', '02946.png', '23459.png', '54289.png', '81304.png', '07385.png', '58036.png', '76923.png', '04712.png', '35604.png', '70582.png', '27308.png', '09657.png', '80735.png', '93268.png', '46793.png', '71365.png', '08146.png', '42039.png', '74951.png', '15478.png', '40597.png', '14869.png', '43216.png', '51927.png', '82697.png', '21930.png', '43610.png', '57209.png', '47561.png', '36789.png', '61725.png', '08254.png', '39741.png', '75234.png', '08241.png', '21890.png', '38514.png', '03248.png', '18362.png', '08367.png', '50682.png', '14083.png', '23054.png', '59148.png', '30961.png', '82540.png', '89126.png', '56873.png', '49527.png', '45286.png', '31408.png', '45829.png', '95247.png', '29104.png', '02967.png', '58109.png', '72591.png', '54179.png', '48751.png', '54812.png', '34520.png', '43680.png', '61532.png', '56247.png', '14958.png', '49385.png', '42783.png', '86205.png', '53720.png', '75089.png', '46231.png', '76381.png', '59436.png', '98427.png', '56789.png', '34129.png', '91675.png', '20348.png', '76532.png', '73256.png', '59473.png', '89165.png', '25013.png', '50187.png', '36590.png', '28964.png', '83579.png', '30826.png', '43258.png', '86125.png', '70561.png', '58361.png', '57093.png', '94267.png', '75016.png', '96735.png', '23681.png', '25493.png', '09482.png', '81536.png', '50239.png', '29581.png', '28450.png', '43815.png', '70243.png', '35670.png', '53817.png', '36178.png', '60249.png', '02914.png', '24630.png', '15349.png', '38965.png', '47192.png', '23456.png', '56421.png', '36972.png', '61937.png', '63589.png', '65743.png', '30175.png', '81603.png', '62843.png', '98163.png', '02358.png', '16579.png', '51076.png', '94150.png', '79803.png', '98461.png', '34576.png', '32470.png', '04328.png', '31082.png', '02735.png', '50482.png', '80123.png', '35684.png', '29046.png', '70845.png', '50931.png', '38072.png', '57183.png', '70264.png', '50328.png', '53291.png', '37450.png', '65012.png', '60758.png', '82501.png', '12843.png', '16084.png', '03279.png', '71483.png', '50918.png', '40576.png', '34089.png', '51948.png', '64093.png', '96328.png', '92708.png', '37601.png', '36214.png', '12534.png', '13849.png', '83216.png', '54793.png', '91348.png', '75041.png', '69234.png', '85472.png', '62971.png', '09462.png', '94287.png', '73615.png', '16437.png', '93841.png', '30259.png', '13842.png', '95087.png', '75421.png', '73059.png', '19304.png', '87341.png', '10946.png', '45927.png', '14859.png', '80652.png', '31728.png', '40718.png', '73980.png', '93687.png', '07325.png', '81256.png', '83756.png', '29508.png', '73180.png', '41605.png', '80567.png', '43581.png', '97201.png', '97438.png', '63520.png', '50614.png', '97128.png', '54263.png', '56134.png', '84016.png', '97301.png', '92154.png', '46918.png', '84172.png', '13795.png', '03874.png', '71506.png', '90251.png', '16954.png', '23961.png', '63924.png', '36749.png', '79325.png', '70835.png', '91853.png', '36541.png', '78394.png', '36190.png', '58917.png', '71529.png', '97836.png', '78296.png', '25948.png', '69074.png', '15308.png', '39054.png', '64890.png', '61798.png', '68201.png', '23845.png', '94581.png', '68391.png', '95817.png', '36028.png', '71430.png', '37965.png', '37190.png', '35298.png', '94615.png', '03275.png', '37128.png', '56419.png', '89526.png', '98643.png', '94563.png', '64097.png', '21435.png', '46720.png', '87304.png', '40573.png', '01756.png', '04873.png', '80612.png', '97465.png', '13042.png', '79386.png', '36189.png', '34715.png', '37256.png', '64157.png', '92013.png', '93867.png', '40351.png', '05437.png', '23815.png', '46837.png', '32076.png', '92718.png', '54613.png', '23476.png', '34157.png', '36174.png', '75829.png', '05943.png', '69134.png', '60718.png', '06179.png', '38071.png', '78931.png', '79250.png', '89372.png', '34206.png', '68349.png', '14769.png', '25748.png', '54261.png', '31625.png', '35729.png', '78402.png', '02831.png', '59304.png', '47209.png', '96801.png', '14685.png', '06712.png', '05826.png', '40159.png', '90856.png', '65789.png', '91527.png', '82914.png', '32751.png', '23198.png', '46239.png', '59402.png', '71634.png', '67831.png', '09128.png', '02614.png', '52641.png', '43856.png', '79485.png', '04387.png', '03864.png', '10857.png', '37105.png', '67498.png', '01892.png', '34872.png', '53481.png', '39265.png', '71459.png', '86237.png', '40182.png', '78205.png', '52106.png', '97502.png', '76538.png', '04267.png', '95764.png', '09618.png', '81450.png', '19563.png', '51023.png', '62097.png', '53268.png', '72451.png', '16759.png', '46075.png', '24317.png', '93548.png', '89437.png', '82946.png', '31094.png', '48520.png', '92568.png', '92814.png', '18759.png', '74615.png', '01734.png', '80156.png', '68137.png', '71863.png', '03186.png', '74930.png', '48170.png', '18204.png', '73152.png', '63758.png', '03751.png', '97261.png', '74562.png', '86593.png', '05231.png', '65981.png', '96184.png', '73259.png', '02576.png', '45109.png', '19834.png', '52437.png', '16438.png', '98603.png', '65817.png', '75381.png', '67325.png', '13086.png', '52631.png', '75360.png', '67059.png', '48125.png', '94605.png', '07294.png', '57418.png', '32015.png', '15374.png', '02537.png', '19302.png', '25693.png', '54931.png', '81943.png', '92041.png', '30569.png', '83905.png', '15278.png', '30859.png', '58739.png', '70459.png', '90618.png', '29635.png', '42851.png', '64128.png', '20543.png', '85147.png', '63580.png', '64520.png', '82793.png', '90576.png', '61570.png', '05761.png', '84013.png', '06892.png', '78062.png', '82094.png', '34216.png', '27914.png', '98057.png', '89517.png', '01643.png', '78915.png', '08961.png', '20459.png', '39482.png', '71083.png', '13506.png', '34795.png', '53624.png', '87519.png', '40726.png', '70941.png', '08517.png', '65739.png', '74326.png', '39854.png', '25318.png', '26381.png', '72580.png', '36524.png', '61028.png', '74832.png', '13802.png', '48091.png', '18526.png', '26750.png', '84527.png', '09176.png', '20356.png', '72610.png', '29056.png', '12358.png', '04361.png', '78930.png', '89067.png', '74892.png', '43690.png', '63207.png', '06793.png', '63902.png', '27150.png', '69418.png', '98246.png', '38217.png', '67021.png', '41756.png', '61482.png', '97051.png', '20913.png', '86072.png', '05642.png', '51903.png', '80317.png', '74215.png', '68390.png', '97821.png', '78924.png', '91486.png', '04861.png', '85329.png', '64138.png', '95872.png', '85410.png', '56948.png', '19032.png', '58649.png', '27490.png', '13289.png', '03875.png', '01527.png', '72981.png', '76821.png', '57914.png', '43521.png', '37569.png', '62047.png', '17248.png', '15267.png', '38201.png', '32069.png', '91432.png', '52870.png', '02156.png', '30648.png', '37498.png', '93016.png', '27806.png', '69130.png', '14236.png', '49613.png', '27956.png', '24319.png', '05619.png', '18504.png', '26478.png', '78534.png', '69085.png', '25634.png', '15260.png', '82169.png', '19427.png', '13492.png', '30714.png', '80614.png', '71259.png', '65092.png', '75031.png', '61538.png', '10547.png', '95274.png', '36741.png', '07286.png', '01329.png', '65892.png', '38976.png', '28476.png', '43826.png', '87096.png', '24687.png', '92876.png', '91627.png', '79624.png', '96087.png', '29614.png', '07692.png', '64089.png', '37864.png', '48039.png', '61905.png', '07356.png', '48310.png', '39842.png', '01529.png', '93502.png', '21740.png', '57893.png', '65478.png', '89137.png', '47529.png', '10932.png', '97283.png', '73416.png', '10792.png', '76094.png', '76931.png', '70658.png', '89523.png', '68204.png', '67129.png', '04675.png', '90718.png', '47350.png', '24835.png', '15964.png', '87120.png', '87365.png', '41573.png', '94015.png', '37251.png', '03482.png', '68943.png', '30942.png', '73598.png', '82310.png', '63074.png', '68973.png', '17326.png', '09561.png', '72459.png', '06973.png', '15062.png', '09138.png', '26170.png', '54971.png', '12430.png', '61420.png', '57412.png', '65730.png', '79314.png', '04156.png', '57120.png', '79043.png', '76840.png', '74805.png', '20869.png', '76843.png', '26183.png', '47390.png', '13697.png', '54837.png', '48725.png', '79168.png', '81947.png', '53782.png', '83760.png', '39528.png', '79328.png', '10459.png', '67354.png', '10458.png', '27163.png', '25687.png', '93647.png', '12356.png', '84361.png', '74801.png', '76495.png', '94251.png', '19836.png', '08126.png', '74218.png', '97204.png', '02647.png', '03172.png', '26018.png', '06948.png', '58607.png', '27391.png', '60549.png', '23578.png', '96421.png', '23581.png', '81529.png', '47960.png', '13590.png', '76108.png', '26945.png', '90461.png', '85307.png', '73516.png', '04718.png', '06597.png', '26841.png', '73518.png', '87416.png', '95201.png', '37560.png', '17093.png', '35607.png', '72850.png', '90834.png', '08234.png', '65238.png', '69873.png', '17932.png', '87364.png', '60973.png', '92641.png', '46850.png', '16502.png', '71586.png', '41523.png', '72834.png', '72305.png', '23854.png', '01962.png', '64291.png', '34081.png', '75231.png', '34219.png', '74361.png', '68213.png', '47189.png', '23910.png', '35647.png', '85920.png', '89761.png', '02153.png', '52649.png', '65017.png', '70362.png', '80539.png', '79853.png', '54679.png', '71942.png', '56219.png', '87596.png', '03128.png', '36120.png', '86145.png', '21973.png', '73496.png', '86293.png', '65231.png', '95021.png', '25478.png', '91483.png', '72160.png', '51783.png', '39625.png', '62354.png', '01349.png', '03962.png', '67048.png', '58631.png', '45320.png', '58417.png', '65904.png', '05612.png', '20957.png', '17294.png', '52614.png', '03947.png', '51498.png', '38105.png', '37681.png', '43207.png', '70125.png', '56048.png', '12059.png', '42173.png', '50368.png', '86540.png', '26405.png', '28160.png', '58367.png', '47826.png', '40512.png', '41638.png', '89527.png', '47809.png', '76419.png', '67481.png', '36924.png', '09824.png', '65704.png', '52938.png', '69312.png', '20539.png', '26014.png', '93280.png', '01579.png', '12750.png', '16458.png', '48021.png', '72801.png', '91765.png', '72901.png', '10574.png', '59732.png', '17842.png', '23407.png', '43812.png', '08175.png', '78539.png', '36481.png', '98345.png', '73816.png', '14625.png', '63572.png', '34591.png', '18397.png', '09738.png', '34629.png', '85327.png', '64982.png', '48031.png', '27185.png', '69205.png', '19604.png', '28945.png', '48196.png', '57142.png', '48927.png', '47259.png', '07239.png', '64293.png', '09623.png', '48976.png', '64273.png', '30782.png', '06824.png', '53706.png', '56827.png', '47628.png', '34680.png', '36781.png', '96381.png', '48263.png', '85107.png', '28173.png', '17603.png', '75801.png', '93087.png', '85970.png', '30196.png', '60379.png', '49680.png', '86043.png', '17609.png', '19206.png', '80134.png', '31290.png', '19457.png', '69410.png', '41907.png', '67342.png', '07984.png', '75680.png', '06825.png', '47510.png', '85126.png', '51973.png', '03468.png', '93524.png', '45923.png', '59240.png', '73146.png', '26708.png', '43082.png', '94780.png', '49652.png', '15037.png', '97426.png', '21038.png', '16927.png', '34109.png', '82016.png', '34815.png', '24870.png', '14278.png', '58473.png', '80179.png', '10653.png', '74312.png', '41652.png', '46271.png', '37416.png', '23046.png', '26307.png', '15203.png', '96182.png', '85316.png', '23760.png', '25361.png', '85793.png', '93024.png', '50684.png', '48605.png', '36089.png', '10985.png', '53618.png', '52473.png', '91037.png', '34295.png', '87625.png', '87453.png', '32897.png', '70269.png', '94507.png', '61904.png', '36540.png', '45069.png', '81509.png', '60981.png', '45017.png', '36915.png', '05928.png', '97826.png', '42170.png', '51073.png', '20485.png', '37628.png', '18542.png', '96208.png', '24573.png', '23841.png', '24157.png', '13482.png', '26357.png', '45608.png', '02845.png', '34765.png', '83415.png', '08369.png', '58170.png', '32794.png', '65389.png', '98526.png', '82704.png', '92104.png', '98071.png', '57986.png', '48316.png', '92735.png', '93165.png', '09213.png', '34970.png', '74091.png', '58309.png', '37619.png', '40569.png', '39465.png', '02716.png', '03691.png', '98243.png', '83490.png', '90315.png', '85392.png', '47391.png', '49723.png', '30162.png', '35289.png', '79124.png', '59817.png', '41856.png', '35724.png', '19062.png', '92365.png', '10853.png', '02853.png', '40821.png', '91345.png', '40927.png', '28590.png', '96583.png', '08954.png', '06513.png', '13495.png', '59217.png', '45120.png', '76305.png', '94602.png', '15892.png', '95062.png', '62941.png', '36401.png', '02951.png', '25137.png', '50876.png', '74025.png', '80935.png', '52483.png', '02371.png', '90516.png', '09587.png', '13692.png', '34586.png', '46051.png', '81467.png', '61280.png', '72014.png', '73128.png', '82609.png', '80976.png', '41078.png', '14096.png', '42763.png', '40293.png', '38019.png', '94876.png', '46732.png', '17849.png', '52970.png', '35160.png', '70496.png', '61097.png', '86351.png', '46375.png', '63985.png', '23187.png', '30257.png', '57681.png', '43791.png', '20936.png', '93578.png', '63250.png', '27603.png', '97683.png', '10596.png', '38164.png', '46831.png', '28146.png', '49152.png', '17386.png', '61037.png', '05649.png', '71320.png', '76524.png', '56418.png', '27648.png', '30796.png', '60931.png', '16947.png', '29460.png', '20657.png', '57463.png', '43782.png', '58743.png', '41376.png', '34275.png', '85204.png', '41506.png', '59463.png', '31097.png', '72035.png', '74059.png', '02483.png', '04257.png', '94720.png', '02719.png', '47369.png', '93761.png', '53102.png', '68517.png', '75408.png', '46152.png', '67528.png', '70934.png', '71602.png', '49136.png', '90351.png', '68145.png', '97832.png', '10852.png', '93468.png', '07965.png', '92603.png', '01258.png', '70512.png', '45029.png', '52914.png', '92405.png', '08964.png', '65149.png', '83927.png', '85239.png', '98762.png', '31649.png', '10829.png', '01236.png', '96820.png', '76528.png', '13865.png', '19370.png', '43198.png', '06875.png', '06275.png', '98271.png', '90648.png', '82396.png', '84379.png', '35074.png', '91862.png', '52796.png', '21479.png', '62840.png', '94081.png', '62413.png', '08671.png', '42967.png', '67801.png', '16587.png', '54039.png', '69025.png', '39478.png', '87420.png', '28051.png', '01827.png', '14603.png', '10926.png', '07649.png', '81934.png', '47825.png', '96470.png', '79128.png', '09364.png', '68527.png', '61827.png', '63804.png', '07431.png', '81279.png', '64015.png', '27083.png', '35701.png', '31948.png', '12968.png', '76450.png', '36840.png', '17308.png', '51497.png', '18724.png', '24975.png', '48120.png', '06481.png', '56872.png', '24603.png', '62405.png', '67124.png', '95801.png', '61259.png', '38491.png', '87539.png', '63981.png', '34796.png', '75026.png', '20814.png', '62105.png', '69027.png', '79423.png', '72685.png', '57938.png', '79084.png', '41539.png', '85429.png', '82369.png', '42391.png', '41835.png', '48673.png', '05782.png', '59678.png', '38094.png', '20538.png', '59230.png', '50813.png', '60892.png', '74238.png', '84069.png', '12736.png', '89534.png', '54389.png', '87956.png', '12546.png', '53427.png', '10895.png', '84970.png', '46081.png', '41806.png', '80453.png', '17023.png', '73485.png', '02867.png', '49067.png', '63281.png', '36804.png', '98504.png', '54801.png', '12489.png', '53048.png', '74286.png', '20915.png', '45136.png', '39547.png', '15093.png', '43278.png', '64325.png', '01382.png', '68431.png', '63510.png', '98276.png', '63052.png', '26839.png', '42398.png', '19275.png', '35429.png', '69084.png', '46213.png', '10259.png', '63412.png', '30245.png', '67904.png', '23401.png', '69258.png', '96704.png', '04658.png', '57160.png', '34721.png', '47609.png', '81950.png', '65843.png', '72604.png', '84059.png', '73681.png', '45806.png', '80965.png', '70423.png', '06951.png', '80173.png', '26314.png', '03256.png', '93786.png', '21653.png', '79024.png', '61894.png', '09312.png', '90572.png', '67309.png', '61928.png', '43928.png', '71308.png', '05294.png', '85936.png', '06489.png', '54983.png', '52078.png', '93586.png', '61092.png', '37901.png', '17953.png', '27864.png', '69713.png', '93401.png', '93142.png', '51032.png', '96305.png', '72819.png', '26493.png', '15768.png', '95283.png', '83960.png', '62409.png', '46739.png', '06198.png', '14329.png', '61753.png', '39816.png', '21609.png', '24593.png', '29385.png', '95034.png', '12547.png', '87564.png', '46730.png', '86194.png', '26049.png', '94156.png', '41802.png', '63104.png', '97183.png', '10289.png', '46078.png', '46807.png', '83719.png', '29416.png', '53682.png', '18935.png', '41650.png', '28059.png', '76359.png', '78094.png', '68954.png', '46295.png', '96302.png', '91730.png', '73986.png', '41062.png', '65140.png', '60132.png', '57831.png', '15067.png', '97415.png', '07259.png', '62580.png', '16785.png', '31852.png', '79138.png', '87065.png', '80319.png', '38546.png', '48012.png', '12509.png', '50873.png', '56304.png', '59301.png', '81760.png', '85139.png', '85213.png', '34570.png', '12873.png', '27038.png', '43026.png', '85190.png', '29576.png', '59061.png', '78239.png', '35746.png', '34876.png', '81243.png', '36158.png', '34971.png', '37425.png', '34659.png', '84291.png', '19823.png', '71658.png', '06584.png', '70539.png', '51208.png', '13640.png', '24067.png', '84951.png', '28046.png', '52708.png', '15726.png', '87936.png', '82450.png', '52947.png', '84913.png', '26185.png', '83670.png', '34179.png', '19635.png', '25369.png', '46712.png', '90342.png', '96708.png', '42603.png', '90725.png', '56438.png', '24875.png', '53810.png', '46907.png', '46578.png', '54130.png', '28401.png', '78015.png', '96280.png', '73659.png', '50489.png', '02768.png', '57012.png', '10258.png', '10682.png', '18764.png', '31059.png', '03285.png', '56179.png', '87592.png', '29051.png', '17528.png', '87024.png', '40967.png', '96071.png', '90427.png', '67582.png', '20381.png', '46359.png', '28563.png', '26078.png', '43695.png', '49836.png', '16538.png', '06349.png', '52071.png', '05942.png', '23564.png', '65098.png', '10268.png', '47358.png', '20497.png', '73028.png', '76408.png', '94178.png', '75614.png', '84237.png', '47592.png', '72136.png', '68592.png', '61297.png', '49867.png', '94087.png', '34051.png', '36501.png', '30267.png', '23957.png', '07126.png', '37610.png', '19860.png', '01439.png', '65204.png', '29478.png', '61823.png', '20196.png', '78304.png', '61549.png', '78420.png', '28691.png', '56931.png', '15796.png', '07852.png', '25841.png', '15280.png', '75840.png', '37146.png', '57193.png', '42653.png', '89503.png', '93740.png', '05918.png', '25310.png', '93271.png', '45379.png', '37980.png', '26987.png', '69253.png', '09283.png', '60539.png', '01245.png', '21439.png', '56830.png', '01476.png', '17649.png', '70318.png', '41690.png', '16208.png', '05736.png', '84271.png', '56417.png', '18420.png', '25971.png', '38147.png', '15647.png', '40592.png', '39168.png', '45189.png', '60571.png', '02389.png', '21749.png', '69870.png', '51630.png', '04316.png', '13576.png', '25189.png', '81962.png', '20143.png', '24907.png', '16487.png', '23174.png', '56340.png', '81359.png', '47589.png', '86314.png', '26983.png', '30597.png', '46283.png', '37802.png', '94815.png', '09823.png', '14078.png', '63041.png', '50271.png', '04579.png', '02984.png', '75894.png', '19375.png', '48507.png', '94610.png', '14897.png', '67328.png', '18427.png', '18960.png', '56837.png', '06859.png', '59041.png', '93261.png', '95714.png', '89406.png', '70162.png', '03847.png', '52486.png', '21739.png', '15407.png', '04782.png', '50397.png', '41305.png', '50146.png', '26394.png', '76158.png', '32704.png', '94357.png', '45203.png', '72510.png', '69203.png', '07562.png', '05914.png', '43651.png', '63954.png', '36578.png', '27630.png', '62814.png', '20671.png', '15269.png', '47865.png', '36102.png', '85314.png', '25690.png', '98023.png', '40193.png', '48213.png', '17850.png', '93187.png', '08275.png', '04256.png', '46218.png', '09731.png', '13764.png', '57693.png', '36097.png', '28395.png', '75420.png', '51390.png', '09187.png', '81305.png', '96541.png', '64172.png', '54816.png', '32658.png', '53879.png', '31706.png', '49156.png', '72489.png', '50824.png', '72413.png', '31048.png', '37592.png', '60971.png', '58312.png', '41268.png', '20873.png', '74203.png', '96340.png', '68753.png', '61423.png', '58419.png', '49832.png', '24165.png', '38516.png', '71084.png', '70235.png', '42568.png', '95102.png', '17653.png', '31769.png', '42509.png', '04759.png', '56082.png', '75130.png', '29401.png', '32586.png', '64327.png', '27891.png', '63290.png', '39041.png', '61742.png', '64390.png', '86479.png', '25709.png', '57814.png', '04758.png', '70923.png', '31652.png', '31876.png', '20473.png', '64197.png', '78450.png', '94236.png', '41680.png', '16780.png', '83976.png', '53124.png', '92051.png', '02169.png', '03865.png', '25481.png', '03678.png', '87953.png', '69813.png', '10943.png', '37904.png', '75362.png', '08345.png', '59718.png', '74368.png', '76584.png', '94370.png', '80451.png', '85371.png', '47516.png', '75134.png', '36897.png', '49536.png', '60384.png', '76321.png', '39028.png', '48762.png', '07486.png', '49032.png', '72164.png', '17390.png', '85721.png', '47239.png', '60214.png', '34526.png', '93245.png', '53062.png', '87209.png', '53649.png', '25614.png', '62175.png', '84219.png', '01894.png', '39562.png', '64592.png', '59062.png', '70935.png', '32915.png', '36417.png', '93685.png', '92483.png', '27385.png', '63174.png', '21698.png', '72301.png', '97025.png', '56940.png', '71285.png', '80436.png', '57401.png', '76259.png', '06248.png', '50137.png', '16097.png', '79426.png', '09285.png', '32174.png', '23807.png', '30862.png', '79638.png', '08627.png', '54610.png', '61378.png', '70352.png', '59876.png', '41972.png', '84097.png', '14570.png', '10935.png', '41689.png', '21067.png', '49807.png', '30486.png', '53296.png', '57148.png', '34079.png', '20567.png', '32670.png', '45317.png', '60927.png', '32941.png', '98736.png', '97348.png', '86203.png', '67543.png', '51836.png', '96354.png', '80251.png', '90768.png', '79608.png', '18235.png', '73849.png', '21548.png', '85709.png', '79612.png', '98564.png', '30756.png', '10582.png', '05972.png', '43952.png', '72805.png', '21064.png', '14239.png', '42019.png', '62589.png', '51437.png', '40712.png', '90214.png', '23864.png', '03281.png', '10952.png', '29643.png', '40913.png', '75642.png', '40329.png', '81940.png', '49157.png', '15368.png', '57394.png', '80395.png', '94871.png', '69584.png', '32409.png', '61425.png', '17892.png', '52746.png', '43958.png', '43702.png', '97208.png', '59364.png', '82794.png', '74612.png', '30289.png', '43895.png', '62537.png', '76950.png', '16374.png', '58732.png', '39201.png', '36780.png', '25781.png', '34821.png', '59012.png', '52948.png', '34981.png', '18246.png', '14802.png', '29036.png', '30914.png', '83175.png', '08741.png', '74968.png', '01564.png', '30615.png', '96054.png', '90136.png', '05936.png', '86271.png', '58612.png', '16873.png', '10246.png', '06157.png', '26390.png', '17369.png', '82679.png', '86103.png', '42650.png', '89375.png', '86925.png', '24651.png', '21509.png', '70158.png', '98457.png', '76021.png', '59716.png', '53084.png', '79384.png', '97256.png', '40651.png', '19602.png', '35104.png', '14038.png', '67943.png', '05241.png', '10732.png', '37918.png', '42896.png', '80397.png', '62805.png', '65432.png', '69750.png', '48260.png', '64780.png', '39826.png', '34092.png', '67243.png', '51624.png', '70834.png', '39281.png', '87290.png', '98067.png', '37928.png', '08637.png', '16593.png', '10524.png', '56138.png', '37054.png', '31076.png', '67420.png', '63579.png', '32906.png', '46823.png', '89541.png', '96587.png', '89471.png', '75063.png', '75294.png', '92381.png', '48623.png', '78214.png', '27438.png', '80297.png', '38460.png', '85927.png', '87241.png', '31467.png', '16275.png', '81206.png', '92671.png', '58026.png', '59278.png', '41672.png', '50879.png', '10835.png', '09324.png', '50743.png', '53806.png', '73206.png', '96874.png', '69014.png', '70426.png', '97583.png', '46208.png', '84531.png', '56240.png', '52874.png', '18207.png', '86701.png', '62985.png', '52416.png', '02687.png', '75910.png', '51930.png', '96475.png', '32608.png', '50619.png', '75046.png', '89675.png', '45201.png', '41597.png', '64309.png', '53692.png', '89324.png', '68975.png', '12637.png', '91245.png', '75106.png', '34798.png', '83657.png', '95081.png', '24039.png', '93057.png', '29678.png', '79045.png', '93184.png', '42706.png', '56423.png', '62043.png', '37052.png', '57496.png', '24538.png', '34726.png', '26947.png', '53089.png', '85749.png', '57423.png', '93416.png', '70213.png', '87052.png', '02365.png', '28567.png', '24931.png', '10734.png', '50361.png', '17058.png', '47032.png', '30928.png', '34782.png', '71628.png', '34510.png', '32716.png', '96380.png', '65978.png', '74318.png', '68730.png', '80625.png', '96570.png', '68731.png', '52790.png', '89073.png', '57438.png', '86714.png', '16045.png', '54719.png', '17698.png', '31485.png', '47215.png', '03642.png', '46237.png', '84576.png', '79165.png', '48760.png', '37265.png', '53260.png', '03421.png', '80734.png', '85291.png', '31285.png', '10283.png', '57421.png', '54023.png', '57281.png', '40918.png', '53180.png', '94372.png', '93750.png', '01547.png', '52379.png', '09457.png', '34816.png', '71432.png', '21850.png', '50472.png', '07836.png', '25643.png', '71869.png', '28759.png', '02481.png', '01794.png', '92357.png', '04891.png', '06781.png', '16830.png', '39280.png', '31857.png', '28597.png', '06435.png', '89745.png', '17398.png', '34076.png', '67842.png', '06295.png', '48235.png', '12694.png', '43109.png', '01972.png', '60785.png', '57918.png', '04138.png', '80172.png', '91276.png', '15798.png', '41857.png', '04682.png', '02367.png', '92806.png', '67250.png', '94138.png', '16047.png', '27318.png', '67318.png', '32017.png', '17843.png', '41860.png', '87413.png', '31496.png', '47856.png', '04163.png', '28739.png', '23096.png', '13609.png', '16573.png', '20184.png', '02351.png', '16895.png', '89450.png', '45817.png', '48970.png', '38057.png', '64709.png', '24106.png', '72059.png', '20951.png', '90723.png', '34925.png', '98357.png', '49581.png', '01436.png', '07849.png', '12074.png', '42691.png', '91045.png', '42307.png', '19837.png', '42673.png', '34786.png', '69235.png', '42185.png', '37895.png', '65312.png', '13076.png', '28374.png', '74359.png', '34857.png', '72318.png', '50937.png', '17348.png', '01954.png', '98416.png', '71892.png', '69428.png', '23794.png', '21978.png', '52049.png', '16532.png', '53768.png', '57236.png', '71058.png', '82097.png', '69174.png', '14950.png', '57840.png', '03148.png', '80974.png', '62439.png', '59410.png', '24390.png', '01548.png', '86917.png', '87234.png', '51892.png', '36109.png', '87406.png', '39085.png', '32516.png', '03276.png', '47896.png', '79568.png', '15694.png', '01953.png', '84921.png', '13906.png', '42091.png', '76095.png', '87543.png', '18675.png', '40326.png', '26410.png', '62731.png', '01763.png', '92473.png', '69081.png', '01247.png', '05743.png', '74183.png', '10567.png', '10834.png', '69073.png', '56480.png', '19472.png', '48905.png', '13806.png', '89540.png', '71280.png', '26709.png', '58246.png', '04819.png', '75308.png', '48205.png', '68374.png', '56930.png', '61870.png', '96485.png', '94085.png', '05261.png', '15479.png', '57064.png', '47128.png', '06589.png', '85730.png', '70319.png', '35601.png', '20578.png', '03185.png', '46710.png', '50327.png', '92780.png', '51804.png', '61298.png', '86307.png', '31409.png', '96123.png', '72509.png', '35942.png', '54789.png', '83650.png', '09768.png', '93605.png', '16207.png', '59726.png', '45987.png', '29084.png', '76253.png', '85012.png', '53876.png', '62758.png', '21946.png', '47015.png', '89732.png', '27843.png', '18640.png', '48192.png', '25367.png', '39420.png', '02815.png', '96450.png', '82510.png', '75349.png', '08613.png', '51647.png', '79830.png', '62083.png', '75892.png', '69732.png', '81092.png', '87253.png', '41936.png', '25830.png', '75082.png', '71429.png', '70534.png', '26385.png', '97365.png', '53469.png', '16248.png', '89412.png', '04397.png', '69178.png', '58904.png', '58204.png', '21436.png', '21053.png', '76093.png', '19364.png', '58906.png', '70598.png', '84329.png', '60732.png', '04529.png', '34196.png', '01649.png', '35691.png', '12054.png', '59862.png', '94687.png', '38621.png', '12793.png', '42063.png', '02863.png', '74583.png', '27604.png', '73426.png', '73406.png', '76952.png', '90513.png', '50817.png', '54028.png', '42379.png', '58340.png', '06871.png', '83427.png', '17802.png', '56891.png', '90826.png', '65491.png', '38179.png', '87239.png', '97814.png', '71038.png', '62713.png', '61502.png', '04268.png', '43295.png', '40917.png', '94237.png', '13679.png', '96415.png', '54682.png', '43170.png', '14782.png', '39472.png', '36027.png', '51706.png', '03591.png', '91526.png', '23971.png', '03764.png', '78925.png', '35971.png', '38246.png', '49703.png', '60938.png', '17594.png', '50739.png', '14275.png', '83052.png', '19372.png', '21345.png', '10423.png', '98203.png', '36947.png', '16492.png', '15937.png']\n"
          ]
        }
      ]
    },
    {
      "cell_type": "code",
      "source": [
        "# Get the Image IDs corresponding to the ID-Column in the DataFrame for Train Set\n",
        "train_lst = (train_json_df['img']).tolist()\n",
        "train_labels = (train_json_df['label']).tolist()\n",
        "print(len(train_lst))\n",
        "print(len(train_labels))"
      ],
      "metadata": {
        "colab": {
          "base_uri": "https://localhost:8080/"
        },
        "id": "MBFPbwp1sIu8",
        "outputId": "080c36d9-2c6c-4292-90d2-a5e57809ef71"
      },
      "execution_count": 18,
      "outputs": [
        {
          "output_type": "stream",
          "name": "stdout",
          "text": [
            "8500\n",
            "8500\n"
          ]
        }
      ]
    },
    {
      "cell_type": "code",
      "source": [
        "# Get the Image IDs corresponding to the ID-Column in the DataFrame for Validation Set\n",
        "val_lst = (val_json_df['img'].tolist())\n",
        "val_labels = (val_json_df['label']).tolist()\n",
        "print(len(val_lst))\n",
        "print(len(val_labels))"
      ],
      "metadata": {
        "colab": {
          "base_uri": "https://localhost:8080/"
        },
        "id": "p_9qGf8Rwuvu",
        "outputId": "263f02fd-7181-4034-950d-dd366595e264"
      },
      "execution_count": 19,
      "outputs": [
        {
          "output_type": "stream",
          "name": "stdout",
          "text": [
            "500\n",
            "500\n"
          ]
        }
      ]
    },
    {
      "cell_type": "code",
      "source": [
        "# Get the Image IDs corresponding to the ID-Column in the DataFrame for Test Set\n",
        "test_lst = (test_json_df['img'].tolist())\n",
        "test_labels = (test_json_df['label']).tolist()\n",
        "print(len(test_lst))\n",
        "print(len(test_labels))"
      ],
      "metadata": {
        "colab": {
          "base_uri": "https://localhost:8080/"
        },
        "id": "HeVdbixmoql6",
        "outputId": "5aa6f86d-f0f0-442c-e862-d554e044248e"
      },
      "execution_count": 20,
      "outputs": [
        {
          "output_type": "stream",
          "name": "stdout",
          "text": [
            "1000\n",
            "1000\n"
          ]
        }
      ]
    },
    {
      "cell_type": "code",
      "source": [
        "def set_data():\n",
        "    # Define the three lists of IDs and their corresponding labels\n",
        "    id_list_1 = train_lst\n",
        "    label_list_1 = train_labels\n",
        "    id_list_2 = val_lst\n",
        "    label_list_2 = val_labels\n",
        "    id_list_3 = test_lst\n",
        "    label_list_3 = test_labels\n",
        "\n",
        "    # Loop over the three ID lists and process each one\n",
        "    for i, (id_list, label_list) in enumerate([(id_list_1, label_list_1), (id_list_2, label_list_2), (id_list_3, label_list_3)]):\n",
        "        # Create a new directory for this ID list in the output directory\n",
        "        subdir_path = os.path.join(output_dir, f'subdir_{i+1}')\n",
        "        os.makedirs(subdir_path, exist_ok=True)\n",
        "        print(f' For subdir_{i+1}')\n",
        "        # Create two subdirectories for each output directory based on the label\n",
        "        subsubdir_path_1 = os.path.join(subdir_path, 'label_0')\n",
        "        subsubdir_path_2 = os.path.join(subdir_path, 'label_1')\n",
        "        # Create the Directories\n",
        "        os.makedirs(subsubdir_path_1, exist_ok=True)\n",
        "        os.makedirs(subsubdir_path_2, exist_ok=True)\n",
        "        # Loop over the IDs in this list and copy the corresponding images to the appropriate subdirectory\n",
        "        for j, img_id in enumerate(id_list):\n",
        "            # Construct the path to the image file based on the ID\n",
        "            img_path = os.path.join(input_dir, img_id)\n",
        "            print(f\"Processing Image - {j}\")\n",
        "            # Check if the image file exists and copy it to the appropriate subdirectory based on the label\n",
        "            if os.path.isfile(img_path):\n",
        "                label = label_list[j]\n",
        "                if label == 0:\n",
        "                    shutil.copy(img_path, subsubdir_path_1)\n",
        "                else:\n",
        "                    shutil.copy(img_path, subsubdir_path_2)\n"
      ],
      "metadata": {
        "id": "L_UNQiqNx3JD"
      },
      "execution_count": 21,
      "outputs": []
    },
    {
      "cell_type": "code",
      "source": [
        "# # Set the paths to the input directory and the output directory\n",
        "# input_dir = target_dir\n",
        "# output_dir = '/content/drive/MyDrive/DL/Assignments/A4/Image_Data'\n",
        "\n",
        "# if not os.path.exists(output_dir):\n",
        "#     os.makedirs(output_dir)\n",
        "#     set_data()\n",
        "# else:\n",
        "#   print('The Data exists in the appropriate form for the Data Generators')"
      ],
      "metadata": {
        "id": "b8jvu-0oBpyf"
      },
      "execution_count": 22,
      "outputs": []
    },
    {
      "cell_type": "markdown",
      "source": [
        "###3. Pre-processing the Dataset\n",
        "\n"
      ],
      "metadata": {
        "id": "GL0FazukO0gs"
      }
    },
    {
      "cell_type": "code",
      "source": [
        "# Define the paths to the train, validation, and test directories\n",
        "train_dir = '/content/drive/MyDrive/DL/Assignments/A4/Image_Data/subdir_1'\n",
        "val_dir = '/content/drive/MyDrive/DL/Assignments/A4/Image_Data/subdir_2'\n",
        "test_dir = '/content/drive/MyDrive/DL/Assignments/A4/Image_Data/subdir_3'\n",
        "\n",
        "# Define the batch size for the data generators\n",
        "batch_size = 64\n",
        "\n",
        "# Define the image data generators for the train, validation, and test sets\n",
        "train_datagen = ImageDataGenerator(\n",
        "    rescale=1./255,\n",
        "    rotation_range=20,\n",
        "    zoom_range=0.2,\n",
        "    # horizontal_flip=True,\n",
        "    width_shift_range=0.2,\n",
        "    height_shift_range=0.2,\n",
        "    # channel_shift_range=0.2,\n",
        "    brightness_range=[0.5, 1.5],\n",
        "    shear_range=0.2,\n",
        "    #validation_split=0.6\n",
        "    #contrast_stretching=True,\n",
        ")\n",
        "\n",
        "val_datagen = ImageDataGenerator(\n",
        "    rescale=1./255,\n",
        "    rotation_range=20,\n",
        "    zoom_range=0.2,\n",
        "    # horizontal_flip=True,\n",
        "    width_shift_range=0.2,\n",
        "    height_shift_range=0.2,\n",
        "    # channel_shift_range=0.2,\n",
        "    brightness_range=[0.5, 1.5],\n",
        "    shear_range=0.2\n",
        "                                 \n",
        "    )\n",
        "                                 \n",
        "test_datagen = ImageDataGenerator(\n",
        "    rescale=1./255,\n",
        "    rotation_range=20,\n",
        "    zoom_range=0.2,\n",
        "    # horizontal_flip=True,\n",
        "    width_shift_range=0.2,\n",
        "    height_shift_range=0.2,\n",
        "    # channel_shift_range=0.2,\n",
        "    brightness_range=[0.5, 1.5],\n",
        "    shear_range=0.2\n",
        ")\n",
        "sample_test_datagen = ImageDataGenerator(\n",
        "    rescale=1./255,\n",
        "    rotation_range=20,\n",
        "    zoom_range=0.2,\n",
        "    # horizontal_flip=True,\n",
        "    width_shift_range=0.2,\n",
        "    height_shift_range=0.2,\n",
        "    # channel_shift_range=0.2,\n",
        "    brightness_range=[0.5, 1.5],\n",
        "    shear_range=0.2\n",
        "    \n",
        ")\n",
        "\n",
        "# Use the flow_from_directory method to create the data generators for the train, validation, and test sets\n",
        "train_generator = train_datagen.flow_from_directory(\n",
        "    train_dir,\n",
        "    target_size=(224, 224),\n",
        "    batch_size=batch_size,\n",
        "    class_mode='binary',\n",
        "    subset='training',\n",
        ")\n",
        "\n",
        "val_generator = val_datagen.flow_from_directory(\n",
        "    val_dir,\n",
        "    target_size=(224, 224),\n",
        "    batch_size=batch_size,\n",
        "    class_mode='binary'\n",
        ")\n",
        "\n",
        "test_generator = test_datagen.flow_from_directory(\n",
        "    test_dir,\n",
        "    target_size=(224, 224),\n",
        "    batch_size=batch_size,\n",
        "    class_mode='binary'\n",
        ")"
      ],
      "metadata": {
        "id": "IIUbFryPPRK0",
        "colab": {
          "base_uri": "https://localhost:8080/"
        },
        "outputId": "522825a2-b872-4609-9447-a7f90af98659"
      },
      "execution_count": 23,
      "outputs": [
        {
          "output_type": "stream",
          "name": "stdout",
          "text": [
            "Found 8500 images belonging to 2 classes.\n",
            "Found 500 images belonging to 2 classes.\n",
            "Found 1000 images belonging to 2 classes.\n"
          ]
        }
      ]
    },
    {
      "cell_type": "markdown",
      "source": [
        "### 4. Visualise the images after pre-processing."
      ],
      "metadata": {
        "id": "F7Bijx4qruOD"
      }
    },
    {
      "cell_type": "code",
      "source": [
        "classes = train_generator.class_indices\n",
        "classes = dict((v,k) for k,v in classes.items())\n",
        "# classes = [classes[k] for k in classes]\n",
        "classes"
      ],
      "metadata": {
        "colab": {
          "base_uri": "https://localhost:8080/"
        },
        "id": "VNRSkAGQv8Xx",
        "outputId": "9c935c7f-e0ce-42e8-d887-bc55bd81eb39"
      },
      "execution_count": 68,
      "outputs": [
        {
          "output_type": "execute_result",
          "data": {
            "text/plain": [
              "{0: 'label_0', 1: 'label_1'}"
            ]
          },
          "metadata": {},
          "execution_count": 68
        }
      ]
    },
    {
      "cell_type": "code",
      "source": [
        "labels = train_generator.class_indices.values()"
      ],
      "metadata": {
        "id": "r0Lj4cqOx4dl"
      },
      "execution_count": 69,
      "outputs": []
    },
    {
      "cell_type": "code",
      "source": [
        "print(labels)"
      ],
      "metadata": {
        "colab": {
          "base_uri": "https://localhost:8080/"
        },
        "id": "AGJIHf_Ix90z",
        "outputId": "be458f0c-08e6-42c3-f464-7e569eff13ae"
      },
      "execution_count": 70,
      "outputs": [
        {
          "output_type": "stream",
          "name": "stdout",
          "text": [
            "dict_values([0, 1])\n"
          ]
        }
      ]
    },
    {
      "cell_type": "code",
      "source": [
        "def get_class_plot(generator_class):\n",
        "    for label in labels:\n",
        "        print(\"Class label:\", label)\n",
        "        images = generator_class.next()[0]\n",
        "        #plt.title(\"Visualise the Images in {} set\".format(generator_class))\n",
        "        plt.figure(figsize=(10, 10))\n",
        "        for i in range(5):\n",
        "            plt.subplot(5, 5, i+1)\n",
        "            plt.imshow(images[i])\n",
        "            plt.axis('off')\n",
        "        plt.show()"
      ],
      "metadata": {
        "id": "BuZZT-QZx3j5"
      },
      "execution_count": 71,
      "outputs": []
    },
    {
      "cell_type": "code",
      "source": [
        "print(\"For Training Data\")\n",
        "get_class_plot(train_generator)\n",
        "print(\"For Validation Data\")\n",
        "get_class_plot(val_generator)\n",
        "print(\"For Testing Data\")\n",
        "get_class_plot(test_generator)"
      ],
      "metadata": {
        "colab": {
          "base_uri": "https://localhost:8080/"
        },
        "id": "Qu7Rok57yYK8",
        "outputId": "7f8989ba-e088-48a3-98e3-2b50b0952be4"
      },
      "execution_count": null,
      "outputs": [
        {
          "output_type": "stream",
          "name": "stdout",
          "text": [
            "For Training Data\n",
            "Class label: 0\n"
          ]
        }
      ]
    },
    {
      "cell_type": "markdown",
      "source": [
        "### Code to verify the total images in the Training Directory and add the images which do not exist in the directory as the files are not present in the dicitonary."
      ],
      "metadata": {
        "id": "iqbxeyF21Xgk"
      }
    },
    {
      "cell_type": "code",
      "source": [
        "directory = '/content/drive/MyDrive/DL/Assignments/A4/Image_Data/subdir_1/label_0'  # Replace with the path to your directory here.\n",
        "count = 0\n",
        "for filename in os.listdir(directory):\n",
        "    if os.path.isfile(os.path.join(directory, filename)):\n",
        "        if filename in train_ids:\n",
        "          train_ids.remove(filename)\n",
        "        count += 1\n",
        "\n",
        "print(f'The directory \"{directory}\" contains {count} files.')"
      ],
      "metadata": {
        "id": "3Z6nnvB118he"
      },
      "execution_count": null,
      "outputs": []
    },
    {
      "cell_type": "code",
      "source": [
        "directory = '/content/drive/MyDrive/DL/Assignments/A4/Image_Data/subdir_1/label_1'  # Replace with the path to your directory here.\n",
        "\n",
        "for filename in os.listdir(directory):\n",
        "    if os.path.isfile(os.path.join(directory, filename)):\n",
        "      if filename in train_ids:\n",
        "        train_ids.remove(filename)\n",
        "        #print(filename)\n",
        "      count += 1\n",
        "\n",
        "print(f'The directory \"{directory}\" contains {count} files.')"
      ],
      "metadata": {
        "id": "_z-i2spz3hd2"
      },
      "execution_count": null,
      "outputs": []
    },
    {
      "cell_type": "code",
      "source": [
        "print(train_ids)"
      ],
      "metadata": {
        "id": "0dnkOTGjlog2"
      },
      "execution_count": null,
      "outputs": []
    },
    {
      "cell_type": "code",
      "source": [
        "# Get back the IDS,\n",
        "for i in range(len(train_ids)):\n",
        "  part = train_ids[i].partition(\".\")\n",
        "  train_ids[i] = part[0]"
      ],
      "metadata": {
        "id": "lnCE8d03sEYh"
      },
      "execution_count": null,
      "outputs": []
    },
    {
      "cell_type": "code",
      "source": [
        "print(train_ids)"
      ],
      "metadata": {
        "id": "R1Xo0d9EvbcG"
      },
      "execution_count": null,
      "outputs": []
    },
    {
      "cell_type": "code",
      "source": [
        "temp_label = []\n",
        "for i in range(len(train_ids)):\n",
        "  temp_train_json_df = train_json_df[train_json_df['id'] == train_ids[i]]\n",
        "  temp_label.append(int(temp_train_json_df['label']))"
      ],
      "metadata": {
        "id": "lw4DCR4Jvi9j"
      },
      "execution_count": null,
      "outputs": []
    },
    {
      "cell_type": "code",
      "source": [
        "print(temp_label)"
      ],
      "metadata": {
        "id": "gSHSC9px0Lj5"
      },
      "execution_count": null,
      "outputs": []
    },
    {
      "cell_type": "code",
      "source": [
        "subdir_path = '/content/drive/MyDrive/DL/Assignments/A4/Image_Data/subdir_1'\n",
        "subsubdir_path_1 = os.path.join(subdir_path, 'label_0')\n",
        "subsubdir_path_2 = os.path.join(subdir_path, 'label_1')"
      ],
      "metadata": {
        "id": "NDmZXKXm2MBL"
      },
      "execution_count": null,
      "outputs": []
    },
    {
      "cell_type": "code",
      "source": [
        "input_dir = '/content/drive/MyDrive/DeepLearning/meme_master/hateful_memes/img/'\n",
        "for j, img_id in enumerate(train_ids):\n",
        "            img_id = str(img_id) + '.png'\n",
        "            # Construct the path to the image file based on the ID\n",
        "            img_path = os.path.join(input_dir + img_id)\n",
        "            print(f\"Processing Image - {j}\")\n",
        "            print(img_path)\n",
        "            # Check if the image file exists and copy it to the appropriate subdirectory based on the label\n",
        "            if os.path.isfile(img_path):\n",
        "                label = temp_label[j]\n",
        "                if label == 0:\n",
        "                    shutil.copy(img_path, subsubdir_path_1)\n",
        "                else:\n",
        "                    shutil.copy(img_path, subsubdir_path_2)"
      ],
      "metadata": {
        "id": "7q3SPX6n1Etm"
      },
      "execution_count": null,
      "outputs": []
    },
    {
      "cell_type": "code",
      "source": [
        "train_ids"
      ],
      "metadata": {
        "id": "oBFO4TgQAbvt"
      },
      "execution_count": null,
      "outputs": []
    },
    {
      "cell_type": "code",
      "source": [
        "directory = '/content/drive/MyDrive/DeepLearning/meme_master/hateful_memes/img'  # Replace with the path to your directory here.\n",
        "count = 0\n",
        "for filename in os.listdir(directory):\n",
        "    if os.path.isfile(os.path.join(directory, filename)):\n",
        "      if filename in train_ids:\n",
        "        train_ids.remove(filename)\n",
        "        count += 1\n",
        "\n",
        "print(f'The directory \"{directory}\" contains {count} files.')"
      ],
      "metadata": {
        "id": "ceJcjnkO52QM"
      },
      "execution_count": null,
      "outputs": []
    },
    {
      "cell_type": "markdown",
      "source": [],
      "metadata": {
        "id": "cUmupD3qcaV4"
      }
    },
    {
      "cell_type": "markdown",
      "source": [
        "###5. Model Design and Architecture"
      ],
      "metadata": {
        "id": "J0YldKNHO-5h"
      }
    },
    {
      "cell_type": "code",
      "source": [
        "# Define the metrics and loss function to use . The metrics being used here are Accuracy, Precision, Recall and F-1 Score\n",
        "# my_metrics = [\n",
        "#     BinaryAccuracy(name='Accuracy'),\n",
        "#     Precision(name='Precision'),\n",
        "#     Recall(name='Recall'),\n",
        "#     # Define F1 score as a custom metric using precision and recall\n",
        "#     lambda y_true, y_pred: 2 * ((y_true * y_pred).sum() / (y_true.sum() + y_pred.sum() + 1e-7))\n",
        "# ]"
      ],
      "metadata": {
        "id": "TvbF8OTFTyyr"
      },
      "execution_count": 24,
      "outputs": []
    },
    {
      "cell_type": "code",
      "source": [
        "# Define the F-1 Score as Evaluation Metric\n",
        "# Reference - \n",
        "def get_f1_score(y_true, y_pred): \n",
        "    true_positives = K.sum(K.round(K.clip(y_true * y_pred, 0, 1)))\n",
        "    possible_positives = K.sum(K.round(K.clip(y_true, 0, 1)))\n",
        "    predicted_positives = K.sum(K.round(K.clip(y_pred, 0, 1)))\n",
        "    precision = true_positives / (predicted_positives + K.epsilon())\n",
        "    recall = true_positives / (possible_positives + K.epsilon())\n",
        "    f1_val = 2*(precision*recall)/(precision+recall+K.epsilon())\n",
        "    return f1_val"
      ],
      "metadata": {
        "id": "qLNsHr7-G9ue"
      },
      "execution_count": 42,
      "outputs": []
    },
    {
      "cell_type": "code",
      "source": [
        "METRICS = [\n",
        "      tf.keras.metrics.BinaryAccuracy(name='accuracy'),\n",
        "      tf.keras.metrics.Precision(name='precision'),\n",
        "      tf.keras.metrics.Recall(name='recall'),  \n",
        "      tf.keras.metrics.AUC(name='auc'),\n",
        "        get_f1_score\n",
        "]"
      ],
      "metadata": {
        "id": "lER6KV0qGzTr"
      },
      "execution_count": 43,
      "outputs": []
    },
    {
      "cell_type": "code",
      "source": [
        "#my_loss = BinaryCrossentropy()"
      ],
      "metadata": {
        "id": "iSUyc7hGPEcr"
      },
      "execution_count": 44,
      "outputs": []
    },
    {
      "cell_type": "code",
      "source": [
        "lrd = ReduceLROnPlateau(monitor = 'val_loss',patience = 15,verbose = 1,factor = 0.20, min_lr = 1e-10)\n",
        "es = EarlyStopping(verbose=1, patience=5)"
      ],
      "metadata": {
        "id": "eFhQUuNqZKCy"
      },
      "execution_count": 45,
      "outputs": []
    },
    {
      "cell_type": "code",
      "source": [
        "# Define the Datasets, corresponding to the given iterators used to fit the model with the given models and validate the result.\n",
        "train_Dataset = train_generator\n",
        "valid_Dataset = val_generator\n",
        "test_Dataset = test_generator"
      ],
      "metadata": {
        "id": "F_sqr92A-6g3"
      },
      "execution_count": 46,
      "outputs": []
    },
    {
      "cell_type": "code",
      "source": [
        "# Get all the Labels for each training examples in the Train Dataset\n",
        "train_labels = train_generator.classes\n",
        "val_labels = val_generator.classes\n",
        "test_labels = test_generator.classes"
      ],
      "metadata": {
        "id": "mJl5eZmoBi2z"
      },
      "execution_count": 49,
      "outputs": []
    },
    {
      "cell_type": "code",
      "source": [
        "print(train_labels.shape[0])\n",
        "print(test_labels.shape[0])\n",
        "print(val_labels.shape[0])"
      ],
      "metadata": {
        "colab": {
          "base_uri": "https://localhost:8080/"
        },
        "id": "BkYrP25KBpAC",
        "outputId": "64a775f9-5799-4a6b-d96b-da2ab0e5d4ba"
      },
      "execution_count": 50,
      "outputs": [
        {
          "output_type": "stream",
          "name": "stdout",
          "text": [
            "8500\n",
            "1000\n",
            "500\n"
          ]
        }
      ]
    },
    {
      "cell_type": "markdown",
      "source": [
        "###5.1 ResNet"
      ],
      "metadata": {
        "id": "Oz8mkXpCPPaq"
      }
    },
    {
      "cell_type": "code",
      "source": [
        "!pip install tensorflow-addons"
      ],
      "metadata": {
        "colab": {
          "base_uri": "https://localhost:8080/"
        },
        "id": "NzQo_FB409Q6",
        "outputId": "b2cdb3c5-1885-4625-a756-31faff5a1be8"
      },
      "execution_count": 24,
      "outputs": [
        {
          "output_type": "stream",
          "name": "stdout",
          "text": [
            "Looking in indexes: https://pypi.org/simple, https://us-python.pkg.dev/colab-wheels/public/simple/\n",
            "Collecting tensorflow-addons\n",
            "  Downloading tensorflow_addons-0.20.0-cp39-cp39-manylinux_2_17_x86_64.manylinux2014_x86_64.whl (591 kB)\n",
            "\u001b[2K     \u001b[90m━━━━━━━━━━━━━━━━━━━━━━━━━━━━━━━━━━━━━━\u001b[0m \u001b[32m591.0/591.0 kB\u001b[0m \u001b[31m14.5 MB/s\u001b[0m eta \u001b[36m0:00:00\u001b[0m\n",
            "\u001b[?25hRequirement already satisfied: packaging in /usr/local/lib/python3.9/dist-packages (from tensorflow-addons) (23.1)\n",
            "Collecting typeguard<3.0.0,>=2.7\n",
            "  Downloading typeguard-2.13.3-py3-none-any.whl (17 kB)\n",
            "Installing collected packages: typeguard, tensorflow-addons\n",
            "Successfully installed tensorflow-addons-0.20.0 typeguard-2.13.3\n"
          ]
        }
      ]
    },
    {
      "cell_type": "code",
      "source": [
        "import tensorflow_addons as tfa"
      ],
      "metadata": {
        "colab": {
          "base_uri": "https://localhost:8080/"
        },
        "id": "S0_Vd7G1yvu8",
        "outputId": "9b0e6cb0-f74b-4dc7-8c3e-98760c5e454f"
      },
      "execution_count": 25,
      "outputs": [
        {
          "output_type": "stream",
          "name": "stderr",
          "text": [
            "/usr/local/lib/python3.9/dist-packages/tensorflow_addons/utils/tfa_eol_msg.py:23: UserWarning: \n",
            "\n",
            "TensorFlow Addons (TFA) has ended development and introduction of new features.\n",
            "TFA has entered a minimal maintenance and release mode until a planned end of life in May 2024.\n",
            "Please modify downstream libraries to take dependencies from other repositories in our TensorFlow community (e.g. Keras, Keras-CV, and Keras-NLP). \n",
            "\n",
            "For more information see: https://github.com/tensorflow/addons/issues/2807 \n",
            "\n",
            "  warnings.warn(\n"
          ]
        }
      ]
    },
    {
      "cell_type": "code",
      "source": [
        "from sklearn.utils.class_weight import compute_class_weight"
      ],
      "metadata": {
        "id": "kk87yYOUvlH8"
      },
      "execution_count": 26,
      "outputs": []
    },
    {
      "cell_type": "code",
      "source": [
        "# class_weights = compute_class_weight(\n",
        "#                                         class_weight = \"balanced\",\n",
        "#                                         classes = np.unique(train_labels),\n",
        "#                                         y = train_labels                                                   \n",
        "#                                     )\n",
        "# class_weights = dict(zip(np.unique(train_labels), class_weights))\n",
        "# class_weights"
      ],
      "metadata": {
        "id": "L8wYFaWrvly8"
      },
      "execution_count": 27,
      "outputs": []
    },
    {
      "cell_type": "code",
      "source": [
        "# Compute the class weights as a dictionary\n",
        "unique, counts = np.unique(train_labels, return_counts=True)\n",
        "class_weights = dict(zip(unique, counts / len(train_labels)))"
      ],
      "metadata": {
        "id": "EnhqedkWR-df"
      },
      "execution_count": 28,
      "outputs": []
    },
    {
      "cell_type": "code",
      "source": [
        "sample_weights = []"
      ],
      "metadata": {
        "id": "nm7fox-kSMZo"
      },
      "execution_count": 29,
      "outputs": []
    },
    {
      "cell_type": "code",
      "source": [
        "# Compute the sample weights as a list\n",
        "sample_weights = [class_weights[label] for label in train_labels]"
      ],
      "metadata": {
        "id": "SocM3hccRuH7"
      },
      "execution_count": 30,
      "outputs": []
    },
    {
      "cell_type": "code",
      "source": [
        "print(sample_weights)"
      ],
      "metadata": {
        "colab": {
          "base_uri": "https://localhost:8080/"
        },
        "id": "vZweZ46eRwce",
        "outputId": "ce534ac5-ef1a-4760-9383-98c71ab2bd7b"
      },
      "execution_count": 31,
      "outputs": [
        {
          "output_type": "stream",
          "name": "stdout",
          "text": [
            "[0.6448235294117647, 0.6448235294117647, 0.6448235294117647, 0.6448235294117647, 0.6448235294117647, 0.6448235294117647, 0.6448235294117647, 0.3551764705882353, 0.6448235294117647, 0.6448235294117647, 0.3551764705882353, 0.6448235294117647, 0.3551764705882353, 0.6448235294117647, 0.6448235294117647, 0.6448235294117647, 0.6448235294117647, 0.6448235294117647, 0.6448235294117647, 0.6448235294117647, 0.6448235294117647, 0.6448235294117647, 0.6448235294117647, 0.3551764705882353, 0.6448235294117647, 0.6448235294117647, 0.3551764705882353, 0.6448235294117647, 0.6448235294117647, 0.6448235294117647, 0.3551764705882353, 0.6448235294117647, 0.6448235294117647, 0.6448235294117647, 0.6448235294117647, 0.6448235294117647, 0.6448235294117647, 0.6448235294117647, 0.6448235294117647, 0.6448235294117647, 0.6448235294117647, 0.6448235294117647, 0.6448235294117647, 0.6448235294117647, 0.6448235294117647, 0.6448235294117647, 0.6448235294117647, 0.6448235294117647, 0.3551764705882353, 0.3551764705882353, 0.6448235294117647, 0.6448235294117647, 0.3551764705882353, 0.6448235294117647, 0.6448235294117647, 0.6448235294117647, 0.6448235294117647, 0.6448235294117647, 0.6448235294117647, 0.6448235294117647, 0.3551764705882353, 0.6448235294117647, 0.3551764705882353, 0.6448235294117647, 0.6448235294117647, 0.3551764705882353, 0.6448235294117647, 0.6448235294117647, 0.6448235294117647, 0.3551764705882353, 0.6448235294117647, 0.6448235294117647, 0.6448235294117647, 0.6448235294117647, 0.6448235294117647, 0.6448235294117647, 0.3551764705882353, 0.6448235294117647, 0.6448235294117647, 0.6448235294117647, 0.6448235294117647, 0.6448235294117647, 0.6448235294117647, 0.3551764705882353, 0.6448235294117647, 0.6448235294117647, 0.3551764705882353, 0.6448235294117647, 0.3551764705882353, 0.6448235294117647, 0.3551764705882353, 0.6448235294117647, 0.6448235294117647, 0.6448235294117647, 0.3551764705882353, 0.6448235294117647, 0.6448235294117647, 0.6448235294117647, 0.6448235294117647, 0.6448235294117647, 0.6448235294117647, 0.6448235294117647, 0.3551764705882353, 0.6448235294117647, 0.3551764705882353, 0.6448235294117647, 0.6448235294117647, 0.3551764705882353, 0.3551764705882353, 0.6448235294117647, 0.3551764705882353, 0.3551764705882353, 0.6448235294117647, 0.6448235294117647, 0.6448235294117647, 0.3551764705882353, 0.3551764705882353, 0.6448235294117647, 0.3551764705882353, 0.3551764705882353, 0.3551764705882353, 0.6448235294117647, 0.3551764705882353, 0.6448235294117647, 0.6448235294117647, 0.6448235294117647, 0.3551764705882353, 0.6448235294117647, 0.6448235294117647, 0.6448235294117647, 0.6448235294117647, 0.6448235294117647, 0.6448235294117647, 0.6448235294117647, 0.6448235294117647, 0.6448235294117647, 0.3551764705882353, 0.6448235294117647, 0.6448235294117647, 0.6448235294117647, 0.6448235294117647, 0.6448235294117647, 0.3551764705882353, 0.6448235294117647, 0.6448235294117647, 0.3551764705882353, 0.6448235294117647, 0.6448235294117647, 0.6448235294117647, 0.6448235294117647, 0.6448235294117647, 0.6448235294117647, 0.3551764705882353, 0.6448235294117647, 0.6448235294117647, 0.3551764705882353, 0.3551764705882353, 0.6448235294117647, 0.6448235294117647, 0.3551764705882353, 0.3551764705882353, 0.6448235294117647, 0.3551764705882353, 0.6448235294117647, 0.6448235294117647, 0.6448235294117647, 0.3551764705882353, 0.3551764705882353, 0.3551764705882353, 0.6448235294117647, 0.6448235294117647, 0.6448235294117647, 0.3551764705882353, 0.3551764705882353, 0.3551764705882353, 0.6448235294117647, 0.6448235294117647, 0.6448235294117647, 0.6448235294117647, 0.6448235294117647, 0.3551764705882353, 0.6448235294117647, 0.6448235294117647, 0.6448235294117647, 0.6448235294117647, 0.6448235294117647, 0.6448235294117647, 0.3551764705882353, 0.6448235294117647, 0.6448235294117647, 0.6448235294117647, 0.6448235294117647, 0.3551764705882353, 0.3551764705882353, 0.6448235294117647, 0.3551764705882353, 0.6448235294117647, 0.6448235294117647, 0.6448235294117647, 0.6448235294117647, 0.6448235294117647, 0.6448235294117647, 0.3551764705882353, 0.6448235294117647, 0.3551764705882353, 0.6448235294117647, 0.6448235294117647, 0.6448235294117647, 0.6448235294117647, 0.6448235294117647, 0.6448235294117647, 0.6448235294117647, 0.3551764705882353, 0.6448235294117647, 0.3551764705882353, 0.6448235294117647, 0.6448235294117647, 0.6448235294117647, 0.6448235294117647, 0.6448235294117647, 0.6448235294117647, 0.3551764705882353, 0.6448235294117647, 0.6448235294117647, 0.3551764705882353, 0.6448235294117647, 0.6448235294117647, 0.6448235294117647, 0.6448235294117647, 0.3551764705882353, 0.6448235294117647, 0.6448235294117647, 0.3551764705882353, 0.6448235294117647, 0.6448235294117647, 0.6448235294117647, 0.6448235294117647, 0.6448235294117647, 0.6448235294117647, 0.6448235294117647, 0.6448235294117647, 0.3551764705882353, 0.6448235294117647, 0.6448235294117647, 0.6448235294117647, 0.6448235294117647, 0.3551764705882353, 0.6448235294117647, 0.3551764705882353, 0.6448235294117647, 0.6448235294117647, 0.3551764705882353, 0.6448235294117647, 0.6448235294117647, 0.6448235294117647, 0.3551764705882353, 0.6448235294117647, 0.6448235294117647, 0.6448235294117647, 0.6448235294117647, 0.6448235294117647, 0.3551764705882353, 0.6448235294117647, 0.6448235294117647, 0.6448235294117647, 0.6448235294117647, 0.6448235294117647, 0.6448235294117647, 0.6448235294117647, 0.3551764705882353, 0.3551764705882353, 0.3551764705882353, 0.3551764705882353, 0.3551764705882353, 0.6448235294117647, 0.3551764705882353, 0.6448235294117647, 0.6448235294117647, 0.6448235294117647, 0.3551764705882353, 0.6448235294117647, 0.6448235294117647, 0.6448235294117647, 0.6448235294117647, 0.6448235294117647, 0.3551764705882353, 0.3551764705882353, 0.6448235294117647, 0.6448235294117647, 0.6448235294117647, 0.6448235294117647, 0.6448235294117647, 0.6448235294117647, 0.6448235294117647, 0.3551764705882353, 0.6448235294117647, 0.3551764705882353, 0.6448235294117647, 0.3551764705882353, 0.3551764705882353, 0.3551764705882353, 0.6448235294117647, 0.6448235294117647, 0.6448235294117647, 0.6448235294117647, 0.6448235294117647, 0.6448235294117647, 0.6448235294117647, 0.6448235294117647, 0.6448235294117647, 0.6448235294117647, 0.6448235294117647, 0.6448235294117647, 0.3551764705882353, 0.3551764705882353, 0.6448235294117647, 0.3551764705882353, 0.6448235294117647, 0.6448235294117647, 0.6448235294117647, 0.6448235294117647, 0.3551764705882353, 0.6448235294117647, 0.6448235294117647, 0.6448235294117647, 0.6448235294117647, 0.3551764705882353, 0.6448235294117647, 0.6448235294117647, 0.6448235294117647, 0.6448235294117647, 0.6448235294117647, 0.6448235294117647, 0.6448235294117647, 0.6448235294117647, 0.3551764705882353, 0.3551764705882353, 0.6448235294117647, 0.3551764705882353, 0.6448235294117647, 0.6448235294117647, 0.6448235294117647, 0.6448235294117647, 0.3551764705882353, 0.3551764705882353, 0.6448235294117647, 0.6448235294117647, 0.6448235294117647, 0.6448235294117647, 0.6448235294117647, 0.3551764705882353, 0.3551764705882353, 0.6448235294117647, 0.3551764705882353, 0.6448235294117647, 0.6448235294117647, 0.6448235294117647, 0.3551764705882353, 0.6448235294117647, 0.3551764705882353, 0.6448235294117647, 0.6448235294117647, 0.6448235294117647, 0.6448235294117647, 0.6448235294117647, 0.6448235294117647, 0.3551764705882353, 0.6448235294117647, 0.3551764705882353, 0.6448235294117647, 0.6448235294117647, 0.6448235294117647, 0.3551764705882353, 0.6448235294117647, 0.6448235294117647, 0.6448235294117647, 0.6448235294117647, 0.3551764705882353, 0.6448235294117647, 0.6448235294117647, 0.3551764705882353, 0.6448235294117647, 0.3551764705882353, 0.6448235294117647, 0.6448235294117647, 0.6448235294117647, 0.6448235294117647, 0.6448235294117647, 0.3551764705882353, 0.6448235294117647, 0.6448235294117647, 0.3551764705882353, 0.3551764705882353, 0.3551764705882353, 0.3551764705882353, 0.3551764705882353, 0.6448235294117647, 0.3551764705882353, 0.6448235294117647, 0.6448235294117647, 0.3551764705882353, 0.3551764705882353, 0.3551764705882353, 0.6448235294117647, 0.6448235294117647, 0.6448235294117647, 0.6448235294117647, 0.6448235294117647, 0.6448235294117647, 0.6448235294117647, 0.3551764705882353, 0.6448235294117647, 0.6448235294117647, 0.6448235294117647, 0.3551764705882353, 0.6448235294117647, 0.6448235294117647, 0.6448235294117647, 0.6448235294117647, 0.6448235294117647, 0.6448235294117647, 0.6448235294117647, 0.3551764705882353, 0.3551764705882353, 0.6448235294117647, 0.6448235294117647, 0.6448235294117647, 0.6448235294117647, 0.6448235294117647, 0.6448235294117647, 0.6448235294117647, 0.6448235294117647, 0.6448235294117647, 0.3551764705882353, 0.3551764705882353, 0.6448235294117647, 0.6448235294117647, 0.6448235294117647, 0.6448235294117647, 0.3551764705882353, 0.3551764705882353, 0.3551764705882353, 0.6448235294117647, 0.6448235294117647, 0.6448235294117647, 0.3551764705882353, 0.6448235294117647, 0.3551764705882353, 0.6448235294117647, 0.6448235294117647, 0.6448235294117647, 0.6448235294117647, 0.6448235294117647, 0.6448235294117647, 0.6448235294117647, 0.6448235294117647, 0.6448235294117647, 0.6448235294117647, 0.6448235294117647, 0.6448235294117647, 0.3551764705882353, 0.3551764705882353, 0.3551764705882353, 0.6448235294117647, 0.6448235294117647, 0.6448235294117647, 0.3551764705882353, 0.3551764705882353, 0.6448235294117647, 0.6448235294117647, 0.6448235294117647, 0.6448235294117647, 0.6448235294117647, 0.6448235294117647, 0.6448235294117647, 0.6448235294117647, 0.6448235294117647, 0.3551764705882353, 0.6448235294117647, 0.6448235294117647, 0.3551764705882353, 0.6448235294117647, 0.3551764705882353, 0.6448235294117647, 0.6448235294117647, 0.6448235294117647, 0.6448235294117647, 0.6448235294117647, 0.3551764705882353, 0.3551764705882353, 0.6448235294117647, 0.3551764705882353, 0.6448235294117647, 0.6448235294117647, 0.6448235294117647, 0.6448235294117647, 0.6448235294117647, 0.6448235294117647, 0.6448235294117647, 0.3551764705882353, 0.6448235294117647, 0.6448235294117647, 0.6448235294117647, 0.3551764705882353, 0.6448235294117647, 0.3551764705882353, 0.6448235294117647, 0.3551764705882353, 0.3551764705882353, 0.6448235294117647, 0.6448235294117647, 0.6448235294117647, 0.6448235294117647, 0.6448235294117647, 0.6448235294117647, 0.6448235294117647, 0.6448235294117647, 0.3551764705882353, 0.6448235294117647, 0.6448235294117647, 0.6448235294117647, 0.6448235294117647, 0.6448235294117647, 0.6448235294117647, 0.3551764705882353, 0.3551764705882353, 0.6448235294117647, 0.3551764705882353, 0.6448235294117647, 0.6448235294117647, 0.6448235294117647, 0.6448235294117647, 0.6448235294117647, 0.6448235294117647, 0.6448235294117647, 0.6448235294117647, 0.3551764705882353, 0.3551764705882353, 0.6448235294117647, 0.6448235294117647, 0.3551764705882353, 0.6448235294117647, 0.3551764705882353, 0.3551764705882353, 0.6448235294117647, 0.6448235294117647, 0.6448235294117647, 0.3551764705882353, 0.6448235294117647, 0.6448235294117647, 0.6448235294117647, 0.6448235294117647, 0.3551764705882353, 0.6448235294117647, 0.3551764705882353, 0.6448235294117647, 0.6448235294117647, 0.6448235294117647, 0.3551764705882353, 0.6448235294117647, 0.6448235294117647, 0.3551764705882353, 0.6448235294117647, 0.6448235294117647, 0.6448235294117647, 0.6448235294117647, 0.6448235294117647, 0.6448235294117647, 0.6448235294117647, 0.3551764705882353, 0.6448235294117647, 0.3551764705882353, 0.6448235294117647, 0.3551764705882353, 0.6448235294117647, 0.6448235294117647, 0.3551764705882353, 0.6448235294117647, 0.6448235294117647, 0.6448235294117647, 0.3551764705882353, 0.6448235294117647, 0.6448235294117647, 0.3551764705882353, 0.3551764705882353, 0.6448235294117647, 0.6448235294117647, 0.6448235294117647, 0.6448235294117647, 0.6448235294117647, 0.6448235294117647, 0.3551764705882353, 0.6448235294117647, 0.6448235294117647, 0.6448235294117647, 0.3551764705882353, 0.6448235294117647, 0.6448235294117647, 0.6448235294117647, 0.3551764705882353, 0.3551764705882353, 0.6448235294117647, 0.6448235294117647, 0.6448235294117647, 0.6448235294117647, 0.3551764705882353, 0.3551764705882353, 0.6448235294117647, 0.6448235294117647, 0.6448235294117647, 0.6448235294117647, 0.6448235294117647, 0.6448235294117647, 0.6448235294117647, 0.6448235294117647, 0.6448235294117647, 0.6448235294117647, 0.3551764705882353, 0.3551764705882353, 0.3551764705882353, 0.3551764705882353, 0.6448235294117647, 0.6448235294117647, 0.6448235294117647, 0.6448235294117647, 0.3551764705882353, 0.6448235294117647, 0.3551764705882353, 0.3551764705882353, 0.3551764705882353, 0.3551764705882353, 0.6448235294117647, 0.6448235294117647, 0.3551764705882353, 0.6448235294117647, 0.6448235294117647, 0.6448235294117647, 0.6448235294117647, 0.6448235294117647, 0.6448235294117647, 0.6448235294117647, 0.6448235294117647, 0.6448235294117647, 0.6448235294117647, 0.6448235294117647, 0.3551764705882353, 0.6448235294117647, 0.6448235294117647, 0.6448235294117647, 0.6448235294117647, 0.6448235294117647, 0.6448235294117647, 0.3551764705882353, 0.6448235294117647, 0.6448235294117647, 0.6448235294117647, 0.6448235294117647, 0.6448235294117647, 0.6448235294117647, 0.6448235294117647, 0.6448235294117647, 0.6448235294117647, 0.6448235294117647, 0.6448235294117647, 0.6448235294117647, 0.3551764705882353, 0.6448235294117647, 0.6448235294117647, 0.6448235294117647, 0.6448235294117647, 0.3551764705882353, 0.6448235294117647, 0.3551764705882353, 0.3551764705882353, 0.6448235294117647, 0.6448235294117647, 0.6448235294117647, 0.6448235294117647, 0.6448235294117647, 0.6448235294117647, 0.3551764705882353, 0.3551764705882353, 0.6448235294117647, 0.6448235294117647, 0.6448235294117647, 0.6448235294117647, 0.3551764705882353, 0.3551764705882353, 0.6448235294117647, 0.6448235294117647, 0.3551764705882353, 0.6448235294117647, 0.6448235294117647, 0.6448235294117647, 0.6448235294117647, 0.6448235294117647, 0.6448235294117647, 0.6448235294117647, 0.6448235294117647, 0.6448235294117647, 0.3551764705882353, 0.3551764705882353, 0.6448235294117647, 0.6448235294117647, 0.6448235294117647, 0.6448235294117647, 0.3551764705882353, 0.6448235294117647, 0.6448235294117647, 0.6448235294117647, 0.6448235294117647, 0.3551764705882353, 0.6448235294117647, 0.6448235294117647, 0.3551764705882353, 0.6448235294117647, 0.6448235294117647, 0.6448235294117647, 0.6448235294117647, 0.6448235294117647, 0.6448235294117647, 0.3551764705882353, 0.6448235294117647, 0.6448235294117647, 0.6448235294117647, 0.3551764705882353, 0.6448235294117647, 0.3551764705882353, 0.6448235294117647, 0.6448235294117647, 0.6448235294117647, 0.3551764705882353, 0.6448235294117647, 0.3551764705882353, 0.3551764705882353, 0.6448235294117647, 0.6448235294117647, 0.3551764705882353, 0.6448235294117647, 0.6448235294117647, 0.3551764705882353, 0.6448235294117647, 0.6448235294117647, 0.6448235294117647, 0.3551764705882353, 0.6448235294117647, 0.6448235294117647, 0.6448235294117647, 0.6448235294117647, 0.6448235294117647, 0.6448235294117647, 0.6448235294117647, 0.3551764705882353, 0.6448235294117647, 0.6448235294117647, 0.3551764705882353, 0.6448235294117647, 0.6448235294117647, 0.6448235294117647, 0.6448235294117647, 0.6448235294117647, 0.6448235294117647, 0.6448235294117647, 0.6448235294117647, 0.6448235294117647, 0.6448235294117647, 0.3551764705882353, 0.6448235294117647, 0.3551764705882353, 0.6448235294117647, 0.6448235294117647, 0.6448235294117647, 0.6448235294117647, 0.3551764705882353, 0.6448235294117647, 0.6448235294117647, 0.6448235294117647, 0.6448235294117647, 0.6448235294117647, 0.3551764705882353, 0.3551764705882353, 0.3551764705882353, 0.3551764705882353, 0.6448235294117647, 0.3551764705882353, 0.6448235294117647, 0.3551764705882353, 0.6448235294117647, 0.3551764705882353, 0.3551764705882353, 0.3551764705882353, 0.6448235294117647, 0.3551764705882353, 0.6448235294117647, 0.6448235294117647, 0.6448235294117647, 0.6448235294117647, 0.6448235294117647, 0.6448235294117647, 0.3551764705882353, 0.6448235294117647, 0.6448235294117647, 0.3551764705882353, 0.6448235294117647, 0.6448235294117647, 0.6448235294117647, 0.6448235294117647, 0.6448235294117647, 0.6448235294117647, 0.6448235294117647, 0.6448235294117647, 0.6448235294117647, 0.6448235294117647, 0.6448235294117647, 0.3551764705882353, 0.6448235294117647, 0.3551764705882353, 0.6448235294117647, 0.3551764705882353, 0.3551764705882353, 0.6448235294117647, 0.3551764705882353, 0.6448235294117647, 0.6448235294117647, 0.6448235294117647, 0.6448235294117647, 0.6448235294117647, 0.3551764705882353, 0.6448235294117647, 0.6448235294117647, 0.6448235294117647, 0.6448235294117647, 0.6448235294117647, 0.6448235294117647, 0.3551764705882353, 0.3551764705882353, 0.6448235294117647, 0.6448235294117647, 0.3551764705882353, 0.6448235294117647, 0.6448235294117647, 0.3551764705882353, 0.3551764705882353, 0.6448235294117647, 0.6448235294117647, 0.6448235294117647, 0.6448235294117647, 0.3551764705882353, 0.6448235294117647, 0.3551764705882353, 0.3551764705882353, 0.6448235294117647, 0.6448235294117647, 0.3551764705882353, 0.6448235294117647, 0.6448235294117647, 0.3551764705882353, 0.6448235294117647, 0.6448235294117647, 0.6448235294117647, 0.6448235294117647, 0.3551764705882353, 0.6448235294117647, 0.6448235294117647, 0.6448235294117647, 0.3551764705882353, 0.6448235294117647, 0.6448235294117647, 0.6448235294117647, 0.3551764705882353, 0.6448235294117647, 0.6448235294117647, 0.6448235294117647, 0.6448235294117647, 0.3551764705882353, 0.6448235294117647, 0.3551764705882353, 0.6448235294117647, 0.6448235294117647, 0.6448235294117647, 0.6448235294117647, 0.3551764705882353, 0.6448235294117647, 0.6448235294117647, 0.6448235294117647, 0.6448235294117647, 0.6448235294117647, 0.6448235294117647, 0.6448235294117647, 0.3551764705882353, 0.6448235294117647, 0.6448235294117647, 0.3551764705882353, 0.6448235294117647, 0.6448235294117647, 0.3551764705882353, 0.6448235294117647, 0.6448235294117647, 0.6448235294117647, 0.6448235294117647, 0.3551764705882353, 0.6448235294117647, 0.6448235294117647, 0.6448235294117647, 0.6448235294117647, 0.6448235294117647, 0.6448235294117647, 0.3551764705882353, 0.6448235294117647, 0.6448235294117647, 0.3551764705882353, 0.6448235294117647, 0.6448235294117647, 0.6448235294117647, 0.3551764705882353, 0.6448235294117647, 0.6448235294117647, 0.6448235294117647, 0.6448235294117647, 0.6448235294117647, 0.6448235294117647, 0.6448235294117647, 0.6448235294117647, 0.6448235294117647, 0.6448235294117647, 0.6448235294117647, 0.6448235294117647, 0.6448235294117647, 0.6448235294117647, 0.6448235294117647, 0.6448235294117647, 0.6448235294117647, 0.3551764705882353, 0.3551764705882353, 0.6448235294117647, 0.6448235294117647, 0.3551764705882353, 0.6448235294117647, 0.3551764705882353, 0.6448235294117647, 0.6448235294117647, 0.6448235294117647, 0.6448235294117647, 0.3551764705882353, 0.6448235294117647, 0.6448235294117647, 0.6448235294117647, 0.6448235294117647, 0.6448235294117647, 0.6448235294117647, 0.6448235294117647, 0.6448235294117647, 0.6448235294117647, 0.3551764705882353, 0.6448235294117647, 0.6448235294117647, 0.6448235294117647, 0.3551764705882353, 0.6448235294117647, 0.6448235294117647, 0.6448235294117647, 0.6448235294117647, 0.6448235294117647, 0.6448235294117647, 0.6448235294117647, 0.6448235294117647, 0.6448235294117647, 0.6448235294117647, 0.6448235294117647, 0.6448235294117647, 0.3551764705882353, 0.3551764705882353, 0.6448235294117647, 0.6448235294117647, 0.3551764705882353, 0.3551764705882353, 0.6448235294117647, 0.6448235294117647, 0.6448235294117647, 0.6448235294117647, 0.3551764705882353, 0.6448235294117647, 0.6448235294117647, 0.3551764705882353, 0.6448235294117647, 0.3551764705882353, 0.6448235294117647, 0.6448235294117647, 0.6448235294117647, 0.6448235294117647, 0.3551764705882353, 0.3551764705882353, 0.6448235294117647, 0.6448235294117647, 0.3551764705882353, 0.6448235294117647, 0.3551764705882353, 0.6448235294117647, 0.6448235294117647, 0.3551764705882353, 0.6448235294117647, 0.6448235294117647, 0.6448235294117647, 0.6448235294117647, 0.6448235294117647, 0.6448235294117647, 0.6448235294117647, 0.3551764705882353, 0.6448235294117647, 0.6448235294117647, 0.3551764705882353, 0.6448235294117647, 0.6448235294117647, 0.3551764705882353, 0.6448235294117647, 0.6448235294117647, 0.6448235294117647, 0.6448235294117647, 0.6448235294117647, 0.3551764705882353, 0.3551764705882353, 0.3551764705882353, 0.6448235294117647, 0.3551764705882353, 0.6448235294117647, 0.3551764705882353, 0.6448235294117647, 0.3551764705882353, 0.6448235294117647, 0.6448235294117647, 0.6448235294117647, 0.3551764705882353, 0.3551764705882353, 0.3551764705882353, 0.6448235294117647, 0.6448235294117647, 0.3551764705882353, 0.3551764705882353, 0.6448235294117647, 0.6448235294117647, 0.6448235294117647, 0.3551764705882353, 0.6448235294117647, 0.3551764705882353, 0.3551764705882353, 0.3551764705882353, 0.6448235294117647, 0.3551764705882353, 0.6448235294117647, 0.3551764705882353, 0.6448235294117647, 0.6448235294117647, 0.6448235294117647, 0.3551764705882353, 0.6448235294117647, 0.6448235294117647, 0.3551764705882353, 0.3551764705882353, 0.6448235294117647, 0.3551764705882353, 0.6448235294117647, 0.3551764705882353, 0.6448235294117647, 0.3551764705882353, 0.3551764705882353, 0.3551764705882353, 0.3551764705882353, 0.3551764705882353, 0.6448235294117647, 0.6448235294117647, 0.6448235294117647, 0.6448235294117647, 0.6448235294117647, 0.6448235294117647, 0.6448235294117647, 0.6448235294117647, 0.6448235294117647, 0.6448235294117647, 0.3551764705882353, 0.6448235294117647, 0.3551764705882353, 0.6448235294117647, 0.6448235294117647, 0.6448235294117647, 0.3551764705882353, 0.6448235294117647, 0.6448235294117647, 0.3551764705882353, 0.3551764705882353, 0.6448235294117647, 0.3551764705882353, 0.6448235294117647, 0.3551764705882353, 0.6448235294117647, 0.3551764705882353, 0.6448235294117647, 0.6448235294117647, 0.6448235294117647, 0.6448235294117647, 0.6448235294117647, 0.6448235294117647, 0.6448235294117647, 0.3551764705882353, 0.6448235294117647, 0.6448235294117647, 0.6448235294117647, 0.3551764705882353, 0.6448235294117647, 0.6448235294117647, 0.3551764705882353, 0.3551764705882353, 0.6448235294117647, 0.3551764705882353, 0.3551764705882353, 0.6448235294117647, 0.6448235294117647, 0.6448235294117647, 0.6448235294117647, 0.6448235294117647, 0.3551764705882353, 0.3551764705882353, 0.3551764705882353, 0.6448235294117647, 0.6448235294117647, 0.6448235294117647, 0.3551764705882353, 0.6448235294117647, 0.6448235294117647, 0.6448235294117647, 0.6448235294117647, 0.6448235294117647, 0.3551764705882353, 0.6448235294117647, 0.6448235294117647, 0.6448235294117647, 0.6448235294117647, 0.6448235294117647, 0.6448235294117647, 0.6448235294117647, 0.6448235294117647, 0.6448235294117647, 0.3551764705882353, 0.6448235294117647, 0.6448235294117647, 0.6448235294117647, 0.6448235294117647, 0.6448235294117647, 0.6448235294117647, 0.6448235294117647, 0.3551764705882353, 0.6448235294117647, 0.6448235294117647, 0.3551764705882353, 0.6448235294117647, 0.6448235294117647, 0.3551764705882353, 0.6448235294117647, 0.6448235294117647, 0.3551764705882353, 0.3551764705882353, 0.3551764705882353, 0.6448235294117647, 0.6448235294117647, 0.3551764705882353, 0.6448235294117647, 0.6448235294117647, 0.3551764705882353, 0.3551764705882353, 0.3551764705882353, 0.6448235294117647, 0.6448235294117647, 0.6448235294117647, 0.3551764705882353, 0.6448235294117647, 0.3551764705882353, 0.6448235294117647, 0.3551764705882353, 0.6448235294117647, 0.6448235294117647, 0.6448235294117647, 0.6448235294117647, 0.3551764705882353, 0.6448235294117647, 0.3551764705882353, 0.6448235294117647, 0.3551764705882353, 0.6448235294117647, 0.6448235294117647, 0.3551764705882353, 0.3551764705882353, 0.6448235294117647, 0.3551764705882353, 0.6448235294117647, 0.3551764705882353, 0.6448235294117647, 0.6448235294117647, 0.3551764705882353, 0.3551764705882353, 0.6448235294117647, 0.3551764705882353, 0.6448235294117647, 0.6448235294117647, 0.6448235294117647, 0.6448235294117647, 0.6448235294117647, 0.6448235294117647, 0.6448235294117647, 0.6448235294117647, 0.3551764705882353, 0.6448235294117647, 0.6448235294117647, 0.3551764705882353, 0.3551764705882353, 0.6448235294117647, 0.6448235294117647, 0.6448235294117647, 0.6448235294117647, 0.6448235294117647, 0.3551764705882353, 0.6448235294117647, 0.6448235294117647, 0.6448235294117647, 0.6448235294117647, 0.6448235294117647, 0.3551764705882353, 0.3551764705882353, 0.3551764705882353, 0.6448235294117647, 0.6448235294117647, 0.6448235294117647, 0.3551764705882353, 0.6448235294117647, 0.6448235294117647, 0.6448235294117647, 0.3551764705882353, 0.6448235294117647, 0.3551764705882353, 0.6448235294117647, 0.6448235294117647, 0.6448235294117647, 0.3551764705882353, 0.3551764705882353, 0.6448235294117647, 0.3551764705882353, 0.6448235294117647, 0.3551764705882353, 0.6448235294117647, 0.3551764705882353, 0.6448235294117647, 0.3551764705882353, 0.3551764705882353, 0.6448235294117647, 0.6448235294117647, 0.3551764705882353, 0.6448235294117647, 0.3551764705882353, 0.6448235294117647, 0.6448235294117647, 0.6448235294117647, 0.6448235294117647, 0.3551764705882353, 0.3551764705882353, 0.6448235294117647, 0.3551764705882353, 0.6448235294117647, 0.6448235294117647, 0.6448235294117647, 0.3551764705882353, 0.6448235294117647, 0.3551764705882353, 0.6448235294117647, 0.6448235294117647, 0.6448235294117647, 0.6448235294117647, 0.3551764705882353, 0.6448235294117647, 0.3551764705882353, 0.6448235294117647, 0.6448235294117647, 0.6448235294117647, 0.3551764705882353, 0.6448235294117647, 0.6448235294117647, 0.6448235294117647, 0.3551764705882353, 0.6448235294117647, 0.3551764705882353, 0.3551764705882353, 0.6448235294117647, 0.6448235294117647, 0.6448235294117647, 0.6448235294117647, 0.3551764705882353, 0.3551764705882353, 0.3551764705882353, 0.3551764705882353, 0.3551764705882353, 0.6448235294117647, 0.6448235294117647, 0.6448235294117647, 0.6448235294117647, 0.6448235294117647, 0.6448235294117647, 0.3551764705882353, 0.3551764705882353, 0.3551764705882353, 0.6448235294117647, 0.6448235294117647, 0.6448235294117647, 0.6448235294117647, 0.6448235294117647, 0.6448235294117647, 0.6448235294117647, 0.6448235294117647, 0.3551764705882353, 0.6448235294117647, 0.6448235294117647, 0.6448235294117647, 0.3551764705882353, 0.6448235294117647, 0.6448235294117647, 0.6448235294117647, 0.3551764705882353, 0.3551764705882353, 0.6448235294117647, 0.6448235294117647, 0.3551764705882353, 0.3551764705882353, 0.6448235294117647, 0.6448235294117647, 0.6448235294117647, 0.6448235294117647, 0.6448235294117647, 0.6448235294117647, 0.6448235294117647, 0.6448235294117647, 0.6448235294117647, 0.6448235294117647, 0.3551764705882353, 0.3551764705882353, 0.6448235294117647, 0.6448235294117647, 0.6448235294117647, 0.6448235294117647, 0.3551764705882353, 0.6448235294117647, 0.6448235294117647, 0.3551764705882353, 0.6448235294117647, 0.6448235294117647, 0.3551764705882353, 0.6448235294117647, 0.6448235294117647, 0.3551764705882353, 0.6448235294117647, 0.6448235294117647, 0.6448235294117647, 0.6448235294117647, 0.6448235294117647, 0.3551764705882353, 0.6448235294117647, 0.6448235294117647, 0.3551764705882353, 0.3551764705882353, 0.3551764705882353, 0.3551764705882353, 0.6448235294117647, 0.3551764705882353, 0.6448235294117647, 0.3551764705882353, 0.6448235294117647, 0.6448235294117647, 0.6448235294117647, 0.6448235294117647, 0.6448235294117647, 0.3551764705882353, 0.6448235294117647, 0.6448235294117647, 0.3551764705882353, 0.6448235294117647, 0.6448235294117647, 0.6448235294117647, 0.3551764705882353, 0.6448235294117647, 0.3551764705882353, 0.6448235294117647, 0.6448235294117647, 0.6448235294117647, 0.6448235294117647, 0.3551764705882353, 0.3551764705882353, 0.6448235294117647, 0.6448235294117647, 0.6448235294117647, 0.6448235294117647, 0.6448235294117647, 0.3551764705882353, 0.6448235294117647, 0.6448235294117647, 0.3551764705882353, 0.3551764705882353, 0.6448235294117647, 0.6448235294117647, 0.6448235294117647, 0.6448235294117647, 0.3551764705882353, 0.3551764705882353, 0.6448235294117647, 0.6448235294117647, 0.6448235294117647, 0.6448235294117647, 0.3551764705882353, 0.6448235294117647, 0.6448235294117647, 0.6448235294117647, 0.3551764705882353, 0.3551764705882353, 0.3551764705882353, 0.6448235294117647, 0.6448235294117647, 0.6448235294117647, 0.6448235294117647, 0.6448235294117647, 0.3551764705882353, 0.6448235294117647, 0.6448235294117647, 0.3551764705882353, 0.6448235294117647, 0.6448235294117647, 0.6448235294117647, 0.6448235294117647, 0.6448235294117647, 0.6448235294117647, 0.6448235294117647, 0.3551764705882353, 0.6448235294117647, 0.6448235294117647, 0.3551764705882353, 0.6448235294117647, 0.6448235294117647, 0.6448235294117647, 0.3551764705882353, 0.6448235294117647, 0.6448235294117647, 0.6448235294117647, 0.6448235294117647, 0.6448235294117647, 0.6448235294117647, 0.6448235294117647, 0.6448235294117647, 0.3551764705882353, 0.6448235294117647, 0.3551764705882353, 0.3551764705882353, 0.6448235294117647, 0.3551764705882353, 0.6448235294117647, 0.6448235294117647, 0.6448235294117647, 0.6448235294117647, 0.3551764705882353, 0.3551764705882353, 0.6448235294117647, 0.3551764705882353, 0.6448235294117647, 0.6448235294117647, 0.3551764705882353, 0.6448235294117647, 0.6448235294117647, 0.6448235294117647, 0.3551764705882353, 0.3551764705882353, 0.3551764705882353, 0.6448235294117647, 0.3551764705882353, 0.6448235294117647, 0.6448235294117647, 0.3551764705882353, 0.6448235294117647, 0.6448235294117647, 0.3551764705882353, 0.3551764705882353, 0.6448235294117647, 0.6448235294117647, 0.6448235294117647, 0.3551764705882353, 0.6448235294117647, 0.6448235294117647, 0.3551764705882353, 0.3551764705882353, 0.3551764705882353, 0.3551764705882353, 0.6448235294117647, 0.3551764705882353, 0.6448235294117647, 0.3551764705882353, 0.6448235294117647, 0.3551764705882353, 0.6448235294117647, 0.3551764705882353, 0.6448235294117647, 0.6448235294117647, 0.6448235294117647, 0.3551764705882353, 0.6448235294117647, 0.6448235294117647, 0.3551764705882353, 0.3551764705882353, 0.6448235294117647, 0.3551764705882353, 0.6448235294117647, 0.3551764705882353, 0.6448235294117647, 0.6448235294117647, 0.3551764705882353, 0.6448235294117647, 0.6448235294117647, 0.6448235294117647, 0.6448235294117647, 0.3551764705882353, 0.3551764705882353, 0.6448235294117647, 0.6448235294117647, 0.6448235294117647, 0.6448235294117647, 0.6448235294117647, 0.6448235294117647, 0.3551764705882353, 0.6448235294117647, 0.6448235294117647, 0.6448235294117647, 0.3551764705882353, 0.3551764705882353, 0.6448235294117647, 0.6448235294117647, 0.6448235294117647, 0.3551764705882353, 0.6448235294117647, 0.6448235294117647, 0.3551764705882353, 0.6448235294117647, 0.6448235294117647, 0.6448235294117647, 0.3551764705882353, 0.3551764705882353, 0.3551764705882353, 0.6448235294117647, 0.6448235294117647, 0.6448235294117647, 0.6448235294117647, 0.3551764705882353, 0.3551764705882353, 0.3551764705882353, 0.3551764705882353, 0.3551764705882353, 0.6448235294117647, 0.3551764705882353, 0.3551764705882353, 0.3551764705882353, 0.6448235294117647, 0.3551764705882353, 0.3551764705882353, 0.6448235294117647, 0.6448235294117647, 0.6448235294117647, 0.3551764705882353, 0.6448235294117647, 0.6448235294117647, 0.3551764705882353, 0.6448235294117647, 0.6448235294117647, 0.3551764705882353, 0.6448235294117647, 0.6448235294117647, 0.6448235294117647, 0.3551764705882353, 0.3551764705882353, 0.6448235294117647, 0.6448235294117647, 0.6448235294117647, 0.3551764705882353, 0.3551764705882353, 0.6448235294117647, 0.6448235294117647, 0.6448235294117647, 0.6448235294117647, 0.6448235294117647, 0.3551764705882353, 0.3551764705882353, 0.3551764705882353, 0.6448235294117647, 0.6448235294117647, 0.3551764705882353, 0.3551764705882353, 0.3551764705882353, 0.6448235294117647, 0.6448235294117647, 0.6448235294117647, 0.3551764705882353, 0.3551764705882353, 0.6448235294117647, 0.3551764705882353, 0.3551764705882353, 0.6448235294117647, 0.6448235294117647, 0.3551764705882353, 0.6448235294117647, 0.6448235294117647, 0.6448235294117647, 0.6448235294117647, 0.3551764705882353, 0.3551764705882353, 0.6448235294117647, 0.6448235294117647, 0.3551764705882353, 0.3551764705882353, 0.6448235294117647, 0.6448235294117647, 0.6448235294117647, 0.3551764705882353, 0.6448235294117647, 0.6448235294117647, 0.6448235294117647, 0.6448235294117647, 0.3551764705882353, 0.3551764705882353, 0.3551764705882353, 0.6448235294117647, 0.6448235294117647, 0.6448235294117647, 0.3551764705882353, 0.3551764705882353, 0.6448235294117647, 0.6448235294117647, 0.6448235294117647, 0.6448235294117647, 0.6448235294117647, 0.3551764705882353, 0.3551764705882353, 0.3551764705882353, 0.3551764705882353, 0.6448235294117647, 0.6448235294117647, 0.6448235294117647, 0.3551764705882353, 0.6448235294117647, 0.6448235294117647, 0.6448235294117647, 0.3551764705882353, 0.6448235294117647, 0.6448235294117647, 0.6448235294117647, 0.6448235294117647, 0.6448235294117647, 0.6448235294117647, 0.6448235294117647, 0.6448235294117647, 0.6448235294117647, 0.6448235294117647, 0.6448235294117647, 0.3551764705882353, 0.6448235294117647, 0.3551764705882353, 0.3551764705882353, 0.3551764705882353, 0.6448235294117647, 0.3551764705882353, 0.6448235294117647, 0.6448235294117647, 0.6448235294117647, 0.3551764705882353, 0.6448235294117647, 0.3551764705882353, 0.3551764705882353, 0.6448235294117647, 0.3551764705882353, 0.3551764705882353, 0.3551764705882353, 0.6448235294117647, 0.6448235294117647, 0.6448235294117647, 0.3551764705882353, 0.6448235294117647, 0.3551764705882353, 0.6448235294117647, 0.3551764705882353, 0.6448235294117647, 0.6448235294117647, 0.6448235294117647, 0.6448235294117647, 0.6448235294117647, 0.3551764705882353, 0.6448235294117647, 0.3551764705882353, 0.6448235294117647, 0.3551764705882353, 0.6448235294117647, 0.6448235294117647, 0.6448235294117647, 0.6448235294117647, 0.3551764705882353, 0.6448235294117647, 0.6448235294117647, 0.6448235294117647, 0.3551764705882353, 0.6448235294117647, 0.6448235294117647, 0.6448235294117647, 0.6448235294117647, 0.6448235294117647, 0.6448235294117647, 0.6448235294117647, 0.6448235294117647, 0.3551764705882353, 0.3551764705882353, 0.6448235294117647, 0.6448235294117647, 0.6448235294117647, 0.6448235294117647, 0.3551764705882353, 0.3551764705882353, 0.6448235294117647, 0.3551764705882353, 0.3551764705882353, 0.6448235294117647, 0.3551764705882353, 0.6448235294117647, 0.6448235294117647, 0.3551764705882353, 0.6448235294117647, 0.3551764705882353, 0.6448235294117647, 0.3551764705882353, 0.3551764705882353, 0.3551764705882353, 0.6448235294117647, 0.6448235294117647, 0.3551764705882353, 0.3551764705882353, 0.6448235294117647, 0.3551764705882353, 0.6448235294117647, 0.3551764705882353, 0.6448235294117647, 0.6448235294117647, 0.6448235294117647, 0.6448235294117647, 0.3551764705882353, 0.6448235294117647, 0.6448235294117647, 0.3551764705882353, 0.6448235294117647, 0.3551764705882353, 0.3551764705882353, 0.6448235294117647, 0.6448235294117647, 0.6448235294117647, 0.3551764705882353, 0.6448235294117647, 0.6448235294117647, 0.6448235294117647, 0.3551764705882353, 0.6448235294117647, 0.3551764705882353, 0.3551764705882353, 0.6448235294117647, 0.3551764705882353, 0.3551764705882353, 0.6448235294117647, 0.6448235294117647, 0.3551764705882353, 0.6448235294117647, 0.6448235294117647, 0.6448235294117647, 0.6448235294117647, 0.3551764705882353, 0.6448235294117647, 0.6448235294117647, 0.6448235294117647, 0.6448235294117647, 0.6448235294117647, 0.3551764705882353, 0.3551764705882353, 0.6448235294117647, 0.6448235294117647, 0.6448235294117647, 0.6448235294117647, 0.6448235294117647, 0.6448235294117647, 0.3551764705882353, 0.6448235294117647, 0.6448235294117647, 0.6448235294117647, 0.6448235294117647, 0.6448235294117647, 0.3551764705882353, 0.3551764705882353, 0.6448235294117647, 0.6448235294117647, 0.6448235294117647, 0.6448235294117647, 0.3551764705882353, 0.3551764705882353, 0.6448235294117647, 0.3551764705882353, 0.3551764705882353, 0.6448235294117647, 0.3551764705882353, 0.3551764705882353, 0.6448235294117647, 0.6448235294117647, 0.3551764705882353, 0.6448235294117647, 0.6448235294117647, 0.6448235294117647, 0.6448235294117647, 0.3551764705882353, 0.6448235294117647, 0.6448235294117647, 0.6448235294117647, 0.6448235294117647, 0.6448235294117647, 0.6448235294117647, 0.3551764705882353, 0.6448235294117647, 0.6448235294117647, 0.6448235294117647, 0.6448235294117647, 0.6448235294117647, 0.6448235294117647, 0.6448235294117647, 0.3551764705882353, 0.6448235294117647, 0.6448235294117647, 0.6448235294117647, 0.6448235294117647, 0.6448235294117647, 0.6448235294117647, 0.6448235294117647, 0.3551764705882353, 0.6448235294117647, 0.6448235294117647, 0.6448235294117647, 0.3551764705882353, 0.6448235294117647, 0.3551764705882353, 0.3551764705882353, 0.6448235294117647, 0.6448235294117647, 0.6448235294117647, 0.3551764705882353, 0.3551764705882353, 0.6448235294117647, 0.3551764705882353, 0.6448235294117647, 0.3551764705882353, 0.6448235294117647, 0.6448235294117647, 0.3551764705882353, 0.6448235294117647, 0.6448235294117647, 0.6448235294117647, 0.6448235294117647, 0.6448235294117647, 0.3551764705882353, 0.6448235294117647, 0.6448235294117647, 0.3551764705882353, 0.6448235294117647, 0.6448235294117647, 0.6448235294117647, 0.3551764705882353, 0.6448235294117647, 0.6448235294117647, 0.6448235294117647, 0.3551764705882353, 0.6448235294117647, 0.6448235294117647, 0.6448235294117647, 0.6448235294117647, 0.3551764705882353, 0.6448235294117647, 0.6448235294117647, 0.6448235294117647, 0.3551764705882353, 0.3551764705882353, 0.6448235294117647, 0.3551764705882353, 0.6448235294117647, 0.6448235294117647, 0.6448235294117647, 0.6448235294117647, 0.6448235294117647, 0.6448235294117647, 0.6448235294117647, 0.6448235294117647, 0.3551764705882353, 0.6448235294117647, 0.3551764705882353, 0.3551764705882353, 0.6448235294117647, 0.6448235294117647, 0.6448235294117647, 0.3551764705882353, 0.3551764705882353, 0.6448235294117647, 0.6448235294117647, 0.3551764705882353, 0.6448235294117647, 0.6448235294117647, 0.6448235294117647, 0.6448235294117647, 0.3551764705882353, 0.3551764705882353, 0.3551764705882353, 0.6448235294117647, 0.6448235294117647, 0.6448235294117647, 0.6448235294117647, 0.3551764705882353, 0.3551764705882353, 0.6448235294117647, 0.6448235294117647, 0.6448235294117647, 0.6448235294117647, 0.6448235294117647, 0.6448235294117647, 0.6448235294117647, 0.6448235294117647, 0.3551764705882353, 0.3551764705882353, 0.6448235294117647, 0.6448235294117647, 0.6448235294117647, 0.3551764705882353, 0.6448235294117647, 0.6448235294117647, 0.6448235294117647, 0.6448235294117647, 0.6448235294117647, 0.3551764705882353, 0.6448235294117647, 0.6448235294117647, 0.3551764705882353, 0.6448235294117647, 0.6448235294117647, 0.6448235294117647, 0.6448235294117647, 0.6448235294117647, 0.6448235294117647, 0.6448235294117647, 0.6448235294117647, 0.3551764705882353, 0.6448235294117647, 0.3551764705882353, 0.6448235294117647, 0.3551764705882353, 0.6448235294117647, 0.6448235294117647, 0.6448235294117647, 0.6448235294117647, 0.6448235294117647, 0.6448235294117647, 0.3551764705882353, 0.6448235294117647, 0.6448235294117647, 0.6448235294117647, 0.6448235294117647, 0.3551764705882353, 0.6448235294117647, 0.6448235294117647, 0.6448235294117647, 0.6448235294117647, 0.3551764705882353, 0.6448235294117647, 0.6448235294117647, 0.6448235294117647, 0.6448235294117647, 0.6448235294117647, 0.6448235294117647, 0.6448235294117647, 0.6448235294117647, 0.6448235294117647, 0.6448235294117647, 0.6448235294117647, 0.6448235294117647, 0.6448235294117647, 0.3551764705882353, 0.6448235294117647, 0.6448235294117647, 0.3551764705882353, 0.3551764705882353, 0.3551764705882353, 0.6448235294117647, 0.6448235294117647, 0.6448235294117647, 0.6448235294117647, 0.6448235294117647, 0.6448235294117647, 0.6448235294117647, 0.6448235294117647, 0.3551764705882353, 0.3551764705882353, 0.6448235294117647, 0.6448235294117647, 0.6448235294117647, 0.6448235294117647, 0.6448235294117647, 0.3551764705882353, 0.3551764705882353, 0.3551764705882353, 0.3551764705882353, 0.6448235294117647, 0.3551764705882353, 0.3551764705882353, 0.6448235294117647, 0.6448235294117647, 0.6448235294117647, 0.3551764705882353, 0.6448235294117647, 0.6448235294117647, 0.6448235294117647, 0.6448235294117647, 0.3551764705882353, 0.6448235294117647, 0.6448235294117647, 0.3551764705882353, 0.6448235294117647, 0.6448235294117647, 0.6448235294117647, 0.6448235294117647, 0.3551764705882353, 0.6448235294117647, 0.6448235294117647, 0.3551764705882353, 0.3551764705882353, 0.3551764705882353, 0.3551764705882353, 0.3551764705882353, 0.6448235294117647, 0.6448235294117647, 0.6448235294117647, 0.3551764705882353, 0.3551764705882353, 0.6448235294117647, 0.6448235294117647, 0.3551764705882353, 0.6448235294117647, 0.3551764705882353, 0.6448235294117647, 0.6448235294117647, 0.3551764705882353, 0.3551764705882353, 0.6448235294117647, 0.6448235294117647, 0.6448235294117647, 0.6448235294117647, 0.6448235294117647, 0.6448235294117647, 0.3551764705882353, 0.6448235294117647, 0.3551764705882353, 0.6448235294117647, 0.3551764705882353, 0.3551764705882353, 0.6448235294117647, 0.6448235294117647, 0.6448235294117647, 0.6448235294117647, 0.6448235294117647, 0.6448235294117647, 0.3551764705882353, 0.6448235294117647, 0.3551764705882353, 0.6448235294117647, 0.6448235294117647, 0.6448235294117647, 0.6448235294117647, 0.6448235294117647, 0.6448235294117647, 0.3551764705882353, 0.6448235294117647, 0.3551764705882353, 0.3551764705882353, 0.3551764705882353, 0.6448235294117647, 0.3551764705882353, 0.6448235294117647, 0.6448235294117647, 0.3551764705882353, 0.6448235294117647, 0.6448235294117647, 0.6448235294117647, 0.3551764705882353, 0.6448235294117647, 0.6448235294117647, 0.3551764705882353, 0.3551764705882353, 0.3551764705882353, 0.6448235294117647, 0.6448235294117647, 0.3551764705882353, 0.3551764705882353, 0.6448235294117647, 0.6448235294117647, 0.6448235294117647, 0.3551764705882353, 0.6448235294117647, 0.6448235294117647, 0.6448235294117647, 0.6448235294117647, 0.3551764705882353, 0.6448235294117647, 0.6448235294117647, 0.6448235294117647, 0.3551764705882353, 0.6448235294117647, 0.6448235294117647, 0.3551764705882353, 0.3551764705882353, 0.6448235294117647, 0.3551764705882353, 0.3551764705882353, 0.6448235294117647, 0.3551764705882353, 0.6448235294117647, 0.6448235294117647, 0.6448235294117647, 0.6448235294117647, 0.6448235294117647, 0.3551764705882353, 0.3551764705882353, 0.6448235294117647, 0.3551764705882353, 0.3551764705882353, 0.3551764705882353, 0.3551764705882353, 0.6448235294117647, 0.3551764705882353, 0.3551764705882353, 0.6448235294117647, 0.6448235294117647, 0.6448235294117647, 0.3551764705882353, 0.6448235294117647, 0.6448235294117647, 0.6448235294117647, 0.6448235294117647, 0.6448235294117647, 0.6448235294117647, 0.3551764705882353, 0.6448235294117647, 0.6448235294117647, 0.6448235294117647, 0.6448235294117647, 0.3551764705882353, 0.3551764705882353, 0.3551764705882353, 0.6448235294117647, 0.6448235294117647, 0.6448235294117647, 0.3551764705882353, 0.6448235294117647, 0.6448235294117647, 0.3551764705882353, 0.3551764705882353, 0.6448235294117647, 0.6448235294117647, 0.3551764705882353, 0.3551764705882353, 0.6448235294117647, 0.6448235294117647, 0.6448235294117647, 0.6448235294117647, 0.6448235294117647, 0.3551764705882353, 0.6448235294117647, 0.6448235294117647, 0.6448235294117647, 0.3551764705882353, 0.6448235294117647, 0.6448235294117647, 0.3551764705882353, 0.6448235294117647, 0.6448235294117647, 0.3551764705882353, 0.6448235294117647, 0.6448235294117647, 0.6448235294117647, 0.6448235294117647, 0.3551764705882353, 0.6448235294117647, 0.3551764705882353, 0.6448235294117647, 0.3551764705882353, 0.6448235294117647, 0.6448235294117647, 0.3551764705882353, 0.6448235294117647, 0.3551764705882353, 0.6448235294117647, 0.6448235294117647, 0.6448235294117647, 0.3551764705882353, 0.6448235294117647, 0.3551764705882353, 0.6448235294117647, 0.3551764705882353, 0.6448235294117647, 0.3551764705882353, 0.6448235294117647, 0.6448235294117647, 0.6448235294117647, 0.6448235294117647, 0.6448235294117647, 0.6448235294117647, 0.6448235294117647, 0.6448235294117647, 0.3551764705882353, 0.3551764705882353, 0.6448235294117647, 0.6448235294117647, 0.3551764705882353, 0.6448235294117647, 0.3551764705882353, 0.3551764705882353, 0.3551764705882353, 0.6448235294117647, 0.3551764705882353, 0.3551764705882353, 0.6448235294117647, 0.6448235294117647, 0.3551764705882353, 0.6448235294117647, 0.3551764705882353, 0.6448235294117647, 0.6448235294117647, 0.6448235294117647, 0.6448235294117647, 0.3551764705882353, 0.3551764705882353, 0.3551764705882353, 0.6448235294117647, 0.6448235294117647, 0.6448235294117647, 0.6448235294117647, 0.3551764705882353, 0.6448235294117647, 0.6448235294117647, 0.3551764705882353, 0.6448235294117647, 0.6448235294117647, 0.6448235294117647, 0.3551764705882353, 0.6448235294117647, 0.6448235294117647, 0.6448235294117647, 0.3551764705882353, 0.6448235294117647, 0.6448235294117647, 0.6448235294117647, 0.3551764705882353, 0.6448235294117647, 0.6448235294117647, 0.3551764705882353, 0.6448235294117647, 0.6448235294117647, 0.6448235294117647, 0.6448235294117647, 0.3551764705882353, 0.6448235294117647, 0.6448235294117647, 0.6448235294117647, 0.6448235294117647, 0.6448235294117647, 0.3551764705882353, 0.3551764705882353, 0.6448235294117647, 0.6448235294117647, 0.6448235294117647, 0.6448235294117647, 0.3551764705882353, 0.3551764705882353, 0.3551764705882353, 0.3551764705882353, 0.6448235294117647, 0.6448235294117647, 0.3551764705882353, 0.6448235294117647, 0.3551764705882353, 0.6448235294117647, 0.6448235294117647, 0.3551764705882353, 0.3551764705882353, 0.6448235294117647, 0.6448235294117647, 0.3551764705882353, 0.6448235294117647, 0.6448235294117647, 0.6448235294117647, 0.6448235294117647, 0.6448235294117647, 0.6448235294117647, 0.3551764705882353, 0.6448235294117647, 0.6448235294117647, 0.3551764705882353, 0.3551764705882353, 0.6448235294117647, 0.6448235294117647, 0.3551764705882353, 0.6448235294117647, 0.3551764705882353, 0.6448235294117647, 0.3551764705882353, 0.6448235294117647, 0.6448235294117647, 0.6448235294117647, 0.6448235294117647, 0.6448235294117647, 0.6448235294117647, 0.6448235294117647, 0.3551764705882353, 0.6448235294117647, 0.6448235294117647, 0.3551764705882353, 0.3551764705882353, 0.6448235294117647, 0.6448235294117647, 0.6448235294117647, 0.6448235294117647, 0.3551764705882353, 0.6448235294117647, 0.6448235294117647, 0.6448235294117647, 0.6448235294117647, 0.3551764705882353, 0.3551764705882353, 0.3551764705882353, 0.6448235294117647, 0.3551764705882353, 0.3551764705882353, 0.3551764705882353, 0.6448235294117647, 0.3551764705882353, 0.3551764705882353, 0.6448235294117647, 0.3551764705882353, 0.6448235294117647, 0.6448235294117647, 0.6448235294117647, 0.3551764705882353, 0.3551764705882353, 0.6448235294117647, 0.6448235294117647, 0.6448235294117647, 0.3551764705882353, 0.6448235294117647, 0.6448235294117647, 0.6448235294117647, 0.6448235294117647, 0.6448235294117647, 0.3551764705882353, 0.3551764705882353, 0.6448235294117647, 0.6448235294117647, 0.6448235294117647, 0.3551764705882353, 0.6448235294117647, 0.6448235294117647, 0.3551764705882353, 0.6448235294117647, 0.3551764705882353, 0.6448235294117647, 0.6448235294117647, 0.3551764705882353, 0.6448235294117647, 0.6448235294117647, 0.3551764705882353, 0.6448235294117647, 0.3551764705882353, 0.6448235294117647, 0.6448235294117647, 0.3551764705882353, 0.6448235294117647, 0.3551764705882353, 0.3551764705882353, 0.3551764705882353, 0.6448235294117647, 0.6448235294117647, 0.6448235294117647, 0.3551764705882353, 0.3551764705882353, 0.3551764705882353, 0.3551764705882353, 0.3551764705882353, 0.6448235294117647, 0.6448235294117647, 0.3551764705882353, 0.6448235294117647, 0.6448235294117647, 0.3551764705882353, 0.3551764705882353, 0.3551764705882353, 0.3551764705882353, 0.3551764705882353, 0.6448235294117647, 0.6448235294117647, 0.6448235294117647, 0.3551764705882353, 0.6448235294117647, 0.6448235294117647, 0.6448235294117647, 0.6448235294117647, 0.6448235294117647, 0.6448235294117647, 0.3551764705882353, 0.6448235294117647, 0.3551764705882353, 0.3551764705882353, 0.6448235294117647, 0.6448235294117647, 0.3551764705882353, 0.6448235294117647, 0.6448235294117647, 0.6448235294117647, 0.6448235294117647, 0.3551764705882353, 0.3551764705882353, 0.3551764705882353, 0.6448235294117647, 0.3551764705882353, 0.6448235294117647, 0.6448235294117647, 0.6448235294117647, 0.3551764705882353, 0.6448235294117647, 0.3551764705882353, 0.6448235294117647, 0.3551764705882353, 0.6448235294117647, 0.6448235294117647, 0.6448235294117647, 0.6448235294117647, 0.3551764705882353, 0.6448235294117647, 0.6448235294117647, 0.6448235294117647, 0.3551764705882353, 0.3551764705882353, 0.3551764705882353, 0.3551764705882353, 0.6448235294117647, 0.6448235294117647, 0.6448235294117647, 0.3551764705882353, 0.6448235294117647, 0.6448235294117647, 0.6448235294117647, 0.6448235294117647, 0.6448235294117647, 0.6448235294117647, 0.3551764705882353, 0.6448235294117647, 0.6448235294117647, 0.3551764705882353, 0.3551764705882353, 0.3551764705882353, 0.6448235294117647, 0.6448235294117647, 0.6448235294117647, 0.6448235294117647, 0.6448235294117647, 0.6448235294117647, 0.6448235294117647, 0.3551764705882353, 0.6448235294117647, 0.6448235294117647, 0.3551764705882353, 0.3551764705882353, 0.6448235294117647, 0.3551764705882353, 0.3551764705882353, 0.6448235294117647, 0.6448235294117647, 0.6448235294117647, 0.6448235294117647, 0.6448235294117647, 0.6448235294117647, 0.3551764705882353, 0.6448235294117647, 0.3551764705882353, 0.6448235294117647, 0.6448235294117647, 0.3551764705882353, 0.6448235294117647, 0.6448235294117647, 0.3551764705882353, 0.6448235294117647, 0.6448235294117647, 0.6448235294117647, 0.6448235294117647, 0.3551764705882353, 0.6448235294117647, 0.6448235294117647, 0.6448235294117647, 0.6448235294117647, 0.6448235294117647, 0.6448235294117647, 0.3551764705882353, 0.6448235294117647, 0.3551764705882353, 0.3551764705882353, 0.6448235294117647, 0.3551764705882353, 0.6448235294117647, 0.6448235294117647, 0.6448235294117647, 0.6448235294117647, 0.6448235294117647, 0.6448235294117647, 0.3551764705882353, 0.3551764705882353, 0.6448235294117647, 0.6448235294117647, 0.6448235294117647, 0.6448235294117647, 0.3551764705882353, 0.6448235294117647, 0.6448235294117647, 0.3551764705882353, 0.3551764705882353, 0.6448235294117647, 0.6448235294117647, 0.3551764705882353, 0.6448235294117647, 0.6448235294117647, 0.6448235294117647, 0.3551764705882353, 0.6448235294117647, 0.3551764705882353, 0.6448235294117647, 0.6448235294117647, 0.6448235294117647, 0.3551764705882353, 0.6448235294117647, 0.6448235294117647, 0.6448235294117647, 0.6448235294117647, 0.3551764705882353, 0.6448235294117647, 0.3551764705882353, 0.6448235294117647, 0.3551764705882353, 0.3551764705882353, 0.3551764705882353, 0.6448235294117647, 0.3551764705882353, 0.6448235294117647, 0.3551764705882353, 0.3551764705882353, 0.6448235294117647, 0.3551764705882353, 0.3551764705882353, 0.6448235294117647, 0.3551764705882353, 0.3551764705882353, 0.3551764705882353, 0.3551764705882353, 0.6448235294117647, 0.3551764705882353, 0.6448235294117647, 0.6448235294117647, 0.3551764705882353, 0.6448235294117647, 0.6448235294117647, 0.3551764705882353, 0.6448235294117647, 0.3551764705882353, 0.6448235294117647, 0.6448235294117647, 0.3551764705882353, 0.6448235294117647, 0.6448235294117647, 0.6448235294117647, 0.6448235294117647, 0.6448235294117647, 0.3551764705882353, 0.6448235294117647, 0.3551764705882353, 0.6448235294117647, 0.6448235294117647, 0.6448235294117647, 0.3551764705882353, 0.3551764705882353, 0.3551764705882353, 0.6448235294117647, 0.6448235294117647, 0.6448235294117647, 0.6448235294117647, 0.6448235294117647, 0.3551764705882353, 0.3551764705882353, 0.3551764705882353, 0.6448235294117647, 0.6448235294117647, 0.3551764705882353, 0.6448235294117647, 0.3551764705882353, 0.3551764705882353, 0.6448235294117647, 0.6448235294117647, 0.6448235294117647, 0.6448235294117647, 0.3551764705882353, 0.6448235294117647, 0.6448235294117647, 0.6448235294117647, 0.6448235294117647, 0.3551764705882353, 0.6448235294117647, 0.6448235294117647, 0.6448235294117647, 0.6448235294117647, 0.3551764705882353, 0.6448235294117647, 0.6448235294117647, 0.6448235294117647, 0.6448235294117647, 0.6448235294117647, 0.3551764705882353, 0.6448235294117647, 0.6448235294117647, 0.6448235294117647, 0.6448235294117647, 0.6448235294117647, 0.3551764705882353, 0.3551764705882353, 0.6448235294117647, 0.6448235294117647, 0.3551764705882353, 0.6448235294117647, 0.6448235294117647, 0.3551764705882353, 0.6448235294117647, 0.6448235294117647, 0.6448235294117647, 0.3551764705882353, 0.3551764705882353, 0.3551764705882353, 0.6448235294117647, 0.3551764705882353, 0.6448235294117647, 0.3551764705882353, 0.6448235294117647, 0.6448235294117647, 0.3551764705882353, 0.3551764705882353, 0.3551764705882353, 0.6448235294117647, 0.3551764705882353, 0.6448235294117647, 0.6448235294117647, 0.6448235294117647, 0.6448235294117647, 0.6448235294117647, 0.6448235294117647, 0.3551764705882353, 0.6448235294117647, 0.6448235294117647, 0.3551764705882353, 0.3551764705882353, 0.6448235294117647, 0.3551764705882353, 0.3551764705882353, 0.3551764705882353, 0.3551764705882353, 0.3551764705882353, 0.3551764705882353, 0.6448235294117647, 0.6448235294117647, 0.3551764705882353, 0.6448235294117647, 0.6448235294117647, 0.6448235294117647, 0.6448235294117647, 0.6448235294117647, 0.6448235294117647, 0.3551764705882353, 0.3551764705882353, 0.3551764705882353, 0.3551764705882353, 0.6448235294117647, 0.3551764705882353, 0.3551764705882353, 0.6448235294117647, 0.3551764705882353, 0.3551764705882353, 0.6448235294117647, 0.3551764705882353, 0.6448235294117647, 0.3551764705882353, 0.6448235294117647, 0.6448235294117647, 0.6448235294117647, 0.6448235294117647, 0.6448235294117647, 0.6448235294117647, 0.6448235294117647, 0.6448235294117647, 0.3551764705882353, 0.6448235294117647, 0.3551764705882353, 0.3551764705882353, 0.6448235294117647, 0.6448235294117647, 0.3551764705882353, 0.6448235294117647, 0.6448235294117647, 0.6448235294117647, 0.3551764705882353, 0.3551764705882353, 0.3551764705882353, 0.6448235294117647, 0.6448235294117647, 0.6448235294117647, 0.3551764705882353, 0.6448235294117647, 0.6448235294117647, 0.6448235294117647, 0.3551764705882353, 0.6448235294117647, 0.3551764705882353, 0.3551764705882353, 0.3551764705882353, 0.3551764705882353, 0.6448235294117647, 0.6448235294117647, 0.6448235294117647, 0.3551764705882353, 0.6448235294117647, 0.6448235294117647, 0.3551764705882353, 0.3551764705882353, 0.6448235294117647, 0.6448235294117647, 0.6448235294117647, 0.6448235294117647, 0.3551764705882353, 0.3551764705882353, 0.6448235294117647, 0.6448235294117647, 0.6448235294117647, 0.3551764705882353, 0.6448235294117647, 0.6448235294117647, 0.6448235294117647, 0.6448235294117647, 0.6448235294117647, 0.6448235294117647, 0.6448235294117647, 0.3551764705882353, 0.6448235294117647, 0.6448235294117647, 0.6448235294117647, 0.3551764705882353, 0.3551764705882353, 0.6448235294117647, 0.6448235294117647, 0.6448235294117647, 0.6448235294117647, 0.6448235294117647, 0.6448235294117647, 0.6448235294117647, 0.6448235294117647, 0.3551764705882353, 0.3551764705882353, 0.3551764705882353, 0.6448235294117647, 0.3551764705882353, 0.6448235294117647, 0.6448235294117647, 0.6448235294117647, 0.6448235294117647, 0.3551764705882353, 0.3551764705882353, 0.3551764705882353, 0.6448235294117647, 0.6448235294117647, 0.3551764705882353, 0.3551764705882353, 0.6448235294117647, 0.3551764705882353, 0.6448235294117647, 0.6448235294117647, 0.6448235294117647, 0.3551764705882353, 0.3551764705882353, 0.3551764705882353, 0.3551764705882353, 0.6448235294117647, 0.3551764705882353, 0.6448235294117647, 0.3551764705882353, 0.6448235294117647, 0.3551764705882353, 0.6448235294117647, 0.6448235294117647, 0.3551764705882353, 0.3551764705882353, 0.6448235294117647, 0.6448235294117647, 0.3551764705882353, 0.6448235294117647, 0.6448235294117647, 0.6448235294117647, 0.6448235294117647, 0.3551764705882353, 0.6448235294117647, 0.3551764705882353, 0.6448235294117647, 0.6448235294117647, 0.6448235294117647, 0.6448235294117647, 0.3551764705882353, 0.6448235294117647, 0.6448235294117647, 0.6448235294117647, 0.6448235294117647, 0.6448235294117647, 0.6448235294117647, 0.6448235294117647, 0.6448235294117647, 0.6448235294117647, 0.3551764705882353, 0.6448235294117647, 0.6448235294117647, 0.6448235294117647, 0.6448235294117647, 0.3551764705882353, 0.6448235294117647, 0.6448235294117647, 0.3551764705882353, 0.6448235294117647, 0.6448235294117647, 0.6448235294117647, 0.6448235294117647, 0.6448235294117647, 0.3551764705882353, 0.3551764705882353, 0.6448235294117647, 0.6448235294117647, 0.6448235294117647, 0.6448235294117647, 0.3551764705882353, 0.6448235294117647, 0.3551764705882353, 0.6448235294117647, 0.3551764705882353, 0.6448235294117647, 0.3551764705882353, 0.6448235294117647, 0.6448235294117647, 0.6448235294117647, 0.6448235294117647, 0.3551764705882353, 0.6448235294117647, 0.3551764705882353, 0.3551764705882353, 0.3551764705882353, 0.3551764705882353, 0.3551764705882353, 0.6448235294117647, 0.6448235294117647, 0.3551764705882353, 0.6448235294117647, 0.6448235294117647, 0.6448235294117647, 0.6448235294117647, 0.6448235294117647, 0.6448235294117647, 0.6448235294117647, 0.3551764705882353, 0.3551764705882353, 0.6448235294117647, 0.6448235294117647, 0.3551764705882353, 0.6448235294117647, 0.6448235294117647, 0.3551764705882353, 0.6448235294117647, 0.6448235294117647, 0.6448235294117647, 0.3551764705882353, 0.3551764705882353, 0.6448235294117647, 0.3551764705882353, 0.6448235294117647, 0.3551764705882353, 0.6448235294117647, 0.6448235294117647, 0.3551764705882353, 0.3551764705882353, 0.6448235294117647, 0.3551764705882353, 0.6448235294117647, 0.6448235294117647, 0.3551764705882353, 0.6448235294117647, 0.6448235294117647, 0.3551764705882353, 0.6448235294117647, 0.3551764705882353, 0.6448235294117647, 0.3551764705882353, 0.6448235294117647, 0.6448235294117647, 0.6448235294117647, 0.6448235294117647, 0.6448235294117647, 0.6448235294117647, 0.6448235294117647, 0.6448235294117647, 0.6448235294117647, 0.6448235294117647, 0.6448235294117647, 0.3551764705882353, 0.6448235294117647, 0.6448235294117647, 0.3551764705882353, 0.6448235294117647, 0.6448235294117647, 0.6448235294117647, 0.3551764705882353, 0.6448235294117647, 0.6448235294117647, 0.6448235294117647, 0.3551764705882353, 0.6448235294117647, 0.6448235294117647, 0.6448235294117647, 0.6448235294117647, 0.3551764705882353, 0.6448235294117647, 0.3551764705882353, 0.6448235294117647, 0.6448235294117647, 0.6448235294117647, 0.6448235294117647, 0.6448235294117647, 0.6448235294117647, 0.3551764705882353, 0.6448235294117647, 0.3551764705882353, 0.6448235294117647, 0.3551764705882353, 0.6448235294117647, 0.3551764705882353, 0.3551764705882353, 0.6448235294117647, 0.6448235294117647, 0.6448235294117647, 0.6448235294117647, 0.3551764705882353, 0.6448235294117647, 0.6448235294117647, 0.6448235294117647, 0.6448235294117647, 0.6448235294117647, 0.6448235294117647, 0.6448235294117647, 0.3551764705882353, 0.6448235294117647, 0.6448235294117647, 0.6448235294117647, 0.3551764705882353, 0.3551764705882353, 0.6448235294117647, 0.6448235294117647, 0.6448235294117647, 0.6448235294117647, 0.6448235294117647, 0.6448235294117647, 0.6448235294117647, 0.3551764705882353, 0.3551764705882353, 0.6448235294117647, 0.6448235294117647, 0.6448235294117647, 0.3551764705882353, 0.3551764705882353, 0.3551764705882353, 0.6448235294117647, 0.6448235294117647, 0.6448235294117647, 0.6448235294117647, 0.3551764705882353, 0.3551764705882353, 0.6448235294117647, 0.6448235294117647, 0.3551764705882353, 0.6448235294117647, 0.6448235294117647, 0.6448235294117647, 0.6448235294117647, 0.6448235294117647, 0.6448235294117647, 0.6448235294117647, 0.6448235294117647, 0.3551764705882353, 0.6448235294117647, 0.6448235294117647, 0.3551764705882353, 0.6448235294117647, 0.6448235294117647, 0.6448235294117647, 0.6448235294117647, 0.6448235294117647, 0.6448235294117647, 0.6448235294117647, 0.3551764705882353, 0.3551764705882353, 0.6448235294117647, 0.6448235294117647, 0.3551764705882353, 0.6448235294117647, 0.6448235294117647, 0.3551764705882353, 0.6448235294117647, 0.3551764705882353, 0.3551764705882353, 0.6448235294117647, 0.6448235294117647, 0.6448235294117647, 0.6448235294117647, 0.6448235294117647, 0.3551764705882353, 0.6448235294117647, 0.6448235294117647, 0.6448235294117647, 0.3551764705882353, 0.6448235294117647, 0.3551764705882353, 0.3551764705882353, 0.6448235294117647, 0.6448235294117647, 0.6448235294117647, 0.6448235294117647, 0.6448235294117647, 0.6448235294117647, 0.3551764705882353, 0.6448235294117647, 0.3551764705882353, 0.3551764705882353, 0.6448235294117647, 0.6448235294117647, 0.3551764705882353, 0.6448235294117647, 0.3551764705882353, 0.3551764705882353, 0.3551764705882353, 0.3551764705882353, 0.6448235294117647, 0.6448235294117647, 0.6448235294117647, 0.6448235294117647, 0.3551764705882353, 0.6448235294117647, 0.3551764705882353, 0.6448235294117647, 0.3551764705882353, 0.6448235294117647, 0.6448235294117647, 0.6448235294117647, 0.6448235294117647, 0.6448235294117647, 0.3551764705882353, 0.6448235294117647, 0.6448235294117647, 0.6448235294117647, 0.6448235294117647, 0.6448235294117647, 0.3551764705882353, 0.3551764705882353, 0.6448235294117647, 0.6448235294117647, 0.6448235294117647, 0.3551764705882353, 0.6448235294117647, 0.3551764705882353, 0.3551764705882353, 0.6448235294117647, 0.3551764705882353, 0.6448235294117647, 0.3551764705882353, 0.3551764705882353, 0.3551764705882353, 0.3551764705882353, 0.3551764705882353, 0.6448235294117647, 0.6448235294117647, 0.6448235294117647, 0.6448235294117647, 0.6448235294117647, 0.6448235294117647, 0.3551764705882353, 0.6448235294117647, 0.6448235294117647, 0.3551764705882353, 0.6448235294117647, 0.6448235294117647, 0.3551764705882353, 0.3551764705882353, 0.3551764705882353, 0.3551764705882353, 0.3551764705882353, 0.6448235294117647, 0.6448235294117647, 0.6448235294117647, 0.6448235294117647, 0.6448235294117647, 0.6448235294117647, 0.6448235294117647, 0.6448235294117647, 0.3551764705882353, 0.3551764705882353, 0.6448235294117647, 0.6448235294117647, 0.6448235294117647, 0.6448235294117647, 0.6448235294117647, 0.6448235294117647, 0.3551764705882353, 0.6448235294117647, 0.6448235294117647, 0.6448235294117647, 0.6448235294117647, 0.3551764705882353, 0.6448235294117647, 0.6448235294117647, 0.3551764705882353, 0.6448235294117647, 0.3551764705882353, 0.6448235294117647, 0.6448235294117647, 0.6448235294117647, 0.6448235294117647, 0.3551764705882353, 0.6448235294117647, 0.6448235294117647, 0.3551764705882353, 0.6448235294117647, 0.6448235294117647, 0.6448235294117647, 0.6448235294117647, 0.6448235294117647, 0.6448235294117647, 0.3551764705882353, 0.3551764705882353, 0.3551764705882353, 0.3551764705882353, 0.6448235294117647, 0.6448235294117647, 0.6448235294117647, 0.6448235294117647, 0.3551764705882353, 0.3551764705882353, 0.6448235294117647, 0.6448235294117647, 0.6448235294117647, 0.6448235294117647, 0.6448235294117647, 0.6448235294117647, 0.6448235294117647, 0.6448235294117647, 0.6448235294117647, 0.6448235294117647, 0.6448235294117647, 0.3551764705882353, 0.3551764705882353, 0.6448235294117647, 0.6448235294117647, 0.6448235294117647, 0.6448235294117647, 0.6448235294117647, 0.6448235294117647, 0.6448235294117647, 0.6448235294117647, 0.6448235294117647, 0.6448235294117647, 0.6448235294117647, 0.6448235294117647, 0.6448235294117647, 0.3551764705882353, 0.3551764705882353, 0.3551764705882353, 0.3551764705882353, 0.6448235294117647, 0.6448235294117647, 0.3551764705882353, 0.3551764705882353, 0.6448235294117647, 0.6448235294117647, 0.3551764705882353, 0.3551764705882353, 0.3551764705882353, 0.3551764705882353, 0.6448235294117647, 0.6448235294117647, 0.3551764705882353, 0.3551764705882353, 0.6448235294117647, 0.3551764705882353, 0.6448235294117647, 0.3551764705882353, 0.6448235294117647, 0.6448235294117647, 0.6448235294117647, 0.6448235294117647, 0.3551764705882353, 0.6448235294117647, 0.6448235294117647, 0.3551764705882353, 0.3551764705882353, 0.3551764705882353, 0.6448235294117647, 0.6448235294117647, 0.6448235294117647, 0.3551764705882353, 0.3551764705882353, 0.6448235294117647, 0.3551764705882353, 0.6448235294117647, 0.6448235294117647, 0.3551764705882353, 0.3551764705882353, 0.6448235294117647, 0.6448235294117647, 0.6448235294117647, 0.3551764705882353, 0.3551764705882353, 0.6448235294117647, 0.6448235294117647, 0.3551764705882353, 0.6448235294117647, 0.6448235294117647, 0.6448235294117647, 0.6448235294117647, 0.6448235294117647, 0.3551764705882353, 0.6448235294117647, 0.3551764705882353, 0.6448235294117647, 0.3551764705882353, 0.6448235294117647, 0.6448235294117647, 0.6448235294117647, 0.6448235294117647, 0.3551764705882353, 0.6448235294117647, 0.6448235294117647, 0.6448235294117647, 0.3551764705882353, 0.6448235294117647, 0.6448235294117647, 0.3551764705882353, 0.3551764705882353, 0.6448235294117647, 0.6448235294117647, 0.3551764705882353, 0.6448235294117647, 0.3551764705882353, 0.3551764705882353, 0.6448235294117647, 0.3551764705882353, 0.6448235294117647, 0.6448235294117647, 0.6448235294117647, 0.6448235294117647, 0.3551764705882353, 0.3551764705882353, 0.6448235294117647, 0.6448235294117647, 0.6448235294117647, 0.6448235294117647, 0.6448235294117647, 0.6448235294117647, 0.3551764705882353, 0.6448235294117647, 0.6448235294117647, 0.6448235294117647, 0.3551764705882353, 0.3551764705882353, 0.6448235294117647, 0.6448235294117647, 0.3551764705882353, 0.6448235294117647, 0.6448235294117647, 0.6448235294117647, 0.3551764705882353, 0.3551764705882353, 0.6448235294117647, 0.6448235294117647, 0.3551764705882353, 0.6448235294117647, 0.6448235294117647, 0.3551764705882353, 0.6448235294117647, 0.3551764705882353, 0.6448235294117647, 0.6448235294117647, 0.3551764705882353, 0.6448235294117647, 0.3551764705882353, 0.6448235294117647, 0.3551764705882353, 0.6448235294117647, 0.3551764705882353, 0.6448235294117647, 0.3551764705882353, 0.6448235294117647, 0.6448235294117647, 0.6448235294117647, 0.6448235294117647, 0.6448235294117647, 0.6448235294117647, 0.3551764705882353, 0.3551764705882353, 0.6448235294117647, 0.3551764705882353, 0.6448235294117647, 0.3551764705882353, 0.3551764705882353, 0.3551764705882353, 0.6448235294117647, 0.6448235294117647, 0.6448235294117647, 0.3551764705882353, 0.6448235294117647, 0.6448235294117647, 0.6448235294117647, 0.3551764705882353, 0.3551764705882353, 0.6448235294117647, 0.3551764705882353, 0.6448235294117647, 0.6448235294117647, 0.3551764705882353, 0.6448235294117647, 0.6448235294117647, 0.6448235294117647, 0.6448235294117647, 0.3551764705882353, 0.6448235294117647, 0.6448235294117647, 0.6448235294117647, 0.3551764705882353, 0.6448235294117647, 0.6448235294117647, 0.3551764705882353, 0.6448235294117647, 0.3551764705882353, 0.6448235294117647, 0.3551764705882353, 0.6448235294117647, 0.6448235294117647, 0.6448235294117647, 0.6448235294117647, 0.3551764705882353, 0.3551764705882353, 0.6448235294117647, 0.3551764705882353, 0.3551764705882353, 0.6448235294117647, 0.3551764705882353, 0.3551764705882353, 0.3551764705882353, 0.6448235294117647, 0.6448235294117647, 0.6448235294117647, 0.6448235294117647, 0.3551764705882353, 0.6448235294117647, 0.6448235294117647, 0.3551764705882353, 0.3551764705882353, 0.3551764705882353, 0.6448235294117647, 0.6448235294117647, 0.6448235294117647, 0.3551764705882353, 0.3551764705882353, 0.6448235294117647, 0.6448235294117647, 0.6448235294117647, 0.6448235294117647, 0.6448235294117647, 0.6448235294117647, 0.6448235294117647, 0.6448235294117647, 0.3551764705882353, 0.3551764705882353, 0.6448235294117647, 0.3551764705882353, 0.3551764705882353, 0.3551764705882353, 0.6448235294117647, 0.6448235294117647, 0.3551764705882353, 0.6448235294117647, 0.6448235294117647, 0.6448235294117647, 0.6448235294117647, 0.6448235294117647, 0.3551764705882353, 0.6448235294117647, 0.6448235294117647, 0.6448235294117647, 0.3551764705882353, 0.6448235294117647, 0.3551764705882353, 0.3551764705882353, 0.3551764705882353, 0.6448235294117647, 0.6448235294117647, 0.6448235294117647, 0.3551764705882353, 0.3551764705882353, 0.3551764705882353, 0.3551764705882353, 0.6448235294117647, 0.6448235294117647, 0.3551764705882353, 0.6448235294117647, 0.6448235294117647, 0.3551764705882353, 0.6448235294117647, 0.6448235294117647, 0.6448235294117647, 0.3551764705882353, 0.6448235294117647, 0.6448235294117647, 0.6448235294117647, 0.3551764705882353, 0.6448235294117647, 0.6448235294117647, 0.6448235294117647, 0.3551764705882353, 0.6448235294117647, 0.3551764705882353, 0.6448235294117647, 0.6448235294117647, 0.6448235294117647, 0.6448235294117647, 0.6448235294117647, 0.3551764705882353, 0.3551764705882353, 0.6448235294117647, 0.3551764705882353, 0.3551764705882353, 0.6448235294117647, 0.6448235294117647, 0.6448235294117647, 0.6448235294117647, 0.6448235294117647, 0.6448235294117647, 0.6448235294117647, 0.6448235294117647, 0.6448235294117647, 0.6448235294117647, 0.6448235294117647, 0.3551764705882353, 0.6448235294117647, 0.6448235294117647, 0.6448235294117647, 0.6448235294117647, 0.3551764705882353, 0.6448235294117647, 0.3551764705882353, 0.6448235294117647, 0.3551764705882353, 0.6448235294117647, 0.3551764705882353, 0.6448235294117647, 0.3551764705882353, 0.3551764705882353, 0.6448235294117647, 0.3551764705882353, 0.6448235294117647, 0.6448235294117647, 0.6448235294117647, 0.6448235294117647, 0.3551764705882353, 0.6448235294117647, 0.6448235294117647, 0.6448235294117647, 0.6448235294117647, 0.6448235294117647, 0.3551764705882353, 0.3551764705882353, 0.3551764705882353, 0.6448235294117647, 0.6448235294117647, 0.6448235294117647, 0.6448235294117647, 0.3551764705882353, 0.3551764705882353, 0.6448235294117647, 0.6448235294117647, 0.6448235294117647, 0.3551764705882353, 0.6448235294117647, 0.6448235294117647, 0.3551764705882353, 0.6448235294117647, 0.6448235294117647, 0.3551764705882353, 0.3551764705882353, 0.6448235294117647, 0.6448235294117647, 0.6448235294117647, 0.3551764705882353, 0.6448235294117647, 0.6448235294117647, 0.6448235294117647, 0.3551764705882353, 0.3551764705882353, 0.6448235294117647, 0.6448235294117647, 0.6448235294117647, 0.6448235294117647, 0.6448235294117647, 0.6448235294117647, 0.6448235294117647, 0.6448235294117647, 0.3551764705882353, 0.6448235294117647, 0.6448235294117647, 0.6448235294117647, 0.6448235294117647, 0.3551764705882353, 0.6448235294117647, 0.3551764705882353, 0.3551764705882353, 0.3551764705882353, 0.3551764705882353, 0.6448235294117647, 0.6448235294117647, 0.6448235294117647, 0.6448235294117647, 0.6448235294117647, 0.6448235294117647, 0.6448235294117647, 0.6448235294117647, 0.3551764705882353, 0.6448235294117647, 0.6448235294117647, 0.6448235294117647, 0.3551764705882353, 0.6448235294117647, 0.6448235294117647, 0.6448235294117647, 0.6448235294117647, 0.6448235294117647, 0.6448235294117647, 0.6448235294117647, 0.3551764705882353, 0.3551764705882353, 0.3551764705882353, 0.6448235294117647, 0.6448235294117647, 0.6448235294117647, 0.6448235294117647, 0.6448235294117647, 0.6448235294117647, 0.6448235294117647, 0.6448235294117647, 0.3551764705882353, 0.3551764705882353, 0.3551764705882353, 0.6448235294117647, 0.3551764705882353, 0.6448235294117647, 0.3551764705882353, 0.3551764705882353, 0.6448235294117647, 0.6448235294117647, 0.6448235294117647, 0.6448235294117647, 0.3551764705882353, 0.3551764705882353, 0.6448235294117647, 0.6448235294117647, 0.6448235294117647, 0.6448235294117647, 0.3551764705882353, 0.6448235294117647, 0.6448235294117647, 0.6448235294117647, 0.3551764705882353, 0.6448235294117647, 0.6448235294117647, 0.3551764705882353, 0.6448235294117647, 0.6448235294117647, 0.6448235294117647, 0.3551764705882353, 0.6448235294117647, 0.6448235294117647, 0.6448235294117647, 0.6448235294117647, 0.3551764705882353, 0.6448235294117647, 0.3551764705882353, 0.3551764705882353, 0.6448235294117647, 0.3551764705882353, 0.6448235294117647, 0.3551764705882353, 0.3551764705882353, 0.6448235294117647, 0.3551764705882353, 0.3551764705882353, 0.3551764705882353, 0.3551764705882353, 0.6448235294117647, 0.6448235294117647, 0.3551764705882353, 0.6448235294117647, 0.6448235294117647, 0.6448235294117647, 0.3551764705882353, 0.3551764705882353, 0.3551764705882353, 0.3551764705882353, 0.6448235294117647, 0.6448235294117647, 0.3551764705882353, 0.3551764705882353, 0.6448235294117647, 0.6448235294117647, 0.6448235294117647, 0.6448235294117647, 0.6448235294117647, 0.6448235294117647, 0.3551764705882353, 0.3551764705882353, 0.3551764705882353, 0.6448235294117647, 0.3551764705882353, 0.3551764705882353, 0.6448235294117647, 0.6448235294117647, 0.6448235294117647, 0.6448235294117647, 0.6448235294117647, 0.6448235294117647, 0.6448235294117647, 0.6448235294117647, 0.6448235294117647, 0.3551764705882353, 0.6448235294117647, 0.6448235294117647, 0.6448235294117647, 0.6448235294117647, 0.6448235294117647, 0.6448235294117647, 0.6448235294117647, 0.6448235294117647, 0.6448235294117647, 0.3551764705882353, 0.6448235294117647, 0.6448235294117647, 0.6448235294117647, 0.6448235294117647, 0.6448235294117647, 0.6448235294117647, 0.6448235294117647, 0.3551764705882353, 0.6448235294117647, 0.6448235294117647, 0.3551764705882353, 0.6448235294117647, 0.6448235294117647, 0.3551764705882353, 0.6448235294117647, 0.6448235294117647, 0.6448235294117647, 0.3551764705882353, 0.6448235294117647, 0.6448235294117647, 0.3551764705882353, 0.6448235294117647, 0.6448235294117647, 0.3551764705882353, 0.3551764705882353, 0.6448235294117647, 0.6448235294117647, 0.6448235294117647, 0.6448235294117647, 0.6448235294117647, 0.6448235294117647, 0.6448235294117647, 0.6448235294117647, 0.6448235294117647, 0.3551764705882353, 0.3551764705882353, 0.6448235294117647, 0.6448235294117647, 0.3551764705882353, 0.6448235294117647, 0.6448235294117647, 0.6448235294117647, 0.6448235294117647, 0.6448235294117647, 0.3551764705882353, 0.3551764705882353, 0.3551764705882353, 0.6448235294117647, 0.6448235294117647, 0.3551764705882353, 0.6448235294117647, 0.3551764705882353, 0.3551764705882353, 0.3551764705882353, 0.6448235294117647, 0.6448235294117647, 0.6448235294117647, 0.3551764705882353, 0.3551764705882353, 0.6448235294117647, 0.6448235294117647, 0.6448235294117647, 0.3551764705882353, 0.6448235294117647, 0.3551764705882353, 0.6448235294117647, 0.3551764705882353, 0.6448235294117647, 0.6448235294117647, 0.3551764705882353, 0.3551764705882353, 0.6448235294117647, 0.3551764705882353, 0.6448235294117647, 0.6448235294117647, 0.6448235294117647, 0.3551764705882353, 0.6448235294117647, 0.6448235294117647, 0.3551764705882353, 0.3551764705882353, 0.6448235294117647, 0.6448235294117647, 0.6448235294117647, 0.6448235294117647, 0.6448235294117647, 0.3551764705882353, 0.6448235294117647, 0.3551764705882353, 0.3551764705882353, 0.6448235294117647, 0.6448235294117647, 0.6448235294117647, 0.6448235294117647, 0.3551764705882353, 0.6448235294117647, 0.3551764705882353, 0.6448235294117647, 0.6448235294117647, 0.3551764705882353, 0.6448235294117647, 0.6448235294117647, 0.6448235294117647, 0.3551764705882353, 0.6448235294117647, 0.6448235294117647, 0.6448235294117647, 0.6448235294117647, 0.3551764705882353, 0.6448235294117647, 0.3551764705882353, 0.3551764705882353, 0.6448235294117647, 0.6448235294117647, 0.3551764705882353, 0.6448235294117647, 0.6448235294117647, 0.3551764705882353, 0.6448235294117647, 0.3551764705882353, 0.6448235294117647, 0.3551764705882353, 0.6448235294117647, 0.6448235294117647, 0.3551764705882353, 0.6448235294117647, 0.3551764705882353, 0.6448235294117647, 0.6448235294117647, 0.6448235294117647, 0.6448235294117647, 0.6448235294117647, 0.3551764705882353, 0.6448235294117647, 0.6448235294117647, 0.6448235294117647, 0.3551764705882353, 0.6448235294117647, 0.6448235294117647, 0.6448235294117647, 0.6448235294117647, 0.3551764705882353, 0.3551764705882353, 0.6448235294117647, 0.6448235294117647, 0.6448235294117647, 0.3551764705882353, 0.6448235294117647, 0.6448235294117647, 0.3551764705882353, 0.6448235294117647, 0.6448235294117647, 0.6448235294117647, 0.3551764705882353, 0.3551764705882353, 0.6448235294117647, 0.6448235294117647, 0.6448235294117647, 0.3551764705882353, 0.3551764705882353, 0.6448235294117647, 0.3551764705882353, 0.6448235294117647, 0.6448235294117647, 0.3551764705882353, 0.3551764705882353, 0.3551764705882353, 0.6448235294117647, 0.6448235294117647, 0.3551764705882353, 0.6448235294117647, 0.3551764705882353, 0.3551764705882353, 0.6448235294117647, 0.6448235294117647, 0.6448235294117647, 0.3551764705882353, 0.6448235294117647, 0.3551764705882353, 0.6448235294117647, 0.6448235294117647, 0.6448235294117647, 0.6448235294117647, 0.3551764705882353, 0.3551764705882353, 0.3551764705882353, 0.6448235294117647, 0.3551764705882353, 0.6448235294117647, 0.3551764705882353, 0.6448235294117647, 0.3551764705882353, 0.3551764705882353, 0.6448235294117647, 0.6448235294117647, 0.6448235294117647, 0.3551764705882353, 0.3551764705882353, 0.6448235294117647, 0.3551764705882353, 0.6448235294117647, 0.3551764705882353, 0.6448235294117647, 0.6448235294117647, 0.6448235294117647, 0.3551764705882353, 0.6448235294117647, 0.6448235294117647, 0.3551764705882353, 0.6448235294117647, 0.6448235294117647, 0.6448235294117647, 0.3551764705882353, 0.3551764705882353, 0.3551764705882353, 0.6448235294117647, 0.6448235294117647, 0.6448235294117647, 0.6448235294117647, 0.6448235294117647, 0.6448235294117647, 0.3551764705882353, 0.3551764705882353, 0.3551764705882353, 0.6448235294117647, 0.6448235294117647, 0.3551764705882353, 0.3551764705882353, 0.6448235294117647, 0.3551764705882353, 0.6448235294117647, 0.6448235294117647, 0.6448235294117647, 0.6448235294117647, 0.6448235294117647, 0.6448235294117647, 0.3551764705882353, 0.3551764705882353, 0.6448235294117647, 0.6448235294117647, 0.3551764705882353, 0.6448235294117647, 0.6448235294117647, 0.3551764705882353, 0.6448235294117647, 0.6448235294117647, 0.3551764705882353, 0.3551764705882353, 0.6448235294117647, 0.6448235294117647, 0.6448235294117647, 0.6448235294117647, 0.3551764705882353, 0.3551764705882353, 0.6448235294117647, 0.6448235294117647, 0.3551764705882353, 0.3551764705882353, 0.3551764705882353, 0.3551764705882353, 0.3551764705882353, 0.6448235294117647, 0.3551764705882353, 0.3551764705882353, 0.6448235294117647, 0.6448235294117647, 0.6448235294117647, 0.6448235294117647, 0.3551764705882353, 0.6448235294117647, 0.6448235294117647, 0.6448235294117647, 0.3551764705882353, 0.6448235294117647, 0.6448235294117647, 0.6448235294117647, 0.6448235294117647, 0.6448235294117647, 0.3551764705882353, 0.3551764705882353, 0.6448235294117647, 0.6448235294117647, 0.6448235294117647, 0.3551764705882353, 0.6448235294117647, 0.6448235294117647, 0.3551764705882353, 0.6448235294117647, 0.3551764705882353, 0.6448235294117647, 0.6448235294117647, 0.6448235294117647, 0.3551764705882353, 0.6448235294117647, 0.6448235294117647, 0.3551764705882353, 0.6448235294117647, 0.3551764705882353, 0.3551764705882353, 0.6448235294117647, 0.3551764705882353, 0.3551764705882353, 0.6448235294117647, 0.3551764705882353, 0.6448235294117647, 0.3551764705882353, 0.3551764705882353, 0.6448235294117647, 0.6448235294117647, 0.3551764705882353, 0.3551764705882353, 0.6448235294117647, 0.3551764705882353, 0.3551764705882353, 0.6448235294117647, 0.6448235294117647, 0.6448235294117647, 0.6448235294117647, 0.6448235294117647, 0.3551764705882353, 0.3551764705882353, 0.6448235294117647, 0.3551764705882353, 0.6448235294117647, 0.6448235294117647, 0.6448235294117647, 0.6448235294117647, 0.6448235294117647, 0.3551764705882353, 0.3551764705882353, 0.6448235294117647, 0.6448235294117647, 0.3551764705882353, 0.3551764705882353, 0.6448235294117647, 0.3551764705882353, 0.6448235294117647, 0.6448235294117647, 0.3551764705882353, 0.6448235294117647, 0.6448235294117647, 0.6448235294117647, 0.3551764705882353, 0.6448235294117647, 0.6448235294117647, 0.6448235294117647, 0.3551764705882353, 0.3551764705882353, 0.6448235294117647, 0.6448235294117647, 0.3551764705882353, 0.6448235294117647, 0.6448235294117647, 0.6448235294117647, 0.6448235294117647, 0.6448235294117647, 0.6448235294117647, 0.3551764705882353, 0.6448235294117647, 0.6448235294117647, 0.3551764705882353, 0.3551764705882353, 0.3551764705882353, 0.3551764705882353, 0.3551764705882353, 0.6448235294117647, 0.6448235294117647, 0.3551764705882353, 0.6448235294117647, 0.6448235294117647, 0.6448235294117647, 0.6448235294117647, 0.3551764705882353, 0.3551764705882353, 0.6448235294117647, 0.3551764705882353, 0.6448235294117647, 0.6448235294117647, 0.3551764705882353, 0.6448235294117647, 0.6448235294117647, 0.6448235294117647, 0.6448235294117647, 0.6448235294117647, 0.6448235294117647, 0.6448235294117647, 0.6448235294117647, 0.3551764705882353, 0.6448235294117647, 0.6448235294117647, 0.6448235294117647, 0.6448235294117647, 0.6448235294117647, 0.6448235294117647, 0.6448235294117647, 0.6448235294117647, 0.6448235294117647, 0.6448235294117647, 0.6448235294117647, 0.6448235294117647, 0.6448235294117647, 0.3551764705882353, 0.6448235294117647, 0.6448235294117647, 0.6448235294117647, 0.3551764705882353, 0.3551764705882353, 0.3551764705882353, 0.3551764705882353, 0.6448235294117647, 0.6448235294117647, 0.6448235294117647, 0.3551764705882353, 0.6448235294117647, 0.3551764705882353, 0.6448235294117647, 0.3551764705882353, 0.6448235294117647, 0.3551764705882353, 0.3551764705882353, 0.3551764705882353, 0.3551764705882353, 0.6448235294117647, 0.6448235294117647, 0.3551764705882353, 0.3551764705882353, 0.6448235294117647, 0.6448235294117647, 0.3551764705882353, 0.3551764705882353, 0.6448235294117647, 0.3551764705882353, 0.6448235294117647, 0.6448235294117647, 0.6448235294117647, 0.3551764705882353, 0.6448235294117647, 0.6448235294117647, 0.3551764705882353, 0.3551764705882353, 0.6448235294117647, 0.6448235294117647, 0.6448235294117647, 0.3551764705882353, 0.6448235294117647, 0.6448235294117647, 0.6448235294117647, 0.6448235294117647, 0.6448235294117647, 0.3551764705882353, 0.3551764705882353, 0.3551764705882353, 0.3551764705882353, 0.6448235294117647, 0.6448235294117647, 0.3551764705882353, 0.6448235294117647, 0.3551764705882353, 0.6448235294117647, 0.6448235294117647, 0.6448235294117647, 0.3551764705882353, 0.3551764705882353, 0.6448235294117647, 0.6448235294117647, 0.3551764705882353, 0.6448235294117647, 0.6448235294117647, 0.6448235294117647, 0.6448235294117647, 0.6448235294117647, 0.3551764705882353, 0.6448235294117647, 0.6448235294117647, 0.6448235294117647, 0.6448235294117647, 0.6448235294117647, 0.6448235294117647, 0.6448235294117647, 0.6448235294117647, 0.3551764705882353, 0.6448235294117647, 0.6448235294117647, 0.3551764705882353, 0.6448235294117647, 0.3551764705882353, 0.3551764705882353, 0.6448235294117647, 0.6448235294117647, 0.6448235294117647, 0.6448235294117647, 0.6448235294117647, 0.6448235294117647, 0.3551764705882353, 0.6448235294117647, 0.6448235294117647, 0.6448235294117647, 0.6448235294117647, 0.6448235294117647, 0.3551764705882353, 0.3551764705882353, 0.3551764705882353, 0.6448235294117647, 0.6448235294117647, 0.3551764705882353, 0.6448235294117647, 0.6448235294117647, 0.6448235294117647, 0.3551764705882353, 0.6448235294117647, 0.6448235294117647, 0.6448235294117647, 0.6448235294117647, 0.3551764705882353, 0.6448235294117647, 0.3551764705882353, 0.6448235294117647, 0.6448235294117647, 0.6448235294117647, 0.3551764705882353, 0.3551764705882353, 0.3551764705882353, 0.6448235294117647, 0.6448235294117647, 0.6448235294117647, 0.6448235294117647, 0.6448235294117647, 0.6448235294117647, 0.6448235294117647, 0.6448235294117647, 0.3551764705882353, 0.6448235294117647, 0.3551764705882353, 0.3551764705882353, 0.3551764705882353, 0.6448235294117647, 0.6448235294117647, 0.6448235294117647, 0.3551764705882353, 0.6448235294117647, 0.6448235294117647, 0.6448235294117647, 0.6448235294117647, 0.3551764705882353, 0.3551764705882353, 0.6448235294117647, 0.3551764705882353, 0.3551764705882353, 0.6448235294117647, 0.3551764705882353, 0.6448235294117647, 0.6448235294117647, 0.6448235294117647, 0.3551764705882353, 0.3551764705882353, 0.6448235294117647, 0.6448235294117647, 0.3551764705882353, 0.6448235294117647, 0.6448235294117647, 0.3551764705882353, 0.6448235294117647, 0.3551764705882353, 0.6448235294117647, 0.3551764705882353, 0.3551764705882353, 0.6448235294117647, 0.3551764705882353, 0.6448235294117647, 0.6448235294117647, 0.3551764705882353, 0.3551764705882353, 0.3551764705882353, 0.6448235294117647, 0.6448235294117647, 0.6448235294117647, 0.3551764705882353, 0.6448235294117647, 0.6448235294117647, 0.3551764705882353, 0.3551764705882353, 0.6448235294117647, 0.6448235294117647, 0.6448235294117647, 0.6448235294117647, 0.3551764705882353, 0.6448235294117647, 0.6448235294117647, 0.6448235294117647, 0.6448235294117647, 0.6448235294117647, 0.6448235294117647, 0.3551764705882353, 0.3551764705882353, 0.6448235294117647, 0.6448235294117647, 0.6448235294117647, 0.3551764705882353, 0.6448235294117647, 0.3551764705882353, 0.6448235294117647, 0.6448235294117647, 0.6448235294117647, 0.6448235294117647, 0.3551764705882353, 0.3551764705882353, 0.6448235294117647, 0.6448235294117647, 0.3551764705882353, 0.6448235294117647, 0.6448235294117647, 0.6448235294117647, 0.3551764705882353, 0.3551764705882353, 0.6448235294117647, 0.6448235294117647, 0.6448235294117647, 0.6448235294117647, 0.6448235294117647, 0.6448235294117647, 0.6448235294117647, 0.3551764705882353, 0.3551764705882353, 0.3551764705882353, 0.3551764705882353, 0.6448235294117647, 0.6448235294117647, 0.6448235294117647, 0.3551764705882353, 0.6448235294117647, 0.3551764705882353, 0.3551764705882353, 0.6448235294117647, 0.3551764705882353, 0.3551764705882353, 0.6448235294117647, 0.6448235294117647, 0.6448235294117647, 0.6448235294117647, 0.3551764705882353, 0.6448235294117647, 0.6448235294117647, 0.6448235294117647, 0.6448235294117647, 0.3551764705882353, 0.3551764705882353, 0.6448235294117647, 0.6448235294117647, 0.6448235294117647, 0.6448235294117647, 0.3551764705882353, 0.6448235294117647, 0.6448235294117647, 0.6448235294117647, 0.6448235294117647, 0.6448235294117647, 0.6448235294117647, 0.6448235294117647, 0.6448235294117647, 0.6448235294117647, 0.3551764705882353, 0.3551764705882353, 0.6448235294117647, 0.6448235294117647, 0.6448235294117647, 0.6448235294117647, 0.6448235294117647, 0.6448235294117647, 0.6448235294117647, 0.6448235294117647, 0.3551764705882353, 0.6448235294117647, 0.3551764705882353, 0.6448235294117647, 0.6448235294117647, 0.3551764705882353, 0.3551764705882353, 0.6448235294117647, 0.3551764705882353, 0.6448235294117647, 0.3551764705882353, 0.3551764705882353, 0.6448235294117647, 0.3551764705882353, 0.6448235294117647, 0.3551764705882353, 0.6448235294117647, 0.6448235294117647, 0.6448235294117647, 0.3551764705882353, 0.6448235294117647, 0.6448235294117647, 0.3551764705882353, 0.6448235294117647, 0.3551764705882353, 0.6448235294117647, 0.6448235294117647, 0.6448235294117647, 0.6448235294117647, 0.6448235294117647, 0.6448235294117647, 0.3551764705882353, 0.6448235294117647, 0.6448235294117647, 0.6448235294117647, 0.6448235294117647, 0.6448235294117647, 0.3551764705882353, 0.6448235294117647, 0.3551764705882353, 0.6448235294117647, 0.3551764705882353, 0.3551764705882353, 0.6448235294117647, 0.3551764705882353, 0.3551764705882353, 0.6448235294117647, 0.3551764705882353, 0.3551764705882353, 0.3551764705882353, 0.6448235294117647, 0.6448235294117647, 0.3551764705882353, 0.6448235294117647, 0.6448235294117647, 0.3551764705882353, 0.6448235294117647, 0.6448235294117647, 0.6448235294117647, 0.6448235294117647, 0.3551764705882353, 0.6448235294117647, 0.3551764705882353, 0.6448235294117647, 0.3551764705882353, 0.3551764705882353, 0.6448235294117647, 0.6448235294117647, 0.6448235294117647, 0.6448235294117647, 0.6448235294117647, 0.3551764705882353, 0.3551764705882353, 0.6448235294117647, 0.6448235294117647, 0.6448235294117647, 0.3551764705882353, 0.6448235294117647, 0.6448235294117647, 0.6448235294117647, 0.6448235294117647, 0.6448235294117647, 0.6448235294117647, 0.3551764705882353, 0.3551764705882353, 0.3551764705882353, 0.3551764705882353, 0.3551764705882353, 0.6448235294117647, 0.6448235294117647, 0.3551764705882353, 0.3551764705882353, 0.3551764705882353, 0.6448235294117647, 0.6448235294117647, 0.3551764705882353, 0.3551764705882353, 0.6448235294117647, 0.6448235294117647, 0.6448235294117647, 0.6448235294117647, 0.3551764705882353, 0.6448235294117647, 0.6448235294117647, 0.6448235294117647, 0.6448235294117647, 0.6448235294117647, 0.6448235294117647, 0.6448235294117647, 0.6448235294117647, 0.6448235294117647, 0.6448235294117647, 0.6448235294117647, 0.6448235294117647, 0.3551764705882353, 0.6448235294117647, 0.3551764705882353, 0.6448235294117647, 0.3551764705882353, 0.6448235294117647, 0.6448235294117647, 0.6448235294117647, 0.6448235294117647, 0.6448235294117647, 0.3551764705882353, 0.6448235294117647, 0.6448235294117647, 0.6448235294117647, 0.3551764705882353, 0.3551764705882353, 0.6448235294117647, 0.3551764705882353, 0.3551764705882353, 0.6448235294117647, 0.6448235294117647, 0.6448235294117647, 0.6448235294117647, 0.3551764705882353, 0.6448235294117647, 0.3551764705882353, 0.3551764705882353, 0.6448235294117647, 0.6448235294117647, 0.6448235294117647, 0.6448235294117647, 0.3551764705882353, 0.6448235294117647, 0.6448235294117647, 0.6448235294117647, 0.3551764705882353, 0.6448235294117647, 0.3551764705882353, 0.6448235294117647, 0.6448235294117647, 0.3551764705882353, 0.6448235294117647, 0.6448235294117647, 0.6448235294117647, 0.6448235294117647, 0.6448235294117647, 0.6448235294117647, 0.6448235294117647, 0.6448235294117647, 0.6448235294117647, 0.6448235294117647, 0.6448235294117647, 0.3551764705882353, 0.3551764705882353, 0.3551764705882353, 0.6448235294117647, 0.6448235294117647, 0.6448235294117647, 0.6448235294117647, 0.3551764705882353, 0.3551764705882353, 0.6448235294117647, 0.3551764705882353, 0.6448235294117647, 0.3551764705882353, 0.3551764705882353, 0.3551764705882353, 0.6448235294117647, 0.6448235294117647, 0.3551764705882353, 0.6448235294117647, 0.3551764705882353, 0.3551764705882353, 0.6448235294117647, 0.6448235294117647, 0.3551764705882353, 0.6448235294117647, 0.6448235294117647, 0.6448235294117647, 0.3551764705882353, 0.6448235294117647, 0.6448235294117647, 0.6448235294117647, 0.3551764705882353, 0.6448235294117647, 0.6448235294117647, 0.6448235294117647, 0.6448235294117647, 0.6448235294117647, 0.6448235294117647, 0.3551764705882353, 0.6448235294117647, 0.6448235294117647, 0.6448235294117647, 0.3551764705882353, 0.6448235294117647, 0.6448235294117647, 0.6448235294117647, 0.6448235294117647, 0.6448235294117647, 0.3551764705882353, 0.6448235294117647, 0.3551764705882353, 0.3551764705882353, 0.3551764705882353, 0.3551764705882353, 0.6448235294117647, 0.6448235294117647, 0.6448235294117647, 0.3551764705882353, 0.3551764705882353, 0.6448235294117647, 0.3551764705882353, 0.3551764705882353, 0.3551764705882353, 0.3551764705882353, 0.3551764705882353, 0.6448235294117647, 0.6448235294117647, 0.3551764705882353, 0.3551764705882353, 0.3551764705882353, 0.3551764705882353, 0.3551764705882353, 0.6448235294117647, 0.6448235294117647, 0.3551764705882353, 0.6448235294117647, 0.6448235294117647, 0.6448235294117647, 0.6448235294117647, 0.6448235294117647, 0.6448235294117647, 0.6448235294117647, 0.6448235294117647, 0.6448235294117647, 0.6448235294117647, 0.3551764705882353, 0.3551764705882353, 0.6448235294117647, 0.6448235294117647, 0.6448235294117647, 0.6448235294117647, 0.3551764705882353, 0.3551764705882353, 0.6448235294117647, 0.6448235294117647, 0.3551764705882353, 0.3551764705882353, 0.3551764705882353, 0.6448235294117647, 0.6448235294117647, 0.3551764705882353, 0.6448235294117647, 0.6448235294117647, 0.3551764705882353, 0.6448235294117647, 0.6448235294117647, 0.3551764705882353, 0.6448235294117647, 0.6448235294117647, 0.3551764705882353, 0.6448235294117647, 0.6448235294117647, 0.6448235294117647, 0.6448235294117647, 0.6448235294117647, 0.6448235294117647, 0.3551764705882353, 0.6448235294117647, 0.6448235294117647, 0.6448235294117647, 0.6448235294117647, 0.6448235294117647, 0.6448235294117647, 0.3551764705882353, 0.3551764705882353, 0.3551764705882353, 0.3551764705882353, 0.6448235294117647, 0.6448235294117647, 0.6448235294117647, 0.3551764705882353, 0.3551764705882353, 0.3551764705882353, 0.6448235294117647, 0.6448235294117647, 0.6448235294117647, 0.6448235294117647, 0.6448235294117647, 0.6448235294117647, 0.3551764705882353, 0.6448235294117647, 0.6448235294117647, 0.3551764705882353, 0.3551764705882353, 0.3551764705882353, 0.6448235294117647, 0.6448235294117647, 0.3551764705882353, 0.6448235294117647, 0.6448235294117647, 0.6448235294117647, 0.3551764705882353, 0.3551764705882353, 0.6448235294117647, 0.3551764705882353, 0.3551764705882353, 0.6448235294117647, 0.6448235294117647, 0.6448235294117647, 0.6448235294117647, 0.6448235294117647, 0.3551764705882353, 0.6448235294117647, 0.3551764705882353, 0.6448235294117647, 0.6448235294117647, 0.6448235294117647, 0.3551764705882353, 0.6448235294117647, 0.3551764705882353, 0.6448235294117647, 0.6448235294117647, 0.6448235294117647, 0.3551764705882353, 0.6448235294117647, 0.6448235294117647, 0.6448235294117647, 0.3551764705882353, 0.6448235294117647, 0.6448235294117647, 0.6448235294117647, 0.3551764705882353, 0.3551764705882353, 0.6448235294117647, 0.6448235294117647, 0.3551764705882353, 0.6448235294117647, 0.6448235294117647, 0.3551764705882353, 0.6448235294117647, 0.6448235294117647, 0.6448235294117647, 0.3551764705882353, 0.6448235294117647, 0.3551764705882353, 0.6448235294117647, 0.3551764705882353, 0.6448235294117647, 0.3551764705882353, 0.3551764705882353, 0.6448235294117647, 0.6448235294117647, 0.3551764705882353, 0.6448235294117647, 0.3551764705882353, 0.6448235294117647, 0.3551764705882353, 0.3551764705882353, 0.3551764705882353, 0.6448235294117647, 0.6448235294117647, 0.6448235294117647, 0.6448235294117647, 0.6448235294117647, 0.6448235294117647, 0.6448235294117647, 0.3551764705882353, 0.3551764705882353, 0.6448235294117647, 0.6448235294117647, 0.6448235294117647, 0.6448235294117647, 0.3551764705882353, 0.3551764705882353, 0.6448235294117647, 0.6448235294117647, 0.6448235294117647, 0.6448235294117647, 0.6448235294117647, 0.6448235294117647, 0.6448235294117647, 0.6448235294117647, 0.3551764705882353, 0.3551764705882353, 0.6448235294117647, 0.6448235294117647, 0.6448235294117647, 0.6448235294117647, 0.3551764705882353, 0.6448235294117647, 0.6448235294117647, 0.6448235294117647, 0.6448235294117647, 0.6448235294117647, 0.6448235294117647, 0.6448235294117647, 0.6448235294117647, 0.3551764705882353, 0.6448235294117647, 0.6448235294117647, 0.6448235294117647, 0.6448235294117647, 0.6448235294117647, 0.6448235294117647, 0.6448235294117647, 0.6448235294117647, 0.6448235294117647, 0.6448235294117647, 0.6448235294117647, 0.3551764705882353, 0.3551764705882353, 0.6448235294117647, 0.6448235294117647, 0.6448235294117647, 0.6448235294117647, 0.6448235294117647, 0.6448235294117647, 0.6448235294117647, 0.3551764705882353, 0.6448235294117647, 0.6448235294117647, 0.3551764705882353, 0.6448235294117647, 0.6448235294117647, 0.6448235294117647, 0.6448235294117647, 0.3551764705882353, 0.3551764705882353, 0.3551764705882353, 0.6448235294117647, 0.6448235294117647, 0.3551764705882353, 0.6448235294117647, 0.6448235294117647, 0.6448235294117647, 0.3551764705882353, 0.3551764705882353, 0.6448235294117647, 0.3551764705882353, 0.3551764705882353, 0.3551764705882353, 0.6448235294117647, 0.6448235294117647, 0.6448235294117647, 0.6448235294117647, 0.3551764705882353, 0.3551764705882353, 0.6448235294117647, 0.6448235294117647, 0.6448235294117647, 0.3551764705882353, 0.6448235294117647, 0.3551764705882353, 0.6448235294117647, 0.3551764705882353, 0.6448235294117647, 0.6448235294117647, 0.6448235294117647, 0.6448235294117647, 0.6448235294117647, 0.3551764705882353, 0.6448235294117647, 0.6448235294117647, 0.6448235294117647, 0.6448235294117647, 0.6448235294117647, 0.6448235294117647, 0.6448235294117647, 0.6448235294117647, 0.6448235294117647, 0.6448235294117647, 0.3551764705882353, 0.6448235294117647, 0.3551764705882353, 0.3551764705882353, 0.6448235294117647, 0.6448235294117647, 0.6448235294117647, 0.6448235294117647, 0.3551764705882353, 0.3551764705882353, 0.3551764705882353, 0.6448235294117647, 0.3551764705882353, 0.6448235294117647, 0.6448235294117647, 0.6448235294117647, 0.6448235294117647, 0.3551764705882353, 0.3551764705882353, 0.6448235294117647, 0.6448235294117647, 0.6448235294117647, 0.6448235294117647, 0.3551764705882353, 0.3551764705882353, 0.6448235294117647, 0.6448235294117647, 0.6448235294117647, 0.6448235294117647, 0.6448235294117647, 0.6448235294117647, 0.6448235294117647, 0.3551764705882353, 0.3551764705882353, 0.6448235294117647, 0.3551764705882353, 0.6448235294117647, 0.3551764705882353, 0.6448235294117647, 0.3551764705882353, 0.6448235294117647, 0.6448235294117647, 0.6448235294117647, 0.3551764705882353, 0.6448235294117647, 0.3551764705882353, 0.6448235294117647, 0.6448235294117647, 0.3551764705882353, 0.6448235294117647, 0.3551764705882353, 0.6448235294117647, 0.3551764705882353, 0.6448235294117647, 0.6448235294117647, 0.6448235294117647, 0.6448235294117647, 0.3551764705882353, 0.3551764705882353, 0.3551764705882353, 0.6448235294117647, 0.3551764705882353, 0.3551764705882353, 0.6448235294117647, 0.6448235294117647, 0.6448235294117647, 0.6448235294117647, 0.3551764705882353, 0.6448235294117647, 0.6448235294117647, 0.6448235294117647, 0.6448235294117647, 0.6448235294117647, 0.6448235294117647, 0.6448235294117647, 0.3551764705882353, 0.6448235294117647, 0.3551764705882353, 0.6448235294117647, 0.6448235294117647, 0.3551764705882353, 0.6448235294117647, 0.6448235294117647, 0.6448235294117647, 0.3551764705882353, 0.6448235294117647, 0.3551764705882353, 0.3551764705882353, 0.3551764705882353, 0.6448235294117647, 0.3551764705882353, 0.6448235294117647, 0.6448235294117647, 0.6448235294117647, 0.3551764705882353, 0.6448235294117647, 0.6448235294117647, 0.6448235294117647, 0.6448235294117647, 0.6448235294117647, 0.6448235294117647, 0.6448235294117647, 0.3551764705882353, 0.6448235294117647, 0.6448235294117647, 0.3551764705882353, 0.6448235294117647, 0.6448235294117647, 0.3551764705882353, 0.3551764705882353, 0.3551764705882353, 0.3551764705882353, 0.6448235294117647, 0.6448235294117647, 0.6448235294117647, 0.6448235294117647, 0.6448235294117647, 0.6448235294117647, 0.3551764705882353, 0.6448235294117647, 0.6448235294117647, 0.6448235294117647, 0.3551764705882353, 0.6448235294117647, 0.6448235294117647, 0.6448235294117647, 0.6448235294117647, 0.6448235294117647, 0.6448235294117647, 0.6448235294117647, 0.6448235294117647, 0.6448235294117647, 0.3551764705882353, 0.3551764705882353, 0.6448235294117647, 0.3551764705882353, 0.6448235294117647, 0.6448235294117647, 0.6448235294117647, 0.6448235294117647, 0.3551764705882353, 0.3551764705882353, 0.6448235294117647, 0.3551764705882353, 0.6448235294117647, 0.6448235294117647, 0.6448235294117647, 0.6448235294117647, 0.6448235294117647, 0.6448235294117647, 0.6448235294117647, 0.6448235294117647, 0.6448235294117647, 0.6448235294117647, 0.6448235294117647, 0.3551764705882353, 0.6448235294117647, 0.6448235294117647, 0.3551764705882353, 0.6448235294117647, 0.6448235294117647, 0.3551764705882353, 0.6448235294117647, 0.3551764705882353, 0.6448235294117647, 0.6448235294117647, 0.3551764705882353, 0.6448235294117647, 0.6448235294117647, 0.3551764705882353, 0.3551764705882353, 0.6448235294117647, 0.6448235294117647, 0.6448235294117647, 0.6448235294117647, 0.3551764705882353, 0.6448235294117647, 0.3551764705882353, 0.6448235294117647, 0.3551764705882353, 0.6448235294117647, 0.6448235294117647, 0.6448235294117647, 0.3551764705882353, 0.6448235294117647, 0.3551764705882353, 0.3551764705882353, 0.6448235294117647, 0.6448235294117647, 0.6448235294117647, 0.6448235294117647, 0.3551764705882353, 0.6448235294117647, 0.6448235294117647, 0.6448235294117647, 0.3551764705882353, 0.6448235294117647, 0.6448235294117647, 0.3551764705882353, 0.3551764705882353, 0.6448235294117647, 0.3551764705882353, 0.6448235294117647, 0.3551764705882353, 0.6448235294117647, 0.6448235294117647, 0.3551764705882353, 0.6448235294117647, 0.3551764705882353, 0.3551764705882353, 0.6448235294117647, 0.3551764705882353, 0.6448235294117647, 0.6448235294117647, 0.6448235294117647, 0.6448235294117647, 0.6448235294117647, 0.6448235294117647, 0.3551764705882353, 0.6448235294117647, 0.3551764705882353, 0.6448235294117647, 0.6448235294117647, 0.3551764705882353, 0.6448235294117647, 0.6448235294117647, 0.6448235294117647, 0.6448235294117647, 0.6448235294117647, 0.3551764705882353, 0.6448235294117647, 0.6448235294117647, 0.6448235294117647, 0.6448235294117647, 0.6448235294117647, 0.3551764705882353, 0.6448235294117647, 0.3551764705882353, 0.3551764705882353, 0.6448235294117647, 0.6448235294117647, 0.6448235294117647, 0.3551764705882353, 0.3551764705882353, 0.6448235294117647, 0.6448235294117647, 0.3551764705882353, 0.6448235294117647, 0.6448235294117647, 0.6448235294117647, 0.6448235294117647, 0.6448235294117647, 0.6448235294117647, 0.6448235294117647, 0.6448235294117647, 0.3551764705882353, 0.6448235294117647, 0.6448235294117647, 0.6448235294117647, 0.3551764705882353, 0.3551764705882353, 0.3551764705882353, 0.6448235294117647, 0.3551764705882353, 0.6448235294117647, 0.6448235294117647, 0.3551764705882353, 0.6448235294117647, 0.6448235294117647, 0.3551764705882353, 0.6448235294117647, 0.6448235294117647, 0.6448235294117647, 0.6448235294117647, 0.6448235294117647, 0.3551764705882353, 0.3551764705882353, 0.6448235294117647, 0.6448235294117647, 0.6448235294117647, 0.6448235294117647, 0.3551764705882353, 0.6448235294117647, 0.6448235294117647, 0.6448235294117647, 0.6448235294117647, 0.6448235294117647, 0.3551764705882353, 0.6448235294117647, 0.3551764705882353, 0.3551764705882353, 0.6448235294117647, 0.3551764705882353, 0.3551764705882353, 0.6448235294117647, 0.6448235294117647, 0.3551764705882353, 0.6448235294117647, 0.3551764705882353, 0.3551764705882353, 0.6448235294117647, 0.3551764705882353, 0.3551764705882353, 0.3551764705882353, 0.6448235294117647, 0.6448235294117647, 0.3551764705882353, 0.3551764705882353, 0.6448235294117647, 0.6448235294117647, 0.3551764705882353, 0.3551764705882353, 0.6448235294117647, 0.3551764705882353, 0.6448235294117647, 0.6448235294117647, 0.6448235294117647, 0.3551764705882353, 0.6448235294117647, 0.6448235294117647, 0.3551764705882353, 0.3551764705882353, 0.6448235294117647, 0.6448235294117647, 0.6448235294117647, 0.6448235294117647, 0.3551764705882353, 0.3551764705882353, 0.6448235294117647, 0.6448235294117647, 0.6448235294117647, 0.3551764705882353, 0.6448235294117647, 0.6448235294117647, 0.6448235294117647, 0.3551764705882353, 0.6448235294117647, 0.6448235294117647, 0.6448235294117647, 0.3551764705882353, 0.3551764705882353, 0.6448235294117647, 0.3551764705882353, 0.6448235294117647, 0.6448235294117647, 0.3551764705882353, 0.3551764705882353, 0.6448235294117647, 0.3551764705882353, 0.3551764705882353, 0.6448235294117647, 0.3551764705882353, 0.6448235294117647, 0.6448235294117647, 0.3551764705882353, 0.6448235294117647, 0.6448235294117647, 0.6448235294117647, 0.3551764705882353, 0.6448235294117647, 0.6448235294117647, 0.6448235294117647, 0.6448235294117647, 0.6448235294117647, 0.6448235294117647, 0.3551764705882353, 0.6448235294117647, 0.6448235294117647, 0.6448235294117647, 0.3551764705882353, 0.6448235294117647, 0.6448235294117647, 0.6448235294117647, 0.3551764705882353, 0.6448235294117647, 0.3551764705882353, 0.6448235294117647, 0.3551764705882353, 0.6448235294117647, 0.6448235294117647, 0.6448235294117647, 0.6448235294117647, 0.6448235294117647, 0.6448235294117647, 0.6448235294117647, 0.3551764705882353, 0.3551764705882353, 0.3551764705882353, 0.6448235294117647, 0.6448235294117647, 0.3551764705882353, 0.3551764705882353, 0.6448235294117647, 0.6448235294117647, 0.3551764705882353, 0.3551764705882353, 0.6448235294117647, 0.3551764705882353, 0.3551764705882353, 0.3551764705882353, 0.3551764705882353, 0.3551764705882353, 0.6448235294117647, 0.6448235294117647, 0.3551764705882353, 0.6448235294117647, 0.6448235294117647, 0.3551764705882353, 0.3551764705882353, 0.3551764705882353, 0.3551764705882353, 0.3551764705882353, 0.3551764705882353, 0.6448235294117647, 0.3551764705882353, 0.3551764705882353, 0.3551764705882353, 0.3551764705882353, 0.6448235294117647, 0.6448235294117647, 0.3551764705882353, 0.3551764705882353, 0.6448235294117647, 0.6448235294117647, 0.6448235294117647, 0.6448235294117647, 0.3551764705882353, 0.3551764705882353, 0.6448235294117647, 0.6448235294117647, 0.6448235294117647, 0.6448235294117647, 0.6448235294117647, 0.3551764705882353, 0.3551764705882353, 0.6448235294117647, 0.6448235294117647, 0.6448235294117647, 0.6448235294117647, 0.6448235294117647, 0.6448235294117647, 0.6448235294117647, 0.6448235294117647, 0.3551764705882353, 0.6448235294117647, 0.6448235294117647, 0.3551764705882353, 0.6448235294117647, 0.3551764705882353, 0.3551764705882353, 0.3551764705882353, 0.3551764705882353, 0.3551764705882353, 0.6448235294117647, 0.6448235294117647, 0.6448235294117647, 0.3551764705882353, 0.6448235294117647, 0.6448235294117647, 0.6448235294117647, 0.6448235294117647, 0.6448235294117647, 0.6448235294117647, 0.6448235294117647, 0.6448235294117647, 0.3551764705882353, 0.6448235294117647, 0.3551764705882353, 0.3551764705882353, 0.3551764705882353, 0.3551764705882353, 0.3551764705882353, 0.3551764705882353, 0.3551764705882353, 0.6448235294117647, 0.6448235294117647, 0.3551764705882353, 0.6448235294117647, 0.3551764705882353, 0.6448235294117647, 0.6448235294117647, 0.6448235294117647, 0.6448235294117647, 0.6448235294117647, 0.6448235294117647, 0.6448235294117647, 0.6448235294117647, 0.3551764705882353, 0.3551764705882353, 0.3551764705882353, 0.6448235294117647, 0.6448235294117647, 0.6448235294117647, 0.3551764705882353, 0.6448235294117647, 0.6448235294117647, 0.6448235294117647, 0.6448235294117647, 0.3551764705882353, 0.6448235294117647, 0.6448235294117647, 0.3551764705882353, 0.6448235294117647, 0.3551764705882353, 0.6448235294117647, 0.3551764705882353, 0.6448235294117647, 0.6448235294117647, 0.3551764705882353, 0.6448235294117647, 0.6448235294117647, 0.6448235294117647, 0.6448235294117647, 0.3551764705882353, 0.6448235294117647, 0.3551764705882353, 0.6448235294117647, 0.6448235294117647, 0.3551764705882353, 0.6448235294117647, 0.3551764705882353, 0.6448235294117647, 0.6448235294117647, 0.6448235294117647, 0.6448235294117647, 0.6448235294117647, 0.6448235294117647, 0.6448235294117647, 0.6448235294117647, 0.3551764705882353, 0.6448235294117647, 0.3551764705882353, 0.6448235294117647, 0.6448235294117647, 0.6448235294117647, 0.3551764705882353, 0.3551764705882353, 0.6448235294117647, 0.6448235294117647, 0.6448235294117647, 0.6448235294117647, 0.6448235294117647, 0.6448235294117647, 0.3551764705882353, 0.6448235294117647, 0.3551764705882353, 0.6448235294117647, 0.6448235294117647, 0.6448235294117647, 0.3551764705882353, 0.6448235294117647, 0.6448235294117647, 0.6448235294117647, 0.6448235294117647, 0.6448235294117647, 0.3551764705882353, 0.6448235294117647, 0.6448235294117647, 0.6448235294117647, 0.3551764705882353, 0.6448235294117647, 0.6448235294117647, 0.6448235294117647, 0.6448235294117647, 0.6448235294117647, 0.6448235294117647, 0.3551764705882353, 0.6448235294117647, 0.6448235294117647, 0.3551764705882353, 0.6448235294117647, 0.3551764705882353, 0.6448235294117647, 0.3551764705882353, 0.6448235294117647, 0.3551764705882353, 0.3551764705882353, 0.6448235294117647, 0.6448235294117647, 0.6448235294117647, 0.3551764705882353, 0.3551764705882353, 0.3551764705882353, 0.6448235294117647, 0.3551764705882353, 0.6448235294117647, 0.3551764705882353, 0.3551764705882353, 0.3551764705882353, 0.6448235294117647, 0.6448235294117647, 0.3551764705882353, 0.6448235294117647, 0.6448235294117647, 0.6448235294117647, 0.3551764705882353, 0.6448235294117647, 0.6448235294117647, 0.6448235294117647, 0.6448235294117647, 0.6448235294117647, 0.6448235294117647, 0.6448235294117647, 0.6448235294117647, 0.3551764705882353, 0.6448235294117647, 0.6448235294117647, 0.6448235294117647, 0.6448235294117647, 0.6448235294117647, 0.6448235294117647, 0.3551764705882353, 0.3551764705882353, 0.6448235294117647, 0.6448235294117647, 0.6448235294117647, 0.3551764705882353, 0.3551764705882353, 0.3551764705882353, 0.6448235294117647, 0.6448235294117647, 0.3551764705882353, 0.3551764705882353, 0.6448235294117647, 0.3551764705882353, 0.6448235294117647, 0.6448235294117647, 0.6448235294117647, 0.6448235294117647, 0.6448235294117647, 0.3551764705882353, 0.6448235294117647, 0.6448235294117647, 0.3551764705882353, 0.3551764705882353, 0.6448235294117647, 0.3551764705882353, 0.6448235294117647, 0.3551764705882353, 0.3551764705882353, 0.6448235294117647, 0.6448235294117647, 0.6448235294117647, 0.3551764705882353, 0.6448235294117647, 0.3551764705882353, 0.6448235294117647, 0.6448235294117647, 0.6448235294117647, 0.6448235294117647, 0.6448235294117647, 0.6448235294117647, 0.3551764705882353, 0.6448235294117647, 0.6448235294117647, 0.3551764705882353, 0.6448235294117647, 0.3551764705882353, 0.6448235294117647, 0.6448235294117647, 0.6448235294117647, 0.6448235294117647, 0.6448235294117647, 0.6448235294117647, 0.6448235294117647, 0.6448235294117647, 0.6448235294117647, 0.6448235294117647, 0.6448235294117647, 0.6448235294117647, 0.6448235294117647, 0.3551764705882353, 0.6448235294117647, 0.6448235294117647, 0.6448235294117647, 0.6448235294117647, 0.6448235294117647, 0.6448235294117647, 0.6448235294117647, 0.6448235294117647, 0.6448235294117647, 0.3551764705882353, 0.6448235294117647, 0.3551764705882353, 0.3551764705882353, 0.6448235294117647, 0.6448235294117647, 0.6448235294117647, 0.3551764705882353, 0.3551764705882353, 0.6448235294117647, 0.3551764705882353, 0.3551764705882353, 0.3551764705882353, 0.3551764705882353, 0.6448235294117647, 0.3551764705882353, 0.3551764705882353, 0.3551764705882353, 0.6448235294117647, 0.3551764705882353, 0.6448235294117647, 0.6448235294117647, 0.6448235294117647, 0.6448235294117647, 0.6448235294117647, 0.6448235294117647, 0.3551764705882353, 0.6448235294117647, 0.3551764705882353, 0.3551764705882353, 0.3551764705882353, 0.3551764705882353, 0.3551764705882353, 0.6448235294117647, 0.6448235294117647, 0.6448235294117647, 0.6448235294117647, 0.3551764705882353, 0.6448235294117647, 0.3551764705882353, 0.6448235294117647, 0.6448235294117647, 0.6448235294117647, 0.6448235294117647, 0.6448235294117647, 0.6448235294117647, 0.3551764705882353, 0.6448235294117647, 0.6448235294117647, 0.3551764705882353, 0.6448235294117647, 0.3551764705882353, 0.6448235294117647, 0.6448235294117647, 0.6448235294117647, 0.6448235294117647, 0.6448235294117647, 0.6448235294117647, 0.6448235294117647, 0.6448235294117647, 0.6448235294117647, 0.6448235294117647, 0.6448235294117647, 0.6448235294117647, 0.6448235294117647, 0.6448235294117647, 0.3551764705882353, 0.6448235294117647, 0.3551764705882353, 0.6448235294117647, 0.3551764705882353, 0.6448235294117647, 0.6448235294117647, 0.3551764705882353, 0.6448235294117647, 0.6448235294117647, 0.6448235294117647, 0.6448235294117647, 0.3551764705882353, 0.6448235294117647, 0.3551764705882353, 0.6448235294117647, 0.3551764705882353, 0.6448235294117647, 0.3551764705882353, 0.3551764705882353, 0.3551764705882353, 0.6448235294117647, 0.6448235294117647, 0.6448235294117647, 0.6448235294117647, 0.3551764705882353, 0.3551764705882353, 0.3551764705882353, 0.6448235294117647, 0.6448235294117647, 0.6448235294117647, 0.3551764705882353, 0.6448235294117647, 0.6448235294117647, 0.6448235294117647, 0.3551764705882353, 0.6448235294117647, 0.6448235294117647, 0.6448235294117647, 0.6448235294117647, 0.3551764705882353, 0.3551764705882353, 0.6448235294117647, 0.6448235294117647, 0.6448235294117647, 0.3551764705882353, 0.3551764705882353, 0.6448235294117647, 0.6448235294117647, 0.6448235294117647, 0.6448235294117647, 0.3551764705882353, 0.6448235294117647, 0.6448235294117647, 0.3551764705882353, 0.3551764705882353, 0.3551764705882353, 0.6448235294117647, 0.6448235294117647, 0.6448235294117647, 0.6448235294117647, 0.3551764705882353, 0.6448235294117647, 0.3551764705882353, 0.6448235294117647, 0.6448235294117647, 0.6448235294117647, 0.6448235294117647, 0.6448235294117647, 0.6448235294117647, 0.3551764705882353, 0.6448235294117647, 0.3551764705882353, 0.3551764705882353, 0.6448235294117647, 0.3551764705882353, 0.3551764705882353, 0.6448235294117647, 0.3551764705882353, 0.3551764705882353, 0.3551764705882353, 0.3551764705882353, 0.6448235294117647, 0.6448235294117647, 0.3551764705882353, 0.3551764705882353, 0.6448235294117647, 0.3551764705882353, 0.6448235294117647, 0.6448235294117647, 0.3551764705882353, 0.3551764705882353, 0.6448235294117647, 0.6448235294117647, 0.3551764705882353, 0.3551764705882353, 0.6448235294117647, 0.3551764705882353, 0.3551764705882353, 0.3551764705882353, 0.6448235294117647, 0.3551764705882353, 0.6448235294117647, 0.6448235294117647, 0.6448235294117647, 0.3551764705882353, 0.3551764705882353, 0.6448235294117647, 0.3551764705882353, 0.6448235294117647, 0.3551764705882353, 0.3551764705882353, 0.6448235294117647, 0.6448235294117647, 0.3551764705882353, 0.3551764705882353, 0.6448235294117647, 0.6448235294117647, 0.6448235294117647, 0.6448235294117647, 0.3551764705882353, 0.6448235294117647, 0.6448235294117647, 0.6448235294117647, 0.6448235294117647, 0.6448235294117647, 0.6448235294117647, 0.3551764705882353, 0.6448235294117647, 0.6448235294117647, 0.6448235294117647, 0.6448235294117647, 0.3551764705882353, 0.6448235294117647, 0.6448235294117647, 0.6448235294117647, 0.3551764705882353, 0.3551764705882353, 0.6448235294117647, 0.6448235294117647, 0.6448235294117647, 0.3551764705882353, 0.6448235294117647, 0.6448235294117647, 0.6448235294117647, 0.6448235294117647, 0.3551764705882353, 0.6448235294117647, 0.6448235294117647, 0.3551764705882353, 0.3551764705882353, 0.6448235294117647, 0.3551764705882353, 0.6448235294117647, 0.6448235294117647, 0.6448235294117647, 0.6448235294117647, 0.6448235294117647, 0.6448235294117647, 0.3551764705882353, 0.3551764705882353, 0.6448235294117647, 0.6448235294117647, 0.3551764705882353, 0.6448235294117647, 0.6448235294117647, 0.3551764705882353, 0.6448235294117647, 0.3551764705882353, 0.6448235294117647, 0.6448235294117647, 0.3551764705882353, 0.3551764705882353, 0.6448235294117647, 0.6448235294117647, 0.6448235294117647, 0.3551764705882353, 0.6448235294117647, 0.6448235294117647, 0.3551764705882353, 0.3551764705882353, 0.6448235294117647, 0.6448235294117647, 0.3551764705882353, 0.6448235294117647, 0.6448235294117647, 0.6448235294117647, 0.6448235294117647, 0.6448235294117647, 0.3551764705882353, 0.6448235294117647, 0.6448235294117647, 0.3551764705882353, 0.6448235294117647, 0.3551764705882353, 0.6448235294117647, 0.6448235294117647, 0.3551764705882353, 0.6448235294117647, 0.6448235294117647, 0.3551764705882353, 0.3551764705882353, 0.6448235294117647, 0.6448235294117647, 0.3551764705882353, 0.6448235294117647, 0.6448235294117647, 0.3551764705882353, 0.6448235294117647, 0.6448235294117647, 0.6448235294117647, 0.3551764705882353, 0.3551764705882353, 0.6448235294117647, 0.6448235294117647, 0.6448235294117647, 0.3551764705882353, 0.6448235294117647, 0.6448235294117647, 0.6448235294117647, 0.6448235294117647, 0.6448235294117647, 0.3551764705882353, 0.3551764705882353, 0.6448235294117647, 0.6448235294117647, 0.6448235294117647, 0.3551764705882353, 0.6448235294117647, 0.6448235294117647, 0.6448235294117647, 0.6448235294117647, 0.6448235294117647, 0.6448235294117647, 0.6448235294117647, 0.3551764705882353, 0.6448235294117647, 0.6448235294117647, 0.3551764705882353, 0.3551764705882353, 0.6448235294117647, 0.6448235294117647, 0.3551764705882353, 0.6448235294117647, 0.6448235294117647, 0.3551764705882353, 0.6448235294117647, 0.6448235294117647, 0.6448235294117647, 0.6448235294117647, 0.3551764705882353, 0.6448235294117647, 0.6448235294117647, 0.3551764705882353, 0.3551764705882353, 0.3551764705882353, 0.3551764705882353, 0.6448235294117647, 0.3551764705882353, 0.3551764705882353, 0.3551764705882353, 0.3551764705882353, 0.6448235294117647, 0.3551764705882353, 0.6448235294117647, 0.6448235294117647, 0.6448235294117647, 0.6448235294117647, 0.6448235294117647, 0.6448235294117647, 0.6448235294117647, 0.6448235294117647, 0.6448235294117647, 0.3551764705882353, 0.6448235294117647, 0.6448235294117647, 0.3551764705882353, 0.3551764705882353, 0.6448235294117647, 0.3551764705882353, 0.6448235294117647, 0.3551764705882353, 0.3551764705882353, 0.3551764705882353, 0.6448235294117647, 0.3551764705882353, 0.3551764705882353, 0.3551764705882353, 0.6448235294117647, 0.6448235294117647, 0.3551764705882353, 0.3551764705882353, 0.3551764705882353, 0.6448235294117647, 0.6448235294117647, 0.3551764705882353, 0.6448235294117647, 0.6448235294117647, 0.6448235294117647, 0.3551764705882353, 0.6448235294117647, 0.3551764705882353, 0.3551764705882353, 0.3551764705882353, 0.3551764705882353, 0.6448235294117647, 0.6448235294117647, 0.6448235294117647, 0.6448235294117647, 0.6448235294117647, 0.6448235294117647, 0.3551764705882353, 0.6448235294117647, 0.3551764705882353, 0.3551764705882353, 0.6448235294117647, 0.6448235294117647, 0.3551764705882353, 0.6448235294117647, 0.6448235294117647, 0.6448235294117647, 0.6448235294117647, 0.3551764705882353, 0.6448235294117647, 0.6448235294117647, 0.6448235294117647, 0.6448235294117647, 0.6448235294117647, 0.6448235294117647, 0.6448235294117647, 0.6448235294117647, 0.3551764705882353, 0.3551764705882353, 0.3551764705882353, 0.3551764705882353, 0.6448235294117647, 0.3551764705882353, 0.6448235294117647, 0.6448235294117647, 0.3551764705882353, 0.6448235294117647, 0.3551764705882353, 0.6448235294117647, 0.3551764705882353, 0.3551764705882353, 0.6448235294117647, 0.6448235294117647, 0.6448235294117647, 0.6448235294117647, 0.6448235294117647, 0.3551764705882353, 0.6448235294117647, 0.6448235294117647, 0.6448235294117647, 0.6448235294117647, 0.6448235294117647, 0.6448235294117647, 0.3551764705882353, 0.3551764705882353, 0.6448235294117647, 0.6448235294117647, 0.6448235294117647, 0.6448235294117647, 0.6448235294117647, 0.6448235294117647, 0.3551764705882353, 0.3551764705882353, 0.3551764705882353, 0.3551764705882353, 0.6448235294117647, 0.3551764705882353, 0.3551764705882353, 0.3551764705882353, 0.6448235294117647, 0.6448235294117647, 0.6448235294117647, 0.6448235294117647, 0.6448235294117647, 0.6448235294117647, 0.6448235294117647, 0.3551764705882353, 0.3551764705882353, 0.6448235294117647, 0.3551764705882353, 0.6448235294117647, 0.6448235294117647, 0.3551764705882353, 0.6448235294117647, 0.6448235294117647, 0.6448235294117647, 0.6448235294117647, 0.3551764705882353, 0.6448235294117647, 0.3551764705882353, 0.6448235294117647, 0.6448235294117647, 0.3551764705882353, 0.6448235294117647, 0.6448235294117647, 0.6448235294117647, 0.3551764705882353, 0.6448235294117647, 0.6448235294117647, 0.3551764705882353, 0.6448235294117647, 0.6448235294117647, 0.6448235294117647, 0.3551764705882353, 0.6448235294117647, 0.6448235294117647, 0.6448235294117647, 0.6448235294117647, 0.3551764705882353, 0.6448235294117647, 0.3551764705882353, 0.6448235294117647, 0.3551764705882353, 0.3551764705882353, 0.3551764705882353, 0.3551764705882353, 0.6448235294117647, 0.3551764705882353, 0.6448235294117647, 0.3551764705882353, 0.6448235294117647, 0.6448235294117647, 0.6448235294117647, 0.6448235294117647, 0.3551764705882353, 0.3551764705882353, 0.6448235294117647, 0.6448235294117647, 0.6448235294117647, 0.3551764705882353, 0.3551764705882353, 0.6448235294117647, 0.6448235294117647, 0.6448235294117647, 0.3551764705882353, 0.3551764705882353, 0.6448235294117647, 0.6448235294117647, 0.6448235294117647, 0.6448235294117647, 0.3551764705882353, 0.6448235294117647, 0.6448235294117647, 0.6448235294117647, 0.6448235294117647, 0.6448235294117647, 0.3551764705882353, 0.6448235294117647, 0.3551764705882353, 0.6448235294117647, 0.3551764705882353, 0.6448235294117647, 0.6448235294117647, 0.6448235294117647, 0.3551764705882353, 0.6448235294117647, 0.6448235294117647, 0.3551764705882353, 0.3551764705882353, 0.6448235294117647, 0.3551764705882353, 0.6448235294117647, 0.3551764705882353, 0.6448235294117647, 0.3551764705882353, 0.6448235294117647, 0.6448235294117647, 0.6448235294117647, 0.6448235294117647, 0.6448235294117647, 0.3551764705882353, 0.6448235294117647, 0.3551764705882353, 0.6448235294117647, 0.6448235294117647, 0.6448235294117647, 0.6448235294117647, 0.6448235294117647, 0.3551764705882353, 0.6448235294117647, 0.6448235294117647, 0.6448235294117647, 0.3551764705882353, 0.6448235294117647, 0.6448235294117647, 0.6448235294117647, 0.6448235294117647, 0.3551764705882353, 0.6448235294117647, 0.3551764705882353, 0.3551764705882353, 0.6448235294117647, 0.6448235294117647, 0.3551764705882353, 0.6448235294117647, 0.3551764705882353, 0.3551764705882353, 0.3551764705882353, 0.3551764705882353, 0.6448235294117647, 0.6448235294117647, 0.6448235294117647, 0.6448235294117647, 0.3551764705882353, 0.3551764705882353, 0.3551764705882353, 0.6448235294117647, 0.6448235294117647, 0.6448235294117647, 0.6448235294117647, 0.6448235294117647, 0.3551764705882353, 0.6448235294117647, 0.3551764705882353, 0.6448235294117647, 0.3551764705882353, 0.3551764705882353, 0.6448235294117647, 0.3551764705882353, 0.3551764705882353, 0.6448235294117647, 0.6448235294117647, 0.6448235294117647, 0.6448235294117647, 0.6448235294117647, 0.6448235294117647, 0.3551764705882353, 0.3551764705882353, 0.3551764705882353, 0.3551764705882353, 0.3551764705882353, 0.3551764705882353, 0.3551764705882353, 0.3551764705882353, 0.3551764705882353, 0.3551764705882353, 0.6448235294117647, 0.6448235294117647, 0.3551764705882353, 0.6448235294117647, 0.6448235294117647, 0.3551764705882353, 0.3551764705882353, 0.6448235294117647, 0.6448235294117647, 0.3551764705882353, 0.6448235294117647, 0.3551764705882353, 0.3551764705882353, 0.3551764705882353, 0.6448235294117647, 0.3551764705882353, 0.6448235294117647, 0.6448235294117647, 0.6448235294117647, 0.6448235294117647, 0.6448235294117647, 0.6448235294117647, 0.6448235294117647, 0.6448235294117647, 0.6448235294117647, 0.6448235294117647, 0.6448235294117647, 0.3551764705882353, 0.3551764705882353, 0.6448235294117647, 0.6448235294117647, 0.3551764705882353, 0.3551764705882353, 0.3551764705882353, 0.6448235294117647, 0.6448235294117647, 0.6448235294117647, 0.6448235294117647, 0.6448235294117647, 0.6448235294117647, 0.6448235294117647, 0.3551764705882353, 0.6448235294117647, 0.3551764705882353, 0.6448235294117647, 0.6448235294117647, 0.6448235294117647, 0.6448235294117647, 0.6448235294117647, 0.6448235294117647, 0.6448235294117647, 0.6448235294117647, 0.6448235294117647, 0.6448235294117647, 0.6448235294117647, 0.6448235294117647, 0.6448235294117647, 0.6448235294117647, 0.6448235294117647, 0.3551764705882353, 0.3551764705882353, 0.6448235294117647, 0.6448235294117647, 0.3551764705882353, 0.6448235294117647, 0.6448235294117647, 0.6448235294117647, 0.6448235294117647, 0.6448235294117647, 0.3551764705882353, 0.6448235294117647, 0.3551764705882353, 0.3551764705882353, 0.6448235294117647, 0.3551764705882353, 0.6448235294117647, 0.6448235294117647, 0.6448235294117647, 0.6448235294117647, 0.6448235294117647, 0.6448235294117647, 0.6448235294117647, 0.6448235294117647, 0.6448235294117647, 0.3551764705882353, 0.6448235294117647, 0.6448235294117647, 0.6448235294117647, 0.3551764705882353, 0.3551764705882353, 0.6448235294117647, 0.3551764705882353, 0.3551764705882353, 0.6448235294117647, 0.3551764705882353, 0.6448235294117647, 0.3551764705882353, 0.6448235294117647, 0.6448235294117647, 0.6448235294117647, 0.6448235294117647, 0.3551764705882353, 0.6448235294117647, 0.6448235294117647, 0.6448235294117647, 0.6448235294117647, 0.6448235294117647, 0.3551764705882353, 0.6448235294117647, 0.6448235294117647, 0.6448235294117647, 0.3551764705882353, 0.3551764705882353, 0.6448235294117647, 0.6448235294117647, 0.6448235294117647, 0.3551764705882353, 0.6448235294117647, 0.6448235294117647, 0.6448235294117647, 0.3551764705882353, 0.6448235294117647, 0.6448235294117647, 0.6448235294117647, 0.3551764705882353, 0.6448235294117647, 0.3551764705882353, 0.6448235294117647, 0.6448235294117647, 0.3551764705882353, 0.6448235294117647, 0.6448235294117647, 0.6448235294117647, 0.6448235294117647, 0.6448235294117647, 0.6448235294117647, 0.6448235294117647, 0.6448235294117647, 0.3551764705882353, 0.6448235294117647, 0.6448235294117647, 0.3551764705882353, 0.6448235294117647, 0.6448235294117647, 0.6448235294117647, 0.6448235294117647, 0.6448235294117647, 0.3551764705882353, 0.3551764705882353, 0.6448235294117647, 0.3551764705882353, 0.6448235294117647, 0.6448235294117647, 0.6448235294117647, 0.6448235294117647, 0.3551764705882353, 0.6448235294117647, 0.6448235294117647, 0.3551764705882353, 0.6448235294117647, 0.6448235294117647, 0.6448235294117647, 0.3551764705882353, 0.6448235294117647, 0.6448235294117647, 0.6448235294117647, 0.6448235294117647, 0.3551764705882353, 0.6448235294117647, 0.6448235294117647, 0.6448235294117647, 0.3551764705882353, 0.6448235294117647, 0.6448235294117647, 0.3551764705882353, 0.6448235294117647, 0.6448235294117647, 0.3551764705882353, 0.3551764705882353, 0.6448235294117647, 0.3551764705882353, 0.6448235294117647, 0.3551764705882353, 0.6448235294117647, 0.3551764705882353, 0.6448235294117647, 0.6448235294117647, 0.6448235294117647, 0.3551764705882353, 0.6448235294117647, 0.3551764705882353, 0.3551764705882353, 0.6448235294117647, 0.6448235294117647, 0.6448235294117647, 0.6448235294117647, 0.6448235294117647, 0.6448235294117647, 0.6448235294117647, 0.3551764705882353, 0.3551764705882353, 0.6448235294117647, 0.3551764705882353, 0.3551764705882353, 0.3551764705882353, 0.3551764705882353, 0.6448235294117647, 0.6448235294117647, 0.6448235294117647, 0.6448235294117647, 0.6448235294117647, 0.6448235294117647, 0.3551764705882353, 0.6448235294117647, 0.6448235294117647, 0.3551764705882353, 0.3551764705882353, 0.6448235294117647, 0.6448235294117647, 0.6448235294117647, 0.6448235294117647, 0.6448235294117647, 0.3551764705882353, 0.3551764705882353, 0.3551764705882353, 0.3551764705882353, 0.6448235294117647, 0.6448235294117647, 0.3551764705882353, 0.3551764705882353, 0.3551764705882353, 0.6448235294117647, 0.6448235294117647, 0.6448235294117647, 0.6448235294117647, 0.6448235294117647, 0.6448235294117647, 0.3551764705882353, 0.3551764705882353, 0.3551764705882353, 0.3551764705882353, 0.3551764705882353, 0.3551764705882353, 0.3551764705882353, 0.3551764705882353, 0.3551764705882353, 0.6448235294117647, 0.3551764705882353, 0.3551764705882353, 0.3551764705882353, 0.3551764705882353, 0.6448235294117647, 0.6448235294117647, 0.6448235294117647, 0.3551764705882353, 0.3551764705882353, 0.6448235294117647, 0.3551764705882353, 0.3551764705882353, 0.6448235294117647, 0.6448235294117647, 0.6448235294117647, 0.3551764705882353, 0.6448235294117647, 0.6448235294117647, 0.6448235294117647, 0.6448235294117647, 0.6448235294117647, 0.6448235294117647, 0.3551764705882353, 0.6448235294117647, 0.6448235294117647, 0.3551764705882353, 0.3551764705882353, 0.6448235294117647, 0.6448235294117647, 0.6448235294117647, 0.3551764705882353, 0.6448235294117647, 0.3551764705882353, 0.6448235294117647, 0.6448235294117647, 0.3551764705882353, 0.6448235294117647, 0.6448235294117647, 0.6448235294117647, 0.6448235294117647, 0.3551764705882353, 0.6448235294117647, 0.3551764705882353, 0.3551764705882353, 0.3551764705882353, 0.6448235294117647, 0.3551764705882353, 0.6448235294117647, 0.3551764705882353, 0.6448235294117647, 0.3551764705882353, 0.6448235294117647, 0.6448235294117647, 0.6448235294117647, 0.3551764705882353, 0.6448235294117647, 0.6448235294117647, 0.3551764705882353, 0.6448235294117647, 0.6448235294117647, 0.6448235294117647, 0.6448235294117647, 0.3551764705882353, 0.6448235294117647, 0.6448235294117647, 0.6448235294117647, 0.6448235294117647, 0.6448235294117647, 0.6448235294117647, 0.6448235294117647, 0.3551764705882353, 0.6448235294117647, 0.6448235294117647, 0.3551764705882353, 0.6448235294117647, 0.3551764705882353, 0.6448235294117647, 0.3551764705882353, 0.6448235294117647, 0.6448235294117647, 0.3551764705882353, 0.6448235294117647, 0.6448235294117647, 0.6448235294117647, 0.6448235294117647, 0.6448235294117647, 0.6448235294117647, 0.3551764705882353, 0.6448235294117647, 0.6448235294117647, 0.6448235294117647, 0.3551764705882353, 0.3551764705882353, 0.6448235294117647, 0.3551764705882353, 0.3551764705882353, 0.6448235294117647, 0.6448235294117647, 0.6448235294117647, 0.6448235294117647, 0.3551764705882353, 0.6448235294117647, 0.6448235294117647, 0.6448235294117647, 0.6448235294117647, 0.6448235294117647, 0.6448235294117647, 0.6448235294117647, 0.6448235294117647, 0.6448235294117647, 0.6448235294117647, 0.3551764705882353, 0.6448235294117647, 0.3551764705882353, 0.6448235294117647, 0.3551764705882353, 0.6448235294117647, 0.6448235294117647, 0.3551764705882353, 0.6448235294117647, 0.3551764705882353, 0.6448235294117647, 0.6448235294117647, 0.6448235294117647, 0.3551764705882353, 0.6448235294117647, 0.6448235294117647, 0.6448235294117647, 0.3551764705882353, 0.6448235294117647, 0.3551764705882353, 0.6448235294117647, 0.3551764705882353, 0.3551764705882353, 0.3551764705882353, 0.6448235294117647, 0.6448235294117647, 0.6448235294117647, 0.6448235294117647, 0.6448235294117647, 0.3551764705882353, 0.6448235294117647, 0.3551764705882353, 0.6448235294117647, 0.6448235294117647, 0.6448235294117647, 0.6448235294117647, 0.3551764705882353, 0.3551764705882353, 0.6448235294117647, 0.6448235294117647, 0.6448235294117647, 0.3551764705882353, 0.3551764705882353, 0.3551764705882353, 0.6448235294117647, 0.6448235294117647, 0.3551764705882353, 0.6448235294117647, 0.6448235294117647, 0.6448235294117647, 0.3551764705882353, 0.3551764705882353, 0.3551764705882353, 0.6448235294117647, 0.6448235294117647, 0.6448235294117647, 0.6448235294117647, 0.3551764705882353, 0.6448235294117647, 0.3551764705882353, 0.3551764705882353, 0.6448235294117647, 0.6448235294117647, 0.6448235294117647, 0.6448235294117647, 0.3551764705882353, 0.6448235294117647, 0.3551764705882353, 0.6448235294117647, 0.6448235294117647, 0.6448235294117647, 0.6448235294117647, 0.3551764705882353, 0.6448235294117647, 0.6448235294117647, 0.3551764705882353, 0.6448235294117647, 0.6448235294117647, 0.6448235294117647, 0.6448235294117647, 0.6448235294117647, 0.3551764705882353, 0.3551764705882353, 0.3551764705882353, 0.3551764705882353, 0.6448235294117647, 0.6448235294117647, 0.3551764705882353, 0.6448235294117647, 0.3551764705882353, 0.3551764705882353, 0.6448235294117647, 0.3551764705882353, 0.6448235294117647, 0.6448235294117647, 0.3551764705882353, 0.6448235294117647, 0.3551764705882353, 0.6448235294117647, 0.6448235294117647, 0.3551764705882353, 0.3551764705882353, 0.6448235294117647, 0.3551764705882353, 0.6448235294117647, 0.6448235294117647, 0.6448235294117647, 0.6448235294117647, 0.6448235294117647, 0.6448235294117647, 0.3551764705882353, 0.3551764705882353, 0.3551764705882353, 0.6448235294117647, 0.3551764705882353, 0.6448235294117647, 0.6448235294117647, 0.6448235294117647, 0.6448235294117647, 0.6448235294117647, 0.6448235294117647, 0.3551764705882353, 0.6448235294117647, 0.6448235294117647, 0.6448235294117647, 0.6448235294117647, 0.3551764705882353, 0.3551764705882353, 0.6448235294117647, 0.3551764705882353, 0.6448235294117647, 0.3551764705882353, 0.6448235294117647, 0.6448235294117647, 0.6448235294117647, 0.6448235294117647, 0.3551764705882353, 0.3551764705882353, 0.6448235294117647, 0.6448235294117647, 0.6448235294117647, 0.3551764705882353, 0.6448235294117647, 0.3551764705882353, 0.6448235294117647, 0.3551764705882353, 0.3551764705882353, 0.6448235294117647, 0.6448235294117647, 0.3551764705882353, 0.3551764705882353, 0.6448235294117647, 0.6448235294117647, 0.6448235294117647, 0.3551764705882353, 0.3551764705882353, 0.6448235294117647, 0.6448235294117647, 0.3551764705882353, 0.6448235294117647, 0.3551764705882353, 0.6448235294117647, 0.3551764705882353, 0.3551764705882353, 0.6448235294117647, 0.3551764705882353, 0.6448235294117647, 0.6448235294117647, 0.6448235294117647, 0.3551764705882353, 0.6448235294117647, 0.6448235294117647, 0.3551764705882353, 0.6448235294117647, 0.6448235294117647, 0.6448235294117647, 0.6448235294117647, 0.3551764705882353, 0.6448235294117647, 0.6448235294117647, 0.3551764705882353, 0.3551764705882353, 0.3551764705882353, 0.6448235294117647, 0.3551764705882353, 0.3551764705882353, 0.3551764705882353, 0.3551764705882353, 0.3551764705882353, 0.6448235294117647, 0.3551764705882353, 0.6448235294117647, 0.3551764705882353, 0.6448235294117647, 0.6448235294117647, 0.6448235294117647, 0.6448235294117647, 0.6448235294117647, 0.6448235294117647, 0.3551764705882353, 0.6448235294117647, 0.6448235294117647, 0.6448235294117647, 0.6448235294117647, 0.6448235294117647, 0.6448235294117647, 0.3551764705882353, 0.6448235294117647, 0.6448235294117647, 0.6448235294117647, 0.3551764705882353, 0.6448235294117647, 0.6448235294117647, 0.6448235294117647, 0.6448235294117647, 0.6448235294117647, 0.3551764705882353, 0.6448235294117647, 0.6448235294117647, 0.6448235294117647, 0.6448235294117647, 0.3551764705882353, 0.6448235294117647, 0.6448235294117647, 0.3551764705882353, 0.3551764705882353, 0.3551764705882353, 0.6448235294117647, 0.3551764705882353, 0.3551764705882353, 0.6448235294117647, 0.6448235294117647, 0.3551764705882353, 0.3551764705882353, 0.6448235294117647, 0.3551764705882353, 0.6448235294117647, 0.6448235294117647, 0.6448235294117647, 0.6448235294117647, 0.6448235294117647, 0.6448235294117647, 0.3551764705882353, 0.3551764705882353, 0.6448235294117647, 0.3551764705882353, 0.3551764705882353, 0.6448235294117647, 0.3551764705882353, 0.3551764705882353, 0.6448235294117647, 0.6448235294117647, 0.3551764705882353, 0.6448235294117647, 0.6448235294117647, 0.6448235294117647, 0.6448235294117647, 0.6448235294117647, 0.3551764705882353, 0.6448235294117647, 0.3551764705882353, 0.6448235294117647, 0.6448235294117647, 0.6448235294117647, 0.6448235294117647, 0.3551764705882353, 0.6448235294117647, 0.6448235294117647, 0.6448235294117647, 0.6448235294117647, 0.3551764705882353, 0.3551764705882353, 0.3551764705882353, 0.3551764705882353, 0.6448235294117647, 0.3551764705882353, 0.6448235294117647, 0.3551764705882353, 0.6448235294117647, 0.3551764705882353, 0.3551764705882353, 0.6448235294117647, 0.6448235294117647, 0.3551764705882353, 0.6448235294117647, 0.6448235294117647, 0.6448235294117647, 0.6448235294117647, 0.6448235294117647, 0.6448235294117647, 0.6448235294117647, 0.3551764705882353, 0.6448235294117647, 0.6448235294117647, 0.6448235294117647, 0.6448235294117647, 0.6448235294117647, 0.6448235294117647, 0.6448235294117647, 0.6448235294117647, 0.3551764705882353, 0.6448235294117647, 0.6448235294117647, 0.3551764705882353, 0.6448235294117647, 0.6448235294117647, 0.3551764705882353, 0.6448235294117647, 0.6448235294117647, 0.6448235294117647, 0.6448235294117647, 0.3551764705882353, 0.6448235294117647, 0.3551764705882353, 0.6448235294117647, 0.6448235294117647, 0.3551764705882353, 0.6448235294117647, 0.6448235294117647, 0.6448235294117647, 0.6448235294117647, 0.6448235294117647, 0.3551764705882353, 0.3551764705882353, 0.6448235294117647, 0.6448235294117647, 0.6448235294117647, 0.6448235294117647, 0.6448235294117647, 0.6448235294117647, 0.6448235294117647, 0.6448235294117647, 0.6448235294117647, 0.6448235294117647, 0.3551764705882353, 0.6448235294117647, 0.3551764705882353, 0.6448235294117647, 0.6448235294117647, 0.6448235294117647, 0.6448235294117647, 0.6448235294117647, 0.6448235294117647, 0.6448235294117647, 0.6448235294117647, 0.3551764705882353, 0.6448235294117647, 0.6448235294117647, 0.6448235294117647, 0.3551764705882353, 0.3551764705882353, 0.3551764705882353, 0.6448235294117647, 0.6448235294117647, 0.3551764705882353, 0.3551764705882353, 0.3551764705882353, 0.6448235294117647, 0.6448235294117647, 0.6448235294117647, 0.3551764705882353, 0.6448235294117647, 0.3551764705882353, 0.6448235294117647, 0.6448235294117647, 0.6448235294117647, 0.6448235294117647, 0.6448235294117647, 0.6448235294117647, 0.3551764705882353, 0.6448235294117647, 0.6448235294117647, 0.3551764705882353, 0.6448235294117647, 0.3551764705882353, 0.6448235294117647, 0.3551764705882353, 0.3551764705882353, 0.3551764705882353, 0.3551764705882353, 0.6448235294117647, 0.3551764705882353, 0.3551764705882353, 0.3551764705882353, 0.3551764705882353, 0.6448235294117647, 0.3551764705882353, 0.3551764705882353, 0.6448235294117647, 0.6448235294117647, 0.6448235294117647, 0.3551764705882353, 0.3551764705882353, 0.6448235294117647, 0.3551764705882353, 0.6448235294117647, 0.6448235294117647, 0.3551764705882353, 0.3551764705882353, 0.6448235294117647, 0.6448235294117647, 0.3551764705882353, 0.3551764705882353, 0.3551764705882353, 0.6448235294117647, 0.6448235294117647, 0.3551764705882353, 0.6448235294117647, 0.3551764705882353, 0.3551764705882353, 0.3551764705882353, 0.3551764705882353, 0.6448235294117647, 0.6448235294117647, 0.6448235294117647, 0.3551764705882353, 0.3551764705882353, 0.6448235294117647, 0.6448235294117647, 0.3551764705882353, 0.6448235294117647, 0.3551764705882353, 0.6448235294117647, 0.6448235294117647, 0.6448235294117647, 0.6448235294117647, 0.3551764705882353, 0.6448235294117647, 0.6448235294117647, 0.6448235294117647, 0.6448235294117647, 0.3551764705882353, 0.3551764705882353, 0.3551764705882353, 0.3551764705882353, 0.6448235294117647, 0.3551764705882353, 0.3551764705882353, 0.6448235294117647, 0.6448235294117647, 0.6448235294117647, 0.6448235294117647, 0.6448235294117647, 0.3551764705882353, 0.3551764705882353, 0.6448235294117647, 0.6448235294117647, 0.3551764705882353, 0.3551764705882353, 0.6448235294117647, 0.3551764705882353, 0.6448235294117647, 0.6448235294117647, 0.6448235294117647, 0.3551764705882353, 0.3551764705882353, 0.6448235294117647, 0.6448235294117647, 0.6448235294117647, 0.3551764705882353, 0.6448235294117647, 0.3551764705882353, 0.6448235294117647, 0.6448235294117647, 0.6448235294117647, 0.6448235294117647, 0.6448235294117647, 0.3551764705882353, 0.6448235294117647, 0.6448235294117647, 0.3551764705882353, 0.6448235294117647, 0.6448235294117647, 0.3551764705882353, 0.6448235294117647, 0.6448235294117647, 0.6448235294117647, 0.6448235294117647, 0.3551764705882353, 0.6448235294117647, 0.3551764705882353, 0.6448235294117647, 0.3551764705882353, 0.3551764705882353, 0.3551764705882353, 0.3551764705882353, 0.3551764705882353, 0.6448235294117647, 0.3551764705882353, 0.3551764705882353, 0.6448235294117647, 0.6448235294117647, 0.3551764705882353, 0.6448235294117647, 0.3551764705882353, 0.6448235294117647, 0.6448235294117647, 0.6448235294117647, 0.6448235294117647, 0.6448235294117647, 0.3551764705882353, 0.6448235294117647, 0.6448235294117647, 0.3551764705882353, 0.6448235294117647, 0.6448235294117647, 0.6448235294117647, 0.6448235294117647, 0.6448235294117647, 0.6448235294117647, 0.6448235294117647, 0.3551764705882353, 0.6448235294117647, 0.6448235294117647, 0.6448235294117647, 0.3551764705882353, 0.6448235294117647, 0.3551764705882353, 0.6448235294117647, 0.6448235294117647, 0.3551764705882353, 0.6448235294117647, 0.6448235294117647, 0.3551764705882353, 0.6448235294117647, 0.6448235294117647, 0.3551764705882353, 0.6448235294117647, 0.3551764705882353, 0.3551764705882353, 0.6448235294117647, 0.6448235294117647, 0.6448235294117647, 0.6448235294117647, 0.3551764705882353, 0.3551764705882353, 0.6448235294117647, 0.6448235294117647, 0.3551764705882353, 0.6448235294117647, 0.6448235294117647, 0.3551764705882353, 0.3551764705882353, 0.3551764705882353, 0.6448235294117647, 0.6448235294117647, 0.3551764705882353, 0.6448235294117647, 0.3551764705882353, 0.6448235294117647, 0.3551764705882353, 0.6448235294117647, 0.6448235294117647, 0.6448235294117647, 0.6448235294117647, 0.3551764705882353, 0.3551764705882353, 0.3551764705882353, 0.6448235294117647, 0.6448235294117647, 0.6448235294117647, 0.6448235294117647, 0.6448235294117647, 0.6448235294117647, 0.6448235294117647, 0.3551764705882353, 0.6448235294117647, 0.6448235294117647, 0.3551764705882353, 0.6448235294117647, 0.6448235294117647, 0.3551764705882353, 0.6448235294117647, 0.6448235294117647, 0.3551764705882353, 0.6448235294117647, 0.6448235294117647, 0.3551764705882353, 0.6448235294117647, 0.6448235294117647, 0.6448235294117647, 0.6448235294117647, 0.6448235294117647, 0.3551764705882353, 0.3551764705882353, 0.3551764705882353, 0.6448235294117647, 0.6448235294117647, 0.3551764705882353, 0.6448235294117647, 0.6448235294117647, 0.6448235294117647, 0.6448235294117647, 0.6448235294117647, 0.3551764705882353, 0.3551764705882353, 0.6448235294117647, 0.3551764705882353, 0.6448235294117647, 0.6448235294117647, 0.6448235294117647, 0.3551764705882353, 0.6448235294117647, 0.6448235294117647, 0.3551764705882353, 0.6448235294117647, 0.3551764705882353, 0.3551764705882353, 0.6448235294117647, 0.6448235294117647, 0.6448235294117647, 0.6448235294117647, 0.6448235294117647, 0.6448235294117647, 0.6448235294117647, 0.6448235294117647, 0.3551764705882353, 0.6448235294117647, 0.6448235294117647, 0.6448235294117647, 0.6448235294117647, 0.6448235294117647, 0.3551764705882353, 0.3551764705882353, 0.3551764705882353, 0.3551764705882353, 0.6448235294117647, 0.6448235294117647, 0.6448235294117647, 0.6448235294117647, 0.6448235294117647, 0.3551764705882353, 0.6448235294117647, 0.6448235294117647, 0.6448235294117647, 0.3551764705882353, 0.3551764705882353, 0.3551764705882353, 0.3551764705882353, 0.6448235294117647, 0.3551764705882353, 0.6448235294117647, 0.3551764705882353, 0.3551764705882353, 0.6448235294117647, 0.3551764705882353, 0.3551764705882353, 0.6448235294117647, 0.6448235294117647, 0.6448235294117647, 0.6448235294117647, 0.6448235294117647, 0.3551764705882353, 0.3551764705882353, 0.3551764705882353, 0.6448235294117647, 0.6448235294117647, 0.6448235294117647, 0.3551764705882353, 0.3551764705882353, 0.6448235294117647, 0.6448235294117647, 0.6448235294117647, 0.6448235294117647, 0.6448235294117647, 0.6448235294117647, 0.6448235294117647, 0.3551764705882353, 0.6448235294117647, 0.6448235294117647, 0.6448235294117647, 0.3551764705882353, 0.3551764705882353, 0.6448235294117647, 0.6448235294117647, 0.6448235294117647, 0.3551764705882353, 0.6448235294117647, 0.3551764705882353, 0.6448235294117647, 0.3551764705882353, 0.6448235294117647, 0.6448235294117647, 0.6448235294117647, 0.6448235294117647, 0.6448235294117647, 0.6448235294117647, 0.6448235294117647, 0.3551764705882353, 0.3551764705882353, 0.6448235294117647, 0.6448235294117647, 0.6448235294117647, 0.6448235294117647, 0.6448235294117647, 0.6448235294117647, 0.6448235294117647, 0.6448235294117647, 0.3551764705882353, 0.3551764705882353, 0.6448235294117647, 0.3551764705882353, 0.6448235294117647, 0.3551764705882353, 0.6448235294117647, 0.6448235294117647, 0.6448235294117647, 0.6448235294117647, 0.6448235294117647, 0.6448235294117647, 0.6448235294117647, 0.3551764705882353, 0.3551764705882353, 0.3551764705882353, 0.6448235294117647, 0.6448235294117647, 0.3551764705882353, 0.6448235294117647, 0.6448235294117647, 0.6448235294117647, 0.6448235294117647, 0.6448235294117647, 0.3551764705882353, 0.6448235294117647, 0.3551764705882353, 0.6448235294117647, 0.6448235294117647, 0.6448235294117647, 0.6448235294117647, 0.3551764705882353, 0.3551764705882353, 0.6448235294117647, 0.3551764705882353, 0.6448235294117647, 0.3551764705882353, 0.6448235294117647, 0.3551764705882353, 0.6448235294117647, 0.3551764705882353, 0.6448235294117647, 0.3551764705882353, 0.6448235294117647, 0.6448235294117647, 0.6448235294117647, 0.6448235294117647, 0.6448235294117647, 0.6448235294117647, 0.3551764705882353, 0.6448235294117647, 0.3551764705882353, 0.3551764705882353, 0.6448235294117647, 0.6448235294117647, 0.6448235294117647, 0.6448235294117647, 0.3551764705882353, 0.6448235294117647, 0.6448235294117647, 0.3551764705882353, 0.3551764705882353, 0.3551764705882353, 0.3551764705882353, 0.6448235294117647, 0.3551764705882353, 0.6448235294117647, 0.6448235294117647, 0.6448235294117647, 0.3551764705882353, 0.3551764705882353, 0.3551764705882353, 0.6448235294117647, 0.6448235294117647, 0.6448235294117647, 0.3551764705882353, 0.3551764705882353, 0.6448235294117647, 0.6448235294117647, 0.6448235294117647, 0.3551764705882353, 0.6448235294117647, 0.6448235294117647, 0.6448235294117647, 0.6448235294117647, 0.3551764705882353, 0.6448235294117647, 0.3551764705882353, 0.6448235294117647, 0.6448235294117647, 0.6448235294117647, 0.3551764705882353, 0.6448235294117647, 0.3551764705882353, 0.6448235294117647, 0.6448235294117647, 0.6448235294117647, 0.6448235294117647, 0.6448235294117647, 0.6448235294117647, 0.6448235294117647, 0.6448235294117647, 0.6448235294117647, 0.3551764705882353, 0.6448235294117647, 0.3551764705882353, 0.3551764705882353, 0.6448235294117647, 0.6448235294117647, 0.6448235294117647, 0.6448235294117647, 0.6448235294117647, 0.6448235294117647, 0.6448235294117647, 0.6448235294117647, 0.6448235294117647, 0.3551764705882353, 0.6448235294117647, 0.6448235294117647, 0.6448235294117647, 0.6448235294117647, 0.6448235294117647, 0.6448235294117647, 0.6448235294117647, 0.6448235294117647, 0.6448235294117647, 0.6448235294117647, 0.6448235294117647, 0.3551764705882353, 0.3551764705882353, 0.6448235294117647, 0.6448235294117647, 0.3551764705882353, 0.6448235294117647, 0.6448235294117647, 0.6448235294117647, 0.3551764705882353, 0.6448235294117647, 0.6448235294117647, 0.3551764705882353, 0.6448235294117647, 0.6448235294117647, 0.6448235294117647, 0.6448235294117647, 0.3551764705882353, 0.6448235294117647, 0.3551764705882353, 0.3551764705882353, 0.6448235294117647, 0.6448235294117647, 0.6448235294117647, 0.6448235294117647, 0.3551764705882353, 0.3551764705882353, 0.6448235294117647, 0.6448235294117647, 0.3551764705882353, 0.6448235294117647, 0.6448235294117647, 0.6448235294117647, 0.6448235294117647, 0.3551764705882353, 0.6448235294117647, 0.3551764705882353, 0.6448235294117647, 0.6448235294117647, 0.3551764705882353, 0.3551764705882353, 0.6448235294117647, 0.6448235294117647, 0.3551764705882353, 0.3551764705882353, 0.6448235294117647, 0.6448235294117647, 0.3551764705882353, 0.6448235294117647, 0.3551764705882353, 0.6448235294117647, 0.6448235294117647, 0.3551764705882353, 0.6448235294117647, 0.3551764705882353, 0.3551764705882353, 0.6448235294117647, 0.6448235294117647, 0.6448235294117647, 0.6448235294117647, 0.3551764705882353, 0.6448235294117647, 0.6448235294117647, 0.6448235294117647, 0.6448235294117647, 0.3551764705882353, 0.3551764705882353, 0.6448235294117647, 0.6448235294117647, 0.3551764705882353, 0.3551764705882353, 0.6448235294117647, 0.3551764705882353, 0.3551764705882353, 0.3551764705882353, 0.6448235294117647, 0.6448235294117647, 0.6448235294117647, 0.6448235294117647, 0.6448235294117647, 0.3551764705882353, 0.3551764705882353, 0.6448235294117647, 0.6448235294117647, 0.6448235294117647, 0.6448235294117647, 0.6448235294117647, 0.6448235294117647, 0.6448235294117647, 0.6448235294117647, 0.3551764705882353, 0.6448235294117647, 0.6448235294117647, 0.3551764705882353, 0.3551764705882353, 0.6448235294117647, 0.6448235294117647, 0.6448235294117647, 0.3551764705882353, 0.6448235294117647, 0.3551764705882353, 0.6448235294117647, 0.6448235294117647, 0.6448235294117647, 0.6448235294117647, 0.3551764705882353, 0.3551764705882353, 0.6448235294117647, 0.6448235294117647, 0.6448235294117647, 0.3551764705882353, 0.6448235294117647, 0.3551764705882353, 0.6448235294117647, 0.6448235294117647, 0.6448235294117647, 0.6448235294117647, 0.6448235294117647, 0.3551764705882353, 0.6448235294117647, 0.6448235294117647, 0.3551764705882353, 0.6448235294117647, 0.3551764705882353, 0.6448235294117647, 0.6448235294117647, 0.3551764705882353, 0.6448235294117647, 0.6448235294117647, 0.3551764705882353, 0.6448235294117647, 0.6448235294117647, 0.6448235294117647, 0.3551764705882353, 0.3551764705882353, 0.6448235294117647, 0.6448235294117647, 0.6448235294117647, 0.6448235294117647, 0.6448235294117647, 0.6448235294117647, 0.6448235294117647, 0.6448235294117647, 0.6448235294117647, 0.6448235294117647, 0.6448235294117647, 0.6448235294117647, 0.6448235294117647, 0.3551764705882353, 0.6448235294117647, 0.3551764705882353, 0.6448235294117647, 0.3551764705882353, 0.6448235294117647, 0.3551764705882353, 0.6448235294117647, 0.6448235294117647, 0.6448235294117647, 0.3551764705882353, 0.6448235294117647, 0.3551764705882353, 0.6448235294117647, 0.6448235294117647, 0.6448235294117647, 0.3551764705882353, 0.3551764705882353, 0.6448235294117647, 0.6448235294117647, 0.3551764705882353, 0.6448235294117647, 0.6448235294117647, 0.3551764705882353, 0.3551764705882353, 0.6448235294117647, 0.6448235294117647, 0.3551764705882353, 0.6448235294117647, 0.6448235294117647, 0.6448235294117647, 0.6448235294117647, 0.6448235294117647, 0.3551764705882353, 0.3551764705882353, 0.3551764705882353, 0.6448235294117647, 0.6448235294117647, 0.3551764705882353, 0.3551764705882353, 0.6448235294117647, 0.3551764705882353, 0.6448235294117647, 0.6448235294117647, 0.3551764705882353, 0.3551764705882353, 0.6448235294117647, 0.6448235294117647, 0.6448235294117647, 0.6448235294117647, 0.6448235294117647, 0.3551764705882353, 0.3551764705882353, 0.6448235294117647, 0.6448235294117647, 0.3551764705882353, 0.6448235294117647, 0.6448235294117647, 0.6448235294117647, 0.3551764705882353, 0.3551764705882353, 0.3551764705882353, 0.6448235294117647, 0.3551764705882353, 0.6448235294117647, 0.6448235294117647, 0.3551764705882353, 0.6448235294117647, 0.3551764705882353, 0.6448235294117647, 0.3551764705882353, 0.6448235294117647, 0.6448235294117647, 0.3551764705882353, 0.3551764705882353, 0.3551764705882353, 0.6448235294117647, 0.6448235294117647, 0.6448235294117647, 0.3551764705882353, 0.6448235294117647, 0.6448235294117647, 0.6448235294117647, 0.6448235294117647, 0.3551764705882353, 0.3551764705882353, 0.6448235294117647, 0.6448235294117647, 0.6448235294117647, 0.6448235294117647, 0.6448235294117647, 0.6448235294117647, 0.6448235294117647, 0.6448235294117647, 0.3551764705882353, 0.3551764705882353, 0.3551764705882353, 0.6448235294117647, 0.6448235294117647, 0.6448235294117647, 0.6448235294117647, 0.3551764705882353, 0.6448235294117647, 0.6448235294117647, 0.6448235294117647, 0.3551764705882353, 0.6448235294117647, 0.6448235294117647, 0.3551764705882353, 0.3551764705882353, 0.6448235294117647, 0.3551764705882353, 0.6448235294117647, 0.6448235294117647, 0.3551764705882353, 0.3551764705882353, 0.6448235294117647, 0.6448235294117647, 0.3551764705882353, 0.6448235294117647, 0.6448235294117647, 0.3551764705882353, 0.3551764705882353, 0.6448235294117647, 0.6448235294117647, 0.6448235294117647, 0.6448235294117647, 0.6448235294117647, 0.6448235294117647, 0.6448235294117647, 0.6448235294117647, 0.3551764705882353, 0.6448235294117647, 0.3551764705882353, 0.3551764705882353, 0.3551764705882353, 0.6448235294117647, 0.6448235294117647, 0.3551764705882353, 0.6448235294117647, 0.6448235294117647, 0.6448235294117647, 0.6448235294117647, 0.6448235294117647, 0.3551764705882353, 0.3551764705882353, 0.6448235294117647, 0.6448235294117647, 0.6448235294117647, 0.3551764705882353, 0.3551764705882353, 0.6448235294117647, 0.6448235294117647, 0.3551764705882353, 0.6448235294117647, 0.6448235294117647, 0.6448235294117647, 0.6448235294117647, 0.6448235294117647, 0.6448235294117647, 0.3551764705882353, 0.6448235294117647, 0.6448235294117647, 0.6448235294117647, 0.6448235294117647, 0.6448235294117647, 0.6448235294117647, 0.6448235294117647, 0.6448235294117647, 0.6448235294117647, 0.6448235294117647, 0.6448235294117647, 0.3551764705882353, 0.6448235294117647, 0.3551764705882353, 0.3551764705882353, 0.6448235294117647, 0.3551764705882353, 0.6448235294117647, 0.6448235294117647, 0.3551764705882353, 0.6448235294117647, 0.3551764705882353, 0.6448235294117647, 0.3551764705882353, 0.6448235294117647, 0.6448235294117647, 0.3551764705882353, 0.3551764705882353, 0.6448235294117647, 0.6448235294117647, 0.6448235294117647, 0.6448235294117647, 0.3551764705882353, 0.3551764705882353, 0.3551764705882353, 0.6448235294117647, 0.3551764705882353, 0.6448235294117647, 0.6448235294117647, 0.6448235294117647, 0.3551764705882353, 0.3551764705882353, 0.3551764705882353, 0.6448235294117647, 0.6448235294117647, 0.3551764705882353, 0.3551764705882353, 0.3551764705882353, 0.6448235294117647, 0.6448235294117647, 0.6448235294117647, 0.3551764705882353, 0.3551764705882353, 0.6448235294117647, 0.6448235294117647, 0.3551764705882353, 0.3551764705882353, 0.6448235294117647, 0.6448235294117647, 0.6448235294117647, 0.6448235294117647, 0.6448235294117647, 0.6448235294117647, 0.6448235294117647, 0.3551764705882353, 0.6448235294117647, 0.6448235294117647, 0.6448235294117647, 0.3551764705882353, 0.6448235294117647, 0.6448235294117647, 0.6448235294117647, 0.3551764705882353, 0.6448235294117647, 0.6448235294117647, 0.6448235294117647, 0.6448235294117647, 0.6448235294117647, 0.3551764705882353, 0.6448235294117647, 0.6448235294117647, 0.3551764705882353, 0.6448235294117647, 0.6448235294117647, 0.3551764705882353, 0.6448235294117647, 0.6448235294117647, 0.6448235294117647, 0.6448235294117647, 0.6448235294117647, 0.6448235294117647, 0.3551764705882353, 0.6448235294117647, 0.6448235294117647, 0.6448235294117647, 0.6448235294117647, 0.6448235294117647, 0.3551764705882353, 0.6448235294117647, 0.3551764705882353, 0.6448235294117647, 0.3551764705882353, 0.6448235294117647, 0.3551764705882353, 0.3551764705882353, 0.6448235294117647, 0.3551764705882353, 0.6448235294117647, 0.3551764705882353, 0.3551764705882353, 0.6448235294117647, 0.6448235294117647, 0.6448235294117647, 0.6448235294117647, 0.6448235294117647, 0.6448235294117647, 0.6448235294117647, 0.3551764705882353, 0.6448235294117647, 0.3551764705882353, 0.3551764705882353, 0.6448235294117647, 0.3551764705882353, 0.6448235294117647, 0.6448235294117647, 0.3551764705882353, 0.6448235294117647, 0.6448235294117647, 0.6448235294117647, 0.6448235294117647, 0.3551764705882353, 0.3551764705882353, 0.6448235294117647, 0.3551764705882353, 0.6448235294117647, 0.6448235294117647, 0.6448235294117647, 0.6448235294117647, 0.6448235294117647, 0.6448235294117647, 0.6448235294117647, 0.6448235294117647, 0.6448235294117647, 0.6448235294117647, 0.3551764705882353, 0.6448235294117647, 0.6448235294117647, 0.3551764705882353, 0.3551764705882353, 0.6448235294117647, 0.6448235294117647, 0.3551764705882353, 0.6448235294117647, 0.3551764705882353, 0.6448235294117647, 0.3551764705882353, 0.3551764705882353, 0.6448235294117647, 0.3551764705882353, 0.6448235294117647, 0.6448235294117647, 0.6448235294117647, 0.3551764705882353, 0.6448235294117647, 0.6448235294117647, 0.6448235294117647, 0.6448235294117647, 0.6448235294117647, 0.6448235294117647, 0.3551764705882353, 0.6448235294117647, 0.6448235294117647, 0.6448235294117647, 0.6448235294117647, 0.3551764705882353, 0.6448235294117647, 0.3551764705882353, 0.6448235294117647, 0.6448235294117647, 0.6448235294117647, 0.3551764705882353, 0.6448235294117647, 0.3551764705882353, 0.3551764705882353, 0.6448235294117647, 0.6448235294117647, 0.6448235294117647, 0.3551764705882353, 0.3551764705882353, 0.6448235294117647, 0.6448235294117647, 0.6448235294117647, 0.6448235294117647, 0.3551764705882353, 0.3551764705882353, 0.6448235294117647, 0.6448235294117647, 0.6448235294117647, 0.6448235294117647, 0.3551764705882353, 0.3551764705882353, 0.6448235294117647, 0.3551764705882353, 0.6448235294117647, 0.6448235294117647, 0.3551764705882353, 0.6448235294117647, 0.6448235294117647, 0.3551764705882353, 0.6448235294117647, 0.3551764705882353, 0.3551764705882353, 0.6448235294117647, 0.6448235294117647, 0.3551764705882353, 0.6448235294117647, 0.3551764705882353, 0.6448235294117647, 0.6448235294117647, 0.6448235294117647, 0.6448235294117647, 0.6448235294117647, 0.6448235294117647, 0.3551764705882353, 0.3551764705882353, 0.6448235294117647, 0.6448235294117647, 0.6448235294117647, 0.3551764705882353, 0.6448235294117647, 0.6448235294117647, 0.3551764705882353, 0.6448235294117647, 0.6448235294117647, 0.6448235294117647, 0.6448235294117647, 0.6448235294117647, 0.3551764705882353, 0.6448235294117647, 0.6448235294117647, 0.6448235294117647, 0.6448235294117647, 0.6448235294117647, 0.3551764705882353, 0.6448235294117647, 0.3551764705882353, 0.3551764705882353, 0.3551764705882353, 0.6448235294117647, 0.6448235294117647, 0.6448235294117647, 0.6448235294117647, 0.3551764705882353, 0.3551764705882353, 0.6448235294117647, 0.6448235294117647, 0.6448235294117647, 0.6448235294117647, 0.3551764705882353, 0.3551764705882353, 0.3551764705882353, 0.6448235294117647, 0.6448235294117647, 0.6448235294117647, 0.6448235294117647, 0.3551764705882353, 0.3551764705882353, 0.3551764705882353, 0.6448235294117647, 0.6448235294117647, 0.6448235294117647, 0.3551764705882353, 0.6448235294117647, 0.3551764705882353, 0.6448235294117647, 0.3551764705882353, 0.6448235294117647, 0.3551764705882353, 0.3551764705882353, 0.6448235294117647, 0.6448235294117647, 0.3551764705882353, 0.6448235294117647, 0.3551764705882353, 0.6448235294117647, 0.6448235294117647, 0.3551764705882353, 0.3551764705882353, 0.6448235294117647, 0.6448235294117647, 0.6448235294117647, 0.6448235294117647, 0.6448235294117647, 0.6448235294117647, 0.6448235294117647, 0.3551764705882353, 0.6448235294117647, 0.6448235294117647, 0.3551764705882353, 0.3551764705882353, 0.3551764705882353, 0.6448235294117647, 0.6448235294117647, 0.6448235294117647, 0.6448235294117647, 0.3551764705882353, 0.6448235294117647, 0.3551764705882353, 0.6448235294117647, 0.3551764705882353, 0.6448235294117647, 0.6448235294117647, 0.3551764705882353, 0.6448235294117647, 0.6448235294117647, 0.3551764705882353, 0.6448235294117647, 0.3551764705882353, 0.3551764705882353, 0.6448235294117647, 0.6448235294117647, 0.3551764705882353, 0.3551764705882353, 0.3551764705882353, 0.3551764705882353, 0.6448235294117647, 0.3551764705882353, 0.3551764705882353, 0.6448235294117647, 0.3551764705882353, 0.6448235294117647, 0.6448235294117647, 0.3551764705882353, 0.6448235294117647, 0.6448235294117647, 0.3551764705882353, 0.6448235294117647, 0.6448235294117647, 0.6448235294117647, 0.6448235294117647, 0.3551764705882353, 0.3551764705882353, 0.3551764705882353, 0.6448235294117647, 0.3551764705882353, 0.3551764705882353, 0.3551764705882353, 0.6448235294117647, 0.6448235294117647, 0.3551764705882353, 0.6448235294117647, 0.6448235294117647, 0.6448235294117647, 0.6448235294117647, 0.6448235294117647, 0.6448235294117647, 0.6448235294117647, 0.6448235294117647, 0.6448235294117647, 0.3551764705882353, 0.6448235294117647, 0.6448235294117647, 0.6448235294117647, 0.6448235294117647, 0.6448235294117647, 0.6448235294117647, 0.3551764705882353, 0.3551764705882353, 0.6448235294117647, 0.6448235294117647, 0.6448235294117647, 0.3551764705882353, 0.3551764705882353, 0.3551764705882353, 0.6448235294117647, 0.6448235294117647, 0.6448235294117647, 0.6448235294117647, 0.6448235294117647, 0.6448235294117647, 0.3551764705882353, 0.6448235294117647, 0.6448235294117647, 0.6448235294117647, 0.3551764705882353, 0.6448235294117647, 0.6448235294117647, 0.6448235294117647, 0.6448235294117647, 0.6448235294117647, 0.6448235294117647, 0.6448235294117647, 0.6448235294117647, 0.3551764705882353, 0.6448235294117647, 0.6448235294117647, 0.3551764705882353, 0.6448235294117647, 0.6448235294117647, 0.6448235294117647, 0.3551764705882353, 0.6448235294117647, 0.3551764705882353, 0.6448235294117647, 0.3551764705882353, 0.6448235294117647, 0.6448235294117647, 0.3551764705882353, 0.6448235294117647, 0.6448235294117647, 0.6448235294117647, 0.3551764705882353, 0.6448235294117647, 0.6448235294117647, 0.6448235294117647, 0.3551764705882353, 0.6448235294117647, 0.6448235294117647, 0.3551764705882353, 0.6448235294117647, 0.3551764705882353, 0.6448235294117647, 0.6448235294117647, 0.6448235294117647, 0.6448235294117647, 0.3551764705882353, 0.6448235294117647, 0.6448235294117647, 0.3551764705882353, 0.3551764705882353, 0.3551764705882353, 0.6448235294117647, 0.6448235294117647, 0.6448235294117647, 0.3551764705882353, 0.6448235294117647, 0.6448235294117647, 0.6448235294117647, 0.6448235294117647, 0.6448235294117647, 0.6448235294117647, 0.6448235294117647, 0.6448235294117647, 0.3551764705882353, 0.6448235294117647, 0.6448235294117647, 0.6448235294117647, 0.3551764705882353, 0.3551764705882353, 0.6448235294117647, 0.6448235294117647, 0.6448235294117647, 0.6448235294117647, 0.6448235294117647, 0.6448235294117647, 0.6448235294117647, 0.6448235294117647, 0.6448235294117647, 0.6448235294117647, 0.6448235294117647, 0.6448235294117647, 0.6448235294117647, 0.3551764705882353, 0.6448235294117647, 0.6448235294117647, 0.3551764705882353, 0.6448235294117647, 0.3551764705882353, 0.3551764705882353, 0.3551764705882353, 0.6448235294117647, 0.6448235294117647, 0.3551764705882353, 0.3551764705882353, 0.6448235294117647, 0.6448235294117647, 0.3551764705882353, 0.3551764705882353, 0.3551764705882353, 0.6448235294117647, 0.3551764705882353, 0.6448235294117647, 0.6448235294117647, 0.6448235294117647, 0.6448235294117647, 0.6448235294117647, 0.3551764705882353, 0.6448235294117647, 0.6448235294117647, 0.6448235294117647, 0.6448235294117647, 0.6448235294117647, 0.3551764705882353, 0.3551764705882353, 0.6448235294117647, 0.3551764705882353, 0.3551764705882353, 0.6448235294117647, 0.3551764705882353, 0.3551764705882353, 0.3551764705882353, 0.6448235294117647, 0.6448235294117647, 0.3551764705882353, 0.6448235294117647, 0.6448235294117647, 0.3551764705882353, 0.3551764705882353, 0.6448235294117647, 0.6448235294117647, 0.6448235294117647, 0.6448235294117647, 0.6448235294117647, 0.6448235294117647, 0.6448235294117647, 0.6448235294117647, 0.3551764705882353, 0.6448235294117647, 0.6448235294117647, 0.3551764705882353, 0.3551764705882353, 0.3551764705882353, 0.6448235294117647, 0.3551764705882353, 0.6448235294117647, 0.6448235294117647, 0.6448235294117647, 0.3551764705882353, 0.3551764705882353, 0.3551764705882353, 0.3551764705882353, 0.6448235294117647, 0.6448235294117647, 0.3551764705882353, 0.6448235294117647, 0.6448235294117647, 0.6448235294117647, 0.3551764705882353, 0.3551764705882353, 0.6448235294117647, 0.6448235294117647, 0.3551764705882353, 0.3551764705882353, 0.6448235294117647, 0.6448235294117647, 0.6448235294117647, 0.6448235294117647, 0.6448235294117647, 0.6448235294117647, 0.6448235294117647, 0.6448235294117647, 0.6448235294117647, 0.6448235294117647, 0.6448235294117647, 0.6448235294117647, 0.6448235294117647, 0.3551764705882353, 0.6448235294117647, 0.6448235294117647, 0.6448235294117647, 0.3551764705882353, 0.6448235294117647, 0.3551764705882353, 0.6448235294117647, 0.3551764705882353, 0.6448235294117647, 0.3551764705882353, 0.6448235294117647, 0.3551764705882353, 0.6448235294117647, 0.3551764705882353, 0.6448235294117647, 0.6448235294117647, 0.3551764705882353, 0.3551764705882353, 0.3551764705882353, 0.3551764705882353, 0.6448235294117647, 0.3551764705882353, 0.3551764705882353, 0.3551764705882353, 0.3551764705882353, 0.6448235294117647, 0.6448235294117647, 0.3551764705882353, 0.6448235294117647, 0.3551764705882353, 0.6448235294117647, 0.3551764705882353, 0.3551764705882353, 0.3551764705882353, 0.6448235294117647, 0.3551764705882353, 0.6448235294117647, 0.6448235294117647, 0.6448235294117647, 0.6448235294117647, 0.3551764705882353, 0.6448235294117647, 0.6448235294117647, 0.6448235294117647, 0.6448235294117647, 0.3551764705882353, 0.6448235294117647, 0.6448235294117647, 0.3551764705882353, 0.6448235294117647, 0.3551764705882353, 0.6448235294117647, 0.3551764705882353, 0.6448235294117647, 0.3551764705882353, 0.6448235294117647, 0.6448235294117647, 0.6448235294117647, 0.6448235294117647, 0.3551764705882353, 0.3551764705882353, 0.3551764705882353, 0.6448235294117647, 0.3551764705882353, 0.6448235294117647, 0.6448235294117647, 0.6448235294117647, 0.3551764705882353, 0.6448235294117647, 0.6448235294117647, 0.3551764705882353, 0.3551764705882353, 0.3551764705882353, 0.6448235294117647, 0.6448235294117647, 0.3551764705882353, 0.6448235294117647, 0.6448235294117647, 0.6448235294117647, 0.6448235294117647, 0.3551764705882353, 0.3551764705882353, 0.6448235294117647, 0.6448235294117647, 0.6448235294117647, 0.3551764705882353, 0.3551764705882353, 0.6448235294117647, 0.3551764705882353, 0.6448235294117647, 0.3551764705882353, 0.6448235294117647, 0.3551764705882353, 0.6448235294117647, 0.6448235294117647, 0.3551764705882353, 0.3551764705882353, 0.3551764705882353, 0.3551764705882353, 0.6448235294117647, 0.6448235294117647, 0.6448235294117647, 0.6448235294117647, 0.6448235294117647, 0.6448235294117647, 0.3551764705882353, 0.3551764705882353, 0.6448235294117647, 0.6448235294117647, 0.6448235294117647, 0.3551764705882353, 0.3551764705882353, 0.3551764705882353, 0.6448235294117647, 0.3551764705882353, 0.6448235294117647, 0.6448235294117647, 0.3551764705882353, 0.6448235294117647, 0.6448235294117647, 0.6448235294117647, 0.3551764705882353, 0.6448235294117647, 0.3551764705882353, 0.6448235294117647, 0.6448235294117647, 0.6448235294117647, 0.3551764705882353, 0.6448235294117647, 0.6448235294117647, 0.6448235294117647, 0.6448235294117647, 0.6448235294117647, 0.3551764705882353, 0.3551764705882353, 0.6448235294117647, 0.3551764705882353, 0.6448235294117647, 0.6448235294117647, 0.3551764705882353, 0.3551764705882353, 0.6448235294117647, 0.6448235294117647, 0.6448235294117647, 0.3551764705882353, 0.3551764705882353, 0.6448235294117647, 0.6448235294117647, 0.3551764705882353, 0.6448235294117647, 0.6448235294117647, 0.6448235294117647, 0.3551764705882353, 0.6448235294117647, 0.6448235294117647, 0.6448235294117647, 0.3551764705882353, 0.3551764705882353, 0.6448235294117647, 0.6448235294117647, 0.6448235294117647, 0.6448235294117647, 0.3551764705882353, 0.6448235294117647, 0.6448235294117647, 0.6448235294117647, 0.6448235294117647, 0.6448235294117647, 0.6448235294117647, 0.6448235294117647, 0.3551764705882353, 0.6448235294117647, 0.6448235294117647, 0.3551764705882353, 0.6448235294117647, 0.3551764705882353, 0.6448235294117647, 0.6448235294117647, 0.3551764705882353, 0.6448235294117647, 0.3551764705882353, 0.6448235294117647, 0.3551764705882353, 0.3551764705882353, 0.3551764705882353, 0.6448235294117647, 0.3551764705882353, 0.3551764705882353, 0.3551764705882353, 0.3551764705882353, 0.3551764705882353, 0.3551764705882353, 0.3551764705882353, 0.3551764705882353, 0.3551764705882353, 0.3551764705882353, 0.3551764705882353, 0.6448235294117647, 0.3551764705882353, 0.3551764705882353, 0.3551764705882353, 0.3551764705882353, 0.3551764705882353, 0.3551764705882353, 0.3551764705882353, 0.3551764705882353, 0.3551764705882353, 0.3551764705882353, 0.3551764705882353, 0.3551764705882353, 0.3551764705882353, 0.3551764705882353, 0.3551764705882353, 0.3551764705882353, 0.3551764705882353, 0.3551764705882353, 0.3551764705882353, 0.3551764705882353, 0.3551764705882353, 0.3551764705882353, 0.3551764705882353, 0.3551764705882353, 0.3551764705882353, 0.3551764705882353, 0.3551764705882353, 0.3551764705882353, 0.3551764705882353, 0.3551764705882353, 0.3551764705882353, 0.3551764705882353, 0.3551764705882353, 0.3551764705882353, 0.3551764705882353, 0.3551764705882353, 0.3551764705882353, 0.3551764705882353, 0.3551764705882353, 0.3551764705882353, 0.3551764705882353, 0.3551764705882353, 0.3551764705882353, 0.3551764705882353, 0.3551764705882353, 0.3551764705882353, 0.3551764705882353, 0.3551764705882353, 0.3551764705882353, 0.3551764705882353, 0.3551764705882353, 0.3551764705882353, 0.3551764705882353, 0.3551764705882353, 0.3551764705882353, 0.3551764705882353, 0.3551764705882353, 0.3551764705882353, 0.3551764705882353, 0.3551764705882353, 0.3551764705882353, 0.3551764705882353, 0.3551764705882353, 0.3551764705882353, 0.3551764705882353, 0.3551764705882353, 0.3551764705882353, 0.3551764705882353, 0.3551764705882353, 0.3551764705882353, 0.3551764705882353, 0.3551764705882353, 0.3551764705882353, 0.3551764705882353, 0.3551764705882353, 0.3551764705882353, 0.3551764705882353, 0.3551764705882353, 0.3551764705882353, 0.3551764705882353, 0.3551764705882353, 0.3551764705882353, 0.3551764705882353, 0.3551764705882353, 0.3551764705882353, 0.3551764705882353, 0.3551764705882353, 0.3551764705882353, 0.3551764705882353, 0.3551764705882353, 0.3551764705882353, 0.3551764705882353, 0.3551764705882353, 0.3551764705882353, 0.3551764705882353, 0.3551764705882353, 0.3551764705882353, 0.3551764705882353, 0.3551764705882353, 0.3551764705882353, 0.3551764705882353, 0.3551764705882353, 0.3551764705882353, 0.3551764705882353, 0.3551764705882353, 0.3551764705882353, 0.3551764705882353, 0.3551764705882353, 0.3551764705882353, 0.3551764705882353, 0.3551764705882353, 0.3551764705882353, 0.3551764705882353, 0.3551764705882353, 0.3551764705882353, 0.3551764705882353, 0.3551764705882353, 0.3551764705882353, 0.3551764705882353, 0.3551764705882353, 0.3551764705882353, 0.3551764705882353, 0.3551764705882353, 0.3551764705882353, 0.3551764705882353, 0.3551764705882353, 0.3551764705882353, 0.3551764705882353, 0.3551764705882353, 0.3551764705882353, 0.3551764705882353, 0.3551764705882353, 0.3551764705882353, 0.3551764705882353, 0.3551764705882353, 0.3551764705882353, 0.3551764705882353, 0.3551764705882353]\n"
          ]
        }
      ]
    },
    {
      "cell_type": "code",
      "source": [
        "print(len(sample_weights))"
      ],
      "metadata": {
        "colab": {
          "base_uri": "https://localhost:8080/"
        },
        "id": "cXliTW-fSYdA",
        "outputId": "9edf0f42-5c8f-4a41-d844-55d907f836d6"
      },
      "execution_count": 32,
      "outputs": [
        {
          "output_type": "stream",
          "name": "stdout",
          "text": [
            "8500\n"
          ]
        }
      ]
    },
    {
      "cell_type": "code",
      "source": [
        "# Define the loss function with manually computed class weights\n",
        "def weighted_categorical_crossentropy(weights):\n",
        "    weights = tf.constant(weights, dtype=tf.float32)\n",
        "    \n",
        "    def loss(y_true, y_pred):\n",
        "        y_pred /= tf.reduce_sum(y_pred, axis=-1, keepdims=True)\n",
        "        y_pred = tf.clip_by_value(y_pred, 1e-7, 1-1e-7)\n",
        "        loss = y_true * tf.math.log(y_pred) * weights\n",
        "        loss = -tf.reduce_sum(loss, -1)\n",
        "        return loss\n",
        "    \n",
        "    return loss"
      ],
      "metadata": {
        "id": "yfGLDWZHN3Kf"
      },
      "execution_count": 33,
      "outputs": []
    },
    {
      "cell_type": "code",
      "source": [
        "# Use ResNet\n",
        "PT_ResNet = tf.keras.applications.ResNet50(input_shape=(224,224,3),include_top=False)"
      ],
      "metadata": {
        "id": "MQiUwlk5CxEv",
        "colab": {
          "base_uri": "https://localhost:8080/"
        },
        "outputId": "7d032526-00a3-4709-d85d-f7e48aee81ea"
      },
      "execution_count": 34,
      "outputs": [
        {
          "output_type": "stream",
          "name": "stdout",
          "text": [
            "Downloading data from https://storage.googleapis.com/tensorflow/keras-applications/resnet/resnet50_weights_tf_dim_ordering_tf_kernels_notop.h5\n",
            "94765736/94765736 [==============================] - 1s 0us/step\n"
          ]
        }
      ]
    },
    {
      "cell_type": "code",
      "source": [
        "# Freezing Layers\n",
        "for layer in PT_ResNet.layers[:-4]:\n",
        "    layer.trainable=False"
      ],
      "metadata": {
        "id": "y_0-5xTQM2DF"
      },
      "execution_count": 35,
      "outputs": []
    },
    {
      "cell_type": "code",
      "source": [
        "Res_Net=Sequential()\n",
        "Res_Net.add(PT_ResNet)\n",
        "\n",
        "#---------------------------BLOCK-1-------------------------#\n",
        "# modelRes.add(Conv2D(64, kernel_size=(3, 3), activation='relu', padding='same'))\n",
        "# modelRes.add(BatchNormalization())\n",
        "# modelRes.add(Conv2D(64, kernel_size=(3, 3), activation='relu', padding='same'))\n",
        "# modelRes.add(BatchNormalization())\n",
        "# modelRes.add(MaxPooling2D(pool_size=(2, 2)))\n",
        "# modelRes.add(Dropout(0.25))\n",
        "\n",
        "# #---------------------------BLOCK-2--------------------------#\n",
        "# modelRes.add(Conv2D(128, kernel_size=(3, 3), activation='relu', padding='same'))\n",
        "# modelRes.add(BatchNormalization())\n",
        "# modelRes.add(Conv2D(128, kernel_size=(3, 3), activation='relu', padding='same'))\n",
        "# modelRes.add(BatchNormalization())\n",
        "# modelRes.add(MaxPooling2D(pool_size=(2, 2)))\n",
        "# modelRes.add(Dropout(0.25))\n",
        "\n",
        "# #--------------------------BLOCK-3----------------------------#\n",
        "# modelRes.add(Conv2D(256, kernel_size=(3, 3), activation='relu', padding='same'))\n",
        "# modelRes.add(BatchNormalization())\n",
        "# modelRes.add(Conv2D(256, kernel_size=(3, 3), activation='relu', padding='same'))\n",
        "# modelRes.add(BatchNormalization())\n",
        "# modelRes.add(MaxPooling2D(pool_size=(1, 1)))  # change pool size and stride\n",
        "# modelRes.add(Dropout(0.25))\n",
        "\n",
        "Res_Net.add(Flatten())\n",
        "# modelRes.add(Dropout(0.5))\n",
        "# Res_Net.add(Dense(256, activation='relu',kernel_regularizer=tf.keras.regularizers.l2(0.04)))\n",
        "# Res_Net.add(BatchNormalization())\n",
        "# Res_Net.add(Dropout(0.5))\n",
        "Res_Net.add(Dense(64,kernel_regularizer=tf.keras.regularizers.l2(0.04)))\n",
        "Res_Net.add(BatchNormalization())\n",
        "Res_Net.add(Dense(32,kernel_regularizer=tf.keras.regularizers.l2(0.04)))\n",
        "Res_Net.add(BatchNormalization())\n",
        "Res_Net.add(Dropout(0.5))\n",
        "Res_Net.add(Activation('relu'))\n",
        "Res_Net.add(Dense(1, activation='sigmoid'))\n"
      ],
      "metadata": {
        "id": "6eVm2kbDC903"
      },
      "execution_count": 36,
      "outputs": []
    },
    {
      "cell_type": "code",
      "source": [
        "#modelRes.compile(optimizer='Adam', loss='binary_crossentropy',metrics=METRICS)"
      ],
      "metadata": {
        "id": "Z_60gulpDCTV"
      },
      "execution_count": 37,
      "outputs": []
    },
    {
      "cell_type": "code",
      "source": [
        "lr = 0.01\n",
        "wd = 0.02"
      ],
      "metadata": {
        "id": "0g4iomP5waRb"
      },
      "execution_count": 38,
      "outputs": []
    },
    {
      "cell_type": "code",
      "source": [
        "my_optimizer = tfa.optimizers.AdamW(learning_rate=lr, weight_decay=wd)"
      ],
      "metadata": {
        "id": "af8OFLqswF-7"
      },
      "execution_count": 39,
      "outputs": []
    },
    {
      "cell_type": "code",
      "source": [
        "Res_Net.compile(optimizer=my_optimizer, loss='binary_crossentropy',metrics=METRICS)"
      ],
      "metadata": {
        "id": "FlZw5QYLJvKD"
      },
      "execution_count": 51,
      "outputs": []
    },
    {
      "cell_type": "markdown",
      "source": [
        "###5.2 Xception"
      ],
      "metadata": {
        "id": "kjX5roEvPUGZ"
      }
    },
    {
      "cell_type": "code",
      "source": [
        "Xception = tf.keras.applications.Xception(weights = 'imagenet',include_top = False,input_shape = (224,224, 3))"
      ],
      "metadata": {
        "id": "02MnOaTVOsmF",
        "colab": {
          "base_uri": "https://localhost:8080/"
        },
        "outputId": "2a9b159d-7bdc-45ca-a824-1ec1ad4907db"
      },
      "execution_count": 142,
      "outputs": [
        {
          "output_type": "stream",
          "name": "stdout",
          "text": [
            "Downloading data from https://storage.googleapis.com/tensorflow/keras-applications/xception/xception_weights_tf_dim_ordering_tf_kernels_notop.h5\n",
            "83683744/83683744 [==============================] - 1s 0us/step\n"
          ]
        }
      ]
    },
    {
      "cell_type": "code",
      "source": [
        "Xception.summary()"
      ],
      "metadata": {
        "colab": {
          "base_uri": "https://localhost:8080/"
        },
        "id": "5v2IC-yFCyV4",
        "outputId": "e75bc11e-3257-42e3-a4d1-0b852d626d00"
      },
      "execution_count": 168,
      "outputs": [
        {
          "output_type": "stream",
          "name": "stdout",
          "text": [
            "Model: \"xception\"\n",
            "__________________________________________________________________________________________________\n",
            " Layer (type)                   Output Shape         Param #     Connected to                     \n",
            "==================================================================================================\n",
            " input_2 (InputLayer)           [(None, 224, 224, 3  0           []                               \n",
            "                                )]                                                                \n",
            "                                                                                                  \n",
            " block1_conv1 (Conv2D)          (None, 111, 111, 32  864         ['input_2[0][0]']                \n",
            "                                )                                                                 \n",
            "                                                                                                  \n",
            " block1_conv1_bn (BatchNormaliz  (None, 111, 111, 32  128        ['block1_conv1[0][0]']           \n",
            " ation)                         )                                                                 \n",
            "                                                                                                  \n",
            " block1_conv1_act (Activation)  (None, 111, 111, 32  0           ['block1_conv1_bn[0][0]']        \n",
            "                                )                                                                 \n",
            "                                                                                                  \n",
            " block1_conv2 (Conv2D)          (None, 109, 109, 64  18432       ['block1_conv1_act[0][0]']       \n",
            "                                )                                                                 \n",
            "                                                                                                  \n",
            " block1_conv2_bn (BatchNormaliz  (None, 109, 109, 64  256        ['block1_conv2[0][0]']           \n",
            " ation)                         )                                                                 \n",
            "                                                                                                  \n",
            " block1_conv2_act (Activation)  (None, 109, 109, 64  0           ['block1_conv2_bn[0][0]']        \n",
            "                                )                                                                 \n",
            "                                                                                                  \n",
            " block2_sepconv1 (SeparableConv  (None, 109, 109, 12  8768       ['block1_conv2_act[0][0]']       \n",
            " 2D)                            8)                                                                \n",
            "                                                                                                  \n",
            " block2_sepconv1_bn (BatchNorma  (None, 109, 109, 12  512        ['block2_sepconv1[0][0]']        \n",
            " lization)                      8)                                                                \n",
            "                                                                                                  \n",
            " block2_sepconv2_act (Activatio  (None, 109, 109, 12  0          ['block2_sepconv1_bn[0][0]']     \n",
            " n)                             8)                                                                \n",
            "                                                                                                  \n",
            " block2_sepconv2 (SeparableConv  (None, 109, 109, 12  17536      ['block2_sepconv2_act[0][0]']    \n",
            " 2D)                            8)                                                                \n",
            "                                                                                                  \n",
            " block2_sepconv2_bn (BatchNorma  (None, 109, 109, 12  512        ['block2_sepconv2[0][0]']        \n",
            " lization)                      8)                                                                \n",
            "                                                                                                  \n",
            " conv2d (Conv2D)                (None, 55, 55, 128)  8192        ['block1_conv2_act[0][0]']       \n",
            "                                                                                                  \n",
            " block2_pool (MaxPooling2D)     (None, 55, 55, 128)  0           ['block2_sepconv2_bn[0][0]']     \n",
            "                                                                                                  \n",
            " batch_normalization_2 (BatchNo  (None, 55, 55, 128)  512        ['conv2d[0][0]']                 \n",
            " rmalization)                                                                                     \n",
            "                                                                                                  \n",
            " add (Add)                      (None, 55, 55, 128)  0           ['block2_pool[0][0]',            \n",
            "                                                                  'batch_normalization_2[0][0]']  \n",
            "                                                                                                  \n",
            " block3_sepconv1_act (Activatio  (None, 55, 55, 128)  0          ['add[0][0]']                    \n",
            " n)                                                                                               \n",
            "                                                                                                  \n",
            " block3_sepconv1 (SeparableConv  (None, 55, 55, 256)  33920      ['block3_sepconv1_act[0][0]']    \n",
            " 2D)                                                                                              \n",
            "                                                                                                  \n",
            " block3_sepconv1_bn (BatchNorma  (None, 55, 55, 256)  1024       ['block3_sepconv1[0][0]']        \n",
            " lization)                                                                                        \n",
            "                                                                                                  \n",
            " block3_sepconv2_act (Activatio  (None, 55, 55, 256)  0          ['block3_sepconv1_bn[0][0]']     \n",
            " n)                                                                                               \n",
            "                                                                                                  \n",
            " block3_sepconv2 (SeparableConv  (None, 55, 55, 256)  67840      ['block3_sepconv2_act[0][0]']    \n",
            " 2D)                                                                                              \n",
            "                                                                                                  \n",
            " block3_sepconv2_bn (BatchNorma  (None, 55, 55, 256)  1024       ['block3_sepconv2[0][0]']        \n",
            " lization)                                                                                        \n",
            "                                                                                                  \n",
            " conv2d_1 (Conv2D)              (None, 28, 28, 256)  32768       ['add[0][0]']                    \n",
            "                                                                                                  \n",
            " block3_pool (MaxPooling2D)     (None, 28, 28, 256)  0           ['block3_sepconv2_bn[0][0]']     \n",
            "                                                                                                  \n",
            " batch_normalization_3 (BatchNo  (None, 28, 28, 256)  1024       ['conv2d_1[0][0]']               \n",
            " rmalization)                                                                                     \n",
            "                                                                                                  \n",
            " add_1 (Add)                    (None, 28, 28, 256)  0           ['block3_pool[0][0]',            \n",
            "                                                                  'batch_normalization_3[0][0]']  \n",
            "                                                                                                  \n",
            " block4_sepconv1_act (Activatio  (None, 28, 28, 256)  0          ['add_1[0][0]']                  \n",
            " n)                                                                                               \n",
            "                                                                                                  \n",
            " block4_sepconv1 (SeparableConv  (None, 28, 28, 728)  188672     ['block4_sepconv1_act[0][0]']    \n",
            " 2D)                                                                                              \n",
            "                                                                                                  \n",
            " block4_sepconv1_bn (BatchNorma  (None, 28, 28, 728)  2912       ['block4_sepconv1[0][0]']        \n",
            " lization)                                                                                        \n",
            "                                                                                                  \n",
            " block4_sepconv2_act (Activatio  (None, 28, 28, 728)  0          ['block4_sepconv1_bn[0][0]']     \n",
            " n)                                                                                               \n",
            "                                                                                                  \n",
            " block4_sepconv2 (SeparableConv  (None, 28, 28, 728)  536536     ['block4_sepconv2_act[0][0]']    \n",
            " 2D)                                                                                              \n",
            "                                                                                                  \n",
            " block4_sepconv2_bn (BatchNorma  (None, 28, 28, 728)  2912       ['block4_sepconv2[0][0]']        \n",
            " lization)                                                                                        \n",
            "                                                                                                  \n",
            " conv2d_2 (Conv2D)              (None, 14, 14, 728)  186368      ['add_1[0][0]']                  \n",
            "                                                                                                  \n",
            " block4_pool (MaxPooling2D)     (None, 14, 14, 728)  0           ['block4_sepconv2_bn[0][0]']     \n",
            "                                                                                                  \n",
            " batch_normalization_4 (BatchNo  (None, 14, 14, 728)  2912       ['conv2d_2[0][0]']               \n",
            " rmalization)                                                                                     \n",
            "                                                                                                  \n",
            " add_2 (Add)                    (None, 14, 14, 728)  0           ['block4_pool[0][0]',            \n",
            "                                                                  'batch_normalization_4[0][0]']  \n",
            "                                                                                                  \n",
            " block5_sepconv1_act (Activatio  (None, 14, 14, 728)  0          ['add_2[0][0]']                  \n",
            " n)                                                                                               \n",
            "                                                                                                  \n",
            " block5_sepconv1 (SeparableConv  (None, 14, 14, 728)  536536     ['block5_sepconv1_act[0][0]']    \n",
            " 2D)                                                                                              \n",
            "                                                                                                  \n",
            " block5_sepconv1_bn (BatchNorma  (None, 14, 14, 728)  2912       ['block5_sepconv1[0][0]']        \n",
            " lization)                                                                                        \n",
            "                                                                                                  \n",
            " block5_sepconv2_act (Activatio  (None, 14, 14, 728)  0          ['block5_sepconv1_bn[0][0]']     \n",
            " n)                                                                                               \n",
            "                                                                                                  \n",
            " block5_sepconv2 (SeparableConv  (None, 14, 14, 728)  536536     ['block5_sepconv2_act[0][0]']    \n",
            " 2D)                                                                                              \n",
            "                                                                                                  \n",
            " block5_sepconv2_bn (BatchNorma  (None, 14, 14, 728)  2912       ['block5_sepconv2[0][0]']        \n",
            " lization)                                                                                        \n",
            "                                                                                                  \n",
            " block5_sepconv3_act (Activatio  (None, 14, 14, 728)  0          ['block5_sepconv2_bn[0][0]']     \n",
            " n)                                                                                               \n",
            "                                                                                                  \n",
            " block5_sepconv3 (SeparableConv  (None, 14, 14, 728)  536536     ['block5_sepconv3_act[0][0]']    \n",
            " 2D)                                                                                              \n",
            "                                                                                                  \n",
            " block5_sepconv3_bn (BatchNorma  (None, 14, 14, 728)  2912       ['block5_sepconv3[0][0]']        \n",
            " lization)                                                                                        \n",
            "                                                                                                  \n",
            " add_3 (Add)                    (None, 14, 14, 728)  0           ['block5_sepconv3_bn[0][0]',     \n",
            "                                                                  'add_2[0][0]']                  \n",
            "                                                                                                  \n",
            " block6_sepconv1_act (Activatio  (None, 14, 14, 728)  0          ['add_3[0][0]']                  \n",
            " n)                                                                                               \n",
            "                                                                                                  \n",
            " block6_sepconv1 (SeparableConv  (None, 14, 14, 728)  536536     ['block6_sepconv1_act[0][0]']    \n",
            " 2D)                                                                                              \n",
            "                                                                                                  \n",
            " block6_sepconv1_bn (BatchNorma  (None, 14, 14, 728)  2912       ['block6_sepconv1[0][0]']        \n",
            " lization)                                                                                        \n",
            "                                                                                                  \n",
            " block6_sepconv2_act (Activatio  (None, 14, 14, 728)  0          ['block6_sepconv1_bn[0][0]']     \n",
            " n)                                                                                               \n",
            "                                                                                                  \n",
            " block6_sepconv2 (SeparableConv  (None, 14, 14, 728)  536536     ['block6_sepconv2_act[0][0]']    \n",
            " 2D)                                                                                              \n",
            "                                                                                                  \n",
            " block6_sepconv2_bn (BatchNorma  (None, 14, 14, 728)  2912       ['block6_sepconv2[0][0]']        \n",
            " lization)                                                                                        \n",
            "                                                                                                  \n",
            " block6_sepconv3_act (Activatio  (None, 14, 14, 728)  0          ['block6_sepconv2_bn[0][0]']     \n",
            " n)                                                                                               \n",
            "                                                                                                  \n",
            " block6_sepconv3 (SeparableConv  (None, 14, 14, 728)  536536     ['block6_sepconv3_act[0][0]']    \n",
            " 2D)                                                                                              \n",
            "                                                                                                  \n",
            " block6_sepconv3_bn (BatchNorma  (None, 14, 14, 728)  2912       ['block6_sepconv3[0][0]']        \n",
            " lization)                                                                                        \n",
            "                                                                                                  \n",
            " add_4 (Add)                    (None, 14, 14, 728)  0           ['block6_sepconv3_bn[0][0]',     \n",
            "                                                                  'add_3[0][0]']                  \n",
            "                                                                                                  \n",
            " block7_sepconv1_act (Activatio  (None, 14, 14, 728)  0          ['add_4[0][0]']                  \n",
            " n)                                                                                               \n",
            "                                                                                                  \n",
            " block7_sepconv1 (SeparableConv  (None, 14, 14, 728)  536536     ['block7_sepconv1_act[0][0]']    \n",
            " 2D)                                                                                              \n",
            "                                                                                                  \n",
            " block7_sepconv1_bn (BatchNorma  (None, 14, 14, 728)  2912       ['block7_sepconv1[0][0]']        \n",
            " lization)                                                                                        \n",
            "                                                                                                  \n",
            " block7_sepconv2_act (Activatio  (None, 14, 14, 728)  0          ['block7_sepconv1_bn[0][0]']     \n",
            " n)                                                                                               \n",
            "                                                                                                  \n",
            " block7_sepconv2 (SeparableConv  (None, 14, 14, 728)  536536     ['block7_sepconv2_act[0][0]']    \n",
            " 2D)                                                                                              \n",
            "                                                                                                  \n",
            " block7_sepconv2_bn (BatchNorma  (None, 14, 14, 728)  2912       ['block7_sepconv2[0][0]']        \n",
            " lization)                                                                                        \n",
            "                                                                                                  \n",
            " block7_sepconv3_act (Activatio  (None, 14, 14, 728)  0          ['block7_sepconv2_bn[0][0]']     \n",
            " n)                                                                                               \n",
            "                                                                                                  \n",
            " block7_sepconv3 (SeparableConv  (None, 14, 14, 728)  536536     ['block7_sepconv3_act[0][0]']    \n",
            " 2D)                                                                                              \n",
            "                                                                                                  \n",
            " block7_sepconv3_bn (BatchNorma  (None, 14, 14, 728)  2912       ['block7_sepconv3[0][0]']        \n",
            " lization)                                                                                        \n",
            "                                                                                                  \n",
            " add_5 (Add)                    (None, 14, 14, 728)  0           ['block7_sepconv3_bn[0][0]',     \n",
            "                                                                  'add_4[0][0]']                  \n",
            "                                                                                                  \n",
            " block8_sepconv1_act (Activatio  (None, 14, 14, 728)  0          ['add_5[0][0]']                  \n",
            " n)                                                                                               \n",
            "                                                                                                  \n",
            " block8_sepconv1 (SeparableConv  (None, 14, 14, 728)  536536     ['block8_sepconv1_act[0][0]']    \n",
            " 2D)                                                                                              \n",
            "                                                                                                  \n",
            " block8_sepconv1_bn (BatchNorma  (None, 14, 14, 728)  2912       ['block8_sepconv1[0][0]']        \n",
            " lization)                                                                                        \n",
            "                                                                                                  \n",
            " block8_sepconv2_act (Activatio  (None, 14, 14, 728)  0          ['block8_sepconv1_bn[0][0]']     \n",
            " n)                                                                                               \n",
            "                                                                                                  \n",
            " block8_sepconv2 (SeparableConv  (None, 14, 14, 728)  536536     ['block8_sepconv2_act[0][0]']    \n",
            " 2D)                                                                                              \n",
            "                                                                                                  \n",
            " block8_sepconv2_bn (BatchNorma  (None, 14, 14, 728)  2912       ['block8_sepconv2[0][0]']        \n",
            " lization)                                                                                        \n",
            "                                                                                                  \n",
            " block8_sepconv3_act (Activatio  (None, 14, 14, 728)  0          ['block8_sepconv2_bn[0][0]']     \n",
            " n)                                                                                               \n",
            "                                                                                                  \n",
            " block8_sepconv3 (SeparableConv  (None, 14, 14, 728)  536536     ['block8_sepconv3_act[0][0]']    \n",
            " 2D)                                                                                              \n",
            "                                                                                                  \n",
            " block8_sepconv3_bn (BatchNorma  (None, 14, 14, 728)  2912       ['block8_sepconv3[0][0]']        \n",
            " lization)                                                                                        \n",
            "                                                                                                  \n",
            " add_6 (Add)                    (None, 14, 14, 728)  0           ['block8_sepconv3_bn[0][0]',     \n",
            "                                                                  'add_5[0][0]']                  \n",
            "                                                                                                  \n",
            " block9_sepconv1_act (Activatio  (None, 14, 14, 728)  0          ['add_6[0][0]']                  \n",
            " n)                                                                                               \n",
            "                                                                                                  \n",
            " block9_sepconv1 (SeparableConv  (None, 14, 14, 728)  536536     ['block9_sepconv1_act[0][0]']    \n",
            " 2D)                                                                                              \n",
            "                                                                                                  \n",
            " block9_sepconv1_bn (BatchNorma  (None, 14, 14, 728)  2912       ['block9_sepconv1[0][0]']        \n",
            " lization)                                                                                        \n",
            "                                                                                                  \n",
            " block9_sepconv2_act (Activatio  (None, 14, 14, 728)  0          ['block9_sepconv1_bn[0][0]']     \n",
            " n)                                                                                               \n",
            "                                                                                                  \n",
            " block9_sepconv2 (SeparableConv  (None, 14, 14, 728)  536536     ['block9_sepconv2_act[0][0]']    \n",
            " 2D)                                                                                              \n",
            "                                                                                                  \n",
            " block9_sepconv2_bn (BatchNorma  (None, 14, 14, 728)  2912       ['block9_sepconv2[0][0]']        \n",
            " lization)                                                                                        \n",
            "                                                                                                  \n",
            " block9_sepconv3_act (Activatio  (None, 14, 14, 728)  0          ['block9_sepconv2_bn[0][0]']     \n",
            " n)                                                                                               \n",
            "                                                                                                  \n",
            " block9_sepconv3 (SeparableConv  (None, 14, 14, 728)  536536     ['block9_sepconv3_act[0][0]']    \n",
            " 2D)                                                                                              \n",
            "                                                                                                  \n",
            " block9_sepconv3_bn (BatchNorma  (None, 14, 14, 728)  2912       ['block9_sepconv3[0][0]']        \n",
            " lization)                                                                                        \n",
            "                                                                                                  \n",
            " add_7 (Add)                    (None, 14, 14, 728)  0           ['block9_sepconv3_bn[0][0]',     \n",
            "                                                                  'add_6[0][0]']                  \n",
            "                                                                                                  \n",
            " block10_sepconv1_act (Activati  (None, 14, 14, 728)  0          ['add_7[0][0]']                  \n",
            " on)                                                                                              \n",
            "                                                                                                  \n",
            " block10_sepconv1 (SeparableCon  (None, 14, 14, 728)  536536     ['block10_sepconv1_act[0][0]']   \n",
            " v2D)                                                                                             \n",
            "                                                                                                  \n",
            " block10_sepconv1_bn (BatchNorm  (None, 14, 14, 728)  2912       ['block10_sepconv1[0][0]']       \n",
            " alization)                                                                                       \n",
            "                                                                                                  \n",
            " block10_sepconv2_act (Activati  (None, 14, 14, 728)  0          ['block10_sepconv1_bn[0][0]']    \n",
            " on)                                                                                              \n",
            "                                                                                                  \n",
            " block10_sepconv2 (SeparableCon  (None, 14, 14, 728)  536536     ['block10_sepconv2_act[0][0]']   \n",
            " v2D)                                                                                             \n",
            "                                                                                                  \n",
            " block10_sepconv2_bn (BatchNorm  (None, 14, 14, 728)  2912       ['block10_sepconv2[0][0]']       \n",
            " alization)                                                                                       \n",
            "                                                                                                  \n",
            " block10_sepconv3_act (Activati  (None, 14, 14, 728)  0          ['block10_sepconv2_bn[0][0]']    \n",
            " on)                                                                                              \n",
            "                                                                                                  \n",
            " block10_sepconv3 (SeparableCon  (None, 14, 14, 728)  536536     ['block10_sepconv3_act[0][0]']   \n",
            " v2D)                                                                                             \n",
            "                                                                                                  \n",
            " block10_sepconv3_bn (BatchNorm  (None, 14, 14, 728)  2912       ['block10_sepconv3[0][0]']       \n",
            " alization)                                                                                       \n",
            "                                                                                                  \n",
            " add_8 (Add)                    (None, 14, 14, 728)  0           ['block10_sepconv3_bn[0][0]',    \n",
            "                                                                  'add_7[0][0]']                  \n",
            "                                                                                                  \n",
            " block11_sepconv1_act (Activati  (None, 14, 14, 728)  0          ['add_8[0][0]']                  \n",
            " on)                                                                                              \n",
            "                                                                                                  \n",
            " block11_sepconv1 (SeparableCon  (None, 14, 14, 728)  536536     ['block11_sepconv1_act[0][0]']   \n",
            " v2D)                                                                                             \n",
            "                                                                                                  \n",
            " block11_sepconv1_bn (BatchNorm  (None, 14, 14, 728)  2912       ['block11_sepconv1[0][0]']       \n",
            " alization)                                                                                       \n",
            "                                                                                                  \n",
            " block11_sepconv2_act (Activati  (None, 14, 14, 728)  0          ['block11_sepconv1_bn[0][0]']    \n",
            " on)                                                                                              \n",
            "                                                                                                  \n",
            " block11_sepconv2 (SeparableCon  (None, 14, 14, 728)  536536     ['block11_sepconv2_act[0][0]']   \n",
            " v2D)                                                                                             \n",
            "                                                                                                  \n",
            " block11_sepconv2_bn (BatchNorm  (None, 14, 14, 728)  2912       ['block11_sepconv2[0][0]']       \n",
            " alization)                                                                                       \n",
            "                                                                                                  \n",
            " block11_sepconv3_act (Activati  (None, 14, 14, 728)  0          ['block11_sepconv2_bn[0][0]']    \n",
            " on)                                                                                              \n",
            "                                                                                                  \n",
            " block11_sepconv3 (SeparableCon  (None, 14, 14, 728)  536536     ['block11_sepconv3_act[0][0]']   \n",
            " v2D)                                                                                             \n",
            "                                                                                                  \n",
            " block11_sepconv3_bn (BatchNorm  (None, 14, 14, 728)  2912       ['block11_sepconv3[0][0]']       \n",
            " alization)                                                                                       \n",
            "                                                                                                  \n",
            " add_9 (Add)                    (None, 14, 14, 728)  0           ['block11_sepconv3_bn[0][0]',    \n",
            "                                                                  'add_8[0][0]']                  \n",
            "                                                                                                  \n",
            " block12_sepconv1_act (Activati  (None, 14, 14, 728)  0          ['add_9[0][0]']                  \n",
            " on)                                                                                              \n",
            "                                                                                                  \n",
            " block12_sepconv1 (SeparableCon  (None, 14, 14, 728)  536536     ['block12_sepconv1_act[0][0]']   \n",
            " v2D)                                                                                             \n",
            "                                                                                                  \n",
            " block12_sepconv1_bn (BatchNorm  (None, 14, 14, 728)  2912       ['block12_sepconv1[0][0]']       \n",
            " alization)                                                                                       \n",
            "                                                                                                  \n",
            " block12_sepconv2_act (Activati  (None, 14, 14, 728)  0          ['block12_sepconv1_bn[0][0]']    \n",
            " on)                                                                                              \n",
            "                                                                                                  \n",
            " block12_sepconv2 (SeparableCon  (None, 14, 14, 728)  536536     ['block12_sepconv2_act[0][0]']   \n",
            " v2D)                                                                                             \n",
            "                                                                                                  \n",
            " block12_sepconv2_bn (BatchNorm  (None, 14, 14, 728)  2912       ['block12_sepconv2[0][0]']       \n",
            " alization)                                                                                       \n",
            "                                                                                                  \n",
            " block12_sepconv3_act (Activati  (None, 14, 14, 728)  0          ['block12_sepconv2_bn[0][0]']    \n",
            " on)                                                                                              \n",
            "                                                                                                  \n",
            " block12_sepconv3 (SeparableCon  (None, 14, 14, 728)  536536     ['block12_sepconv3_act[0][0]']   \n",
            " v2D)                                                                                             \n",
            "                                                                                                  \n",
            " block12_sepconv3_bn (BatchNorm  (None, 14, 14, 728)  2912       ['block12_sepconv3[0][0]']       \n",
            " alization)                                                                                       \n",
            "                                                                                                  \n",
            " add_10 (Add)                   (None, 14, 14, 728)  0           ['block12_sepconv3_bn[0][0]',    \n",
            "                                                                  'add_9[0][0]']                  \n",
            "                                                                                                  \n",
            " block13_sepconv1_act (Activati  (None, 14, 14, 728)  0          ['add_10[0][0]']                 \n",
            " on)                                                                                              \n",
            "                                                                                                  \n",
            " block13_sepconv1 (SeparableCon  (None, 14, 14, 728)  536536     ['block13_sepconv1_act[0][0]']   \n",
            " v2D)                                                                                             \n",
            "                                                                                                  \n",
            " block13_sepconv1_bn (BatchNorm  (None, 14, 14, 728)  2912       ['block13_sepconv1[0][0]']       \n",
            " alization)                                                                                       \n",
            "                                                                                                  \n",
            " block13_sepconv2_act (Activati  (None, 14, 14, 728)  0          ['block13_sepconv1_bn[0][0]']    \n",
            " on)                                                                                              \n",
            "                                                                                                  \n",
            " block13_sepconv2 (SeparableCon  (None, 14, 14, 1024  752024     ['block13_sepconv2_act[0][0]']   \n",
            " v2D)                           )                                                                 \n",
            "                                                                                                  \n",
            " block13_sepconv2_bn (BatchNorm  (None, 14, 14, 1024  4096       ['block13_sepconv2[0][0]']       \n",
            " alization)                     )                                                                 \n",
            "                                                                                                  \n",
            " conv2d_3 (Conv2D)              (None, 7, 7, 1024)   745472      ['add_10[0][0]']                 \n",
            "                                                                                                  \n",
            " block13_pool (MaxPooling2D)    (None, 7, 7, 1024)   0           ['block13_sepconv2_bn[0][0]']    \n",
            "                                                                                                  \n",
            " batch_normalization_5 (BatchNo  (None, 7, 7, 1024)  4096        ['conv2d_3[0][0]']               \n",
            " rmalization)                                                                                     \n",
            "                                                                                                  \n",
            " add_11 (Add)                   (None, 7, 7, 1024)   0           ['block13_pool[0][0]',           \n",
            "                                                                  'batch_normalization_5[0][0]']  \n",
            "                                                                                                  \n",
            " block14_sepconv1 (SeparableCon  (None, 7, 7, 1536)  1582080     ['add_11[0][0]']                 \n",
            " v2D)                                                                                             \n",
            "                                                                                                  \n",
            " block14_sepconv1_bn (BatchNorm  (None, 7, 7, 1536)  6144        ['block14_sepconv1[0][0]']       \n",
            " alization)                                                                                       \n",
            "                                                                                                  \n",
            " block14_sepconv1_act (Activati  (None, 7, 7, 1536)  0           ['block14_sepconv1_bn[0][0]']    \n",
            " on)                                                                                              \n",
            "                                                                                                  \n",
            " block14_sepconv2 (SeparableCon  (None, 7, 7, 2048)  3159552     ['block14_sepconv1_act[0][0]']   \n",
            " v2D)                                                                                             \n",
            "                                                                                                  \n",
            " block14_sepconv2_bn (BatchNorm  (None, 7, 7, 2048)  8192        ['block14_sepconv2[0][0]']       \n",
            " alization)                                                                                       \n",
            "                                                                                                  \n",
            " block14_sepconv2_act (Activati  (None, 7, 7, 2048)  0           ['block14_sepconv2_bn[0][0]']    \n",
            " on)                                                                                              \n",
            "                                                                                                  \n",
            "==================================================================================================\n",
            "Total params: 20,861,480\n",
            "Trainable params: 20,806,952\n",
            "Non-trainable params: 54,528\n",
            "__________________________________________________________________________________________________\n"
          ]
        }
      ]
    },
    {
      "cell_type": "code",
      "source": [
        "Xcp_Net=Sequential()\n",
        "Xcp_Net.add(Xception)\n",
        "# #---------------------------BLOCK-1-------------------------#\n",
        "# modelRes.add(Conv2D(64, kernel_size=(3, 3), activation='relu', padding='same'))\n",
        "# modelRes.add(BatchNormalization())\n",
        "# modelRes.add(Conv2D(64, kernel_size=(3, 3), activation='relu', padding='same'))\n",
        "# modelRes.add(BatchNormalization())\n",
        "# modelRes.add(MaxPooling2D(pool_size=(2, 2)))\n",
        "# modelRes.add(Dropout(0.25))\n",
        "\n",
        "# #---------------------------BLOCK-2--------------------------#\n",
        "# modelRes.add(Conv2D(128, kernel_size=(3, 3), activation='relu', padding='same'))\n",
        "# modelRes.add(BatchNormalization())\n",
        "# modelRes.add(Conv2D(128, kernel_size=(3, 3), activation='relu', padding='same'))\n",
        "# modelRes.add(BatchNormalization())\n",
        "# modelRes.add(MaxPooling2D(pool_size=(2, 2)))\n",
        "# modelRes.add(Dropout(0.25))\n",
        "\n",
        "# #--------------------------BLOCK-3----------------------------#\n",
        "# modelRes.add(Conv2D(256, kernel_size=(3, 3), activation='relu', padding='same'))\n",
        "# modelRes.add(BatchNormalization())\n",
        "# modelRes.add(Conv2D(256, kernel_size=(3, 3), activation='relu', padding='same'))\n",
        "# modelRes.add(BatchNormalization())\n",
        "# modelRes.add(MaxPooling2D(pool_size=(1, 1)))  # change pool size and stride\n",
        "# modelRes.add(Dropout(0.25))\n",
        "\n",
        "Xcp_Net.add(Dropout(0.5))\n",
        "Xcp_Net.add(Flatten())\n",
        "Xcp_Net.add(BatchNormalization())\n",
        "Xcp_Net.add(Dense(32,kernel_initializer='he_uniform'))\n",
        "Xcp_Net.add(BatchNormalization())\n",
        "Xcp_Net.add(Activation('relu'))\n",
        "Xcp_Net.add(Dense(1,activation='sigmoid'))\n",
        "\n"
      ],
      "metadata": {
        "id": "w5YyOT3hOur7"
      },
      "execution_count": 143,
      "outputs": []
    },
    {
      "cell_type": "code",
      "source": [
        "Xcp_Net.compile(optimizer='adam', loss='binary_crossentropy',metrics=METRICS)\n"
      ],
      "metadata": {
        "id": "36nYa5vGPglH"
      },
      "execution_count": 144,
      "outputs": []
    },
    {
      "cell_type": "code",
      "source": [
        "Xcp_Net.summary()"
      ],
      "metadata": {
        "colab": {
          "base_uri": "https://localhost:8080/"
        },
        "id": "_18DQKStuk81",
        "outputId": "46116943-f1d4-4d06-a6a3-12c30a928edc"
      },
      "execution_count": 145,
      "outputs": [
        {
          "output_type": "stream",
          "name": "stdout",
          "text": [
            "Model: \"sequential_1\"\n",
            "_________________________________________________________________\n",
            " Layer (type)                Output Shape              Param #   \n",
            "=================================================================\n",
            " xception (Functional)       (None, 7, 7, 2048)        20861480  \n",
            "                                                                 \n",
            " dropout_1 (Dropout)         (None, 7, 7, 2048)        0         \n",
            "                                                                 \n",
            " flatten_1 (Flatten)         (None, 100352)            0         \n",
            "                                                                 \n",
            " batch_normalization_6 (Batc  (None, 100352)           401408    \n",
            " hNormalization)                                                 \n",
            "                                                                 \n",
            " dense_3 (Dense)             (None, 32)                3211296   \n",
            "                                                                 \n",
            " batch_normalization_7 (Batc  (None, 32)               128       \n",
            " hNormalization)                                                 \n",
            "                                                                 \n",
            " activation_1 (Activation)   (None, 32)                0         \n",
            "                                                                 \n",
            " dense_4 (Dense)             (None, 1)                 33        \n",
            "                                                                 \n",
            "=================================================================\n",
            "Total params: 24,474,345\n",
            "Trainable params: 24,219,049\n",
            "Non-trainable params: 255,296\n",
            "_________________________________________________________________\n"
          ]
        }
      ]
    },
    {
      "cell_type": "markdown",
      "source": [
        "###5.3 Fit Models"
      ],
      "metadata": {
        "id": "nub1ALmDPs9I"
      }
    },
    {
      "cell_type": "code",
      "source": [
        "#ResNet_history = Res_Net.fit(train_Dataset,validation_data=valid_Dataset,epochs = 10,verbose = 1,callbacks=[lrd,es])"
      ],
      "metadata": {
        "id": "kgO7sB8EMUOV"
      },
      "execution_count": null,
      "outputs": []
    },
    {
      "cell_type": "code",
      "source": [
        "XceptionNet_history = Xcp_Net.fit(train_Dataset,validation_data=valid_Dataset,epochs = 10,verbose = 1,callbacks=[lrd,es])"
      ],
      "metadata": {
        "colab": {
          "base_uri": "https://localhost:8080/"
        },
        "id": "HoeMZoOTPdDY",
        "outputId": "7c5f2275-e7c6-4b1f-d356-694f07a2e46d"
      },
      "execution_count": 126,
      "outputs": [
        {
          "output_type": "stream",
          "name": "stdout",
          "text": [
            "Epoch 1/10\n",
            "133/133 [==============================] - 353s 2s/step - loss: 0.6518 - accuracy: 0.6366 - precision: 0.4694 - recall: 0.1445 - auc: 0.5598 - get_f1_score: 0.2380 - val_loss: 0.8297 - val_accuracy: 0.5200 - val_precision: 0.5556 - val_recall: 0.1417 - val_auc: 0.5256 - val_get_f1_score: 0.2183 - lr: 0.0010\n",
            "Epoch 2/10\n",
            "133/133 [==============================] - 312s 2s/step - loss: 0.6413 - accuracy: 0.6458 - precision: 0.5052 - recall: 0.1279 - auc: 0.5865 - get_f1_score: 0.1966 - val_loss: 0.9097 - val_accuracy: 0.4920 - val_precision: 0.4900 - val_recall: 0.6964 - val_auc: 0.4936 - val_get_f1_score: 0.5748 - lr: 0.0010\n",
            "Epoch 3/10\n",
            "133/133 [==============================] - 311s 2s/step - loss: 0.6371 - accuracy: 0.6504 - precision: 0.5297 - recall: 0.1388 - auc: 0.5982 - get_f1_score: 0.2163 - val_loss: 3.1838 - val_accuracy: 0.5300 - val_precision: 0.5207 - val_recall: 0.6113 - val_auc: 0.5342 - val_get_f1_score: 0.5608 - lr: 0.0010\n",
            "Epoch 4/10\n",
            "133/133 [==============================] - 295s 2s/step - loss: 0.6282 - accuracy: 0.6592 - precision: 0.5530 - recall: 0.2107 - auc: 0.6244 - get_f1_score: 0.2997 - val_loss: 0.9020 - val_accuracy: 0.4880 - val_precision: 0.4262 - val_recall: 0.1053 - val_auc: 0.5061 - val_get_f1_score: 0.1620 - lr: 0.0010\n",
            "Epoch 5/10\n",
            "133/133 [==============================] - 296s 2s/step - loss: 0.6183 - accuracy: 0.6664 - precision: 0.5648 - recall: 0.2643 - auc: 0.6487 - get_f1_score: 0.3542 - val_loss: 0.9538 - val_accuracy: 0.5060 - val_precision: 0.5000 - val_recall: 0.0040 - val_auc: 0.5110 - val_get_f1_score: 0.0074 - lr: 0.0010\n",
            "Epoch 6/10\n",
            "133/133 [==============================] - 298s 2s/step - loss: 0.6175 - accuracy: 0.6680 - precision: 0.5820 - recall: 0.2315 - auc: 0.6492 - get_f1_score: 0.3282 - val_loss: 16.3935 - val_accuracy: 0.5100 - val_precision: 0.5085 - val_recall: 0.2429 - val_auc: 0.4929 - val_get_f1_score: 0.3281 - lr: 0.0010\n",
            "Epoch 6: early stopping\n"
          ]
        }
      ]
    },
    {
      "cell_type": "markdown",
      "source": [
        "###5.4 Save Models"
      ],
      "metadata": {
        "id": "81Fj-AiRPxtB"
      }
    },
    {
      "cell_type": "code",
      "source": [
        "#Res_Net.save('/content/drive/MyDrive/DL/Assignments/A4/modelRes_new_WD.h5')"
      ],
      "metadata": {
        "id": "Q2vqqC77c0GU"
      },
      "execution_count": null,
      "outputs": []
    },
    {
      "cell_type": "code",
      "source": [
        "Xcp_Net.save('/content/drive/MyDrive/DL/Assignments/A4/modelXception_new_WD.h5')"
      ],
      "metadata": {
        "id": "J4b2mdURPpVo"
      },
      "execution_count": 127,
      "outputs": []
    },
    {
      "cell_type": "markdown",
      "source": [
        "###6. Plots"
      ],
      "metadata": {
        "id": "odtR7mBvPEyp"
      }
    },
    {
      "cell_type": "code",
      "source": [
        "def Train_Val_Plot(acc,val_acc,loss,val_loss,auc,val_auc,precision,val_precision,f1,val_f1,model_name):\n",
        "    \n",
        "    fig, (ax1, ax2,ax3,ax4,ax5) = plt.subplots(1,5, figsize= (30,5))\n",
        "    fig.suptitle(\" MODEL'S METRICS VISUALIZATION \")\n",
        "\n",
        "    ax1.plot(range(1, len(acc) + 1), acc)\n",
        "    ax1.plot(range(1, len(val_acc) + 1), val_acc)\n",
        "    ax1.set_title('History of Accuracy')\n",
        "    ax1.set_xlabel('Epochs')\n",
        "    ax1.set_ylabel('Accuracy')\n",
        "    ax1.legend(['Training', 'Validation'])\n",
        "\n",
        "\n",
        "    ax2.plot(range(1, len(loss) + 1), loss)\n",
        "    ax2.plot(range(1, len(val_loss) + 1), val_loss)\n",
        "    ax2.set_title('History of Loss')\n",
        "    ax2.set_xlabel('Epochs')\n",
        "    ax2.set_ylabel('Loss')\n",
        "    ax2.legend(['Training', 'Validation'])\n",
        "    \n",
        "    ax3.plot(range(1, len(auc) + 1), auc)\n",
        "    ax3.plot(range(1, len(val_auc) + 1), val_auc)\n",
        "    ax3.set_title('History of AUC')\n",
        "    ax3.set_xlabel('Epochs')\n",
        "    ax3.set_ylabel('AUC')\n",
        "    ax3.legend(['Training', 'Validation'])\n",
        "    \n",
        "    ax4.plot(range(1, len(precision) + 1), precision)\n",
        "    ax4.plot(range(1, len(val_precision) + 1), val_precision)\n",
        "    ax4.set_title('History of Precision')\n",
        "    ax4.set_xlabel('Epochs')\n",
        "    ax4.set_ylabel('Precision')\n",
        "    ax4.legend(['Training', 'Validation'])\n",
        "    \n",
        "    ax5.plot(range(1, len(f1) + 1), f1)\n",
        "    ax5.plot(range(1, len(val_f1) + 1), val_f1)\n",
        "    ax5.set_title('History of F1-score')\n",
        "    ax5.set_xlabel('Epochs')\n",
        "    ax5.set_ylabel('F1 score')\n",
        "    ax5.legend(['Training', 'Validation'])\n",
        "    plt.show()\n",
        "    plt.savefig('/content/drive/MyDrive/DL/Assignments/A4'.format(model_name), bbox_inches='tight')"
      ],
      "metadata": {
        "id": "7Ig3Ve9qZJcH"
      },
      "execution_count": 128,
      "outputs": []
    },
    {
      "cell_type": "markdown",
      "source": [
        "###6.1 Loss Plot - Traning and Validation Loss and Accuracy Plot - Training and Validation Accuracy vs. Epochs ."
      ],
      "metadata": {
        "id": "vn05wquyPajr"
      }
    },
    {
      "cell_type": "code",
      "source": [
        "# Train_Val_Plot(ResNet_history.history['accuracy'],ResNet_history.history['val_accuracy'],\n",
        "#                ResNet_history.history['loss'],ResNet_history.history['val_loss'],\n",
        "#                ResNet_history.history['auc'],ResNet_history.history['val_auc'],\n",
        "#                 ResNet_history.history['precision'],ResNet_history.history['val_precision'],\n",
        "#                 ResNet_history.history['get_f1_score'],ResNet_history.history['val_get_f1_score'],'ResNet'\n",
        "#               )"
      ],
      "metadata": {
        "id": "nkivC1SoPdB3"
      },
      "execution_count": null,
      "outputs": []
    },
    {
      "cell_type": "code",
      "source": [
        "Train_Val_Plot(XceptionNet_history.history['accuracy'],XceptionNet_history.history['val_accuracy'],\n",
        "               XceptionNet_history.history['loss'],XceptionNet_history.history['val_loss'],\n",
        "               XceptionNet_history.history['auc'],XceptionNet_history.history['val_auc'],\n",
        "                XceptionNet_history.history['precision'],XceptionNet_history.history['val_precision'],\n",
        "                XceptionNet_history.history['get_f1_score'],XceptionNet_history.history['val_get_f1_score'],'Xception'\n",
        "              )"
      ],
      "metadata": {
        "colab": {
          "base_uri": "https://localhost:8080/",
          "height": 395
        },
        "id": "dRJDKZ7BO_Zn",
        "outputId": "884be8fe-0f16-415e-e2e9-d9d85153edfa"
      },
      "execution_count": 129,
      "outputs": [
        {
          "output_type": "display_data",
          "data": {
            "text/plain": [
              "<Figure size 3000x500 with 5 Axes>"
            ],
            "image/png": "[encoded data removed]"
          },
          "metadata": {}
        },
        {
          "output_type": "display_data",
          "data": {
            "text/plain": [
              "<Figure size 640x480 with 0 Axes>"
            ]
          },
          "metadata": {}
        }
      ]
    },
    {
      "cell_type": "markdown",
      "source": [
        "###6. Report the overall Accuracy, Precision, Recall, F-1 Score for the Test Set and report the class-wise Precision,Recall and F-1 Score for Test Set.\n"
      ],
      "metadata": {
        "id": "PpIjzMNzPlfv"
      }
    },
    {
      "cell_type": "code",
      "source": [
        "#ResNet_load = tf.keras.models.load_model('/content/drive/MyDrive/DL/Assignments/A4/modelRes_Final.h5', custom_objects={\"get_f1_score\": get_f1_score,})"
      ],
      "metadata": {
        "id": "NNg9Ws1OPktx"
      },
      "execution_count": null,
      "outputs": []
    },
    {
      "cell_type": "code",
      "source": [
        "Xception_load = tf.keras.models.load_model('/content/drive/MyDrive/DL/Assignments/A4/modelXception_new_WD.h5', custom_objects={\"get_f1_score\": get_f1_score })"
      ],
      "metadata": {
        "id": "RYfVoWnzQHPZ"
      },
      "execution_count": 52,
      "outputs": []
    },
    {
      "cell_type": "code",
      "source": [
        "from sklearn.metrics import classification_report"
      ],
      "metadata": {
        "id": "r8pj0ru05ZGO"
      },
      "execution_count": 54,
      "outputs": []
    },
    {
      "cell_type": "code",
      "source": [
        "def get_test_metric(test_model):\n",
        "  res = []\n",
        "  print('Predicting')\n",
        "  y_pred = test_model.predict(test_Dataset) > 0.5\n",
        "  print('Evaluating')\n",
        "  np.where(y_pred>0.5,1,0)\n",
        "  print('Evaluating')\n",
        "  y_pred = y_pred.astype(int)\n",
        "  res = test_model.evaluate(test_Dataset)\n",
        "  print(classification_report(test_labels,y_pred))\n",
        "  return res,y_pred"
      ],
      "metadata": {
        "id": "Xoz8bwrNfQRZ"
      },
      "execution_count": 55,
      "outputs": []
    },
    {
      "cell_type": "code",
      "source": [
        "res2,y_pred_xcep = get_test_metric(Xception_load)"
      ],
      "metadata": {
        "colab": {
          "base_uri": "https://localhost:8080/"
        },
        "id": "wiYZdOU9d0DF",
        "outputId": "0b4ab5b1-d6cc-4179-82df-201b0031b02c"
      },
      "execution_count": 135,
      "outputs": [
        {
          "output_type": "stream",
          "name": "stdout",
          "text": [
            "Predicting\n",
            "16/16 [==============================] - 31s 2s/step\n",
            "Evaluating\n",
            "Evaluating\n",
            "16/16 [==============================] - 34s 2s/step - loss: 15.7039 - accuracy: 0.5270 - precision: 0.5323 - recall: 0.2857 - auc: 0.5303 - get_f1_score: 0.3682\n",
            "              precision    recall  f1-score   support\n",
            "\n",
            "           0       0.51      0.76      0.61       510\n",
            "           1       0.49      0.24      0.32       490\n",
            "\n",
            "    accuracy                           0.50      1000\n",
            "   macro avg       0.50      0.50      0.46      1000\n",
            "weighted avg       0.50      0.50      0.47      1000\n",
            "\n"
          ]
        }
      ]
    },
    {
      "cell_type": "code",
      "source": [
        "print(res2)"
      ],
      "metadata": {
        "colab": {
          "base_uri": "https://localhost:8080/"
        },
        "id": "gcdGpQE-Tsve",
        "outputId": "c57b90ec-7ec8-4783-e4f0-daf7ff010c2f"
      },
      "execution_count": 136,
      "outputs": [
        {
          "output_type": "stream",
          "name": "stdout",
          "text": [
            "[15.70386028289795, 0.5270000100135803, 0.5323193669319153, 0.2857142984867096, 0.5303061604499817, 0.3681502938270569]\n"
          ]
        }
      ]
    },
    {
      "cell_type": "markdown",
      "source": [
        "###7. Sub-sample to get the T-SNE Plots"
      ],
      "metadata": {
        "id": "yCvNLswx1RFk"
      }
    },
    {
      "cell_type": "markdown",
      "source": [
        "###7.1 Sub-Sample"
      ],
      "metadata": {
        "id": "OGqBIAZb1YC2"
      }
    },
    {
      "cell_type": "code",
      "source": [
        "import random\n",
        "\n",
        "# Set the path to the directory for Test Set which is subdir_3\n",
        "test_dir = \"/content/drive/MyDrive/DL/Assignments/A4/Image_Data/subdir_3\"\n",
        "target_dir = \"/content/drive/MyDrive/DL/Assignments/A4/\"\n",
        "\n",
        "# Set the number of images to sample from each label subdirectory\n",
        "sample_size = 50\n",
        "\n",
        "# This is the new directory to store sub-sampled images from each of the two labels as 0 and 1 respectively.\n",
        "sample_dir = os.path.join(target_dir, \"sample_data\")\n",
        "if not os.path.exists(sample_dir):\n",
        "    os.makedirs(sample_dir)\n",
        "\n",
        "# Loop through the label directories as 0 and 1 in the Test Directory and randomly select 50 files to copy from each subdirectory.\n",
        "for label in os.listdir(test_dir):\n",
        "    # label_dir is to create label directories in the sub-sampled directory.\n",
        "    label_dir = os.path.join(test_dir,label)\n",
        "    label_sample_dir = os.path.join(sample_dir, label)\n",
        "    if not os.path.exists(label_sample_dir):\n",
        "        os.makedirs(label_sample_dir)\n",
        "    # To list the files in the specific label sub-directory\n",
        "    file_list = os.listdir(label_dir)\n",
        "    sample_files = random.sample(file_list, sample_size)\n",
        "    for file in sample_files:\n",
        "        src = os.path.join(label_dir, file)\n",
        "        dst = os.path.join(label_sample_dir, file)\n",
        "        shutil.copy(src, dst)\n",
        "\n",
        "print(f\"{sample_size} files were sampled from each label subdirectory and copied to {sample_dir}\")\n"
      ],
      "metadata": {
        "id": "Aq0SVl_g1Wsx",
        "colab": {
          "base_uri": "https://localhost:8080/"
        },
        "outputId": "5b353819-7bd4-4f28-fd70-f65d5764309e"
      },
      "execution_count": null,
      "outputs": [
        {
          "output_type": "stream",
          "name": "stdout",
          "text": [
            "50 files were sampled from each label subdirectory and copied to /content/drive/MyDrive/DL/Assignments/A4/sample_data\n"
          ]
        }
      ]
    },
    {
      "cell_type": "markdown",
      "source": [
        "###7.2 Load the Data to DataLoader"
      ],
      "metadata": {
        "id": "ZNbdwVST1cCP"
      }
    },
    {
      "cell_type": "code",
      "source": [
        "sample_data_dir = '/content/drive/MyDrive/DL/Assignments/A4/sample_data'"
      ],
      "metadata": {
        "id": "p-0ZJBb4I5pk"
      },
      "execution_count": 53,
      "outputs": []
    },
    {
      "cell_type": "code",
      "source": [
        "# sample_test_dataset = ImageFolder(sample_data_dir, transform=transform)\n",
        "# sample_test_loader = DataLoader(sample_test_dataset, batch_size=my_batch_size, shuffle=False)"
      ],
      "metadata": {
        "id": "46XVJBK91gTq"
      },
      "execution_count": null,
      "outputs": []
    },
    {
      "cell_type": "code",
      "source": [
        "sample_test_generator = sample_test_datagen.flow_from_directory(\n",
        "    sample_data_dir,\n",
        "    target_size=(224, 224),\n",
        "    batch_size=100,\n",
        "    class_mode='binary'\n",
        ")"
      ],
      "metadata": {
        "colab": {
          "base_uri": "https://localhost:8080/"
        },
        "id": "3JUZ_GBctJ_h",
        "outputId": "72de845f-31d4-4f52-e343-1cbbc0b95d4c"
      },
      "execution_count": 54,
      "outputs": [
        {
          "output_type": "stream",
          "name": "stdout",
          "text": [
            "Found 100 images belonging to 2 classes.\n"
          ]
        }
      ]
    },
    {
      "cell_type": "code",
      "source": [
        "print(len(sample_test_generator.classes))"
      ],
      "metadata": {
        "colab": {
          "base_uri": "https://localhost:8080/"
        },
        "id": "nMtaa51mLiq9",
        "outputId": "e6650115-a9d7-467e-e912-b225f6b0e002"
      },
      "execution_count": 55,
      "outputs": [
        {
          "output_type": "stream",
          "name": "stdout",
          "text": [
            "100\n"
          ]
        }
      ]
    },
    {
      "cell_type": "markdown",
      "source": [
        "###7.3 Load the model and get the features"
      ],
      "metadata": {
        "id": "SVb0kd-u1hF2"
      }
    },
    {
      "cell_type": "code",
      "source": [
        "# last_embedding_layer = nn.Sequential(*list(model.children())[:-1])"
      ],
      "metadata": {
        "id": "mphTlzIG_hzf"
      },
      "execution_count": null,
      "outputs": []
    },
    {
      "cell_type": "code",
      "source": [
        "# features = []"
      ],
      "metadata": {
        "id": "QIpXjrOX-G72"
      },
      "execution_count": null,
      "outputs": []
    },
    {
      "cell_type": "code",
      "source": [
        "# with torch.no_grad():\n",
        "#     for inputs, _ in sample_test_loader:\n",
        "#         inputs = inputs.to(device)\n",
        "#         outputs = last_embedding_layer(inputs)\n",
        "#         features.append(outputs.cpu().numpy())"
      ],
      "metadata": {
        "id": "VmpOCmVZJhFV"
      },
      "execution_count": null,
      "outputs": []
    },
    {
      "cell_type": "code",
      "source": [
        "Xception_load.summary()"
      ],
      "metadata": {
        "colab": {
          "base_uri": "https://localhost:8080/"
        },
        "id": "Vctdy-wa1efM",
        "outputId": "21149cdf-f4f4-432c-99e5-018fa9351ae2"
      },
      "execution_count": 56,
      "outputs": [
        {
          "output_type": "stream",
          "name": "stdout",
          "text": [
            "Model: \"sequential_10\"\n",
            "_________________________________________________________________\n",
            " Layer (type)                Output Shape              Param #   \n",
            "=================================================================\n",
            " xception (Functional)       (None, 7, 7, 2048)        20861480  \n",
            "                                                                 \n",
            " dropout_14 (Dropout)        (None, 7, 7, 2048)        0         \n",
            "                                                                 \n",
            " flatten_10 (Flatten)        (None, 100352)            0         \n",
            "                                                                 \n",
            " batch_normalization_134 (Ba  (None, 100352)           401408    \n",
            " tchNormalization)                                               \n",
            "                                                                 \n",
            " dense_32 (Dense)            (None, 32)                3211296   \n",
            "                                                                 \n",
            " batch_normalization_135 (Ba  (None, 32)               128       \n",
            " tchNormalization)                                               \n",
            "                                                                 \n",
            " activation_105 (Activation)  (None, 32)               0         \n",
            "                                                                 \n",
            " dense_33 (Dense)            (None, 1)                 33        \n",
            "                                                                 \n",
            "=================================================================\n",
            "Total params: 24,474,345\n",
            "Trainable params: 24,219,049\n",
            "Non-trainable params: 255,296\n",
            "_________________________________________________________________\n"
          ]
        }
      ]
    },
    {
      "cell_type": "code",
      "source": [
        "from tensorflow.keras.models import Model\n",
        "\n",
        "embedding_model = Model(inputs=Xception_load.input, outputs=Xception_load.get_layer('dense_32').output)\n",
        "# model = Xception\n",
        "# embedding_model = Model(inputs=model.input, outputs=model.get_layer('block14_sepconv2_bn').output)"
      ],
      "metadata": {
        "id": "I-0U-H6zuxdT"
      },
      "execution_count": 200,
      "outputs": []
    },
    {
      "cell_type": "code",
      "source": [
        "# model = Xception(weights='imagenet', include_top=False)\n",
        "\n",
        "# layer_name = 'block14_sepconv2'\n",
        "\n",
        "# model_extract = Model(inputs=model.input, outputs=model.get_layer(layer_name).output)"
      ],
      "metadata": {
        "id": "m8rE8b37Es8z"
      },
      "execution_count": 201,
      "outputs": []
    },
    {
      "cell_type": "code",
      "source": [
        "images, labels = next(iter(sample_test_generator))\n",
        "images.shape"
      ],
      "metadata": {
        "colab": {
          "base_uri": "https://localhost:8080/"
        },
        "id": "LVFMccoQEUhf",
        "outputId": "cfefcf9a-cc53-473a-e5a3-06bc1841d3c9"
      },
      "execution_count": 202,
      "outputs": [
        {
          "output_type": "execute_result",
          "data": {
            "text/plain": [
              "(100, 224, 224, 3)"
            ]
          },
          "metadata": {},
          "execution_count": 202
        }
      ]
    },
    {
      "cell_type": "code",
      "source": [
        "# Assume that sample test generator in the batch.\n",
        "batch = sample_test_generator.next()\n",
        "images, labels = batch"
      ],
      "metadata": {
        "id": "5nFNvm-6IVB4"
      },
      "execution_count": 203,
      "outputs": []
    },
    {
      "cell_type": "code",
      "source": [
        "print(labels)"
      ],
      "metadata": {
        "colab": {
          "base_uri": "https://localhost:8080/"
        },
        "id": "47SE2jAhIqIi",
        "outputId": "22e57872-7dab-4267-a1b8-dc263382adbe"
      },
      "execution_count": 204,
      "outputs": [
        {
          "output_type": "stream",
          "name": "stdout",
          "text": [
            "[1. 0. 0. 1. 1. 0. 0. 0. 0. 1. 0. 0. 0. 1. 1. 1. 0. 0. 0. 0. 0. 0. 0. 1.\n",
            " 1. 1. 0. 1. 0. 1. 1. 1. 0. 0. 1. 0. 0. 1. 0. 1. 0. 1. 1. 1. 0. 0. 1. 0.\n",
            " 1. 1. 0. 0. 1. 1. 1. 0. 1. 1. 0. 1. 1. 0. 1. 0. 1. 1. 0. 0. 1. 0. 1. 1.\n",
            " 1. 0. 0. 1. 1. 0. 0. 0. 1. 1. 1. 0. 0. 0. 1. 0. 0. 0. 1. 1. 1. 1. 1. 0.\n",
            " 1. 1. 0. 0.]\n"
          ]
        }
      ]
    },
    {
      "cell_type": "code",
      "source": [
        "hateMemes = []\n",
        "hateLessMemes = []\n",
        "\n",
        "for i in range(len(labels)):\n",
        "  if(labels[i]==0):\n",
        "    hateMemes.append(images[i])\n",
        "  elif(labels[i]==1):\n",
        "    hateLessMemes.append(images[i])"
      ],
      "metadata": {
        "id": "OibpSYEjFRpp"
      },
      "execution_count": 205,
      "outputs": []
    },
    {
      "cell_type": "code",
      "source": [
        "print(len(hateMemes))\n",
        "print(len(hateLessMemes))"
      ],
      "metadata": {
        "colab": {
          "base_uri": "https://localhost:8080/"
        },
        "id": "BnBCEK_LyRZJ",
        "outputId": "2e652d63-fdd1-4f4e-acfd-3d041f9e82e6"
      },
      "execution_count": 206,
      "outputs": [
        {
          "output_type": "stream",
          "name": "stdout",
          "text": [
            "50\n",
            "50\n"
          ]
        }
      ]
    },
    {
      "cell_type": "code",
      "source": [
        "hateMemes[0].shape"
      ],
      "metadata": {
        "colab": {
          "base_uri": "https://localhost:8080/"
        },
        "id": "2aUHbsjVzWu_",
        "outputId": "a1cdbf26-1af7-4d60-9108-4d61aafaa7af"
      },
      "execution_count": 207,
      "outputs": [
        {
          "output_type": "execute_result",
          "data": {
            "text/plain": [
              "(224, 224, 3)"
            ]
          },
          "metadata": {},
          "execution_count": 207
        }
      ]
    },
    {
      "cell_type": "code",
      "source": [
        "from tensorflow.keras.preprocessing.image import load_img, img_to_array\n",
        "from tensorflow.keras.models import load_model\n",
        "\n",
        "# Load the model that can extract feature embeddings from images\n",
        "model = embedding_model\n",
        "\n",
        "# Define empty lists to store the feature embeddings\n",
        "hateMemes_features = []\n",
        "hateLessMemes_features = []\n",
        "all_labels = []\n",
        "\n",
        "# Extract feature embeddings for the images in hateMemes list\n",
        "for i in range(len(hateMemes)):\n",
        "    # Load the image and preprocess it for the model\n",
        "    image = hateMemes[i]\n",
        "    image = img_to_array(image)\n",
        "    image = np.expand_dims(image, axis=0)\n",
        "    image = image / 255.0\n",
        "\n",
        "    # Extract the feature embedding for the image\n",
        "    features = model.predict(image)\n",
        "\n",
        "    # Append the feature embedding to the list\n",
        "    hateMemes_features.append(features)\n",
        "\n",
        "    all_labels.append(0)\n",
        "\n",
        "# Extract feature embeddings for the images in hateLessMemes list\n",
        "for i in range(len(hateLessMemes)):\n",
        "    # Load the image and preprocess it for the model\n",
        "    image = hateLessMemes[i]\n",
        "    image = img_to_array(image)\n",
        "    image = np.expand_dims(image, axis=0)\n",
        "    image = image / 255.0\n",
        "\n",
        "    # Extract the feature embedding for the image\n",
        "    features = model.predict(image)\n",
        "\n",
        "    # Append the feature embedding to the list\n",
        "    hateLessMemes_features.append(features)\n",
        "\n",
        "    all_labels.append(1)\n",
        "\n",
        "# Concatenate the two lists of feature embeddings to get the feature embeddings of all 100 images\n",
        "all_features = hateMemes_features + hateLessMemes_features\n"
      ],
      "metadata": {
        "id": "6Pf0IBWu2oXX"
      },
      "execution_count": null,
      "outputs": []
    },
    {
      "cell_type": "code",
      "source": [
        "#print(all_features)"
      ],
      "metadata": {
        "id": "DPS8eKBw1-GA"
      },
      "execution_count": null,
      "outputs": []
    },
    {
      "cell_type": "code",
      "source": [
        "# print(all_labels)"
      ],
      "metadata": {
        "id": "3VPRBkX-85Tw"
      },
      "execution_count": 197,
      "outputs": []
    },
    {
      "cell_type": "code",
      "source": [
        "# print(len(all_features))"
      ],
      "metadata": {
        "id": "aD11E63V3xM9"
      },
      "execution_count": 198,
      "outputs": []
    },
    {
      "cell_type": "code",
      "source": [
        "# # use squeeze function to remove empty dimensions\n",
        "# #features = np.squeeze(test_features)\n",
        "\n",
        "# # print the new shape of the array\n",
        "# print(all_features[0])"
      ],
      "metadata": {
        "id": "sdgGWwtkKDM1"
      },
      "execution_count": 199,
      "outputs": []
    },
    {
      "cell_type": "code",
      "source": [
        "print(len(hateMemes_features))"
      ],
      "metadata": {
        "colab": {
          "base_uri": "https://localhost:8080/"
        },
        "id": "lfV7VjylMl3o",
        "outputId": "f716912e-b549-44e0-d1ca-019b8bb361a7"
      },
      "execution_count": 220,
      "outputs": [
        {
          "output_type": "stream",
          "name": "stdout",
          "text": [
            "50\n"
          ]
        }
      ]
    },
    {
      "cell_type": "code",
      "source": [
        "arr = np.array(hateMemes_features)\n",
        "\n",
        "# Reshape the array to a new shape\n",
        "new_hate_meme_features = arr.reshape(50,32)"
      ],
      "metadata": {
        "id": "d0jyjzkp5iFr"
      },
      "execution_count": 221,
      "outputs": []
    },
    {
      "cell_type": "code",
      "source": [
        "arr = np.array(hateLessMemes_features)\n",
        "\n",
        "# Reshape the array to a new shape\n",
        "new_hate_less_meme_features = arr.reshape(50,32)"
      ],
      "metadata": {
        "id": "NjTGLs_gMtfw"
      },
      "execution_count": 222,
      "outputs": []
    },
    {
      "cell_type": "code",
      "source": [
        "print(new_hate_meme_features[0])"
      ],
      "metadata": {
        "colab": {
          "base_uri": "https://localhost:8080/"
        },
        "id": "CLle1MBQ52QK",
        "outputId": "417b10cf-7992-4725-d241-0f845f337833"
      },
      "execution_count": 223,
      "outputs": [
        {
          "output_type": "stream",
          "name": "stdout",
          "text": [
            "[ 44.256252   81.5079    -30.623878   61.472397  -24.880133   35.985325\n",
            "  41.59863    -1.6655966  42.309525   34.814873   31.328861  -43.30996\n",
            "  53.566463  -42.581406   44.795322  -21.59438    57.93505    58.43062\n",
            "  49.250435   12.845251   58.000446   52.84711    48.874043   52.07617\n",
            "  47.979584   28.755964   51.544853   51.176495   21.245289  -44.468708\n",
            "  55.317814   20.926321 ]\n"
          ]
        }
      ]
    },
    {
      "cell_type": "code",
      "source": [
        "df_ps_1 = pd.DataFrame(new_hate_meme_features)\n",
        "df_ps_2 = pd.DataFrame(new_hate_less_meme_features)"
      ],
      "metadata": {
        "id": "wK9n-N_c5Cg0"
      },
      "execution_count": 224,
      "outputs": []
    },
    {
      "cell_type": "code",
      "source": [
        "df_ps_1.head()"
      ],
      "metadata": {
        "colab": {
          "base_uri": "https://localhost:8080/",
          "height": 236
        },
        "id": "FeoQIy_g558S",
        "outputId": "05564578-0900-4986-9331-9c0549d9cee3"
      },
      "execution_count": 225,
      "outputs": [
        {
          "output_type": "execute_result",
          "data": {
            "text/plain": [
              "          0          1          2          3          4          5   \\\n",
              "0  44.256252  81.507896 -30.623878  61.472397 -24.880133  35.985325   \n",
              "1  44.264793  81.521461 -30.621378  61.496628 -24.879992  36.009232   \n",
              "2  44.426445  81.625816 -30.504730  61.710243 -24.766567  36.207428   \n",
              "3  44.469940  81.697243 -30.499008  61.777821 -24.756340  36.293354   \n",
              "4  44.339306  81.594398 -30.575882  61.609035 -24.829735  36.129116   \n",
              "\n",
              "          6         7          8          9   ...         22         23  \\\n",
              "0  41.598629 -1.665597  42.309525  34.814873  ...  48.874043  52.076172   \n",
              "1  41.617199 -1.653867  42.309422  34.808678  ...  48.882790  52.101273   \n",
              "2  41.705914 -1.521831  42.260693  34.678524  ...  49.206161  52.315479   \n",
              "3  41.736118 -1.489870  42.252319  34.650669  ...  49.286358  52.384865   \n",
              "4  41.660030 -1.585907  42.286095  34.748238  ...  49.046272  52.221680   \n",
              "\n",
              "          24         25         26         27         28         29  \\\n",
              "0  47.979584  28.755964  51.544853  51.176495  21.245289 -44.468708   \n",
              "1  48.004349  28.753321  51.543800  51.171021  21.249762 -44.474213   \n",
              "2  48.140388  28.639477  51.461109  51.089809  21.346891 -44.567520   \n",
              "3  48.189774  28.596090  51.441345  51.058815  21.370438 -44.589390   \n",
              "4  48.079247  28.681904  51.503273  51.122463  21.294504 -44.513439   \n",
              "\n",
              "          30         31  \n",
              "0  55.317814  20.926321  \n",
              "1  55.331272  20.925367  \n",
              "2  55.491104  20.864803  \n",
              "3  55.561790  20.831350  \n",
              "4  55.428379  20.883646  \n",
              "\n",
              "[5 rows x 32 columns]"
            ],
            "text/html": [
              "\n",
              "  <div id=\"df-bb1f70e3-5c3e-4847-b414-480a3e3f2412\">\n",
              "    <div class=\"colab-df-container\">\n",
              "      <div>\n",
              "<style scoped>\n",
              "    .dataframe tbody tr th:only-of-type {\n",
              "        vertical-align: middle;\n",
              "    }\n",
              "\n",
              "    .dataframe tbody tr th {\n",
              "        vertical-align: top;\n",
              "    }\n",
              "\n",
              "    .dataframe thead th {\n",
              "        text-align: right;\n",
              "    }\n",
              "</style>\n",
              "<table border=\"1\" class=\"dataframe\">\n",
              "  <thead>\n",
              "    <tr style=\"text-align: right;\">\n",
              "      <th></th>\n",
              "      <th>0</th>\n",
              "      <th>1</th>\n",
              "      <th>2</th>\n",
              "      <th>3</th>\n",
              "      <th>4</th>\n",
              "      <th>5</th>\n",
              "      <th>6</th>\n",
              "      <th>7</th>\n",
              "      <th>8</th>\n",
              "      <th>9</th>\n",
              "      <th>...</th>\n",
              "      <th>22</th>\n",
              "      <th>23</th>\n",
              "      <th>24</th>\n",
              "      <th>25</th>\n",
              "      <th>26</th>\n",
              "      <th>27</th>\n",
              "      <th>28</th>\n",
              "      <th>29</th>\n",
              "      <th>30</th>\n",
              "      <th>31</th>\n",
              "    </tr>\n",
              "  </thead>\n",
              "  <tbody>\n",
              "    <tr>\n",
              "      <th>0</th>\n",
              "      <td>44.256252</td>\n",
              "      <td>81.507896</td>\n",
              "      <td>-30.623878</td>\n",
              "      <td>61.472397</td>\n",
              "      <td>-24.880133</td>\n",
              "      <td>35.985325</td>\n",
              "      <td>41.598629</td>\n",
              "      <td>-1.665597</td>\n",
              "      <td>42.309525</td>\n",
              "      <td>34.814873</td>\n",
              "      <td>...</td>\n",
              "      <td>48.874043</td>\n",
              "      <td>52.076172</td>\n",
              "      <td>47.979584</td>\n",
              "      <td>28.755964</td>\n",
              "      <td>51.544853</td>\n",
              "      <td>51.176495</td>\n",
              "      <td>21.245289</td>\n",
              "      <td>-44.468708</td>\n",
              "      <td>55.317814</td>\n",
              "      <td>20.926321</td>\n",
              "    </tr>\n",
              "    <tr>\n",
              "      <th>1</th>\n",
              "      <td>44.264793</td>\n",
              "      <td>81.521461</td>\n",
              "      <td>-30.621378</td>\n",
              "      <td>61.496628</td>\n",
              "      <td>-24.879992</td>\n",
              "      <td>36.009232</td>\n",
              "      <td>41.617199</td>\n",
              "      <td>-1.653867</td>\n",
              "      <td>42.309422</td>\n",
              "      <td>34.808678</td>\n",
              "      <td>...</td>\n",
              "      <td>48.882790</td>\n",
              "      <td>52.101273</td>\n",
              "      <td>48.004349</td>\n",
              "      <td>28.753321</td>\n",
              "      <td>51.543800</td>\n",
              "      <td>51.171021</td>\n",
              "      <td>21.249762</td>\n",
              "      <td>-44.474213</td>\n",
              "      <td>55.331272</td>\n",
              "      <td>20.925367</td>\n",
              "    </tr>\n",
              "    <tr>\n",
              "      <th>2</th>\n",
              "      <td>44.426445</td>\n",
              "      <td>81.625816</td>\n",
              "      <td>-30.504730</td>\n",
              "      <td>61.710243</td>\n",
              "      <td>-24.766567</td>\n",
              "      <td>36.207428</td>\n",
              "      <td>41.705914</td>\n",
              "      <td>-1.521831</td>\n",
              "      <td>42.260693</td>\n",
              "      <td>34.678524</td>\n",
              "      <td>...</td>\n",
              "      <td>49.206161</td>\n",
              "      <td>52.315479</td>\n",
              "      <td>48.140388</td>\n",
              "      <td>28.639477</td>\n",
              "      <td>51.461109</td>\n",
              "      <td>51.089809</td>\n",
              "      <td>21.346891</td>\n",
              "      <td>-44.567520</td>\n",
              "      <td>55.491104</td>\n",
              "      <td>20.864803</td>\n",
              "    </tr>\n",
              "    <tr>\n",
              "      <th>3</th>\n",
              "      <td>44.469940</td>\n",
              "      <td>81.697243</td>\n",
              "      <td>-30.499008</td>\n",
              "      <td>61.777821</td>\n",
              "      <td>-24.756340</td>\n",
              "      <td>36.293354</td>\n",
              "      <td>41.736118</td>\n",
              "      <td>-1.489870</td>\n",
              "      <td>42.252319</td>\n",
              "      <td>34.650669</td>\n",
              "      <td>...</td>\n",
              "      <td>49.286358</td>\n",
              "      <td>52.384865</td>\n",
              "      <td>48.189774</td>\n",
              "      <td>28.596090</td>\n",
              "      <td>51.441345</td>\n",
              "      <td>51.058815</td>\n",
              "      <td>21.370438</td>\n",
              "      <td>-44.589390</td>\n",
              "      <td>55.561790</td>\n",
              "      <td>20.831350</td>\n",
              "    </tr>\n",
              "    <tr>\n",
              "      <th>4</th>\n",
              "      <td>44.339306</td>\n",
              "      <td>81.594398</td>\n",
              "      <td>-30.575882</td>\n",
              "      <td>61.609035</td>\n",
              "      <td>-24.829735</td>\n",
              "      <td>36.129116</td>\n",
              "      <td>41.660030</td>\n",
              "      <td>-1.585907</td>\n",
              "      <td>42.286095</td>\n",
              "      <td>34.748238</td>\n",
              "      <td>...</td>\n",
              "      <td>49.046272</td>\n",
              "      <td>52.221680</td>\n",
              "      <td>48.079247</td>\n",
              "      <td>28.681904</td>\n",
              "      <td>51.503273</td>\n",
              "      <td>51.122463</td>\n",
              "      <td>21.294504</td>\n",
              "      <td>-44.513439</td>\n",
              "      <td>55.428379</td>\n",
              "      <td>20.883646</td>\n",
              "    </tr>\n",
              "  </tbody>\n",
              "</table>\n",
              "<p>5 rows × 32 columns</p>\n",
              "</div>\n",
              "      <button class=\"colab-df-convert\" onclick=\"convertToInteractive('df-bb1f70e3-5c3e-4847-b414-480a3e3f2412')\"\n",
              "              title=\"Convert this dataframe to an interactive table.\"\n",
              "              style=\"display:none;\">\n",
              "        \n",
              "  <svg xmlns=\"http://www.w3.org/2000/svg\" height=\"24px\"viewBox=\"0 0 24 24\"\n",
              "       width=\"24px\">\n",
              "    <path d=\"M0 0h24v24H0V0z\" fill=\"none\"/>\n",
              "    <path d=\"M18.56 5.44l.94 2.06.94-2.06 2.06-.94-2.06-.94-.94-2.06-.94 2.06-2.06.94zm-11 1L8.5 8.5l.94-2.06 2.06-.94-2.06-.94L8.5 2.5l-.94 2.06-2.06.94zm10 10l.94 2.06.94-2.06 2.06-.94-2.06-.94-.94-2.06-.94 2.06-2.06.94z\"/><path d=\"M17.41 7.96l-1.37-1.37c-.4-.4-.92-.59-1.43-.59-.52 0-1.04.2-1.43.59L10.3 9.45l-7.72 7.72c-.78.78-.78 2.05 0 2.83L4 21.41c.39.39.9.59 1.41.59.51 0 1.02-.2 1.41-.59l7.78-7.78 2.81-2.81c.8-.78.8-2.07 0-2.86zM5.41 20L4 18.59l7.72-7.72 1.47 1.35L5.41 20z\"/>\n",
              "  </svg>\n",
              "      </button>\n",
              "      \n",
              "  <style>\n",
              "    .colab-df-container {\n",
              "      display:flex;\n",
              "      flex-wrap:wrap;\n",
              "      gap: 12px;\n",
              "    }\n",
              "\n",
              "    .colab-df-convert {\n",
              "      background-color: #E8F0FE;\n",
              "      border: none;\n",
              "      border-radius: 50%;\n",
              "      cursor: pointer;\n",
              "      display: none;\n",
              "      fill: #1967D2;\n",
              "      height: 32px;\n",
              "      padding: 0 0 0 0;\n",
              "      width: 32px;\n",
              "    }\n",
              "\n",
              "    .colab-df-convert:hover {\n",
              "      background-color: #E2EBFA;\n",
              "      box-shadow: 0px 1px 2px rgba(60, 64, 67, 0.3), 0px 1px 3px 1px rgba(60, 64, 67, 0.15);\n",
              "      fill: #174EA6;\n",
              "    }\n",
              "\n",
              "    [theme=dark] .colab-df-convert {\n",
              "      background-color: #3B4455;\n",
              "      fill: #D2E3FC;\n",
              "    }\n",
              "\n",
              "    [theme=dark] .colab-df-convert:hover {\n",
              "      background-color: #434B5C;\n",
              "      box-shadow: 0px 1px 3px 1px rgba(0, 0, 0, 0.15);\n",
              "      filter: drop-shadow(0px 1px 2px rgba(0, 0, 0, 0.3));\n",
              "      fill: #FFFFFF;\n",
              "    }\n",
              "  </style>\n",
              "\n",
              "      <script>\n",
              "        const buttonEl =\n",
              "          document.querySelector('#df-bb1f70e3-5c3e-4847-b414-480a3e3f2412 button.colab-df-convert');\n",
              "        buttonEl.style.display =\n",
              "          google.colab.kernel.accessAllowed ? 'block' : 'none';\n",
              "\n",
              "        async function convertToInteractive(key) {\n",
              "          const element = document.querySelector('#df-bb1f70e3-5c3e-4847-b414-480a3e3f2412');\n",
              "          const dataTable =\n",
              "            await google.colab.kernel.invokeFunction('convertToInteractive',\n",
              "                                                     [key], {});\n",
              "          if (!dataTable) return;\n",
              "\n",
              "          const docLinkHtml = 'Like what you see? Visit the ' +\n",
              "            '<a target=\"_blank\" href=https://colab.research.google.com/notebooks/data_table.ipynb>data table notebook</a>'\n",
              "            + ' to learn more about interactive tables.';\n",
              "          element.innerHTML = '';\n",
              "          dataTable['output_type'] = 'display_data';\n",
              "          await google.colab.output.renderOutput(dataTable, element);\n",
              "          const docLink = document.createElement('div');\n",
              "          docLink.innerHTML = docLinkHtml;\n",
              "          element.appendChild(docLink);\n",
              "        }\n",
              "      </script>\n",
              "    </div>\n",
              "  </div>\n",
              "  "
            ]
          },
          "metadata": {},
          "execution_count": 225
        }
      ]
    },
    {
      "cell_type": "code",
      "source": [
        "df_ps_2.head()"
      ],
      "metadata": {
        "colab": {
          "base_uri": "https://localhost:8080/",
          "height": 236
        },
        "id": "UGJ1-A0_NFWB",
        "outputId": "ad85d592-8ad2-4ae1-c061-61a9a49e798b"
      },
      "execution_count": 227,
      "outputs": [
        {
          "output_type": "execute_result",
          "data": {
            "text/plain": [
              "          0          1          2          3          4          5   \\\n",
              "0  44.250229  81.501839 -30.627478  61.470692 -24.893541  35.979607   \n",
              "1  44.370567  81.630005 -30.571384  61.631725 -24.823881  36.148785   \n",
              "2  44.261509  81.505920 -30.609562  61.503292 -24.867285  36.027111   \n",
              "3  44.245327  81.514076 -30.640129  61.477505 -24.903540  35.995365   \n",
              "4  44.325733  81.521149 -30.540493  61.561974 -24.816027  36.052181   \n",
              "\n",
              "          6         7          8          9   ...         22         23  \\\n",
              "0  41.613544 -1.666654  42.317509  34.822289  ...  48.852890  52.077450   \n",
              "1  41.676571 -1.587113  42.289932  34.741299  ...  49.075272  52.235027   \n",
              "2  41.613155 -1.635290  42.305962  34.802452  ...  48.910412  52.118675   \n",
              "3  41.614548 -1.667055  42.321312  34.829536  ...  48.850906  52.088516   \n",
              "4  41.667023 -1.596996  42.275776  34.744320  ...  49.000847  52.156197   \n",
              "\n",
              "          24         25         26         27         28         29  \\\n",
              "0  47.991726  28.776815  51.556377  51.190788  21.234514 -44.473476   \n",
              "1  48.088581  28.678421  51.498646  51.119072  21.305424 -44.524330   \n",
              "2  47.996387  28.737892  51.542824  51.166107  21.250885 -44.479279   \n",
              "3  47.992962  28.773569  51.562279  51.191532  21.230640 -44.471313   \n",
              "4  48.047474  28.715763  51.500702  51.143944  21.297680 -44.505180   \n",
              "\n",
              "          30         31  \n",
              "0  55.304592  20.941231  \n",
              "1  55.456455  20.874397  \n",
              "2  55.333477  20.923498  \n",
              "3  55.309093  20.943136  \n",
              "4  55.364227  20.910784  \n",
              "\n",
              "[5 rows x 32 columns]"
            ],
            "text/html": [
              "\n",
              "  <div id=\"df-4708b0a2-282f-4b83-adfa-d0d7c461120a\">\n",
              "    <div class=\"colab-df-container\">\n",
              "      <div>\n",
              "<style scoped>\n",
              "    .dataframe tbody tr th:only-of-type {\n",
              "        vertical-align: middle;\n",
              "    }\n",
              "\n",
              "    .dataframe tbody tr th {\n",
              "        vertical-align: top;\n",
              "    }\n",
              "\n",
              "    .dataframe thead th {\n",
              "        text-align: right;\n",
              "    }\n",
              "</style>\n",
              "<table border=\"1\" class=\"dataframe\">\n",
              "  <thead>\n",
              "    <tr style=\"text-align: right;\">\n",
              "      <th></th>\n",
              "      <th>0</th>\n",
              "      <th>1</th>\n",
              "      <th>2</th>\n",
              "      <th>3</th>\n",
              "      <th>4</th>\n",
              "      <th>5</th>\n",
              "      <th>6</th>\n",
              "      <th>7</th>\n",
              "      <th>8</th>\n",
              "      <th>9</th>\n",
              "      <th>...</th>\n",
              "      <th>22</th>\n",
              "      <th>23</th>\n",
              "      <th>24</th>\n",
              "      <th>25</th>\n",
              "      <th>26</th>\n",
              "      <th>27</th>\n",
              "      <th>28</th>\n",
              "      <th>29</th>\n",
              "      <th>30</th>\n",
              "      <th>31</th>\n",
              "    </tr>\n",
              "  </thead>\n",
              "  <tbody>\n",
              "    <tr>\n",
              "      <th>0</th>\n",
              "      <td>44.250229</td>\n",
              "      <td>81.501839</td>\n",
              "      <td>-30.627478</td>\n",
              "      <td>61.470692</td>\n",
              "      <td>-24.893541</td>\n",
              "      <td>35.979607</td>\n",
              "      <td>41.613544</td>\n",
              "      <td>-1.666654</td>\n",
              "      <td>42.317509</td>\n",
              "      <td>34.822289</td>\n",
              "      <td>...</td>\n",
              "      <td>48.852890</td>\n",
              "      <td>52.077450</td>\n",
              "      <td>47.991726</td>\n",
              "      <td>28.776815</td>\n",
              "      <td>51.556377</td>\n",
              "      <td>51.190788</td>\n",
              "      <td>21.234514</td>\n",
              "      <td>-44.473476</td>\n",
              "      <td>55.304592</td>\n",
              "      <td>20.941231</td>\n",
              "    </tr>\n",
              "    <tr>\n",
              "      <th>1</th>\n",
              "      <td>44.370567</td>\n",
              "      <td>81.630005</td>\n",
              "      <td>-30.571384</td>\n",
              "      <td>61.631725</td>\n",
              "      <td>-24.823881</td>\n",
              "      <td>36.148785</td>\n",
              "      <td>41.676571</td>\n",
              "      <td>-1.587113</td>\n",
              "      <td>42.289932</td>\n",
              "      <td>34.741299</td>\n",
              "      <td>...</td>\n",
              "      <td>49.075272</td>\n",
              "      <td>52.235027</td>\n",
              "      <td>48.088581</td>\n",
              "      <td>28.678421</td>\n",
              "      <td>51.498646</td>\n",
              "      <td>51.119072</td>\n",
              "      <td>21.305424</td>\n",
              "      <td>-44.524330</td>\n",
              "      <td>55.456455</td>\n",
              "      <td>20.874397</td>\n",
              "    </tr>\n",
              "    <tr>\n",
              "      <th>2</th>\n",
              "      <td>44.261509</td>\n",
              "      <td>81.505920</td>\n",
              "      <td>-30.609562</td>\n",
              "      <td>61.503292</td>\n",
              "      <td>-24.867285</td>\n",
              "      <td>36.027111</td>\n",
              "      <td>41.613155</td>\n",
              "      <td>-1.635290</td>\n",
              "      <td>42.305962</td>\n",
              "      <td>34.802452</td>\n",
              "      <td>...</td>\n",
              "      <td>48.910412</td>\n",
              "      <td>52.118675</td>\n",
              "      <td>47.996387</td>\n",
              "      <td>28.737892</td>\n",
              "      <td>51.542824</td>\n",
              "      <td>51.166107</td>\n",
              "      <td>21.250885</td>\n",
              "      <td>-44.479279</td>\n",
              "      <td>55.333477</td>\n",
              "      <td>20.923498</td>\n",
              "    </tr>\n",
              "    <tr>\n",
              "      <th>3</th>\n",
              "      <td>44.245327</td>\n",
              "      <td>81.514076</td>\n",
              "      <td>-30.640129</td>\n",
              "      <td>61.477505</td>\n",
              "      <td>-24.903540</td>\n",
              "      <td>35.995365</td>\n",
              "      <td>41.614548</td>\n",
              "      <td>-1.667055</td>\n",
              "      <td>42.321312</td>\n",
              "      <td>34.829536</td>\n",
              "      <td>...</td>\n",
              "      <td>48.850906</td>\n",
              "      <td>52.088516</td>\n",
              "      <td>47.992962</td>\n",
              "      <td>28.773569</td>\n",
              "      <td>51.562279</td>\n",
              "      <td>51.191532</td>\n",
              "      <td>21.230640</td>\n",
              "      <td>-44.471313</td>\n",
              "      <td>55.309093</td>\n",
              "      <td>20.943136</td>\n",
              "    </tr>\n",
              "    <tr>\n",
              "      <th>4</th>\n",
              "      <td>44.325733</td>\n",
              "      <td>81.521149</td>\n",
              "      <td>-30.540493</td>\n",
              "      <td>61.561974</td>\n",
              "      <td>-24.816027</td>\n",
              "      <td>36.052181</td>\n",
              "      <td>41.667023</td>\n",
              "      <td>-1.596996</td>\n",
              "      <td>42.275776</td>\n",
              "      <td>34.744320</td>\n",
              "      <td>...</td>\n",
              "      <td>49.000847</td>\n",
              "      <td>52.156197</td>\n",
              "      <td>48.047474</td>\n",
              "      <td>28.715763</td>\n",
              "      <td>51.500702</td>\n",
              "      <td>51.143944</td>\n",
              "      <td>21.297680</td>\n",
              "      <td>-44.505180</td>\n",
              "      <td>55.364227</td>\n",
              "      <td>20.910784</td>\n",
              "    </tr>\n",
              "  </tbody>\n",
              "</table>\n",
              "<p>5 rows × 32 columns</p>\n",
              "</div>\n",
              "      <button class=\"colab-df-convert\" onclick=\"convertToInteractive('df-4708b0a2-282f-4b83-adfa-d0d7c461120a')\"\n",
              "              title=\"Convert this dataframe to an interactive table.\"\n",
              "              style=\"display:none;\">\n",
              "        \n",
              "  <svg xmlns=\"http://www.w3.org/2000/svg\" height=\"24px\"viewBox=\"0 0 24 24\"\n",
              "       width=\"24px\">\n",
              "    <path d=\"M0 0h24v24H0V0z\" fill=\"none\"/>\n",
              "    <path d=\"M18.56 5.44l.94 2.06.94-2.06 2.06-.94-2.06-.94-.94-2.06-.94 2.06-2.06.94zm-11 1L8.5 8.5l.94-2.06 2.06-.94-2.06-.94L8.5 2.5l-.94 2.06-2.06.94zm10 10l.94 2.06.94-2.06 2.06-.94-2.06-.94-.94-2.06-.94 2.06-2.06.94z\"/><path d=\"M17.41 7.96l-1.37-1.37c-.4-.4-.92-.59-1.43-.59-.52 0-1.04.2-1.43.59L10.3 9.45l-7.72 7.72c-.78.78-.78 2.05 0 2.83L4 21.41c.39.39.9.59 1.41.59.51 0 1.02-.2 1.41-.59l7.78-7.78 2.81-2.81c.8-.78.8-2.07 0-2.86zM5.41 20L4 18.59l7.72-7.72 1.47 1.35L5.41 20z\"/>\n",
              "  </svg>\n",
              "      </button>\n",
              "      \n",
              "  <style>\n",
              "    .colab-df-container {\n",
              "      display:flex;\n",
              "      flex-wrap:wrap;\n",
              "      gap: 12px;\n",
              "    }\n",
              "\n",
              "    .colab-df-convert {\n",
              "      background-color: #E8F0FE;\n",
              "      border: none;\n",
              "      border-radius: 50%;\n",
              "      cursor: pointer;\n",
              "      display: none;\n",
              "      fill: #1967D2;\n",
              "      height: 32px;\n",
              "      padding: 0 0 0 0;\n",
              "      width: 32px;\n",
              "    }\n",
              "\n",
              "    .colab-df-convert:hover {\n",
              "      background-color: #E2EBFA;\n",
              "      box-shadow: 0px 1px 2px rgba(60, 64, 67, 0.3), 0px 1px 3px 1px rgba(60, 64, 67, 0.15);\n",
              "      fill: #174EA6;\n",
              "    }\n",
              "\n",
              "    [theme=dark] .colab-df-convert {\n",
              "      background-color: #3B4455;\n",
              "      fill: #D2E3FC;\n",
              "    }\n",
              "\n",
              "    [theme=dark] .colab-df-convert:hover {\n",
              "      background-color: #434B5C;\n",
              "      box-shadow: 0px 1px 3px 1px rgba(0, 0, 0, 0.15);\n",
              "      filter: drop-shadow(0px 1px 2px rgba(0, 0, 0, 0.3));\n",
              "      fill: #FFFFFF;\n",
              "    }\n",
              "  </style>\n",
              "\n",
              "      <script>\n",
              "        const buttonEl =\n",
              "          document.querySelector('#df-4708b0a2-282f-4b83-adfa-d0d7c461120a button.colab-df-convert');\n",
              "        buttonEl.style.display =\n",
              "          google.colab.kernel.accessAllowed ? 'block' : 'none';\n",
              "\n",
              "        async function convertToInteractive(key) {\n",
              "          const element = document.querySelector('#df-4708b0a2-282f-4b83-adfa-d0d7c461120a');\n",
              "          const dataTable =\n",
              "            await google.colab.kernel.invokeFunction('convertToInteractive',\n",
              "                                                     [key], {});\n",
              "          if (!dataTable) return;\n",
              "\n",
              "          const docLinkHtml = 'Like what you see? Visit the ' +\n",
              "            '<a target=\"_blank\" href=https://colab.research.google.com/notebooks/data_table.ipynb>data table notebook</a>'\n",
              "            + ' to learn more about interactive tables.';\n",
              "          element.innerHTML = '';\n",
              "          dataTable['output_type'] = 'display_data';\n",
              "          await google.colab.output.renderOutput(dataTable, element);\n",
              "          const docLink = document.createElement('div');\n",
              "          docLink.innerHTML = docLinkHtml;\n",
              "          element.appendChild(docLink);\n",
              "        }\n",
              "      </script>\n",
              "    </div>\n",
              "  </div>\n",
              "  "
            ]
          },
          "metadata": {},
          "execution_count": 227
        }
      ]
    },
    {
      "cell_type": "markdown",
      "source": [
        "###7.4 T-SNE Algorithm to plot the Embedding"
      ],
      "metadata": {
        "id": "NxVdecQS1nSd"
      }
    },
    {
      "cell_type": "code",
      "source": [
        "from sklearn.manifold import TSNE"
      ],
      "metadata": {
        "id": "oMc2W7tv_gcW"
      },
      "execution_count": 162,
      "outputs": []
    },
    {
      "cell_type": "code",
      "source": [
        "# tsne = TSNE(n_components=2, perplexity=30, random_state=0)\n",
        "# tsne_features = tsne.fit_transform(features)\n",
        "tsne = TSNE(n_components=2,perplexity=40,verbose=1,random_state=0,n_iter=300)\n",
        "tsne_features_hate = tsne.fit_transform(df_ps_1)\n",
        "tsne_features_hateless = tsne.fit_transform(df_ps_2)"
      ],
      "metadata": {
        "id": "gYbqvzApJ3Ad",
        "colab": {
          "base_uri": "https://localhost:8080/"
        },
        "outputId": "bc9f9174-67e8-442b-bbac-2e5fa7d83c5b"
      },
      "execution_count": 228,
      "outputs": [
        {
          "output_type": "stream",
          "name": "stdout",
          "text": [
            "[t-SNE] Computing 49 nearest neighbors...\n",
            "[t-SNE] Indexed 50 samples in 0.000s...\n",
            "[t-SNE] Computed neighbors for 50 samples in 0.002s...\n",
            "[t-SNE] Computed conditional probabilities for sample 50 / 50\n",
            "[t-SNE] Mean sigma: 0.500832\n",
            "[t-SNE] KL divergence after 250 iterations with early exaggeration: 42.730240\n",
            "[t-SNE] KL divergence after 300 iterations: 0.000416\n",
            "[t-SNE] Computing 49 nearest neighbors...\n",
            "[t-SNE] Indexed 50 samples in 0.000s...\n",
            "[t-SNE] Computed neighbors for 50 samples in 0.002s...\n",
            "[t-SNE] Computed conditional probabilities for sample 50 / 50\n",
            "[t-SNE] Mean sigma: 0.540215\n",
            "[t-SNE] KL divergence after 250 iterations with early exaggeration: 39.283985\n",
            "[t-SNE] KL divergence after 300 iterations: 0.000266\n"
          ]
        }
      ]
    },
    {
      "cell_type": "code",
      "source": [
        "sample_test_labels = sample_test_generator.classes"
      ],
      "metadata": {
        "id": "yUPI1ZKovdFW"
      },
      "execution_count": 229,
      "outputs": []
    },
    {
      "cell_type": "code",
      "source": [
        "print(sample_test_labels)"
      ],
      "metadata": {
        "colab": {
          "base_uri": "https://localhost:8080/"
        },
        "id": "8LduWtueNkeO",
        "outputId": "4b714432-8472-4aec-a7b6-2042d117640a"
      },
      "execution_count": 230,
      "outputs": [
        {
          "output_type": "stream",
          "name": "stdout",
          "text": [
            "[0 0 0 0 0 0 0 0 0 0 0 0 0 0 0 0 0 0 0 0 0 0 0 0 0 0 0 0 0 0 0 0 0 0 0 0 0\n",
            " 0 0 0 0 0 0 0 0 0 0 0 0 0 1 1 1 1 1 1 1 1 1 1 1 1 1 1 1 1 1 1 1 1 1 1 1 1\n",
            " 1 1 1 1 1 1 1 1 1 1 1 1 1 1 1 1 1 1 1 1 1 1 1 1 1 1]\n"
          ]
        }
      ]
    },
    {
      "cell_type": "code",
      "source": [
        "zeros = []\n",
        "ones = []\n",
        "for i in range(len(sample_test_labels)):\n",
        "  if sample_test_labels[i] == 0: zeros.append(sample_test_labels[i])\n",
        "  else: ones.append(sample_test_labels[i])"
      ],
      "metadata": {
        "id": "z2end94PPDV8"
      },
      "execution_count": 232,
      "outputs": []
    },
    {
      "cell_type": "code",
      "source": [
        "ones"
      ],
      "metadata": {
        "colab": {
          "base_uri": "https://localhost:8080/"
        },
        "id": "eVK6e07VPVpr",
        "outputId": "9e500351-6233-47e2-85b9-2c4087cb6b45"
      },
      "execution_count": 234,
      "outputs": [
        {
          "output_type": "execute_result",
          "data": {
            "text/plain": [
              "[1,\n",
              " 1,\n",
              " 1,\n",
              " 1,\n",
              " 1,\n",
              " 1,\n",
              " 1,\n",
              " 1,\n",
              " 1,\n",
              " 1,\n",
              " 1,\n",
              " 1,\n",
              " 1,\n",
              " 1,\n",
              " 1,\n",
              " 1,\n",
              " 1,\n",
              " 1,\n",
              " 1,\n",
              " 1,\n",
              " 1,\n",
              " 1,\n",
              " 1,\n",
              " 1,\n",
              " 1,\n",
              " 1,\n",
              " 1,\n",
              " 1,\n",
              " 1,\n",
              " 1,\n",
              " 1,\n",
              " 1,\n",
              " 1,\n",
              " 1,\n",
              " 1,\n",
              " 1,\n",
              " 1,\n",
              " 1,\n",
              " 1,\n",
              " 1,\n",
              " 1,\n",
              " 1,\n",
              " 1,\n",
              " 1,\n",
              " 1,\n",
              " 1,\n",
              " 1,\n",
              " 1,\n",
              " 1,\n",
              " 1]"
            ]
          },
          "metadata": {},
          "execution_count": 234
        }
      ]
    },
    {
      "cell_type": "code",
      "source": [
        "# df = pd.DataFrame()\n",
        "# df[\"Label\"] = sample_test_labels\n",
        "# df[\"comp-1\"] = tsne_features[:,0]\n",
        "# df[\"comp-2\"] = tsne_features[:,1]\n",
        "# print('PLOT')\n",
        "# sns.scatterplot(x=\"comp-1\", y=\"comp-2\", hue='Label',\n",
        "#                 palette=sns.color_palette(\"hls\", 2),\n",
        "#                 data=df).set(title=\"T-SNE for feature vectors\") "
      ],
      "metadata": {
        "id": "S8hd-FEN4pcx"
      },
      "execution_count": null,
      "outputs": []
    },
    {
      "cell_type": "code",
      "source": [
        "# plt.scatter(tsne_features[sample_test_labels==0, 0], tsne_features[sample_test_labels==0, 1], label='Non-hateful')\n",
        "# plt.scatter(tsne_features[sample_test_labels==1, 0], tsne_features[sample_test_labels==1, 1], label='Hateful')\n",
        "# plt.legend()\n",
        "# plt.show()"
      ],
      "metadata": {
        "id": "qFMMAc9AJ7Yx"
      },
      "execution_count": null,
      "outputs": []
    },
    {
      "cell_type": "code",
      "source": [
        "# # Plot the T-SNE visualization\n",
        "# plt.figure(figsize=(10, 8))\n",
        "# plt.scatter(tsne_features[sample_test_labels == 1, 0], tsne_features[sample_test_labels == 1, 1], color='red', label='Hateful')\n",
        "# plt.scatter(tsne_features[sample_test_labels == 0, 0], tsne_features[sample_test_labels == 0, 1], color='blue', label='Non-Hateful')\n",
        "# plt.xlabel('TSNE Dimension 1')\n",
        "# plt.ylabel('TSNE Dimension 2')\n",
        "# plt.legend()\n",
        "# plt.title('T-SNE Visualization of LSTM Features for Hateful vs. Non-Hateful')\n",
        "# plt.show()"
      ],
      "metadata": {
        "id": "7xPow7Sv77mu"
      },
      "execution_count": null,
      "outputs": []
    },
    {
      "cell_type": "code",
      "source": [
        "plt.scatter(tsne_features_hate[:,0],tsne_features_hate[:,1],c = 'red', label='Hateful')\n",
        "plt.scatter(tsne_features_hateless[:,0],tsne_features_hateless[:,1],c = 'blue', label='Hateless')\n",
        "plt.xlabel('Tsne-1')\n",
        "plt.ylabel('Tsne-2')\n",
        "plt.legend()\n",
        "plt.grid()\n",
        "plt.show()"
      ],
      "metadata": {
        "colab": {
          "base_uri": "https://localhost:8080/",
          "height": 449
        },
        "id": "sV3AkPSENnOp",
        "outputId": "731c23de-6f05-4751-fecc-6e2e1734f980"
      },
      "execution_count": 241,
      "outputs": [
        {
          "output_type": "display_data",
          "data": {
            "text/plain": [
              "<Figure size 640x480 with 1 Axes>"
            ],
            "image/png": "[encoded data removed]"
          },
          "metadata": {}
        }
      ]
    },
    {
      "cell_type": "markdown",
      "source": [
        "### Share the Data"
      ],
      "metadata": {
        "id": "GAWQfhfQ8M2A"
      }
    },
    {
      "cell_type": "code",
      "source": [
        "df_list = pd.DataFrame(columns=['ID','Label'])"
      ],
      "metadata": {
        "id": "BEdYxRHDu06T"
      },
      "execution_count": null,
      "outputs": []
    },
    {
      "cell_type": "code",
      "source": [
        "#Iterate over the directory\n",
        "file_ID = []\n",
        "file_label = []\n",
        "sample_dir = '/content/drive/MyDrive/DL/Assignments/A4/sample_data'\n",
        "  # Loop through the label directories as 0 and 1 in the Test Directory and randomly select 50 files to copy from each subdirectory.\n",
        "for label in os.listdir(sample_dir):\n",
        "    # label_dir is to create label directories in the sub-sampled directory.\n",
        "    label_dir = os.path.join(sample_dir,label)\n",
        "    print(label_dir)\n",
        "    file_list = os.listdir(label_dir)\n",
        "    print(file_list)\n",
        "    for i,file_name in enumerate(file_list):\n",
        "      file_ID.append(file_name.split('.')[0])\n",
        "      file_label.append(label.split('_')[1])"
      ],
      "metadata": {
        "colab": {
          "base_uri": "https://localhost:8080/"
        },
        "id": "bixPT_KRr3Nw",
        "outputId": "8b3e6528-86e3-4dd1-8273-657ca81984a6"
      },
      "execution_count": null,
      "outputs": [
        {
          "output_type": "stream",
          "name": "stdout",
          "text": [
            "/content/drive/MyDrive/DL/Assignments/A4/sample_data/label_0\n",
            "['01359.png', '74029.png', '18406.png', '46503.png', '64038.png', '02751.png', '74531.png', '43529.png', '42830.png', '93874.png', '29483.png', '64571.png', '80392.png', '28504.png', '50483.png', '76180.png', '39206.png', '61304.png', '07689.png', '42635.png', '75820.png', '93481.png', '21659.png', '32067.png', '69753.png', '52096.png', '13890.png', '84169.png', '04239.png', '13792.png', '76091.png', '10396.png', '94086.png', '76103.png', '62031.png', '57089.png', '69423.png', '96015.png', '45326.png', '87160.png', '27506.png', '83091.png', '29408.png', '29467.png', '23817.png', '27519.png', '16302.png', '74621.png', '40268.png', '57921.png']\n",
            "/content/drive/MyDrive/DL/Assignments/A4/sample_data/label_1\n",
            "['15079.png', '52140.png', '69421.png', '43506.png', '89461.png', '08567.png', '64730.png', '69308.png', '50162.png', '81690.png', '29547.png', '92601.png', '34602.png', '84670.png', '57286.png', '40728.png', '20781.png', '62418.png', '90845.png', '98137.png', '76913.png', '23751.png', '32789.png', '31805.png', '17805.png', '60289.png', '04615.png', '72430.png', '68749.png', '49215.png', '78092.png', '42936.png', '50176.png', '64735.png', '21849.png', '98637.png', '14602.png', '97456.png', '78936.png', '60721.png', '96082.png', '14375.png', '16598.png', '64279.png', '47903.png', '27496.png', '47265.png', '74813.png', '38765.png', '93251.png']\n"
          ]
        }
      ]
    },
    {
      "cell_type": "code",
      "source": [
        "print(file_ID)\n",
        "print(file_label)"
      ],
      "metadata": {
        "colab": {
          "base_uri": "https://localhost:8080/"
        },
        "id": "HER4pqDqvnHq",
        "outputId": "982fe6d3-c0f1-43e5-ca08-37d0fe48e50c"
      },
      "execution_count": null,
      "outputs": [
        {
          "output_type": "stream",
          "name": "stdout",
          "text": [
            "['01359', '74029', '18406', '46503', '64038', '02751', '74531', '43529', '42830', '93874', '29483', '64571', '80392', '28504', '50483', '76180', '39206', '61304', '07689', '42635', '75820', '93481', '21659', '32067', '69753', '52096', '13890', '84169', '04239', '13792', '76091', '10396', '94086', '76103', '62031', '57089', '69423', '96015', '45326', '87160', '27506', '83091', '29408', '29467', '23817', '27519', '16302', '74621', '40268', '57921', '15079', '52140', '69421', '43506', '89461', '08567', '64730', '69308', '50162', '81690', '29547', '92601', '34602', '84670', '57286', '40728', '20781', '62418', '90845', '98137', '76913', '23751', '32789', '31805', '17805', '60289', '04615', '72430', '68749', '49215', '78092', '42936', '50176', '64735', '21849', '98637', '14602', '97456', '78936', '60721', '96082', '14375', '16598', '64279', '47903', '27496', '47265', '74813', '38765', '93251']\n",
            "['0', '0', '0', '0', '0', '0', '0', '0', '0', '0', '0', '0', '0', '0', '0', '0', '0', '0', '0', '0', '0', '0', '0', '0', '0', '0', '0', '0', '0', '0', '0', '0', '0', '0', '0', '0', '0', '0', '0', '0', '0', '0', '0', '0', '0', '0', '0', '0', '0', '0', '1', '1', '1', '1', '1', '1', '1', '1', '1', '1', '1', '1', '1', '1', '1', '1', '1', '1', '1', '1', '1', '1', '1', '1', '1', '1', '1', '1', '1', '1', '1', '1', '1', '1', '1', '1', '1', '1', '1', '1', '1', '1', '1', '1', '1', '1', '1', '1', '1', '1']\n"
          ]
        }
      ]
    },
    {
      "cell_type": "code",
      "source": [
        "df_list['ID'] = pd.DataFrame(file_ID)\n",
        "df_list['Label'] = pd.DataFrame(file_label)"
      ],
      "metadata": {
        "id": "v7TQVzOQwv6O"
      },
      "execution_count": null,
      "outputs": []
    },
    {
      "cell_type": "code",
      "source": [
        "print(df_list)"
      ],
      "metadata": {
        "colab": {
          "base_uri": "https://localhost:8080/"
        },
        "id": "z2_47yPfxGMp",
        "outputId": "a7c9a955-3424-40ca-9995-12883957fdcc"
      },
      "execution_count": null,
      "outputs": [
        {
          "output_type": "stream",
          "name": "stdout",
          "text": [
            "       ID Label\n",
            "0   01359     0\n",
            "1   74029     0\n",
            "2   18406     0\n",
            "3   46503     0\n",
            "4   64038     0\n",
            "..    ...   ...\n",
            "95  27496     1\n",
            "96  47265     1\n",
            "97  74813     1\n",
            "98  38765     1\n",
            "99  93251     1\n",
            "\n",
            "[100 rows x 2 columns]\n"
          ]
        }
      ]
    },
    {
      "cell_type": "code",
      "source": [
        "df_list.to_pickle('/content/drive/MyDrive/DL/Assignments/A4/sample_details.pkl')"
      ],
      "metadata": {
        "id": "n36Adpa7xGJL"
      },
      "execution_count": null,
      "outputs": []
    }
  ]
}
